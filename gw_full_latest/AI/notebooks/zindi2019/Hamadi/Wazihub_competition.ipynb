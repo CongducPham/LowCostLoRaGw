{
 "cells": [
  {
   "cell_type": "code",
   "execution_count": 13,
   "metadata": {},
   "outputs": [],
   "source": [
    "%matplotlib notebook\n",
    "import pandas as pd\n",
    "from numpy import array\n",
    "import numpy as np\n",
    "import math\n",
    "from xgboost import XGBRegressor\n",
    "from sklearn.metrics import mean_absolute_error\n",
    "from sklearn.model_selection import train_test_split\n",
    "from sklearn.impute import SimpleImputer\n",
    "import matplotlib.pyplot as plt"
   ]
  },
  {
   "cell_type": "code",
   "execution_count": 14,
   "metadata": {},
   "outputs": [
    {
     "data": {
      "application/javascript": [
       "/* Put everything inside the global mpl namespace */\n",
       "window.mpl = {};\n",
       "\n",
       "\n",
       "mpl.get_websocket_type = function() {\n",
       "    if (typeof(WebSocket) !== 'undefined') {\n",
       "        return WebSocket;\n",
       "    } else if (typeof(MozWebSocket) !== 'undefined') {\n",
       "        return MozWebSocket;\n",
       "    } else {\n",
       "        alert('Your browser does not have WebSocket support.' +\n",
       "              'Please try Chrome, Safari or Firefox ≥ 6. ' +\n",
       "              'Firefox 4 and 5 are also supported but you ' +\n",
       "              'have to enable WebSockets in about:config.');\n",
       "    };\n",
       "}\n",
       "\n",
       "mpl.figure = function(figure_id, websocket, ondownload, parent_element) {\n",
       "    this.id = figure_id;\n",
       "\n",
       "    this.ws = websocket;\n",
       "\n",
       "    this.supports_binary = (this.ws.binaryType != undefined);\n",
       "\n",
       "    if (!this.supports_binary) {\n",
       "        var warnings = document.getElementById(\"mpl-warnings\");\n",
       "        if (warnings) {\n",
       "            warnings.style.display = 'block';\n",
       "            warnings.textContent = (\n",
       "                \"This browser does not support binary websocket messages. \" +\n",
       "                    \"Performance may be slow.\");\n",
       "        }\n",
       "    }\n",
       "\n",
       "    this.imageObj = new Image();\n",
       "\n",
       "    this.context = undefined;\n",
       "    this.message = undefined;\n",
       "    this.canvas = undefined;\n",
       "    this.rubberband_canvas = undefined;\n",
       "    this.rubberband_context = undefined;\n",
       "    this.format_dropdown = undefined;\n",
       "\n",
       "    this.image_mode = 'full';\n",
       "\n",
       "    this.root = $('<div/>');\n",
       "    this._root_extra_style(this.root)\n",
       "    this.root.attr('style', 'display: inline-block');\n",
       "\n",
       "    $(parent_element).append(this.root);\n",
       "\n",
       "    this._init_header(this);\n",
       "    this._init_canvas(this);\n",
       "    this._init_toolbar(this);\n",
       "\n",
       "    var fig = this;\n",
       "\n",
       "    this.waiting = false;\n",
       "\n",
       "    this.ws.onopen =  function () {\n",
       "            fig.send_message(\"supports_binary\", {value: fig.supports_binary});\n",
       "            fig.send_message(\"send_image_mode\", {});\n",
       "            if (mpl.ratio != 1) {\n",
       "                fig.send_message(\"set_dpi_ratio\", {'dpi_ratio': mpl.ratio});\n",
       "            }\n",
       "            fig.send_message(\"refresh\", {});\n",
       "        }\n",
       "\n",
       "    this.imageObj.onload = function() {\n",
       "            if (fig.image_mode == 'full') {\n",
       "                // Full images could contain transparency (where diff images\n",
       "                // almost always do), so we need to clear the canvas so that\n",
       "                // there is no ghosting.\n",
       "                fig.context.clearRect(0, 0, fig.canvas.width, fig.canvas.height);\n",
       "            }\n",
       "            fig.context.drawImage(fig.imageObj, 0, 0);\n",
       "        };\n",
       "\n",
       "    this.imageObj.onunload = function() {\n",
       "        fig.ws.close();\n",
       "    }\n",
       "\n",
       "    this.ws.onmessage = this._make_on_message_function(this);\n",
       "\n",
       "    this.ondownload = ondownload;\n",
       "}\n",
       "\n",
       "mpl.figure.prototype._init_header = function() {\n",
       "    var titlebar = $(\n",
       "        '<div class=\"ui-dialog-titlebar ui-widget-header ui-corner-all ' +\n",
       "        'ui-helper-clearfix\"/>');\n",
       "    var titletext = $(\n",
       "        '<div class=\"ui-dialog-title\" style=\"width: 100%; ' +\n",
       "        'text-align: center; padding: 3px;\"/>');\n",
       "    titlebar.append(titletext)\n",
       "    this.root.append(titlebar);\n",
       "    this.header = titletext[0];\n",
       "}\n",
       "\n",
       "\n",
       "\n",
       "mpl.figure.prototype._canvas_extra_style = function(canvas_div) {\n",
       "\n",
       "}\n",
       "\n",
       "\n",
       "mpl.figure.prototype._root_extra_style = function(canvas_div) {\n",
       "\n",
       "}\n",
       "\n",
       "mpl.figure.prototype._init_canvas = function() {\n",
       "    var fig = this;\n",
       "\n",
       "    var canvas_div = $('<div/>');\n",
       "\n",
       "    canvas_div.attr('style', 'position: relative; clear: both; outline: 0');\n",
       "\n",
       "    function canvas_keyboard_event(event) {\n",
       "        return fig.key_event(event, event['data']);\n",
       "    }\n",
       "\n",
       "    canvas_div.keydown('key_press', canvas_keyboard_event);\n",
       "    canvas_div.keyup('key_release', canvas_keyboard_event);\n",
       "    this.canvas_div = canvas_div\n",
       "    this._canvas_extra_style(canvas_div)\n",
       "    this.root.append(canvas_div);\n",
       "\n",
       "    var canvas = $('<canvas/>');\n",
       "    canvas.addClass('mpl-canvas');\n",
       "    canvas.attr('style', \"left: 0; top: 0; z-index: 0; outline: 0\")\n",
       "\n",
       "    this.canvas = canvas[0];\n",
       "    this.context = canvas[0].getContext(\"2d\");\n",
       "\n",
       "    var backingStore = this.context.backingStorePixelRatio ||\n",
       "\tthis.context.webkitBackingStorePixelRatio ||\n",
       "\tthis.context.mozBackingStorePixelRatio ||\n",
       "\tthis.context.msBackingStorePixelRatio ||\n",
       "\tthis.context.oBackingStorePixelRatio ||\n",
       "\tthis.context.backingStorePixelRatio || 1;\n",
       "\n",
       "    mpl.ratio = (window.devicePixelRatio || 1) / backingStore;\n",
       "\n",
       "    var rubberband = $('<canvas/>');\n",
       "    rubberband.attr('style', \"position: absolute; left: 0; top: 0; z-index: 1;\")\n",
       "\n",
       "    var pass_mouse_events = true;\n",
       "\n",
       "    canvas_div.resizable({\n",
       "        start: function(event, ui) {\n",
       "            pass_mouse_events = false;\n",
       "        },\n",
       "        resize: function(event, ui) {\n",
       "            fig.request_resize(ui.size.width, ui.size.height);\n",
       "        },\n",
       "        stop: function(event, ui) {\n",
       "            pass_mouse_events = true;\n",
       "            fig.request_resize(ui.size.width, ui.size.height);\n",
       "        },\n",
       "    });\n",
       "\n",
       "    function mouse_event_fn(event) {\n",
       "        if (pass_mouse_events)\n",
       "            return fig.mouse_event(event, event['data']);\n",
       "    }\n",
       "\n",
       "    rubberband.mousedown('button_press', mouse_event_fn);\n",
       "    rubberband.mouseup('button_release', mouse_event_fn);\n",
       "    // Throttle sequential mouse events to 1 every 20ms.\n",
       "    rubberband.mousemove('motion_notify', mouse_event_fn);\n",
       "\n",
       "    rubberband.mouseenter('figure_enter', mouse_event_fn);\n",
       "    rubberband.mouseleave('figure_leave', mouse_event_fn);\n",
       "\n",
       "    canvas_div.on(\"wheel\", function (event) {\n",
       "        event = event.originalEvent;\n",
       "        event['data'] = 'scroll'\n",
       "        if (event.deltaY < 0) {\n",
       "            event.step = 1;\n",
       "        } else {\n",
       "            event.step = -1;\n",
       "        }\n",
       "        mouse_event_fn(event);\n",
       "    });\n",
       "\n",
       "    canvas_div.append(canvas);\n",
       "    canvas_div.append(rubberband);\n",
       "\n",
       "    this.rubberband = rubberband;\n",
       "    this.rubberband_canvas = rubberband[0];\n",
       "    this.rubberband_context = rubberband[0].getContext(\"2d\");\n",
       "    this.rubberband_context.strokeStyle = \"#000000\";\n",
       "\n",
       "    this._resize_canvas = function(width, height) {\n",
       "        // Keep the size of the canvas, canvas container, and rubber band\n",
       "        // canvas in synch.\n",
       "        canvas_div.css('width', width)\n",
       "        canvas_div.css('height', height)\n",
       "\n",
       "        canvas.attr('width', width * mpl.ratio);\n",
       "        canvas.attr('height', height * mpl.ratio);\n",
       "        canvas.attr('style', 'width: ' + width + 'px; height: ' + height + 'px;');\n",
       "\n",
       "        rubberband.attr('width', width);\n",
       "        rubberband.attr('height', height);\n",
       "    }\n",
       "\n",
       "    // Set the figure to an initial 600x600px, this will subsequently be updated\n",
       "    // upon first draw.\n",
       "    this._resize_canvas(600, 600);\n",
       "\n",
       "    // Disable right mouse context menu.\n",
       "    $(this.rubberband_canvas).bind(\"contextmenu\",function(e){\n",
       "        return false;\n",
       "    });\n",
       "\n",
       "    function set_focus () {\n",
       "        canvas.focus();\n",
       "        canvas_div.focus();\n",
       "    }\n",
       "\n",
       "    window.setTimeout(set_focus, 100);\n",
       "}\n",
       "\n",
       "mpl.figure.prototype._init_toolbar = function() {\n",
       "    var fig = this;\n",
       "\n",
       "    var nav_element = $('<div/>')\n",
       "    nav_element.attr('style', 'width: 100%');\n",
       "    this.root.append(nav_element);\n",
       "\n",
       "    // Define a callback function for later on.\n",
       "    function toolbar_event(event) {\n",
       "        return fig.toolbar_button_onclick(event['data']);\n",
       "    }\n",
       "    function toolbar_mouse_event(event) {\n",
       "        return fig.toolbar_button_onmouseover(event['data']);\n",
       "    }\n",
       "\n",
       "    for(var toolbar_ind in mpl.toolbar_items) {\n",
       "        var name = mpl.toolbar_items[toolbar_ind][0];\n",
       "        var tooltip = mpl.toolbar_items[toolbar_ind][1];\n",
       "        var image = mpl.toolbar_items[toolbar_ind][2];\n",
       "        var method_name = mpl.toolbar_items[toolbar_ind][3];\n",
       "\n",
       "        if (!name) {\n",
       "            // put a spacer in here.\n",
       "            continue;\n",
       "        }\n",
       "        var button = $('<button/>');\n",
       "        button.addClass('ui-button ui-widget ui-state-default ui-corner-all ' +\n",
       "                        'ui-button-icon-only');\n",
       "        button.attr('role', 'button');\n",
       "        button.attr('aria-disabled', 'false');\n",
       "        button.click(method_name, toolbar_event);\n",
       "        button.mouseover(tooltip, toolbar_mouse_event);\n",
       "\n",
       "        var icon_img = $('<span/>');\n",
       "        icon_img.addClass('ui-button-icon-primary ui-icon');\n",
       "        icon_img.addClass(image);\n",
       "        icon_img.addClass('ui-corner-all');\n",
       "\n",
       "        var tooltip_span = $('<span/>');\n",
       "        tooltip_span.addClass('ui-button-text');\n",
       "        tooltip_span.html(tooltip);\n",
       "\n",
       "        button.append(icon_img);\n",
       "        button.append(tooltip_span);\n",
       "\n",
       "        nav_element.append(button);\n",
       "    }\n",
       "\n",
       "    var fmt_picker_span = $('<span/>');\n",
       "\n",
       "    var fmt_picker = $('<select/>');\n",
       "    fmt_picker.addClass('mpl-toolbar-option ui-widget ui-widget-content');\n",
       "    fmt_picker_span.append(fmt_picker);\n",
       "    nav_element.append(fmt_picker_span);\n",
       "    this.format_dropdown = fmt_picker[0];\n",
       "\n",
       "    for (var ind in mpl.extensions) {\n",
       "        var fmt = mpl.extensions[ind];\n",
       "        var option = $(\n",
       "            '<option/>', {selected: fmt === mpl.default_extension}).html(fmt);\n",
       "        fmt_picker.append(option)\n",
       "    }\n",
       "\n",
       "    // Add hover states to the ui-buttons\n",
       "    $( \".ui-button\" ).hover(\n",
       "        function() { $(this).addClass(\"ui-state-hover\");},\n",
       "        function() { $(this).removeClass(\"ui-state-hover\");}\n",
       "    );\n",
       "\n",
       "    var status_bar = $('<span class=\"mpl-message\"/>');\n",
       "    nav_element.append(status_bar);\n",
       "    this.message = status_bar[0];\n",
       "}\n",
       "\n",
       "mpl.figure.prototype.request_resize = function(x_pixels, y_pixels) {\n",
       "    // Request matplotlib to resize the figure. Matplotlib will then trigger a resize in the client,\n",
       "    // which will in turn request a refresh of the image.\n",
       "    this.send_message('resize', {'width': x_pixels, 'height': y_pixels});\n",
       "}\n",
       "\n",
       "mpl.figure.prototype.send_message = function(type, properties) {\n",
       "    properties['type'] = type;\n",
       "    properties['figure_id'] = this.id;\n",
       "    this.ws.send(JSON.stringify(properties));\n",
       "}\n",
       "\n",
       "mpl.figure.prototype.send_draw_message = function() {\n",
       "    if (!this.waiting) {\n",
       "        this.waiting = true;\n",
       "        this.ws.send(JSON.stringify({type: \"draw\", figure_id: this.id}));\n",
       "    }\n",
       "}\n",
       "\n",
       "\n",
       "mpl.figure.prototype.handle_save = function(fig, msg) {\n",
       "    var format_dropdown = fig.format_dropdown;\n",
       "    var format = format_dropdown.options[format_dropdown.selectedIndex].value;\n",
       "    fig.ondownload(fig, format);\n",
       "}\n",
       "\n",
       "\n",
       "mpl.figure.prototype.handle_resize = function(fig, msg) {\n",
       "    var size = msg['size'];\n",
       "    if (size[0] != fig.canvas.width || size[1] != fig.canvas.height) {\n",
       "        fig._resize_canvas(size[0], size[1]);\n",
       "        fig.send_message(\"refresh\", {});\n",
       "    };\n",
       "}\n",
       "\n",
       "mpl.figure.prototype.handle_rubberband = function(fig, msg) {\n",
       "    var x0 = msg['x0'] / mpl.ratio;\n",
       "    var y0 = (fig.canvas.height - msg['y0']) / mpl.ratio;\n",
       "    var x1 = msg['x1'] / mpl.ratio;\n",
       "    var y1 = (fig.canvas.height - msg['y1']) / mpl.ratio;\n",
       "    x0 = Math.floor(x0) + 0.5;\n",
       "    y0 = Math.floor(y0) + 0.5;\n",
       "    x1 = Math.floor(x1) + 0.5;\n",
       "    y1 = Math.floor(y1) + 0.5;\n",
       "    var min_x = Math.min(x0, x1);\n",
       "    var min_y = Math.min(y0, y1);\n",
       "    var width = Math.abs(x1 - x0);\n",
       "    var height = Math.abs(y1 - y0);\n",
       "\n",
       "    fig.rubberband_context.clearRect(\n",
       "        0, 0, fig.canvas.width, fig.canvas.height);\n",
       "\n",
       "    fig.rubberband_context.strokeRect(min_x, min_y, width, height);\n",
       "}\n",
       "\n",
       "mpl.figure.prototype.handle_figure_label = function(fig, msg) {\n",
       "    // Updates the figure title.\n",
       "    fig.header.textContent = msg['label'];\n",
       "}\n",
       "\n",
       "mpl.figure.prototype.handle_cursor = function(fig, msg) {\n",
       "    var cursor = msg['cursor'];\n",
       "    switch(cursor)\n",
       "    {\n",
       "    case 0:\n",
       "        cursor = 'pointer';\n",
       "        break;\n",
       "    case 1:\n",
       "        cursor = 'default';\n",
       "        break;\n",
       "    case 2:\n",
       "        cursor = 'crosshair';\n",
       "        break;\n",
       "    case 3:\n",
       "        cursor = 'move';\n",
       "        break;\n",
       "    }\n",
       "    fig.rubberband_canvas.style.cursor = cursor;\n",
       "}\n",
       "\n",
       "mpl.figure.prototype.handle_message = function(fig, msg) {\n",
       "    fig.message.textContent = msg['message'];\n",
       "}\n",
       "\n",
       "mpl.figure.prototype.handle_draw = function(fig, msg) {\n",
       "    // Request the server to send over a new figure.\n",
       "    fig.send_draw_message();\n",
       "}\n",
       "\n",
       "mpl.figure.prototype.handle_image_mode = function(fig, msg) {\n",
       "    fig.image_mode = msg['mode'];\n",
       "}\n",
       "\n",
       "mpl.figure.prototype.updated_canvas_event = function() {\n",
       "    // Called whenever the canvas gets updated.\n",
       "    this.send_message(\"ack\", {});\n",
       "}\n",
       "\n",
       "// A function to construct a web socket function for onmessage handling.\n",
       "// Called in the figure constructor.\n",
       "mpl.figure.prototype._make_on_message_function = function(fig) {\n",
       "    return function socket_on_message(evt) {\n",
       "        if (evt.data instanceof Blob) {\n",
       "            /* FIXME: We get \"Resource interpreted as Image but\n",
       "             * transferred with MIME type text/plain:\" errors on\n",
       "             * Chrome.  But how to set the MIME type?  It doesn't seem\n",
       "             * to be part of the websocket stream */\n",
       "            evt.data.type = \"image/png\";\n",
       "\n",
       "            /* Free the memory for the previous frames */\n",
       "            if (fig.imageObj.src) {\n",
       "                (window.URL || window.webkitURL).revokeObjectURL(\n",
       "                    fig.imageObj.src);\n",
       "            }\n",
       "\n",
       "            fig.imageObj.src = (window.URL || window.webkitURL).createObjectURL(\n",
       "                evt.data);\n",
       "            fig.updated_canvas_event();\n",
       "            fig.waiting = false;\n",
       "            return;\n",
       "        }\n",
       "        else if (typeof evt.data === 'string' && evt.data.slice(0, 21) == \"data:image/png;base64\") {\n",
       "            fig.imageObj.src = evt.data;\n",
       "            fig.updated_canvas_event();\n",
       "            fig.waiting = false;\n",
       "            return;\n",
       "        }\n",
       "\n",
       "        var msg = JSON.parse(evt.data);\n",
       "        var msg_type = msg['type'];\n",
       "\n",
       "        // Call the  \"handle_{type}\" callback, which takes\n",
       "        // the figure and JSON message as its only arguments.\n",
       "        try {\n",
       "            var callback = fig[\"handle_\" + msg_type];\n",
       "        } catch (e) {\n",
       "            console.log(\"No handler for the '\" + msg_type + \"' message type: \", msg);\n",
       "            return;\n",
       "        }\n",
       "\n",
       "        if (callback) {\n",
       "            try {\n",
       "                // console.log(\"Handling '\" + msg_type + \"' message: \", msg);\n",
       "                callback(fig, msg);\n",
       "            } catch (e) {\n",
       "                console.log(\"Exception inside the 'handler_\" + msg_type + \"' callback:\", e, e.stack, msg);\n",
       "            }\n",
       "        }\n",
       "    };\n",
       "}\n",
       "\n",
       "// from http://stackoverflow.com/questions/1114465/getting-mouse-location-in-canvas\n",
       "mpl.findpos = function(e) {\n",
       "    //this section is from http://www.quirksmode.org/js/events_properties.html\n",
       "    var targ;\n",
       "    if (!e)\n",
       "        e = window.event;\n",
       "    if (e.target)\n",
       "        targ = e.target;\n",
       "    else if (e.srcElement)\n",
       "        targ = e.srcElement;\n",
       "    if (targ.nodeType == 3) // defeat Safari bug\n",
       "        targ = targ.parentNode;\n",
       "\n",
       "    // jQuery normalizes the pageX and pageY\n",
       "    // pageX,Y are the mouse positions relative to the document\n",
       "    // offset() returns the position of the element relative to the document\n",
       "    var x = e.pageX - $(targ).offset().left;\n",
       "    var y = e.pageY - $(targ).offset().top;\n",
       "\n",
       "    return {\"x\": x, \"y\": y};\n",
       "};\n",
       "\n",
       "/*\n",
       " * return a copy of an object with only non-object keys\n",
       " * we need this to avoid circular references\n",
       " * http://stackoverflow.com/a/24161582/3208463\n",
       " */\n",
       "function simpleKeys (original) {\n",
       "  return Object.keys(original).reduce(function (obj, key) {\n",
       "    if (typeof original[key] !== 'object')\n",
       "        obj[key] = original[key]\n",
       "    return obj;\n",
       "  }, {});\n",
       "}\n",
       "\n",
       "mpl.figure.prototype.mouse_event = function(event, name) {\n",
       "    var canvas_pos = mpl.findpos(event)\n",
       "\n",
       "    if (name === 'button_press')\n",
       "    {\n",
       "        this.canvas.focus();\n",
       "        this.canvas_div.focus();\n",
       "    }\n",
       "\n",
       "    var x = canvas_pos.x * mpl.ratio;\n",
       "    var y = canvas_pos.y * mpl.ratio;\n",
       "\n",
       "    this.send_message(name, {x: x, y: y, button: event.button,\n",
       "                             step: event.step,\n",
       "                             guiEvent: simpleKeys(event)});\n",
       "\n",
       "    /* This prevents the web browser from automatically changing to\n",
       "     * the text insertion cursor when the button is pressed.  We want\n",
       "     * to control all of the cursor setting manually through the\n",
       "     * 'cursor' event from matplotlib */\n",
       "    event.preventDefault();\n",
       "    return false;\n",
       "}\n",
       "\n",
       "mpl.figure.prototype._key_event_extra = function(event, name) {\n",
       "    // Handle any extra behaviour associated with a key event\n",
       "}\n",
       "\n",
       "mpl.figure.prototype.key_event = function(event, name) {\n",
       "\n",
       "    // Prevent repeat events\n",
       "    if (name == 'key_press')\n",
       "    {\n",
       "        if (event.which === this._key)\n",
       "            return;\n",
       "        else\n",
       "            this._key = event.which;\n",
       "    }\n",
       "    if (name == 'key_release')\n",
       "        this._key = null;\n",
       "\n",
       "    var value = '';\n",
       "    if (event.ctrlKey && event.which != 17)\n",
       "        value += \"ctrl+\";\n",
       "    if (event.altKey && event.which != 18)\n",
       "        value += \"alt+\";\n",
       "    if (event.shiftKey && event.which != 16)\n",
       "        value += \"shift+\";\n",
       "\n",
       "    value += 'k';\n",
       "    value += event.which.toString();\n",
       "\n",
       "    this._key_event_extra(event, name);\n",
       "\n",
       "    this.send_message(name, {key: value,\n",
       "                             guiEvent: simpleKeys(event)});\n",
       "    return false;\n",
       "}\n",
       "\n",
       "mpl.figure.prototype.toolbar_button_onclick = function(name) {\n",
       "    if (name == 'download') {\n",
       "        this.handle_save(this, null);\n",
       "    } else {\n",
       "        this.send_message(\"toolbar_button\", {name: name});\n",
       "    }\n",
       "};\n",
       "\n",
       "mpl.figure.prototype.toolbar_button_onmouseover = function(tooltip) {\n",
       "    this.message.textContent = tooltip;\n",
       "};\n",
       "mpl.toolbar_items = [[\"Home\", \"Reset original view\", \"fa fa-home icon-home\", \"home\"], [\"Back\", \"Back to  previous view\", \"fa fa-arrow-left icon-arrow-left\", \"back\"], [\"Forward\", \"Forward to next view\", \"fa fa-arrow-right icon-arrow-right\", \"forward\"], [\"\", \"\", \"\", \"\"], [\"Pan\", \"Pan axes with left mouse, zoom with right\", \"fa fa-arrows icon-move\", \"pan\"], [\"Zoom\", \"Zoom to rectangle\", \"fa fa-square-o icon-check-empty\", \"zoom\"], [\"\", \"\", \"\", \"\"], [\"Download\", \"Download plot\", \"fa fa-floppy-o icon-save\", \"download\"]];\n",
       "\n",
       "mpl.extensions = [\"eps\", \"jpeg\", \"pdf\", \"png\", \"ps\", \"raw\", \"svg\", \"tif\"];\n",
       "\n",
       "mpl.default_extension = \"png\";var comm_websocket_adapter = function(comm) {\n",
       "    // Create a \"websocket\"-like object which calls the given IPython comm\n",
       "    // object with the appropriate methods. Currently this is a non binary\n",
       "    // socket, so there is still some room for performance tuning.\n",
       "    var ws = {};\n",
       "\n",
       "    ws.close = function() {\n",
       "        comm.close()\n",
       "    };\n",
       "    ws.send = function(m) {\n",
       "        //console.log('sending', m);\n",
       "        comm.send(m);\n",
       "    };\n",
       "    // Register the callback with on_msg.\n",
       "    comm.on_msg(function(msg) {\n",
       "        //console.log('receiving', msg['content']['data'], msg);\n",
       "        // Pass the mpl event to the overridden (by mpl) onmessage function.\n",
       "        ws.onmessage(msg['content']['data'])\n",
       "    });\n",
       "    return ws;\n",
       "}\n",
       "\n",
       "mpl.mpl_figure_comm = function(comm, msg) {\n",
       "    // This is the function which gets called when the mpl process\n",
       "    // starts-up an IPython Comm through the \"matplotlib\" channel.\n",
       "\n",
       "    var id = msg.content.data.id;\n",
       "    // Get hold of the div created by the display call when the Comm\n",
       "    // socket was opened in Python.\n",
       "    var element = $(\"#\" + id);\n",
       "    var ws_proxy = comm_websocket_adapter(comm)\n",
       "\n",
       "    function ondownload(figure, format) {\n",
       "        window.open(figure.imageObj.src);\n",
       "    }\n",
       "\n",
       "    var fig = new mpl.figure(id, ws_proxy,\n",
       "                           ondownload,\n",
       "                           element.get(0));\n",
       "\n",
       "    // Call onopen now - mpl needs it, as it is assuming we've passed it a real\n",
       "    // web socket which is closed, not our websocket->open comm proxy.\n",
       "    ws_proxy.onopen();\n",
       "\n",
       "    fig.parent_element = element.get(0);\n",
       "    fig.cell_info = mpl.find_output_cell(\"<div id='\" + id + \"'></div>\");\n",
       "    if (!fig.cell_info) {\n",
       "        console.error(\"Failed to find cell for figure\", id, fig);\n",
       "        return;\n",
       "    }\n",
       "\n",
       "    var output_index = fig.cell_info[2]\n",
       "    var cell = fig.cell_info[0];\n",
       "\n",
       "};\n",
       "\n",
       "mpl.figure.prototype.handle_close = function(fig, msg) {\n",
       "    var width = fig.canvas.width/mpl.ratio\n",
       "    fig.root.unbind('remove')\n",
       "\n",
       "    // Update the output cell to use the data from the current canvas.\n",
       "    fig.push_to_output();\n",
       "    var dataURL = fig.canvas.toDataURL();\n",
       "    // Re-enable the keyboard manager in IPython - without this line, in FF,\n",
       "    // the notebook keyboard shortcuts fail.\n",
       "    IPython.keyboard_manager.enable()\n",
       "    $(fig.parent_element).html('<img src=\"' + dataURL + '\" width=\"' + width + '\">');\n",
       "    fig.close_ws(fig, msg);\n",
       "}\n",
       "\n",
       "mpl.figure.prototype.close_ws = function(fig, msg){\n",
       "    fig.send_message('closing', msg);\n",
       "    // fig.ws.close()\n",
       "}\n",
       "\n",
       "mpl.figure.prototype.push_to_output = function(remove_interactive) {\n",
       "    // Turn the data on the canvas into data in the output cell.\n",
       "    var width = this.canvas.width/mpl.ratio\n",
       "    var dataURL = this.canvas.toDataURL();\n",
       "    this.cell_info[1]['text/html'] = '<img src=\"' + dataURL + '\" width=\"' + width + '\">';\n",
       "}\n",
       "\n",
       "mpl.figure.prototype.updated_canvas_event = function() {\n",
       "    // Tell IPython that the notebook contents must change.\n",
       "    IPython.notebook.set_dirty(true);\n",
       "    this.send_message(\"ack\", {});\n",
       "    var fig = this;\n",
       "    // Wait a second, then push the new image to the DOM so\n",
       "    // that it is saved nicely (might be nice to debounce this).\n",
       "    setTimeout(function () { fig.push_to_output() }, 1000);\n",
       "}\n",
       "\n",
       "mpl.figure.prototype._init_toolbar = function() {\n",
       "    var fig = this;\n",
       "\n",
       "    var nav_element = $('<div/>')\n",
       "    nav_element.attr('style', 'width: 100%');\n",
       "    this.root.append(nav_element);\n",
       "\n",
       "    // Define a callback function for later on.\n",
       "    function toolbar_event(event) {\n",
       "        return fig.toolbar_button_onclick(event['data']);\n",
       "    }\n",
       "    function toolbar_mouse_event(event) {\n",
       "        return fig.toolbar_button_onmouseover(event['data']);\n",
       "    }\n",
       "\n",
       "    for(var toolbar_ind in mpl.toolbar_items){\n",
       "        var name = mpl.toolbar_items[toolbar_ind][0];\n",
       "        var tooltip = mpl.toolbar_items[toolbar_ind][1];\n",
       "        var image = mpl.toolbar_items[toolbar_ind][2];\n",
       "        var method_name = mpl.toolbar_items[toolbar_ind][3];\n",
       "\n",
       "        if (!name) { continue; };\n",
       "\n",
       "        var button = $('<button class=\"btn btn-default\" href=\"#\" title=\"' + name + '\"><i class=\"fa ' + image + ' fa-lg\"></i></button>');\n",
       "        button.click(method_name, toolbar_event);\n",
       "        button.mouseover(tooltip, toolbar_mouse_event);\n",
       "        nav_element.append(button);\n",
       "    }\n",
       "\n",
       "    // Add the status bar.\n",
       "    var status_bar = $('<span class=\"mpl-message\" style=\"text-align:right; float: right;\"/>');\n",
       "    nav_element.append(status_bar);\n",
       "    this.message = status_bar[0];\n",
       "\n",
       "    // Add the close button to the window.\n",
       "    var buttongrp = $('<div class=\"btn-group inline pull-right\"></div>');\n",
       "    var button = $('<button class=\"btn btn-mini btn-primary\" href=\"#\" title=\"Stop Interaction\"><i class=\"fa fa-power-off icon-remove icon-large\"></i></button>');\n",
       "    button.click(function (evt) { fig.handle_close(fig, {}); } );\n",
       "    button.mouseover('Stop Interaction', toolbar_mouse_event);\n",
       "    buttongrp.append(button);\n",
       "    var titlebar = this.root.find($('.ui-dialog-titlebar'));\n",
       "    titlebar.prepend(buttongrp);\n",
       "}\n",
       "\n",
       "mpl.figure.prototype._root_extra_style = function(el){\n",
       "    var fig = this\n",
       "    el.on(\"remove\", function(){\n",
       "\tfig.close_ws(fig, {});\n",
       "    });\n",
       "}\n",
       "\n",
       "mpl.figure.prototype._canvas_extra_style = function(el){\n",
       "    // this is important to make the div 'focusable\n",
       "    el.attr('tabindex', 0)\n",
       "    // reach out to IPython and tell the keyboard manager to turn it's self\n",
       "    // off when our div gets focus\n",
       "\n",
       "    // location in version 3\n",
       "    if (IPython.notebook.keyboard_manager) {\n",
       "        IPython.notebook.keyboard_manager.register_events(el);\n",
       "    }\n",
       "    else {\n",
       "        // location in version 2\n",
       "        IPython.keyboard_manager.register_events(el);\n",
       "    }\n",
       "\n",
       "}\n",
       "\n",
       "mpl.figure.prototype._key_event_extra = function(event, name) {\n",
       "    var manager = IPython.notebook.keyboard_manager;\n",
       "    if (!manager)\n",
       "        manager = IPython.keyboard_manager;\n",
       "\n",
       "    // Check for shift+enter\n",
       "    if (event.shiftKey && event.which == 13) {\n",
       "        this.canvas_div.blur();\n",
       "        event.shiftKey = false;\n",
       "        // Send a \"J\" for go to next cell\n",
       "        event.which = 74;\n",
       "        event.keyCode = 74;\n",
       "        manager.command_mode();\n",
       "        manager.handle_keydown(event);\n",
       "    }\n",
       "}\n",
       "\n",
       "mpl.figure.prototype.handle_save = function(fig, msg) {\n",
       "    fig.ondownload(fig, null);\n",
       "}\n",
       "\n",
       "\n",
       "mpl.find_output_cell = function(html_output) {\n",
       "    // Return the cell and output element which can be found *uniquely* in the notebook.\n",
       "    // Note - this is a bit hacky, but it is done because the \"notebook_saving.Notebook\"\n",
       "    // IPython event is triggered only after the cells have been serialised, which for\n",
       "    // our purposes (turning an active figure into a static one), is too late.\n",
       "    var cells = IPython.notebook.get_cells();\n",
       "    var ncells = cells.length;\n",
       "    for (var i=0; i<ncells; i++) {\n",
       "        var cell = cells[i];\n",
       "        if (cell.cell_type === 'code'){\n",
       "            for (var j=0; j<cell.output_area.outputs.length; j++) {\n",
       "                var data = cell.output_area.outputs[j];\n",
       "                if (data.data) {\n",
       "                    // IPython >= 3 moved mimebundle to data attribute of output\n",
       "                    data = data.data;\n",
       "                }\n",
       "                if (data['text/html'] == html_output) {\n",
       "                    return [cell, data, j];\n",
       "                }\n",
       "            }\n",
       "        }\n",
       "    }\n",
       "}\n",
       "\n",
       "// Register the function which deals with the matplotlib target/channel.\n",
       "// The kernel may be null if the page has been refreshed.\n",
       "if (IPython.notebook.kernel != null) {\n",
       "    IPython.notebook.kernel.comm_manager.register_target('matplotlib', mpl.mpl_figure_comm);\n",
       "}\n"
      ],
      "text/plain": [
       "<IPython.core.display.Javascript object>"
      ]
     },
     "metadata": {},
     "output_type": "display_data"
    },
    {
     "data": {
      "text/html": [
       "<img src=\"data:image/png;base64,iVBORw0KGgoAAAANSUhEUgAAAoAAAAHgCAYAAAA10dzkAAAgAElEQVR4nOydeZAdZbn/55ZXsfRW+dMq77WsKw1CEDACCigBRRBXVBA0elFxwwWDICjSWQkQExIgAcISQlhCSICQQICcTPbJvk/2ZZLJnsm+TvZJZuY8vz+6v91Pv+d9u98+JzNzZs7zqTpVGs425/RMf/tZvt8yEgRBEARBEEqKspZ+A4IgCIIgCELzIgJQEARBEAShxBABKAiCIAiCUGKIABQEQRAEQSgxRAAKgiAIgiCUGCIABUEQBEEQSgwRgIIgCIIgCCWGCEBBEARBEIQSQwSgIAiCIAhCiSECUBAEQRAEocQQASgIgiAIglBiiAAUBEEQBEEoMUQACoIgCIIglBgiAAVBEARBEEoMEYCCIAiCIAglhghAQRAEQRCEEkMEoCAIgiAIQokhAlAQBEEQBKHEEAEoCIIgCIJQYogAFARBEARBKDFEAAqCIAiCIJQYIgAFQRAEQRBKDBGAgiAIgiAIJYYIQEEQBEEQhBJDBKAgCIIgCEKJIQJQEARBEAShxBABKAiCIAiCUGKIABQEQRAEQSgxRAAKgiAIgiCUGCIABUEQBEEQSgwRgIIgCIIgCCWGCEBBEARBEIQSQwSgIAiCIAhCiSECUBAEQRAEocQQASgIgiAIglBiiAAUBEEQBEEoMUQACoIgCIIglBgiAAVBEARBEEoMEYCCIAiCIAglhghAQRAEQRCEEkMEoCAIgiAIQokhAlAQBEEQBKHEEAEoCIIgCIJQYogAFARBEARBKDFEAAqCIAiCIJQYIgAFQRAEQRBKDBGAgiAIgiAIJYYIQEEQBEEQhBJDBKAgCIIgCEKJIQJQEARBEAShxBABKAiCIAiCUGKIABQEQRAEQSgxRAAKgiAIgiCUGCIABUEQBEEQSgwRgIIgCIIgCCWGCEBBEARBEIQSQwRgATQ2NlJNTQ3V1tbS4cOH5SY3uclNbnKTWyu41dbWUk1NDTU2Nra0lGgxRAAWQE1NDZWVlclNbnKTm9zkJrdWeKupqWlpKdFiiAAsgNra2uAAaumrGbnJTW5yk5vc5GZ3QwGntra2paVEiyECsAAOHz5MZWVldPjw4ZZ+K4IgCIIgWCLnbxGABSEHkCAIgiC0PuT8LQKwIOQAEgRBEITWh5y/RQAWhBxAgiAIgtD6kPO3CMCCkANIEARBEFofcv4WAVgQcgAJgiAIQutDzt8iAAtCDiBBEARBaH3I+buNC8Dt27fTr371K/rUpz5FH/3oR6l9+/a0aNGi4L9ns1nq0aMHfeYzn6GPfvSjdMMNN1B1dbX188sBJAiCIAitDzl/t2EBePDgQXIch373u9/RggULaNOmTTRx4kTasGFDcJ++ffvSJz7xCXrvvfdo+fLldNNNN9G5555LJ0+etHoNOYAEQRAEofUh5+82LABd16Wvf/3rxv+ezWbpM5/5DD3++OPBv9XW1tJZZ51Fb775ptVryAEkCIIgCK0POX+3YQF40UUX0b333ks/+9nP6NOf/jRddtll9OKLLwb/fePGjVRWVkZLly6NPO7aa6+le+65R/ucdXV12iiZUj6ABEEQBKG1IQKwDQvAs846i8466yzq0qULLVmyhAYPHkwf/ehHaejQoURENGfOHCorK6OdO3dGHtexY0f6+c9/rn3Onj17asOkS/kAEgRBEITWhgjANiwAP/zhD1OHDh0i/3b33XfTVVddRUT5CUCpAAqCIAhC60cEYBsWgGeffTbdcccdkX97/vnn6bOf/SwR5dcCVim2A2j7oRP04HsraeSibS39VgRBEAShaCm283dL0GYF4G233ZazBHLvvfcGVUEsgTzxxBPBfz98+HCrXgLpNmYFOW6GHDdDW/Yfa+m3IwiCIAhFSbGdv1uCNisAFy5cSP/5n/9JvXv3pvXr19OIESPoYx/7GA0fPjy4T9++fen//b//R++//z6tWLGCbr755lZtA/PDgTMDAfje0u0t/XYEQRAEoSgptvN3S9BmBSAR0dixY6l9+/Z01lln0YUXXhjZAiYKjaD/53/+h8466yy64YYbaN26ddbPX0wHUF19A53XZVwgAPuMW2P1uPqGRhq/cheNrqyhmdV7qaExm/q1a4+fpkmrd9PphsbUjxUEQRCE5qaYzt8tRZsWgE1NMR1Au2pPBuLPcTN0x9BFyQ8ioomrdkUeN3z+ltSv/YOnvMpj/0n24lkQBEEQWopiOn+3FCIAC6CYDqBtB45HhNy3nphm9bjh87dEHnf3G0tSvzYe+41+FakfKwiCIAjNTTGdv1sKEYAFUEwH0Ma9RyNC7vyu46jeoiU7bO5mctwMXdh9PDluhr7df3rq18ZrXv3o1HzeuiAIgiA0K8V0/m4pRAAWQDEdQOt2HyHHzdClD0+kC7qVW28CvzJ7Ezluhn40cBY5boYu6jGestl0c4AQgF/tPTnfty8IgiAIzUYxnb9bChGABVBMB9CqHbXkuBm68t+T6XtPziDHzVBF1Z7Exw2ZuZEcN0N3vl4ZCLna46dTvTYe95VHJuX79gVBEASh2Sim83dLIQKwAIrpAFq27VDQhoWYe2nWpsTHvTB9Azluhv4xclmwRbyz9kSq14YA/FLPCfm+fUEQBEFoNorp/N1SiAAsgKY6gI7V1dNNz8yii3uMp3vetFvKqNxygBw3Q9c+VkE9319FjpuhfuOrEh/3bMV6ctwM/WvUMvpCd691vO3A8VTvFwLw4h7jUz1OEARBEFoCEYAiAAuiqQ6gkQu3RRY66uobEh8zb+N+ctwM3dB/Og2YtI4cN0Nd312R+LiBU6rJcTPU+Z0V1P7BCeS4Gdq492iq94v32a5bearHCYIgCEJLIAJQBGBBNNUB1Kd8TUQA7j9al/iYWdX7yHEz9L0nZ9BLs7zFjr9ZWLpALHYfs5Iue3giOW6GqncfSfV+8T7P6ZxJ9ThBEARBaAlEAIoALIimPIC4sfPmfcnbvBVr9wTbvKMqa8hxM3T7ywsSH/f4hLXkuBnq+f4quuLfk8lxM7R6R7qfh4vVJI6fqqd/vr2Mbn95Af11eKXVzyYIgiAIZxIRgCIAC6KpD6Cv9Z5CjpuhldtrE++LRI+fPDc7+N83PTs78XF9x1eR42bokbGrqUMf7/WW1xxK9T7TCMCxy3dE7v9oefKcoiAIgiCcSUQAigAsiKY+gG7oP50cN0NzNuxLvO+4FTvJcTPUcdBcmu/PA17/+LTEx/Ue57Wbe49bQ9/oV0GOm6HKLQdTvc80AnCQv3WM230jl6Z6LUEQBEEoFBGAIgALoqkPoJ88N5scN0MTV+1KvO97S7eT42bothfnUdWuw9a+fI+MXU2Om6G+46vo+iemkeNmaP7G/aneZxoB2OO9lYFptONm6DcWbWpBEARBOJOIABQBWBBNfQD9+qX55LgZGl1Zk3jf0Wzub8ehE0EcXFKqByxjHp+wlr47wDOQnr0+ueLISSMA7xi6kBw3Q3cMXUSOm6EfDpyZ6rUEQRAEoVBEAIoALIimPoA6DV9MjpuhoXM2J973rYVbyXEz9IdXF9KxuvpAkB0/VR/7uG5jVpDjZmjApHV049MzyXEzNG1tcoIIJ40A/P5T3ms87dvPfK33lFSvJQiCIAiFIgJQBGBBNPUB9MCo5eS4GXpmanXifV+ft4UcN0N/HraIstksfd5P9dhVezL2cZ3f8QTgwCnVdNOzXst58urdqd5nGgF4yUOe1Qy2lm2qlIIgCIJwJhEBKAKwIJr6AOrlz+f1KV+TeN9XZ3vef3eNWExERF9+ZBI5bobW7or39PvXqGXkuBl6tmI93fr8HHLcDI1fuTPV+7QVgNlsNrhfzcHjYfbwiXTZw4IgCIJQCCIARQAWRFMfQE9O9kyau1gkegyZuZEcN0P3vuVt1V73uLfQsWDTgdjH/WOkJwBfmL6Bfv7CXHLcDH2wbEeq92krAE+ebgjud+TkafqinzyyIWXyiCAIgiAUgghAEYAF0dQHEBI97rZI9Hhumpfpe//by4iI6KZnZlltEP/9zSXkuBkaMnMj/WqIt3Ty7pLkpRMO2s2Om6FsNkt19Q3U2Jjb1q09fjq43+mGRrr2sYpUW8enGxrpdENjqveWzWalxSwIgiBEEAEoArAgmvoAQibw715Jtkp5mmX6EoUbxI6boQu6ldNtL87Tiqe7RniLJq/M3kS/fWUBOW6GRi7alup9XtCtPHgtLHlc//g0OnEqmmG857CXbnJuZ08oYubQ1ubm/K7j6Pyu42iUxVY0+NNri+h7T86gU/XphKMgCILQdhEBKAKwIJr6ACr3zZ1/NmhO4n37T/Qi3Xq8t5KIiP46vDLSmnXcDC3dlpvwgfu9NndzYM0yYv7WVO8TrVz1tkx5va37vbm/i3qMJ6JQpL6zOFnQQahi0cUWPGb6ur2pfiZBEASh7SICUARgQTT1ATSzei85boa+9+SMxPsi0u3hD1YTEQXzfI6boV8M9v73sHlbch73p9c80Td8/ha68/VQDKbh0ocnagXg1KroNnH17iPkuBm67OGJRESpXu8W3xTbcb28Y1vwmLdTVjUFQRCEtosIQBGABdHUB9DSbYfIcTN09aNTE+/774y/MTzO2xhGrq/jenm7vDrIgTHzWwu30t/e8OYBX561KdX7vOLfk7UCcOTCqOhaUVNLjpuhq/p43n/3vx1uIMfxbMX6yPPaJJwAPMbGSkcQBEEoDUQAigAsiKY+gNbvOUqOm6Ev9ZyQeF8kejw2oYqIiEbM94yhHxi1PPjfullCzP29vWgb3ffWUnLcDA2esSHV++Rik9+emxYVdgs3HyDHzdB1fkbxQx+sCgRqHLrnPnm6IfYx6mO7WmxSC4IgCKWBCEARgAXR1AeQujQRBxI9npy8joiIGhuztHJ7LZ2qbwxayTf0n57zOMzhvbukJuIJmIav95saEWdoCaMdDWZV74u0tPtP8mxuuo2JF2f8uS/qMZ4cN0MbLa1j8Lg7hi5M9TMJgiAIbRcRgCIAC6KpD6ATp0LfvGN18ZFu7ujlRvG2ed8xctwMXdh9fI6QvO3FeeS4GXpv6Xbq8q4nIp+anK5dev0T0yIi7fevem3le96M2tdMXr2bHDdDNz07m4iIXpzheRf+/c14mxv+3N8ZMJ0cN0OzqpPzirnxtGQOC4IgCEAEoAjAgmjqAyibzdJ5vsfeztoTsfe9b6TXvn1hem77lhswHzh2KvLfOvrLIpnlO+nB91aS42boiYlrU71PiDI+b+e4GfrlkHmR+41dvoMcN0M/f2EuERG9sWBrYnWusTEbeW60rN9amLypzB97eS/7uUFBEAShbSMCUARgQTTHAXR5Ly/Sbc3O+Ne421/geMmwwIFFjZXbayP//lMW//aIHz2XNJOnogpA5Pyq28ujK2vIcTN0+8veLCIEYUdfEOo4Vd8YPO/irQeDKmX/SesS31d9Q2PkfYkhtCAIgkAkApBIBGBBNMcB9C2/vfpsxXptugbgfn46YLo8fmXUdPlm/98nrd5NfcatIcfNUK+xq7XPYeKG/qEAPLdzhlbvOKytug2fv4UcN0N/es3z8ZvmC8UfPGVuz/Lq5dG6+mAj+J9+4kkcXDw6boZqj0vmcHOzs/YEVe+Oz6M+05w41UCLNh+I/X0RBKG0EQEoArAgmuMAQoVOt1XL+eNr8SbOnYYv1lq8/GigFxlXUbWHHpvg2cX0fH9Vqvf4LTYD+IOnZtLO2hPkuBk6v+u4SNXtZT/a7m9+tF3lFm8r+Bv9KozPfbSuPnjuE6ca6N0lXhXxthfnGR8D6uobIgJQNaYWmp5rH6ugdt3KqfZE84lvLDa9OGNjs72mIAitCxGAIgALojkOoD8PWxQRMSZ+lxDjBp/AR5Tq3g/86Lbp6/bSAH8rN61lyvWPewLwC93Lad7G/XTkZJj5y+1a1LzidYoxtI7aE+FznapvpPkb95PjZuibj5lFI+DVQ8e1SxwRzhzZbJbO7ex99pv2HWu218X3Db9JQRAEFRGAIgALojkOIFil8DaoDm7nogNegL9+aT7tOXKSdh8+SacbGum7A2aQ42Zo9vp9wfLGA6OWp3qP1/kCcNHmA0TkLV+c45/49x6py/lZuo/xDKl3HIpWCuvqG3Lm9A4cOxX87I2NWdp2wIuTa9etPLHFd/xUfeSze3xCuuUWoTB4C379njPTBq5vaKR6TaY1B69p459pAsejIAhtExGAIgALojkOoLcWbo2IGMfN0PKa3FYm4t4+WLZD+zzLaw7lPM+1j1XQtY9VkONmaO6G/TRo+gZy3AzdN3JpqveI56jcciD4t/Z+PjCv/PQpj84YHmaVwh2HTtClD0+kvwyrjDz3niMnI9XP0w2NWnGp41hdVADe+Xpl7P2FMwv/fpOWmGzIZrP0nQHT6ao+U2JFIF7z813G5f1aSKnZsr/5KpeCIDQfIgBFABZEcxxAx+rq6ScsB9e06Rtu8+7SPEtuO5SfJB03Qws3H6AhMz1fvrvfiPflU4ER9OKtB4N/u8pPB1lRE24dI60ElbgGZtMCCxq1zb2r1hOA57GT+dd6e8+9NGGmj7eiHTdD3x2QnKksnDm4eOfHQb7wY3hzTEvZZmQiCTxeF58oCELrRwSgCMCCaO4DCNFpfcrX5Pw3bPlOWbPb+Hh+YoSIwq1yy0EaOmczOW6G/jo8XaXsmr6eAFzCBOC3/c3gOetDw2aYVfNc3i/6lcKf+36EjpuhBtbarTkYtnzBLb4gHrdiZ+z74vODeI4G2QxtNtCuVy8O8oULwKpd5t+5MykAu0iEoCC0SUQAigAsiOY+gJ6fZm7R8mUOE6j2OW6Gvu/fH7dl2w4FNi1/9G1abLn60anBcwBULSesCiuS9/pZw3w7UxWijhs1q9663xMRF/UYH/zbXSMW5zyPjtrjoQDEz751//HYx1TtOky3Pj8nIlyF/MCSDyrMhcIFYFz190wKwH+NSrYbEnIZVVlDHV+Ym2M8LwjFgghAEYAF0dwHEIyUf/3S/Jz/BjPmOOEyfuWuQDj93+B5kRPlyu21NHLhNnJcL8otDR007V4spYyuDJdS7nzd8yocxrwK23UrzxGAG1jO78a9R8lxM9T+wXCgH7OED30Qb1dzkC2Q4POpqNoT+xgeaycUBp87nbOhcEHNoxHjno8fU/mCx6edhxU8pIIqFDsiAEUAFkRzH0Az1u0lx81N2CAKrVgWbIqvtOw5fJIaG7OBcTRua3YepncWmwVmHKji8ZQR+A4OnbM5+DdkBI9cGFrV8Pdw2cMT/XZ0+DOs3+NVkS5lVjGvzfVa1X8eFl+p3H+0Lnhu/LxDZsZXDb/yyCQRgGeIBZsOBJ/ljJjKtC18q3tqlXnU4ctn4DvE45NyqgU9+PzUpS5BKBZEAIoALIjmPoCqdnkJG19+JDfXVreIEQci1XCr3n2E3l/mRbP93+Bkk2XOlX7M3KodoQB8YFTuvN9tL3pVx/eWbg/+Da9/6cMT6aZnPFPqSavDkzt+Zp4qMnn1bnLcDP1o4KzY97WPCcAnJq4lx81Q53fiKxJoZ4sALBxcsCQJNlv4VvfY5fptdyKib/SrOGMCsNPwxXk/RymDz+8PKbsJxc6u2pPUe9wa2nYgfpREKH5EAIoALIjmPoC4J96p+qgNhm7rNo5+46ty2q7lK3aS42boZ4PmpHpfyBlevSP8HJArzBdWbtHMBWJ55Zmp1fSbl3PNrFftqCXHzdCV/54c/Bui5r6iEcIcbKGe2zkTJIj8PCZ3mIgCX0QRgIUzYdWu4LOcuEq/nZ4GngpjMjwnCudhz4QA/FPKeVjBA59f2m5CsfOzQZ7bgpiMt35EAIoALIjmPoAaG7N0nr/MsLP2ROS/Xd5rctDKteHFGRsjAnDL/mM0ya+s3fzs7FTv6/JeXsuNb2bqUkVufNo7MU9bG87h7Tlykt5ftoMaGrP09zeXkONmaPCMDcF/xxxZB/YHly938KQRld2HPQH4+S7jaNk273muYEJSxy3MckcojPeWbg8+y6SNbRu4rQ8fLVDhG+Vxx0cceHzaeVjBA59f0gVXawPJNvL3ofUjAlAEYEG0xAGESp+aa3upPz9nm7jw9qJtEQFYc/A4VVTtIcfN0A8Hzkz1njA3t253+NrwFLyHzVAhM3jexv3a54HNTd/xVcG/Ldl6kBw3Q9f0nRr8WzabpYt7jA8qlybgIXh+13ER8XD4pDmXFssr+f6B37r/OM1OsUFc39BIk1fvbpPbklgqUtv++cKNpQdN32C8H2IRHTdD+47Gm4WbaKsVrOYCn99Pnkt3MdmSbDuQ/Lt7kf93RwRg60cEoAjAgmiJA+jHmjk5otBPzza5AHN0uO2sPUEzq81LJnFgeaOaCUAkmPAKCubrlhjmFJ+eUu3P6YVRdIs2e4sEavYvfAZnVZv/YCNqDh6CqJLyZRUVbCrn+wcejzX9jCoQyt/ol5xt3NrAso7jRrfB84X7OvaftM54PywbOW7+GcR4fNp5WMEDn9+NT6e7mGxJ8J4XxVgWyZJY20EEoAjAgmiJA+iOod7JbcT8rZF/h/XF9kMnDI+MsnRbNBpuz5GTNHfDfnLcDH3riWmp3tMlD6H6GFbjMsu9ecKOg8IWUFKbephmu3f+Ru89Xa+8p2BecKF5Fgwm0hf4AvAGjTm1yj/9CDDHzdDphMxZHXjs89PMFSpOx0Fz2+wJZfCMDeHMXsz3ZAtv/f87s9p4P14B1MUm2oDHp52HFTzw+d3Qf3pLvxVrbH53ZUms7SACUARgQbTEAdT5HW9798nJ0QoIZlP2HD5p9TzcUsNxM7T/aF1Qbbv2sXTVqC/1nJDTjp3ub4B+/6mwAqDLB+Z84G8hd2RzQ3PW7yPH9Xz8OPgcBsRUgpBEcWF3z0T6RwO96mncRiqPpDt47BQ1NmZpf4o2Ih7bj7Wx4yi05VzMPDW5OvjZhs/fUvDzHToeLkF1jfGX+y0TgGna8Rw8Pu08rOCBz681Vbbxnp+aXG28Dy4i2+Lva6khAlAEYEG0xAHUX7Nc0cgyddPMkl37WGiXUXv8dFAVvPrRqckPZuiE3WJ/do8/1/ldvQWWHYYq5WyN2DN5Hz5bsZ4cN0P3v21OakCKyMV+igiqbXELCcgrdlwvNeQ+P71Enbk0gcd2G2NngHvH0EVt9oTSl22axy1t2MKNve97y2zQjOqw48bbxcSBx6edhxU88Pl9tXf80lUxgff82ATzxRsuItvi72upIQJQBGBBtMQB9Pq83Li2uvowISFuwUGFp4EcOXmaVm7PtVyxQTd/uGnfsYj4arAQqbB84Zu6FWv1iymwdfnlEPOM1mb/PXzRTxG53RcGcfNovAKIzyNJaHJw/7vfsDMQ/tsbS9rsCQVLPY6bbMBtA7dBuvN1s8Hw7UwAvjp7U16vhcennYcVPPD5XcYM3Isdm/GCtjyyUWqIABQBWBAtcQBN9L3VbmKtKW6Qe+KUve0FbFfwuLW7vNQNndF0HNiM4zm7fGD/5OmGSMv5+Kl67fNgaeP8ruMom80SUbiscpPSisNsoLocwoEIbd/TE4B/es2rtr0+z9yO7D4mFIDwRXTc+KUDDu7/u1cWWN3/X6OWtdkTCtr0jpuhF2K2dm3hyS6/edn8+XIB+PiEtXm9Fh6vzp4KduDzu5hleBc7eM8PvrfSeB9+bAmtGxGAIgALoiUOINiiOG6Geo31rlT5cHyaxQWYNTuuZyy9Abm7PSckP5jxhe7eAgp3x89mQ89Cbp3guBlqaMxqn4dnvR7xK5kwE75FsZPAfF+7buXUaHg+/DyXPORVIe7xBW9cNUpNSAkE4EQ7IYH73/q83fIArzgWM2OWbKfrn5gWWfRJ4l6/fe64GXq2Yn3B74Enuziued6Vz1U+MGq59j5J4PFp52HbGpVbDtL1j0+jirXxGdoq+PzO6zKuid7ZmQfv2R1tPmb+PKztjmyUGiIARQAWREscQNv9Khlu2w+diJwYUTmz4blp6yOiDDNzWJqw5QJ/A7nmYDQeibeY+S0OVUyOW5G7TUxEdLqhkc7xF1/2HtEvaag5wu7o3Hg6lc7vLNe+557vr0r8HIjCk8i3Lbcf+5Svyeu7a27wHtMsRXBLHXVpKR/2HokKwGFzN2vvxwVgvlFkeHzaedi2Bjb80woe29/3YgLv996Y+VLeNVHTmITWhQhAEYAF0RIHEJ/3c1xvCxaGx2mvtuHVB/ER+OZ1LU/1PO26eqJNXe6AqNy6/3hgU5N0QoDRNew7sBn8i8G5iQJf6603xQbVu6MtbSx4xA15I8O4x3srad/RuiDR5B8j080A2g6/803ZfFMrmoOgJfr4NOvHcDuWfFuxnD1+sktSpeZXQ0IB+ONn4vOiTeDxSckxbZ0LLH9vVVqzAIzLf8ZFpON6i3NC60UEoAjAgmipA4j/cb2w+3h6Z3FNXpU7bgZNFGbnntM53R9tbPfuqjVb0EDYJZ0Qvu/nuE5ft5eIvNaj42boV0NyExkQ21Zu2OrFTOPlvTwB+Gi5t5X68AfmIe/7fR9AeIENn5+7dBMHfsaLLGefBk0PvfKKOQ0kn4oYrwA/Wm5nixPHbkUAmjz6fjkkfN0OeWa24vGtaYmhKYDFUykJwDuGmqvGXdmIiMnNQGgdiAAUAVgQLXUAcTNSx80EW7hpZ/f4CZUoarNhmtPT8Xl/1m93jAfh956cYXVCuO1F7+SN6LDRlZ64vV0z9H/XiMXkuOaZvjU7D/sC0KvioNrW+R2zRct9I725NSwtvB9TgdSR9sT3AhOAfIay2MB7hJi24ScsVxnzqoWASjduX+utF3c4hlDNzqe1jse3fzDd71Rb48p/Ty45ARgX/8cXm9LMwwrFhwhAEYAF0VIH0O7DJ2nh5gO0TEnzSLu9S+RZr8C+hWetpmlHYhZvzxGzAPzZoDlWJ4ROvqh7xbfvQJ7s7zWzXH3GrYmt6K3e4QlA2NogmSLOQw6LCxCVsKGxjegLM+EAACAASURBVLRKe+LjFcC1u+xynFuCfAQRF/22M5Rx7KyNzr+ajlN19jSfVh0e+4Xu6cYh2hrf6FeR6ngGrVkAqvPGHD4jnG/KjFAciAAsEQH46KOPUllZGf39738P/u3kyZPUqVMn+tSnPkUf//jH6dZbb6Xdu80JETpa+gDKZrOBCTMXOvnCt3CP1umtWnTgMaZlDCKiP7B81ji6jfGusGG78saCrX5bJrcFO3SOFx33l2F6Tzj4+KFShKi5OA85bAq/NMsToJVbvK1r20QDfuKz2cjmiziLLfODWwJeUbPlusenBY+LS+6whc+oXtjd2yzfrEmVUQVgPpUaPDbfLdbM8p3GyMPWxHcG5Jd80ZoFoGo5xcGMsONmaO6G/c347oQzTUufv4uBNi8AFy5cSOeccw5dcsklEQF455130uc+9zmaOnUqVVZW0lVXXUVXX311qucuhgPoxqdnBn+QCt1YPN3QGDzXoeN282jZbGjwHBeZxnNh43hi4lpyXG8Jg4homG98rRN5k/wZxh8N1A/6r6jxBOBV/hzYyEVeNfG3MR59MGZGBRKLJJdazoJhHjLp8wBINHHc/GPLmoN8Tuh87jPOWsMWbMC361ZO1/T1xiAqt+SK5l8Mnht5v/mcqAsRMIhUbE3ix0S+yRfoCrSmzwDvN878+36WFR4XKSkUP8Vw/m5p2rQAPHr0KLVr144mT55M3/zmNwMBWFtbSx/+8Idp1KhRwX2rqqqorKyM5s0zJ0uoFMMB9JdhodVGoZ5lXMzFVfM4POHjYMwSw+mGRnq2Yn1i2+SlWZvIcTP0Nz9JA1W+TiNyN/OQHPIVQ+t7eU002g4bxT9/wdzi6TTca0EjugxzZ5/vMs5qloxvO/NsZBPPTA23gCeu2pV4/5YiH0F02cOhhYjtFnUcNQc9m6ILupXTTc94wmTS6tyT8M9fiArAzHJz9J+JQgQgLjRak/gxYTu6oZLv9nBLgvcbt+n+TyYAP1iWX8ygUBwUw/m7pWnTAvA3v/kN3XvvvUREEQE4depUKisro0OHomLk7LPPpgEDBlg/fzEcQP/OhGbO3zoDqQUwb95Za7fhVp9H1TAORLxh6xeCUBetduh4uLSimwVDtvE1fT0BaEoV4cC7bpifFsJTVkwJJhxeAbRp6T49JRSAY5ZsT7x/oRw4dspa3HPyEURo0zpuhu550y4aLw6Yf3+hezn93h8peGvh1pz7dVQEYFz0n4lCBGBm+c68H1tscE/FNLRn28Mmo/Ziw6aTgiUxx83QyIXbmvHdCWeaYjh/tzRtVgC++eab1L59ezp50ltM4AJwxIgR9JGPfCTnMVdeeSU98MADxuesq6ujw4cPB7eampoWP4CGzNxo1bqwRZfqEcep+lAA1p4o3BdLXbp4cYb38+kWN7LZLF3sp4xs1FTbFvupKV/v5/1Bn71+Hzluhr47wPw5wel/+PwtwWtgyznO5gbgvo6boYqq5PQE7gOI12wqeIXXRsxy0goi/lqOG++tZgsE4IXdxweVGF3CCM9rddwMjZifKxKTKEQATvOPYcdt/WbBdwzNL/ni8l6TYi/OihG8X7gG6LiPpdu8kmfOtFAciABsowJw27Zt9N///d+0fHk4d3QmBGDPnj2prKws59aSBxBsShzXPAuXBiyV6ASVDm5Mffhk4QIQbd3LHp5I2WyWnp/mzQ7+8219C/Hb/b0h9VnVufNzWOBAa7xyizebFbfQ8Uc/L/iNBaFouNRvZVbvTt7S5bNPNhU9GE07boaenmJOKDkT8BnPVTtqUz02rSA6eTpqWP7nYXY+inEgqeaiHuODDfBHNPYyaFtCjL+ax4m6EAG4YFM4Axg3FtEagNVS2s+BW1Wdic5Ac4D3+6UYOy2eBHIm4g2FlkMEYBsVgGPGjKGysjL60Ic+FNzKysroP/7jP+hDH/oQTZkyJa8WcDFWAOdu2B/8QfrJc/YxXSYwt7XOQuwQRU/0aTaHTdTVNwRt6B2HTgQzcqYlgt/44ey6dgyG8a/zZ3ogLuPSHf6gaS1+vZ954UCFCwcb4dGfCcA/WZpN5wsX6/M2pluMSCuIeD614+YfycbZsv8YOW6GLu4xngZOMXs6/vT5OcH9HDdDg2dsSP1ahQhAXHikqaQXK3zmLY2fIn5nWtNngPd7QTfzpvvdb4QCMC5RSCh+RAC2UQF45MgRWrlyZeR2xRVX0K9//WtauXJlsAQyevTo4DFr165tlUsgG/YeDf4gxflX2XKFb/xqWyE6firdjJwN8I97mw3TdzHYiMCYdcCk3KxZVGIw1L3R/6ziDLMRX/b2olBQ/sBPJ6lYG9/SVduejptsqI2tZ8c1GxufKbhYT7vBaBvlB9TUDp2Rd1o27/ME4BcfnBAYaOuWS271BeCXH/HakAPzqKwWJgDDCuDqHa375AJbprStXGxpO26GFm4+0ITv8Mxh853/jQnAM+FtKbQcxXD+bmnapADUwVvARJ4NzNlnn00VFRVUWVlJHTp0oA4dOqR6zmI4gI4w8+abY5YbbOnQJz5fV4UvSZw4dWZmfTBozUUHbGFUUCG8X9Minr/Rq45iOQY+cud3NXu7oaLIFwdgK/J+wtYf34jGreZgfPXjsQlVkfuv3J6uNZsG7vOY9LOopI0Eg1jD7ZdD7C+sTGzyn7P9gxPo5ZjlIAhA2NA8MTF9DnEhApDbwCzY1DrEj4leY8MlszSG2rwF3Fq2ZW2+806sJf7AqMKtjYSWoxjO3y1NyQpAGEF/8pOfpI997GN0yy230K5d6Ww4iuEA4lWnbxZoA0MUOv9XbrE7cR3JMz0kDmz+8lu3MfoKIHKQb3sxV2CgPf7t/tOJKBp1V28wacbW47tLQgGIucCkJQ0+Y3euPwuYJKT7ja+y+jnPBFysv7kg3WLEFSkjwap2HY78XB1jrHds4RVc+EPqTL2REf3Nx7xjufe4Nalf60wJwNbuFdenfE3ws9gsQQEuAF+coY9qLDasBODwUADepbGmEloPxXD+bmlKRgA2BcVyAOEPUtzwsi3XP+GlN8y3nBHj8XF19WdGACLDl990PoBERPP8Kt91Gu+uOf7W73cGeALQZl7xl0OiWcREYUVy0PT4WTK+EX2tLz6mrIkXAI+WewIQbe/2PSfkLaQrqvbQH19bZDSg5mIdSSe28JkuG5YqMYW3nIH5VIw7fKnnBHprIRJicmcLkUH83QEz8m7VnVuAkfFCJgD5cdQawbKN4+pTV0x0YCbgpqhGHdsPnaA7hi6iORua3xTdRgDCJspx9fGUQuuhWM7fLYkIwAIolgOokGqFCk6atqkUfNjfJvrMhmw2G8mRddwM/WKwvoIEa5B23cpzhtRh+wJ7nGw2G2zp7j6sr2YgRoy3rXq+v4ocN0P9xscPfXOBiU3UJK8wVFgeGbuavtrbq7Lle/LDa/9N0xYlIqo9EX5XaTeOb+g/PdX3DGGO24+fKXxDff0eTwBe8tDEoPKrmy28+VlPAMIsWrcokgQfP0iz/EAU3QJuamufpoYLwDTRdjwF5q/DzdGLKraRkU2Bzd9R2ETF/U0SWgfFcv5uSUQAFkCxHEBnUgBi4WFawsID4G3VpIWHNBw4dormbNgXPDeqeCqnGxoDUbdPqXzNrN5Ljpuh7z81M/i3r/iLAaaTGVIkeHpEf39Ro/sY/Rwi4DN2fx3uVQqSrCJ6+yfYPuPW0J/8VvOQmfm1zPDa/OflcLHeJ2VblEcO2tj9cC88x83QDwzvKQ3r94SxfEh1+b/Bua3/m3wBCD/A+0bmekgmgQ3ifC5s5jPx+0JC1bjY6c0E4JIUWdVf6x0KwDTVX3x3xSoA8Tt6pi5qhJajWM7fLYkIwAIolgPoTApAVE0mayK2dBxgArApHP/x3Ka4N6LwZKPGzE1ftzdHfCDc3lThROWufEUoAGFG/feENAu+Ef3geyut2l8Ysu9TviYwhdaZXtuA1zYlGXCxnnbWkJ+Y9xxJngUbv3Jn5Lg0Cfg0IJf5socn0oRVu8hxM3Tr83Ny36t/DGOeM59ZrUseCmPs0m63cwFoWkB5Z3GN9UVWS8IFYJrKNKrZjpuhDn3st9uxhFXI37Lth07Q89M2pDam5x6ephlhbox9Q//Cj2mh5SiW83dLIgKwAIrlALrXd6dHekYhYINy/Eq7/NR9R+vybpXZgFZwXBUHQ//qe0YV6ocDw88FG72m2Sz8/BNYLu+bC7x5s6SZn6NsyeLZivXkuPotVc4jvgDsO76KJvlRdXFJJXHgtS/uMV773/ez7yqtyISoctwMbd2f7Os2Zsl2ctxwkzsuX9WWdb4A/Mojk6iiao+xCvNj/73iZP3HPPwVeZJFWiHB29+6+UMYWrdElSstPGrSJtkGXMmWhj7fZZx1d+AeZrScL5hX1S0IxfHFB8NNd5N59R1DwxZ1GmErFB/Fcv5uSUQAFkCxHEBH6+rptbmbjXNtaUAL1Na6Ye+RuiY9me09Ukevzd0cexJGWoHaOtWJBNg4vGxYgsACwSRWAUW2688G5VabOHwhZuRCz8Mwyf7koQ/C+ULY1Hy+y7i8FkGSKsH8u0orin40MBSAa3clm4RDNKPljji+QsBm8eW9JtGs6uh8JwcCEN/1b/LwIOQVLHW0IAluzq67aFjGFmSKPSeX28DwsYgk+Na445pnblV6+JXzQv6e4PHtupoNnXXABN9xzUlIv2czinF+okLxUyzn75ZEBGABtMUD6FdDcm1Q4tjjG/6e27nlqhkYVFfbrVPWeBW1m5gARGvW5OKPViff3sUs4XWPT6PFWw/S8ppD2i1iPmOHTOOkah4WTB6fsJay2WxgXqy2s21IEoB7mDmzbnYujh8ODGcAl1p4RL4627PywTb0maiWYDv88l6TczweORCr2N5O+7MSRQXgjkMnUj2WC8Cv9s5NnVm760jw34+lSM9pbMxS5ZaDqR5TKFwAvjZ3s/XjLu8VFYC27e7+zBg93234pN8DE5cyAbjIYF7921cWRJ7/THmfCs1PWzx/p0UEYAG0xQMIf+BGLorfXgW7aj1RcV4Xs7lyUzN0zmZy3Az9ZVi05TPZb6lyg+yngwgxvYkrxANvd+lsaXSxbYeOhzN2qPIkpXtAkPb3Z8Uwt5bWp48o+cTH0znS5kZjOchx7WLkkOGM5ZG4+D1bVu84HDzX4q1e3Jou1xliFSkx+VjQcAG4KYX9CRFFlpccN0N7j0QriJuYSbb63+J4w6+q3nQGDN9teYQJwL4JW/ActNAxAqCzadIxyE94cdwM7axNJ7xBvgKQz31OXKX3hOUzio6boQ2WmelC8dEWz99pEQFYAG3xAMLc1Ij5dgJkZ21yukZTg9k5dR5sor8owAXA8PmegfAdQ/UtUAiW6ev2Bv/GW7txJxe+EAPT4i8+GN8m6j7GF4B+lB1Ey1OT08eXXcQ2V3Xgu3Lc9Kbh32cC0GZBaICfcYyRgssenpjq9XQgy/nKf0+mldu9/32VprKI7xDtdT4DagufYUubzgL/SV4N5nABaDNPCTCfmlbYFAIXgGnmRtH6Rxte9z3p4ALQNo5S5UwIQJ4FzsEFGm4zq/dq7ycUP23x/J0WEYAF0BYPIBidDp6xgU6cakicUdruz621iwlQb2pQGbq8V3RTePzK3E3RGf5m8Nd6T9EOpkPoqH/YuS0IbqrhMl+IwbzdOZ3j57yQtfrkZE8APmFpOaODe6/pFnLwXek+qyS4L+PbFtVh+BsiReUiw2JKGiD6vtp7cmQhRAXVSphsfzuPbU0+w2Zrig5UAahaAW1k+d1pvPUwnpGvAMzHqP3hD0IBmKaVjlEGjEK065rr06kDlWPHtfciVclXAPK4w+en6e17+HcQJxSF4qctnr/TIgKwANriAcTDzh3X2yiNOwHWHPQ2Gi9oQQHIZ+/43BCsSPjyBt+Ebf/ghJyFBggd9eTDo61wU+PyuOjjnoCm1BEioi7vegIQxsxoZ6cxz1Xfu+PqrUtgmp3P9wWDcMe1i/bCbKM7ermVELYBAvBrvaeEucCaQXyIeFQhr80jIpELwDTbr0ShATlu6mgCDK29Y8jeW49bkKRlzvp9dH7Xcal9CVFFddx0m9xYqMB35rh2/pHPTVsf3D+f743ozAhAU3wgkoKwMTzAr9wLrY+2eP5OiwjAAmiLB9B7S7fThd2j1a4H3zNXoyAqLuxeeIUnX7LZbFCh4/Na41Z4ArDjoKhj/z/fXhb8bM9MjbZav+0nXqieZy/P2hSxBnHcXCsZLFl8vss4ymaz9Pku48hx4zNU0fId6AvAsct3aN+zDbDDcdwMbdmfO7fG7UccN0On6u0NjuGf6LjJiShEFAg/nnWc1k9PZUVN2PbFhccXuucKWQhhVJOS5jB18CWGscvtNuIBNpRxU0cTYGjtuBmaVW1f5eIXZ2mBv2Xax3IBeGH38dZWT2inrt9zJBBLNrOUsE9yXG+xLJ8li3wFYHsmAP8xcpn2PkgKwgXR/W/r7ycUP23x/J0WEYAF0JYPoPqGxsDK5Kcas12wZb9XiTkTLb5CgHDjlTuIqZ+/kCumIA7U6sy3LLKQISBV8YiFGMxDhidB86A4hBLahNggvV6z3ZrET5gAHL8yd4gd3xVuB47pvc508Cg4m2g1+LnBRNtx09upqCyv8RZrOvSZEhHbKhCAL8/yNpG/HGMiboKL/aQ4PxVsjeOmGnOjfe24Ub/JJB4YtTxvAcgvetJUYlHJxc3WExHVtPV7jgab4KbNWg4XgI6bocUp0kfA+V3HFSwATZ6f8BGFH2CSNZRQvLTl87ctIgALoK0fQGjfxKVwbPZbcUnLDk0NtvP4yTouLgxVGlVoXf+4JwAXxpysMKfXQ6mMwscP/mNoG8fZpvxr1LKIAER16JKH0i9N8LQOXQIFXz5w3HQLCBDGjmtnsIvM1GHztgTLKWleTwc2q69+dGpsBCEEIBZ+8jk2uQA0eUaagACEoLhAyanmNjBjlugNyXVwMZYWLqxMHndJr+m4dh6QRKGY2rD3KDOXTxa7z0ytjrxePtvw3NA5De3Z4242bFp39JeaMF5wcY/xRe/lKOhp6+dvG0QAFkBbP4D49qvJewwD7S1tiopWKp/JeW+pl0Zx24u5AhBi7bwu4yJZr6hWqPN9HHjcdRoejRjDkgXm69Amimvz3e9XZjB0zoVNmhYtUTStQ1fB2MCWDxw33XYrhLHjZugXg5Pb0xDkoyprgnZqmoUHHUuZAOSpK6pfHD73UZU1kYpsGrDFqqv0JoFFo+vYZ8bnQLmtkO22PREFSy35CEC+XPG+pck7Ua4A5NvxcUBMbdx7NMjPHT5/S+LjBk6JCsC0mdVE0e8uDVw4muYP0Uofu3wHfaF7eSByhdZHWz9/2yACsABK4QCCOWrVLv3PCFHxpRYWgKgc/JPN5EAA/mrI/Jz7NzZmg1lHXhFBjFRc6+l9v7KoCiF1HtKm8vGPkZ4AxHB+Y2OWzvNnB9P6oP2YCUCdATGfPXPcdFuWXMzo0jdUYP8ydvkOK1FtwxLf+++avlOprj5cslGXCzCviAqw46ZfQPkyExFp/O+IohnUqH5uZvNv2Fp33Nz0mjieZuIo7cUBX67oU24vqlQBaLv1yuf+0LpWt6F1PK0IQJNdUxwd2DZ8GrgAbG+oGv+U/U5j5jZNFVcoHkrh/J2ECMACKIUDCJ5qU6v03m8QFZeeAZ+3Qnh3iVft4dFr+Ldfv5QrAIlCuxDua4e27bKYti1sPlR7ESxZYB7ydlYFM4G0isEzwu1MiI91u+3abYCndThu7sxd9e6oABy3wj7aCyLOcT0fviRQjZy8enfQki3UMw3mz1/vN5Wy2WzwflQ7HsyDwh9SVyVMggtAtdWfBATgjU/PpG/0yxW/fDMW29828HnK2uPp8ol5C9j0+6DjQRbN5rihXVESFzPh20MxO4/jqcmeAMTnpkt6SYJfrKRBtXrSiWyIvgmrdkXEcZIgz2az9GzF+kjEpNCylML5OwkRgAVQCgfQ7/xkENMsDgbaz4TRbyEgGownDoz2W4C3G7JgkSHMxReqBytqzO1RZNKqywVYssDMWafh3vO/Ots8Q3bvW0tzKkGoQqaxCCEKxbqpXcdnzxw3Q2+kmK/CCdlxvba5zkORw9vfaWbA4qjcEk3/wLC/umWNhRW0Yh3XfnkB8FzY+0baGyATEU3zve9ufHpmsJjDlz24AHy03L66+Io/euC46ePpuAD88iOTrLd5eygC0JSgo8LnPv+dWW1deXxysjdbh78753cdR/UN6aqd3A4pDaoA3K75jHlWOJbMHDcaHaljwaYDeb0noekohfN3EiIAC6AUDiC0b0yVCoiKuEWR5gDt13Zs4B4zYL99RS8A+/uD3O7o8KSGCLC4+Tju98eFkOpNh/m+uNYXtmW5AISP3QzLeSv1cRAvz02Lvq4aaZfGE+6avlEfxD2HzdY2RBTZ/ER6wjuL7fKlTVRu8U6imM+CyNh2ILpcgoWVeRvDTN40kWtEUQHYUbNFHgfMj384cKY2WQfbzI4bb7Gkgq1mx43fLNehLlfYjhdAAOL34jeGiykVjFdsO3CcHpvgzS72fH9V4uOwXNHl3RV0gR8jp7M0ioPPwqYBxxMuLHQjEjwrvKExrEInLavwarSt+BaallI4fychArAASuEAwsZrtzF66w+Iist7FZ71Wgin6hvpnM7R1ufIRZ6NjcnSATOC3HMPBsBxCwunGxqDP+aHjodWKpiHxAavTevrbt/bjW+adhzkzc+ladEShZUPCK5LH54YSX9AlBpuaQbsVSPs5TXmFjlRVEj/ZZiXLjNsXvISQByLNnsCEDF2sNlRh/CvZ1Y+EBE1B9NtIF/KBOAXH5yQaoYQAvBHA2cFFV5uno1tZseNzqwm8RITgHEVah3qcoVNnB9RGFWImU7V0sYEFiS2HTgetHW7vJtsH4SLsu5jVgat/DReiUTh709asQUBiOq17njFnC1GYjDDa0oOAfPZxYhpoU5oXkrh/J2ECMACKIUDaNhcL5niz8P0w9gQFVdYzIU1NRAdECdvLdxKjpuhPxgEICoxfKYN9h9JdhcQFrz6pM5D9hnnxaH9O7Pa+DxoQ/M2Mdpfaf3nIABxwnXcDL3OTmK89ei4GbrnzSXWz43WOMytk/zruAci5hzTplCoLPQFINr8pu1iCMAFmw4EdiRprE/4+8ctTcu1oioUgEh64dnOWGZx3NxN8jiGzAxnAOeljKdTBaDt7CEEIDeEPmKR6MGFN/J9bcRuf2axhI3btBdCPK4tzbIMqpa4YHlkbO7v7Y8GegIQ+c5ob5uSQ8BSJvrTXowITUMpnL+TEAFYAKVwACFP9yfP6X2xeD5rS4P5nPErvRPGmws8AWjaJORWMKgUYPi/OmEBA0KRb0djyQKzgWhnmaqnRESdfAE4dM7m4N+Q+PBSSv85bL/OXr+PzvWrob3YSQxJGrjpDLJNIGf4m35rd1CCmGvHBADyjguNzcIcFSLJIErVaiQsaxZsOhB8T2ktaFQBmGaDeWqV1+778TOzqNfY3Pm3xUwA/s4wnqCDC8C08XTqdq3pgk6Ff3cQ/7sT2v9E4fe//dCJoHX9tzeSLzjQcej5/ir6w6ue2XJaL0A8znHt4ucAqpZ9/fQaXecAc7bTfAGI2cokcctFfxr7JaHpKIXzdxIiAAugFA4gDN5/+ZFJdPJ0Ax04dioylA1RkU/c1pkG1TS020bM9wTgn17Tn+x4Xi+qGjbpHUQUCCGeboB5yMt7eQIQlQ9TrBQR0V+H++3RuZuDf4OnYZoNUaJojN3gGd5r/51V+XjrkVfSbEB1FYI17mTeyGaj9h2tC/zrHvogeQYsDrTRsBn6TYO9zHXMzNtmq1sHkiwgINN4501Z4wnAm56ZpTUNxyyj46abL+RbwGnj6VAVhji+pq9dKxcC8MnJ64IKmY2hd7uu5UHl9PV5W6xFJ58X/DtLk0kDKniOm272EwIQoyO6348fKPO5bwQXmfouA+DfedqWtrrl3pQcq6vPK36vNVIK5+8kRAAWQCkcQFiucFxvtu3czp4IADyeq6VB7ixOtjYnHrWVi5ZhUm4pKgFoBRHlzkMOneO1z+PafLr5ONu2kgq2X+dt3B9sQHPLD16FcNx02a5X+rORELXXx4hHLqyP1dUHs2v8uMkHxOTd4NvvQPDO3RBth3Jxfp1FsosOHAew1knj1xcIwGdnB/57vEKEWUbH9drEtkDUQ6SkAdu1uEhyXLvN6K7vhgIQc5Hr9yTbE2GRYmftCXrbF1Q21U78Dj/0wapghlaXahMHF4DqglAc+FsAsfZ5xSSeKByzgIgbv9LLG7/F0CEBC9l3nka847OzsdAplNMNjdSuW7nVln9boBTO30mIACyAUjiATp4OT+b8Bng6Q0uDmT9sKg7zBWBcdNnXekfbiDCDTdo8xFD8B6wyBINfzBQiS9m0hEIURqbxlARUa2wydzl8+QFedN9/ambw31HN/WrvyUGL2KadRxTO2832PRAdN5puwVFj2jLLvZNkobmpczZE/RfVagzgxtPqCdsWCEBkvvbSzIOZmLw6FIC61BhuCZKmCvvC9FAA8pEBGzCO0PXdFZGUjiT4DCMuAmxamDAz31V7MjaRRwXt14c/WJ1qe5iD3ylbsQr4xWA7zYwvUWhvhA1hVKXjLoj4/dSLvSRQleR/c5uKfUfrgtcqNLe7NVAK5+8kRAAWQKkcQDoBiDbwYpbO0NJAIOCP8WtzkytwEAjwzDNZi6hAGPD5JMxDoh3+fkwWMfijH5PFPflQMbvbYmaKw3OM8V74cg7fosWJbGLCMgfgM48QzQs26atqmK1EBBte9+v9CjtGYMD9nQGeAOSWHJzQfPlgztamLRBJaIHazK8BWH7c/Ozs4CKAV7+4GEiT+cwFoGrxk0R/No+K789mk5gLQJuUHMDnBVEl++nzyRcAGBd4P2KwyAAAIABJREFUZOzqoNp831vpfBgRPWcrVgGfW8TFlGoFgznbORu8f8fcb5IRPqrXjpsuWpBvozc1tcfD6M+0S1OtkVI5f8chArAASuUA0glAmKSq5rwtSc3B44HwaGjMhtWXmNbj/w2eR46bofeWenFOtrYhf9f492EeEu3wiat2BULABHziuJBEJTOucqiDtz53Hz5Jjuu1sWBhwrdo4VHouBkaaDFr+BWWTgLx+4rB4DrIh/YNsfkYwdWPTrWKBNOB6uN3B3hRdGEsV3RLlAsV3Kc85SYpKsEY8udWQUlAAP7kudlBHB1fuOFiwHEzOW1GE4OYAEzbFsV2bfcxK4NRAYiYOPg8KvwV1Za7DlSY9xw+GWxF//iZ5HZ3n/I1QcUVM7xp4+D+yARgmuUdPreILOurlNGWG5SxA5MnqMocVjnXbRebgFhvDgF46HhYuU9rM9QaKZXzdxwiAAugVA4gVEH4DTNVqO6YwtObk4bGbDB7tP3QiSA5Ia56gyUM2LDgJJBklIvZKL7Zukxph8+s9tqwcdm52Fjkli9omaYRHUTR1uep+tCr8MAxz6swaFc9MS0Qp6gIJgFj5OrdRwIx8cAofSoEWuGYhaxvaIxEyV3UY3zqbF4iolnV+yKf5y8G57bhiULT6iVbD9Ivh0QFvi0QgJilVIVAHPhsf/Lc7GAekIsfVKpx23PErg3//LRQAD78gb2IIKLIMgoqpzaxZBCAA6dUBy13NWFGBzw59xw5mSPc4+DWSTrxbAMuqnQVvDi4AET7+dzO0Rzpb7ExC6KoJyh+z3Tg2HXc+KUwlXxj7fKBj27YiPzWTqmcv+MQAVgApXIAZbNZOlZXT4dPng5ivXBCVb3ZWhr8wZyzYV/QSo3zu+uiCLnzLK0uUKngV/OYh0Q7XDUu1hF4/rGhfghHtDptQesTLTpsNMPSRl2igCC0aUOGCwBHQwNtw4mZZ/aCk6cbqHr3kWCmKW2SBVGuoIbf25glUXEHAbh02yHt52sDYsFWbq/NMRhPYoIvAG95bnbO3CIRReYoHTdqJRQHFkocN52BNFEoAB98b6Xxc9PR+Z3lgQCEzZLN2ADe594jdan+RvT2BWDvcWu0c6w2cAGYFNHG4YsrdfXh7DPPXb5es1SEjfG4Y3o6iyU0+ZLqyDfWLh8OMAFoaxTemimV83ccIgALoBQPICQb4CTMq0rFAFo3by3cGvim/T1GAOJKH5FcvHIRB6K1eIwchA/a4TYeib/1BcqoyjAmDYbSaKHawitfRJQzs6XO0O1nQ99Jeas4yW3YezSodF5pMP/WiR6A6lNac18iCrJ9IQjw2b2tiDtYvyzddijvFBKeZYuqj+2JGwLw1ufnaJekeDXIcT3fORt4nm8aEUFE9PiE0F9PF09nwh3tCcBnplYHi09JW6zZbNQGSK2MxxHkBo9bk3d3ASMKaY8zNVsaFwHcEUBn/3St5t9UkA6DCwNbILrTCsBsNkt9ytfk/G7Ewf8epK2Yt0ZK8fytIgKwAErxAOJtqB2HTgRVpW8ViQBEckG/8VWBb1rcEDlE4t1vLMk5ccXxima+UM2qRTTcl3qahdztvmDlObnHT9UH7yONkS0XPkRh9WBmtdeyQ+UJ4r2eta+SvMa4PU7tiXBYXLcJDCNkncUJTK7TersRhVWUH/gCUDc/yT+HZdsOBVF7aU21+TLQP9m8JI/WMwHz9Fufn0PrFHNwolDI4mYS0ipcAJqM2U3wjVqMPbzGvCdNcAGIY3V0ZXymM/eB3H+0jqp2YSQgOS+cG2fjAsr28wHcCDpN/jTfXCYKL6j40ks4ZhH+283PJldG8TvhuOkW5jCjnFYAYjY7zeP4FjB3JWirlOL5W0UEYAGU4gHEWyMTVu2Krfa0BBB0d41YHGxNxs3cjGJ+efzEdTBmnoco9OfiPntqqwvbsO26lhufB7m97y6Jnqgwc5cmwQLCB5Y2twZLEt6JSTeTGBpfx9tlYCZus18NQWLK6h2572/cCrPtS8/3vUixxyek9zWb5ldRbnzaE4Cm6h5PCIF4S7s1C9PjbQeORwSvjSkv33rFAswXuofHAIQsRLXt86Lq7Lh2c5sc+Ov1fH9VKlH8wChPAD5bsT4Q3G8kJHM0KL9HwVJQzIUQeMQXgI+WV+UsE9nyeyYAbaqcQB3/QOwbbyPrNqF/r5njVYE1kON6S2q2M7D8Z0kDrzLben1iocVxC49tbA2U4vlbRQRgAZTqAfSvUd5J9ZKHJgaeW2nn1ZoKtN9+OHBmUK2Mm5fCkD6u4PG/+dyPDlRx+M8dRJX51VA+VG1qsWIeS225wID4vpFL6dmK9YnG1ERhXBs2+CAuUQVRK2hE4cykydIFXNwjmgJxvTIMz3lnca4JNdBFo9mCNtoPB3rvX5ejTBT9HLiRcRq4ACQKf/4kf0gionImgHlVBSd9/nNgpsxmsYILwLiqso6+zGD5HyO939+kOD+iqADsZPi8VXhl+dDxU8F2/gXdzBdC4OEPvOOj7/gq2lUbbrLbihiicK7WcTP0corKrxp1h4onb6Py+VKArOu4z5P/bXFc+4QSVGvTCkAeN2ib7LHnyMngMWm3zFsjpXr+5ogALIBSPYDeXVIT+WPmuBlqZ/HHvTnYsv9YUHVD/um/RpkFINI71FtS63X9ntzqxLyN0SULbqJtMk2+7UX9lmonltjguBn65ZBkE11YRsD7LKiQ+a0+VUARhTNGExIG+1VBBIHKk1AA7Dv+qIng40a/aYGdCFrLOiseoujn8NAHXsWxn+WcHcCyCn5e9bONAwKw46C5dLQubOfjRMxtUdASt6lQDlTyfG3tY4hCf72HP1gdLHbY+NHhYu/ZivV0nz//O3hGvHDkm7G1x09HKktJQo5/X9yX7lS9/c/KBeDz0+wrWdy6hoi0UXRqlZ2IXdTEJPdgLAA3W5sViEt+AWEDNvHTiM09h0MBWGhsY2ugVM/fHBGABVCqB9DphkbqP2ldUEnI5wq1qchms0FrrdNwT0TxRQ3d/Yf5htH8dswg2IBuTk9th/OZQtMfYcz4qFYm6/ccjQzs32DRYkdSw6od3slFrfRgDolbkmBeSp2jU4Eggj9ix0HeQkBmee6QPbavdfY7/ZkdSVrU94/2rnqSR27xyu21EWPhNKh+kKr/WxzjmADkFwE4TnhWMLz94szKwdOKANxsURUGfGsdc7L9JyVXRSEAn5u2PrIRHAe3IKo9cTrSQk8SchgReGxCVfR5EirynN8yATjA4mcEqgDEe+FLOmqVncguuQcXBbjZWPAQhXZTjpuh46fi/yZxVu2oDR5n0z0gigrA+1NumbdGSvX8zREBWAByAIUnxmIRgEShPxxsUTq/YxaA4GeD5kT+QNu0TWCNAhuPORq/M7WSpILNSp2QIrLbJAZX+AIQc3lqlirPqAUQiUkVKJ6SQGTewCUKlxV0JxFUsWy+ExUunIiiCwocLoSRgNF9TDrBeYHy896cwjsv8HF8YW5kHg4+cZNZUghmtWxm+iA0cOs3vso6sxX+er3Grg7arDZV0fvZDOWDltm8fE748MnTERF8JKGyrs6IYi4vyZeTAycAx003aqA6ADytOVZ1lWAbt4Gxy3dEvrthFgs4RGFF1HHTxbPh70aaauNuJgDj4jPbCnL+FgFYEHIAhSKjmAQgBslx6/JucqYuBuNxO3k6WQDCGBcxY6pRMVG4zLFut37JApU0k10FWtoX9xif+H6Q1wtBqrZbeUQZgO1G75j2FVGuQXbcJilPnVCxmcs0wTN2iUKDcrXKwwUgxGjcGIAOVfCalnV0QADCwFitLHGjaD4nmiSOnpy8LnKMOm58yg2nNzNY5mbLSfAqK/foi0MVfOpWcByqyEQ1P0002e1MAKbJEYYARLUenYE/DwtHGa5ULrKIiIbP9zLH/6QZeQCIheTi3QYuAJPiKTnLaw4Fj7M1dcbMpePq53fbGnL+FgFYEHIAER05eZp+/+rCiI9dS6POKHYbkywA0SrEzWbmCO1ZbKHO0CxZYGbIlJ+KyqMaZwa4N1dStQdxbWt3eWITSwNI7OAGxQDmwkmCTLXIMLVfiShWKKBaEmfObUIVsKaNYl4JtanO6OCpEEREd74enaeMA9UeCEBVTHKfQKJwazlpEWeAX8289fk5wXf9xQcnWM2G8e+EewImwb9n28fpZl+5yXIcuKDs7wtACK40mb4Q62r1Lgk8BgIQ3yNP5MFFFt/Ox9+bONEE83TcbPONcYzz32sb4D/puPbt5p21J4LHxMVXthXk/C0CsCDkACpO4L2Gm0377zVlDtCmtYaTKiqMqk0JUWglgSqhCqxaTEsYkUSCE/EVoi+zvF6i0KvwLr9KxO1JwBsLvIWNJGNhbEiiiqWeqDlx/23oHO9ztpl5U+GVMyLzRjE/SeN7/evwdC0tteJ5fwo7GUSY/WKwJxzUDWL1e4Bx8dA5m2OfF+3sbmNWUH1DY9Cmtpnx4gbLqCR2fXdF4lIGnyO1bd+fOBUes5ilxWeQNLeI+URUdWG8vDDGZFmFC8B7LYUWUSgA0WrFSAe3uLq8V/Qiiyhc8IgzeFYvSv9vcPJSF1FYEXXc0ODdBu4DaFO1Jgptqxw3Pr6yrSDnbxGABSEHUHFS39AYzN45bpjyEQf36XJcO++scWyw+1dD5gfPwQ2Q0Y4yVUhvsYjXUitIJi57OOrpN3Kh51X4u1cWRN4vr2jYnLyIcuejsFTQS7NcAbH0bEWuWIrbEE5CrWCiaqu+B5ykq3YdprcW2glcFbVihVacTWoH2n04yatei+XK94CWbFJlTW2tqyMIcfBNVW4offWjU2MvLCAAX5i+IfDVvG9kvKjiC1JYXFAvTkyotj3f93/GGRY2OYALwDTCXxWAYaZ1aGCt+zlQ+Y8TTciUhmi/3jI6k4/YzEmRa4wUFce1T8HZzgRgWp/J1oicv0UAFoQcQMULj1CyaXVxqwrHtZtnPHT8VNCictxMMDR+E9uy1VlJcLBcEJe9iXZfUmZsKDS8eamgheW3ItXZNKIwyi8ppxU/I9pj4YB8bnv9bzFGwyMXRUVpGiBWUTkztSR5K9ymPadDbXmnWSaBALztRU8Aqm1DviRCFM6QJYlUdYP6T695Iwg2iR6PsGrp4BkbIsd6nFUKbEhemL6BXtWk3+g4prG+sbXRQTb3U5O9xR5cIMHM3AZ4azpuhn5vKfz5xj7mFHU+hOpFFlFuApAOGMfD9/HC7uOtLjJREU36G6ECT9Kk75cDv0bHtVs6a+3I+VsEYEHIAVS8dGH2CbaeVtxywZbTDY3BJvQf/RMy37JN8qG76ZnctAEVXf6oji8pA/Oq75/amiQiqvbb5Zc8NNH4vLqTY9xsHT4HXQrDmCXbg4ppWsqVhBG0MtUZT16l0f3MNqipEIgVtGkpYt4LAlC1DoEwx3tS72/iCV8AoqJt2oLWgc3fR8urgtEA3B4tN1c1IQAHz9hgXb3l3odYpsJGfuWW+GO48zsrgospolDM2bYxiYh+OSSMT0v6TIHuGOezjKiS4iJrA1tKQaXwipjIOlSiuTi12erlf5PeXxafwcyBJ6nj2qfuILUm6e9BW0HO3yIAC0IOoOKFVzlsPeBQnUojAInC+SoM8/OcVu7d9qOBs3LE6I99AVhRlWuoDALT5Zj7EBG1fzDM6yUKqwCo7umEBiqf53Q2p5U0aqxM4jYf1QQSjrogkQa1hY0lF9XnEVWa6t1HIrm8aVBTIdK0rvE5w7xbjQ9TW8SqsDWBiicEIBYEbDZKeQv79XlbIgKwa8yWPDd/Rhvz9pfjq7dHToa+fxCA3/YvkuZsiG9jql6DcRcTJmCu7rjJow1Ad4wThZnQmF3UbSVv3pe8qY9Z2zuGLgouGG0uSviF7FsL7T8DeJI6rv0mNBeAxWLs35TI+VsEYEHIAVS8TGDRSzZ2F0RhFNKF3ZMtVzioauHGxcYw5WTLRQVRKO6maRI1AMyikyoAal4vzGCv9CsTuuobT20w5R9zL7tDx08Znwtgs1lnbaPbRLZFbZ0OMmQ98zad6h1oi7r0ghbeby1a1xCA+GyuV+L2VIGo2tuYeGxCmOdLFOb72lS4uVhENQo3nWE3uNcXgC/O2GhdTT18Mtf4+cank49zotyqJuyZ1LSXOPD74rjRhaw4TDng6hZ/e+V3jCg0UD6ns3l2mF8w8c3eJMN5CGLHzdArCRF8nNnrQwEYl4XO4QLQce0W4Vozcv4WAVgQcgAVL2t3hZvASb5lnG0HjltHJ4FqZeuYV3KwGcxvfA4KJ8a4LFhUQYbPjx/mVvN61cqEKaMXCw+mJRM12osoXsjFbT7r0khsUauHpjb0pUwA6vKPbVC9+1TRFocqjr87YAY5boZm+0P86n/HEsH3E94jBB8EYBpTbZ6wgeMAt9/EVPS4AFS3sE3wCDfE1dlGDvLsYaJQECalj3C4APyWn8udRINBAOK7m1XtfXe6TGhdxVMFF4J/GVYZ2ezns4Q68PPzz8SGmdV7g8f9ZZjdIszW/VEBmCZ5pDUi528RgAUhB1Dxwv3zdJuqZ5KGxmxk65hv2e47Gl0ucdxofi62HGdWmwUg2nAvxITNE+Xm9aKieU5nL0cULTz1hK9uqarwSC7EmelMr0HQ7tNsLeLElI/NhFqBMi0l8GUYNZ7PFnXrWa0+xqEunqjVL/W/z90QzZA20Vep+KXxVISdyOMT1uaYEscJOp63rLM50nHoeGhujbECpPOokYcqPHuYKHmGVgdey3G9LWcb6tlFDqrcROGSFrb00RLmpsy6tBcV1Y7oe0/OSLzwIwo/D3x3tuDCx/aihSg0ncctybS7tSPnbxGABSEHUPHCq1b5xI6lBcscvEIF8O8QaCNZfBpOBKgw6OAn7zjU2Dlux3Gsrt7YxsSSAg+45+iivOAz9o1+uZuP6swbx1bs6FBn53hVhYNlmA17j9LCzdE5SFvUVIgJltUvolyBd5Oy6a3O0sV9lhzY3iDZxSaBAvCEDfgQ2lTJuAC0/e54ugnaiLBDGp1gGK/6LaptbxsQr+i4Gbq8l902q0kAYqFkzJLtRJSbiQ1g72JK61AvVn7nRym+kZDBjc+Df+82VLDOg231Gx0D3JJsp1o7cv4WAVgQcgAVN/hDZhuXVQg8gF41eV21o5bKV+wMUhV4KwctpjiPL9uToJpfm81mI5Us+AKq1hjXP+HNqM3bqI+M4gIQM0trdh42nmDVTGKOjWWGCXWJ5c1gsD768/BB/SVbPXF1TV+7ShDAzwsBWFHlnVC5x6MJtdX+0+ejaS+jfAEIIb6ixpvVvKrPlNjnhfcilppMLX0d3Jxb9byM2169hwlAW6F6gAlAzMQhNSdpmUNNmFHTbGzoyARg+wcnWD1GN+age98mT86kyMeXZ3kC8G5/3hLbvTqzdM4/mQBMcyGLUQvHzdDXescfV2CTIgBhJ9VWkfO3CMCCkAOouMEfsqStxTNBp+GLg9czWU/0HZ8r5NAujcvrNC07qKjxZUTRxRCTYEraMtYZ+2JeSLf5iEF5XX4rMkptW3McdQ5PFVLq62/ad4xWbvfEVVpfM/y8sOpI07pWK3xoSWKJR/VCrNqVazisQzXf1iW7mICfXP+JayPtQcf1zIlN3M08HfHddUgQqnzsAXQa4f1+vJqwyMCTR4iIXvKFU9yiigrytR036uEXh0kAqksoakIMwLLI0m36Kro6rwoz7qTfadjwOG66+EQu8tt1K7f6DDbuPRo5LtLE77VG5PwtArAg5AAqbvCHzKZtVyh8VsfkcYcqAK9IwhLCVH0josC2I6nVh2UOmBcTRbNUYUWhWpmgYpJZrs8jPqbxdeP2MerJBe9jh6aFZOOZZkJdnjBtInPRi2WgrzwSL65U8PNiDgq+ajZLBaOUWUvVFgeVWBg/48Tbvmd8tQqJIdhqt53JIyLqNsavOE1aF0Sc8ZsJLgBtvztuqg64nUwc3HiaKGqfYgsXgPyiJQ4+58qTUbCFC19C1SAc3JBgcwNbKmQAY0wgyacQn5vu9zaOicwFwXGTt42JiDYoAjDJd7S1I+dvEYAFIQdQcYM/ZPnMm6WFWzuYWnKYYeMzgmi/wiJEh61RsOpdR0R0HbMgwczYn4dFTyRoX/PZRI5uy1GX9kBk3qYE6/d4guyyh9MbzaqzdSZPQb6pCXH1pQRxxdGZAqdpXauVyd+/6mX9jlzofb5qJRb2G1/oHu+91lsRgEhxud5ClKLlOGDSumAukt8aDZYfSHV5edamYNs96bvjy0fAdptXFYoQ+baLDEShDRFuqljToVt0IooaaBPl2gMBzACb0jrUKj6+u6TINcxgOq59fjBRmJqDm2k2kbN+T1QAxi2mtQXk/C0CsCDkACpu8IesOWKNYNLLKz8qGKLnJ2wItLiwe8zzJM2fqdYlRNH2rmlp4q/DK8lxMzR0zmbt8+p83bhvGk80MAlDgEHzL1rOZnHUmTdTC5Tb4UBcpfF21JkCL9tm37pWl23+pNj4qJXY3YfDyLE4YDgOWyPb2UGi0FD4ycnraKn/s/AbX3zgcAGIGbGkubo9mp+HL6HEwW1niNIt3wDMXOJWnZA/TEQRaxYuANX0FXU5CKhtfpXnpnkt3/vf9gQgjsuk9uw9TAAm2QRxeE6542ZomaE1zcHFGW5x+eRtATl/iwAsCDmAipvmFID4A89P/Cq4wuatPsS8xUVkBZWehE1W3ckJ7d2xy3fkWFEAzF2ZMkN1vm5EubYzRNH5L11VCYHzcXNnJtTZOpOB8kVMAO6s9V7v/K7x4oqjMwVO07pWZ/wwHwqBrW7v6rZmdfRCnq8vAHHCvtSimoqItacmVwdzkfy2iRkbc+7yZ/demb3JulKJDN3zmACEeO2T4MnJt46J8rMNulURgJVbcrfRVXSb7kTh7/U/feGmu+ghCqu8prQOzPxhmeVUfWPw+xoXCQcB7rjJs5ccVMdxq0gw4CbKFYBpoudaI3L+FgFYEHIAFTcTVu2iqx+d2iyzLEPnbA7+cJoC6GtP5LZSkZGqs0wBtpUe3cmJn5hMvnl8QUCHzteNKJq5CxAob4qSQnXo3M7p4vaIcmfr1KxjwIUpF6Q2g/BE+ja2bfuTKBSAOA5UUfO6UonVZefqeAQCsNwTUfisbcQ0n2VbpxiXxx1/d7HlDVsxrbuf7Sb7PcpntWhz+q3xW3zT6TTixyQAg9+Z4YsjowGq39/f2KykjtC0O4zd+2pvbz7XZL9EFH7+jpuhi2Ki5lRUr0ddLKOKamiPkYW2ipy/RQAWhBxAAoA4cdzcLVuQzWaDLUL4iMEzb0mMAMSVeVxAu25ujSg8gbw8axO9Mlu/Ualul6pwWw9e1dNtPqLKaZq5s6126VBbqyYzau6HaKpexqGLvkvTulbtdlRrk2F+JfbO1z0BaFpAUFHn0Q6k+Cx5xq667Rknkvj2Ll/uiBPTO/wqb7uuoTB9WiOAdNytCCnEGaZZGlIFoE0liwvAo2xhgldz4+ZbeyS0uJ+cvI4cN5q7DJPp8SvNrdZOTAA6bjiCkQTmhnGzidJTLwxem7vZ6rVaK3L+bsMCsE+fPnTFFVfQf/3Xf9GnP/1puvnmm2nt2ugv58mTJ6lTp070qU99ij7+8Y/TrbfeSrt364d4dcgBJIByNnMTt7EI0QTBh/8fN6ODtmlcQLspy5QP38NSQ7WTeGpy/Ml5v6GK9m3N5mOS7YpNbJYJtbWKzVx1yQd+iDUHjyfOJOrQmQKnqbYhaxdbvlx8EYWpEJ2Ge5VYLt7j2oEQgH39VIwTp3L9GU3wjF0189VxQ6NjFd6+NlWCVXRtfixB3Ddyaez7RCUNube2c4ccxM6hxZoUoUhkFoBopXZ8YW7kuOBWMUREAyZ5Aq/Lu/rfof7+f+8+ZmXwb5i9jbPGwX1w023W68DCFG6PTUhOUuHxmY6bnDzU2pHzdxsWgN/73vfo1VdfpVWrVtGyZcvoxhtvpLPPPpuOHQtnXe6880763Oc+R1OnTqXKykq66qqr6Oqrr7Z+DTmABDCDeavF2bXcpERLdUhI4SCyq/SYkgx41ciUnfviDP2/A52vG1G4+ThlTXjRlLQtazrR2qBW1tAeVDcpuVmvbXWNo/OEs13UIAoFICrBQYt90joi0kfYwTpH9ZfjqLFopkUcHTxjFzN6/GZaAOIC0LZVrZsVhAXSXQmm7KpfIN6rrZ8fUVhZQySgabaVYxLT3ADctClMFI6AoKqroi6TEEUXc0zc+XpUANqOs4yujApAGxNp+FHiFve+2gJy/m7DAlBl7969VFZWRjNmeO2i2tpa+vCHP0yjRo0K7lNVVUVlZWU0b57dur0cQAKA8HHc+PD1O4Z6M3lIFkAMW5zpqmk+iRMRLSdytxh7vLcyx4sMJPkM6mw9iMLIrbHLwxYb2rLfHaAf2k+yiYlDraxhm1VN+eCG2KbWeBy6z9LUBteh2rxAuKFyp2vFc+saE7Aa4tUc3SKODp6xyyu6uD1tsGdBBeq1uZutjkMi0m5e28bWqQszfG62rt6ugouLLIxX2OQIcwHIfQO5/2Pcz/+BxuKJo5uB7Kcxhlf587BFke/pvaX6Sq0KxiVwU62fdCDdBzeMGrRV5PxdQgJw/fr1VFZWRitXeldgU6dOpbKyMjp0KFp5Ofvss2nAgAHa56irq6PDhw8Ht5qampI/gAQP/sdT3bLlwOcM7RUMgq/aYRaAaqSbDpONBW+9mRJFVH89FZ2tB1GYZ8r9A4PN3GfMljXnJvwsJt5UTIHRblajrtS0Bp0/Yhy6qiG3wkkSIqp5sWrg/JISC0ZEdKkfJbZ+j9myRCcAdYs4Ou5nMYRcVOFmypnlAtBWvCMlhi8tQJCYLJJ0r0dkTuiIA5VpWCB1NbRlObq0G6IwueaqPlO0kYhgtm+u/Z0Bes9RpADxz/mF6foLMg4shHBDRnISqJbzW5xoJwo33XFrNQ3YAAAgAElEQVRLk7/cGhEBWCICsLGxkX74wx/SNddcE/zbiBEj6CMf+UjOfa+88kp64IEHtM/Ts2dPKisry7mV8gEkePC5Ksx26VCHxa+Myc3lXJRQITJVJ7Bw8JdhlfT8NO+EAy8yANPYWw2RYjpbD6Lcag2R2ZyZY8pTTWLE/Kh/nilCTW2n8qUQG3RiOs28nfo+1eqPrhWP4yDuQgBeeo9PCGeZkyLIABZRnpu2PvKz4GaKJEMLctjczZFqapx437I/d2EGSwlJZsb89UBcsowOCEBcoNgkaJhmRbHUdMlDE40ikSgUT7psbKJw0QoXAURhRdvkGkAUZhFf3ss7PrqNSRazROHFEo4rx01eBMHCDW5p8pdbIyIAS0QA3nnnneQ4DtXUhKvw+QhAqQAKJnhbLa4CqIoB/GGv2hV/DF3ey6v0rNmpv5+pOsHNk1UvMoD5RZPRLGw9+FYnUe52K1GuVYsOHtWWBrWNaPLBU+O6eDawDVwAQkybZix1QADifWJBACdvzFzeyyo/NkJOt2l6g0WWNFHU65H/LLiZNtcDQTbPW6SwmVXULW5MWbM7qMrF8Zdh0dcjIrqmr/fZzFmvj1lT+bEvAOF9+OOYajQwCUBsNJ/fdVzsDCR+/8/prL9A0PkgwsjcdOFFFI6MYK4xqYIK+EUIovGS5i9Vf8g02cOtERGAJSAA77rrLvrf//1f2rQpummVTwtYRQ4gAXABFndFr25DfsWyhYd5JpNfm6k6Mclvyf74mVn0zFRv29cdHRWASV5rpi1kCBLuH4i0kbiZIwznb9h7NPZnVnldeW6TNYva8rVtkwJdNZVXv9QUCBVVqKqfezCLyTZibRJhdH6NPxroiZ2KqnivO2TsDpq+IfKz4PazQXoRogoym5lDXbYxqktJmcyYeXudCUC0heMq6xx8JvDes7GQMYk7/nuFCyHH1Y8BoNqmi1SEhyOfq0MyUFy+9B98H08s8VxpaYfDvSZxgZdkJK8KwDT5y60ROX+3YQGYzWbprrvuos9+9rNUXZ074IwlkNGjRwf/tnbtWlkCEfKCn1R/Mdjc/lQXLiBOkuKqvjPAq/TMNlRBTBWMxVsPkuN6EWYmL7YkrzVYoKgJEOpsG1HY3oyrHlxmMe+mQ42yMyVTqJF4Nu1VjmlTmS+XxKEKVVX062YxvztgRuz3S0TUbYxX0cI2MREF1Z3M8p2x70mdPVUFoGl2TRVk7Xt61dSNMeJ9gyZ/mVvIxG0Qq7F5ROGsnONmaEVN8neI2T9Uo8/pnOyfF1fdw89cueVgcB/d80GontdlXE4VUN3gJkpuGxOFc7avzt5kjKHTMYyl/kC4ntdlXKwXpioAO8aMcbQF5PzdhgXgX//6V/rEJz5B06dPp127dgW3EyfCP9533nknnX322VRRUUGVlZXUoUMH6tChg/VryAEkcPCHM24BQp2FCof/46th2Gw0hc2bTmA8c1RnRsvvY4r4MuXp6p4P1a64+SHbqqeKaqBsmk1UF2ZsvBY5pnY6j5iLQ036UJc+dLOYQWZzTGoFBOAAJgB/8/KCQOzEAQE4eIZeAJoqS6oAtKmmYm6Ot+az2Wzw+cW14v/oC0BsyRNFN7BtDI1vfDr8LFXjdRNx/pS4+OLxajofRPzcjptbycUCD5/f5O1lk8XNb30B+PaibXT9E16VeJpFsglsaTqNWEyNjdlgDjbus0fiEG5p4vdaI3L+bsMCULesUVZWRq+++mpwHxhBf/KTn6SPfexjdMstt9CuXfYB2HIACZykagpR1FeMyL4dmhQ2b9pS5S0stKG4GS1R9OSnM0vGVufFShSVzlbm8Qme7UzcBqHt3KOKmmXMU0X4CRn/hkoJ8pZtPdRMCx9f8itBSd+VWqlU3zdmMf81KhSASK+AP6SOrhrfON3MnI57fQH44gxPQKkC0GRwrVbkbKqppti8b/kCJm6WD0sPbyyIZuqien1vzMYs+MFTngCcvm5vMD8Yl7VNFL/l/euX5gefHe5jsgJCy/Zfo5ZFqoS6cQletVeXSsDtvsAfXVkTmGTbmDrDdxFWQ9970qswT60yBx1g4xm3pOjJ1o6cv9uwAGwO5AASOPjDqfrScRYq5sVoLyUtKODE8uYCfdg8t/ZQ2zyovOAEws1oibzqTNympWnWThU6RES9lLxaHbabzypBVcOfBTNZ3+DfYI5suygBTPOUWMRJEq5qpVLdCoYA5LOYOk9FFRgHPzU5HGlRK3sm1DxiVQDqKl9EoQBERc6mmopIsS8r834QUm9rZuQAlh7U43zCql2RC6c4IABnrNtLPxs0J/FzJYoXgPBQRBvXcc1ReM9NWx/ch89VonrLxXvS7x1R+Jm9s7gmMBC3+d1RRzHQno6roC7bFhWAabKHWyNy/hYBWBByAAkc/OGMG3SHdQnug43YOANgojAi62VD2HxcTNc3+nkVMIgMXXXuipjKTrDVqeT7YsbqdraZiCoVb1OqfK13svm1DjVBI5vNBgsf2PglCr8HGD+j+jGzeq/V63AByCuitu97mFLxUyPsBgazmKEAxIn+3SXmVi62WrkA1IlCHffECMA4n0S1JXutX02Nq6ghUkz9PcAig8l0mii80HlrYVQAYuP74h7jExNBvs8EIH5vklrH/AJKne/r75upo9rquBnDs3htXYx18NYuvif1Z0/a7v/VEO+4GLNkeyTXOskPUN00h/tAnI0MjNVxURpXmWwLyPlbBGBByAEkcGyunNWN2ost58p4pq+OgzFxcWgvYobooQ9yBSCWEGZV57bndEP9RETj/PzjjoPCYXFuN2IC8Xc2A/0cJGhwOwt1KUGX/AFbkLj2F8e0UIN24hLDJjZQW75jlnhzn78a4hlto53Jc2NNwoeDTGEuInTbpTrufsMsALGUs3ZX7lyf2pLFMTRvo7maGvozRucKUfk0RQ4SEf3e/xxGLoxWCevqG3KWe0xwwd/bX1R6ZKze6BrECUBUcOEvqCbiqPAZUphX8yxmDtripur0L4fMI8cNE0CwEBNnNcXvh8UjGEPfHmMjs8RfGLum79SgSp/UOm/NyPlbBGBByAEkcPhJ1YQabWUb5cUzfXXwQXm1QoI2HvzwdCdDVAc/0MwYcjNcTsVab56Re7upWa460i5lAHWuiShMUkFVjufjHvDTKiCAJ8TM13GOGRZqrvetWhZsij8pqq1q1RxbtzxjM8unuwjQZczqQCXsJb+CzI/V62J+LlUA2mwrY7tV3SrH/Ou3+5tnZHXpMgDVx6RWPgTgrOp9wTHTKcEDj1fX1BGKqVW7g58HFdMk2ivzojyKj4Njc/xK/bF524tRAYjfuaQFDSwa/dNfNMLFmsnuhyh0DPh6v6nBBUnc73FrR87fIgALQg4ggWMjAHmc1v6jdcF2XtKWYn+W6atjHzOiVkH7CTdu2wJg+PsaS2AAaL+pQ/3z/ZzU65mPmWmGiwNPw6RKmoouQk0VZbq4so4v2FmlANNGNbZBkwyJ1Va1mrQCY2i+jHN3QoufKGyh8iqSbqFEx12+MH9ZIwCxYT5Js2Gufp/YsI3bRIWtkLpZzDOlTWkqfOvV9N/4hrAOLlIhfOLMlomiAlAdoVAj0s7vmiwAIarn+5VSnWk6USh4TZVfLH/hwgwLNuo4hopq+g4RG2eKDZubr/ebGvy9UVOD2hJy/hYBWBByAAkcGwFIFE3CQCxakrec6iWnsveIWQD29wUHbjyNAGB2j28pAtNQP89JBWhZjVliDq0P58jSCUCdxyC3/CDSJ3bwOSobTJYgNuKHKBSAaFUjBQP2QDoxj9b5oOnm1jkEIK8i6aqiOlCZfWV2rgCElYxOdKkCMMmOiCj0k/tq71xrGcxRmgyv42xtUAXvldDOhQCcs35fUNVS86JV4mZoeXXdcXMTcXT89Hlv+WTcCu+iA0bcLyjf770JSzzqchAXqnHehrBjwpxpUlYxUSgAv9GvIli6+YEhHagtIOdvEYAFIQeQ8P/Ze9PoqK5rbddjnDHic84P35zvfvfk3iTfKcc2bnET93YcJ47jJE7iNrZjx7Hj2LGTuI1jO5vOiL4zYPrG9DKmBxlcSAIBQoBAdAKBQCBEKwlJSIAkEKiteX+sPfdee+211t5Vu0pdzWeMGjalqlKpaknrrbnmfF8evwIQN8GC0vPWFCA/xCCDz/SVgdWVH0j6k7AnzRKAkgldPDKS2WxgU7+YuYuVQf5o+Flz48vYr662YXXEry0LIsvQRSNk3GibOQGI/Ve6qpKMesVEqB/xA+DuVdwoRO3hsS0/jIP9faoeTwD5MSJmvqqi3BDMbZ4jEYBifyCP2Jv4Ox/vLwpAmY0IHin/fMxG6TAH2p4s3+0WgOiv+LomaQfAWanlp3txPcjQ9dBGIhHrg1rIUFvm8OCRPlbUUeiJrzH6A/IG0Tzi+m5qca9vGWKf6a4TZy1xpwJv8/CoDZb5+3V9VktTT7oDtH+TAAwELSCCp7/p9eWVoYlDCWsPVFq5tbIJTB4+01dGZR0TgLL+JDwGw8sIyWYTLmC3eWbyFtfXDp6WN/XLIuLEipwMHCTw6qUTkWXoitUrxwZ5iW2QMnNhHSpLED/iB8BdlcstqbZED4A7DxrAXjujJRVY5GPzGJGfAEVj8T/M0KcXoQCcm3scAJwCUJYxjLwuDGWIR5IysDL8gEQAondkyJDHGuqmoTHSzKv/7eem7U9uCTuqx55TXcyeTgAC2JP0IUNtmM4jVtRxCnumcMSP7QC9V8inc9HGJn2fveb85DFjnylO/aIo10XJ7eQsqiKRiDXNHO20fleB9m8SgIGgBUTwNLW0wZYj1dqoKwC7OjBnyzF7srFeLwCxj0wm0ADsVAxZf9L2Y2cdG77MSBY3CLHKB2D3QImbh2zT/JmPKVH05dPdRobMeBr9zVDY8AIQvQHF6pcXqonQF6ez422VGTcyS+hVFLOWR2YwAThwlX2U6cc/UdZHhkd1qnWB4OuEFSl+PYzW9JeKU7l+7GrQT+7B4W4/zMaWVmsYCd8zHt1xvazlQIbo+/iscBwrgz/mlZk8Yx9pyPDnjycKu3eEI3hkiWkR9IIidk32oQMNyXXpQdj2ge+papCLBz1Kf2pmBmM7h24yvStD+zcJwEDQAiJiAa07hoQP+M733FSsr35grJSsP+nomQuuDV+Er3pdEBr0VT1dvN1FvSm2sNqyRzPhax3RleiHKUREawsAtyiSmUP76a/jUZlq86a8OsRhFfH1G57OBCA/jS0ThSIyix2vdYHgkE+qRADq8pvFqVzdlC6yRyMAAeweSN4IGxFtT3hO1Fz0JcDEDyEYZ5cqGXBCvAQgHtWGDLchugxs2cDMb7ECi2B1vWf/TOn3lU2w3+/DRklsM8A4R93xNX5QfMQUgEPC7O+U14R5V4X2bxKAgaAFRMQCVoiwKhMybM86Fbs5jy4ZsuNYhBd3ISMMYxQmzegHJ6YMqHq6IpGInbtrHmFjzq8uLQNtOnRWIjJwEOafi+3JRPH4UiZKZRm6OlSWICqPOhFRUKEAx8nNYekHrQ8ACFaMdEa9OEjAC9mdQrKMCtFmhl8PWIV6VeIRJwo+VVQbTz5nJyID2xle+sJ9bC3anvD4HYBAAYgTuDgFr1r3AAA13BS9rDdxa0mN9XXR3kYGWv+gR6YowJHm1jarv1BmBv+0JCLwEeHnk4FtBuj5yQ+JqYy0xal+NDBH/8ruBu3fJAADQQuIiAU8tvvNhE3WH2W0LFGBk7iqIxxs2pb1J0UiEejRx25iVwkhNLoVe9x0PV1oZH3cjLIT/y0Dkxr8JnMgOKjCW1OI1TReAGIlE82Ah0qmn2WoJkKxkvSlR+6uOKxyupaJ82vN/kzZ8xFtO2Rg7Bs/Seqnt4t/7jIBuMZcj09Nch8jiwM0KiHDw0+TysBKk+zrumP2traIr4q5KJDwOLSPos8OQG+jBMB+h2ZsOgq9V+yDDUX6KXAAe+oW+z51awd7gmVxdbLBI/y7oXseIzKcvxeqyXaebaYA/JkpAHEoRPZ73x2g/ZsEYCBoARGxgNFq2MwdMmzLEhW8h5qsSR2PeG7sJz8ew/SNkKGODUOzYNGqQtfTdddgZo6LUVa6WDEEB0U2Ho5OAMo878YLsWqXmmwBiF5zYyS+ezp4Aci/1n5MrgHcAlCsKOLRGt/vJxtwEZFZhojVRRVoBv6lRACiIMPeLx5RAHpFEgI4p0llYLX62t6rXceeXkMmdv+bO7UEEb0hcQr+rdSdyvt4CcBoQS9EHJzCQSRZ5RQj/mTDWfihbN1BWwD68bUcttpZZfYzPYxVThSAfI9vd4yEo/2bBGAgaAERscBP2OEF+9VU8H/AZdXCkzVMAKr6o7DKEDLUViOfZR6SVkryNcfPaOq868Q5qQWLjN9OYM9FNyksQ1YlE49b+Rxf3LTEVAQvVBOhKMC+yNHnyopiju9LrL3ULI1vE82jZci+P1YXvcyJUYDMz3MLQLT5EX0eAdy+fB96+NYBeB9L86+HuJZF3zsRe72pJ3rRZginfnEK/ncaM2idj2YsYE8u5gGjn6JsoGJ+HrO3kU34W78rXLXPj62R9SHDrDJHIhFr4Ez14Qyn1R/lklpuV7SFdAdo/yYBGAhaQESspG49Dr8YmwOPjd3ou8kapycxXooHG+RVDeofmDYUIcMdR4Woen6w/1B2ZMdnCPs5ZgKwqxp+s3kRNLflhwfQBw+94WQ5vmI0mxfnFAMBMhsWGeK0ciQScVRG0dCY937DvFkcGpCB7yHvJcdXK8UIMx7s3UMrHF4A4gT5Nb1Xu/rDUAAuMwWgKtKMB6dJH5FUFJHbBjBhUVzprOR5VbceH+dtxv0T02gcfSaxt03XJxlvAch/ELnQ2GL3j0pEGw7N3Dlorev1t457uZ9XNVDCI/uQcZNH7rhoVwRgD6GoBHlXhvZvEoCBoAVEtCe66gceK/dUCMBsM0M0ZKh7AFHoiX5/uiO9pybZTer8MbWq0Zy/j5ehssgE4bgXACBdqO7IYtwW72DC9s8eBsKIaiIUj+rGa8yaATgByE0rY/rLseqL1kQpb8eDgxh/mu0exEDelwhA2dSzDHF4gxeAssEZ5BVBAOJAhaqNAEAeESiCgxpirJ5ofCyCtijpGkuXn1hJM+z3xE+fJL924wFvHn3qbIM24eRyc6uyOidLn1HFyvEMWOU2mP6hOaB1uFJ+fJ4rSQvB76UzKO+q0P5NAjAQtICI9gSPcWXCCXvBblX0gvEZuap8z0tN8o1o53F1jxhObabll1l9iF5Guc9IJhv9YPf72UfU4rGVTACu3MsmMl+crjdLRlQToX7MmgHkdjV3D8myjtJQAPKPg4bOsslYBBM7eDNh/mivStN3KUa68QIQACyxImZSi9Y3fl4DcZhABvb6idO+MuNjnlc0Qgp5WBCAmFhz+0C1B168BSAAwL1D2Xu+v6zW00IIzavFqjgOTOVw/bJ+3gNcY59l2rdB+5iCUrlFEw6u/GKsbSk0OZu1Xeh6U7sqtH+TAAwELSCiPXlFk9nqx+j1q7yT0LN/prZ/SrYRif5gPPxwAQbV36HZaAF4c9voBOC4LGe8FYC72V52DL32gJnFK5lylVGjGAiQHavJkNnV8KIErWv43GWxkinjXYkABHBmS6sQI91EAXjPEFus8IjCxc9rgMMEfC+ZCBoji9FoXmkrfqaQMbUDs6a9+mMBAKrq1FGKsYJ2R5uKz3jmUePxvlhp4x8DkflIisjW2E8/0yfwbC5mApD3lFyRzyx7uqMVDO3fJAADQQuIaE9wk5A14PupcgCA9miW/x78RqQ70uPNifeVqjNgefCYT3eMJwPjrfghlTLOADsSiUhj3GSVDR2qiVD079NtvAC2AOSHTnAj31xcDf3S2ObMH8WvO2iK1ImblY+LokmcwBUnsWWIHoaiALTi04QjWTH5Q5wulYFVWf4oUQQrVKKQfNbjw4HMC1EEWyUwao7vcVShi1KMFRxoWbm33KqUq1JkcHBIzPrGHlveM1NWCRdB78vPs+w1JhOTPDJT8fVFbF3+doJ6XXZVaP8mARgIWkBEe4J9PcPSD8L6okp4Y+5OK0IOq2+ySc5okG1EeKQnq+jw/Ww6OxGeF3zYWMiQmSXzQx8NTS3SGDcvXzoR1UAApit4De3Ipo55Q1/MieU3Zz+JHm8r4sREwSNDNHQWBSAevYq9d6IAlOUYi/gR3DjRLU5my5IveFA860ydfzSCvR755uvBD/W0KAZlEiEA0Xx7bu5x68hbNUyBolmctLdSczgBqEtuQbBXk+9XRU/BtYreW8xa/tW4TdZ12P/r93enK0H7NwnAQNACItoTHC7AXjB+I0YrjzsDCkBsBOdTHGTTgQifI4sbiFcsGZr9qrzeVMj8/CKRCFxrTtierr0kTfHALGNxuEUFCkCxH0x2BC0D+6b4Xks+4UK2OfsZnFBlGsuqRCJ/8hCAqh418ejST2KJ7ChRBAdzxPQRWfIFD1YgB2uqsGIcofghQQZWCa+NowDkq5w43awabuE/uPAWSphrzMcm4sT4XzQT472WF0DICMPE9fYaww9eqt+7jebv7+OcAMSTBV1rSVeF9m8SgIGgBUS0J+hnhp/k+QpKUQWKnGACkLcVqb3ENqJcTUXHGnhYtMdKlHh6sr7XTpf3qmMMJzZ57hq81joClaV44IS0nwxXAPVAgEzYycDb8YbV/BAGbs78MbvOaxFR2X/I0iJEXhX6R0UBqPKWE98rmRWPiJ9q5oYiNpX+6/GbHNc/5VGlQhGuO/5EAbjXFIAtnD+lynA9EQIQq+nvLsj37G0EsIdG8rlKrphrDGAPDP1hhnpg6F9L2Rrj7Xp0k8gAtlMALwD53wVZVnFXhvZvEoCBoAVEtCfYY4dTnyHDTpPAUHk/OaVe4Aa6tYRtOrqKDlYj3pi70/e0LVabVA3xKlRHsPwmKTNx5o/3vHogAdQDAX7SOgDkiSVooDx1YwkYy9ybsx+rEsyOnicMQHilZwC4p2dFASgOiSCiAJQNuIjkSCpJIriWxZ/XS8yKKSsyRAEIAJ4myH4NtaMhXMA+sD07JdfzaBvArtDhcTuAPPfXzwetjyVWMV5RhhsOuUW5w8RcY+7eFaH9mwRgIGgBEe1JbUOzddyJFzyOxGlYr0xYP2C1CictsaLzK8mGjqLv99O3WkbSr2m87ABsMaKyxFCBSSVi/xlurhn7K6QmzvzxGg6G6KhS9IPNNtM63tGkdQDIE0twcnPAqkKpmbKfCWrVBKw44CEDRfcyhQDEpBA0ikb4o2sAf/1n2RIhIYKC6xohDs7LJBxTM3THnw9I7E5u7MdMkE+dlZsgJ0IAosHzfUPXeVY2AexjW9nkLqaaAPg7YsfhLD7WEVtHxMlrBAXgbyY43zeVRVBXh/ZvEoCBoAVEtDfriyphXFaxZSuCYgQrSPcNDR7cLgoUWW8QwlcNMHP1b1/uct2OB48bdV5uMlQDCH/mqlcyE2f+CLDmQqPn91ENBHy5jYkPXaYsgPyYFMXj3+fvklZnMMnlZo1VCQ4VpAoVHD/JEGKPnygAVY8tCkA/qSoqIcHDRxvy74ks+ownLZ8df+psSdDvbl+pbWmDySNHqtwpOgB2dFuPPnoPy2jge0lxAleXfoPtFO8tsMW1mGoCYBu28326Ih9KYgO9UlzwWF6c+LXzl+WvXVeF9m8SgIGgBUR0FMt2MX8uzA/1a8HiB/R6w+PlbM2GjibRPx65wRpS8Toi1cVi6RiZYVfRePh8WpWJsy5GTwQFoNgPtmiHM3ZOBQpAWWLJs1NyreoMb2XipwKFR3iiSMPKkSrhBcA9zXt1L6cAVIlIHNhB+xKswOki61RCQgRzZg9V2MkUsugzHj/Hn/cNZQKQ9zREn8PC8lrpfSw7ob7xE4CRSMRK38AoQF3+Nf5Ov8INxtiehrYAxH5f3cCXLDVG5g3Ig5YvTwhWRLyhdXeC9m8SgIGgBUR0FFmCuXFBKTtueiAOAhAnPfF4WbehYwLJTZ9m+PInA7CPmMV+My9GmAJw4CrnBChOW47MKFJ6+KE1iM4qBVENBCzf7RTdKmSRdWhF86MR6y0vO97PkReuqmZ73nRb9v34nkMRcZoXK1LY54gm06LHoCgA/cTqoZDQeRoC2BOu/PSyLPqMB48/dRYzMgEoWsOIJEIAAti9lXjRTWpn7K+wPiQgMosfP4k7svdzSJh9sBu6+qD0PiovyoclVcjuAO3fJAADQQuI6ChEz729Zr/Rg8PVx0J+wT4vPIrSbeh8jixm5YoVOhHsN8NcWr+oEhB4g2iVhx8KC9XRIo+qGud3yEUmhEvPNVhHjGi2zR/P1UkSTETwdZuf5xSAWDnSHYuKwxwnaxrgvQX5VkXsA0nFCMA9YILJEDoRLH44UYHikh8GetyMPtt4WG5W7Of4U1axkk3T8uD7c32cBeDuk+fgjzPz4IVpW+HDRXuU7y2AfHoaB1p44XpWMugkgp6RvGXQaMUUPaJ639BmaHOxWrx2RWj/JgEYCFpAREch+v75sRHxC1Z5cJjDa0NHGxb0OhuRoY9K85pGVIFJHKIH3Byzv+7tr3YrLVxQAPmZPEYBKPaD4THuc1PVcW0AtgDk/QKbW9usY0Cc9uTFFi+k6y7Lpy1Vgxpo1C2L6kPEXj4RrEpOExI28LmigfEqbuhHBUbvPeUhAN+VDCXIsm95/Bx/yo57vR43UQIwGmSG5bKJZn4yV7VWZBPjsuEkHtX79qQmg7wrQ/s3CcBA0AIiOgr+mDISifiqjPhltSB08EhNtaHjBoGRZOOyiqW3Q/zkucpQxZDxVSmVhQtuiKKJsgzVQIDfypbKMBr7ufD15DN929oi1qauGlR5Y668copHgtf3TVfa3GC1TSUAcTBlcrZzQEAUgBn7vTOL/fpB8sk2iFdcGf6sN/ZTD8vcbQrAA+X232WvFAw/x4/WSE8AACAASURBVKqJRmbmLptoFs3PZciGerCyr+rRVb1v4hroLtD+TQIwELSAiI6ioclON7jY2GJVDx4eFTyySTyKworKh4qNA8UVXmRZxTx+plZlYA/TMKGHCadOf/l5jnKCF4+nvcQpgLofzI+9CYA8sxjAHsTAixjpdl0f/abOm0nzNLW0WUMdKvGIR7mqLFr0JuSTIwDAqupibJ+fzOLMQncvmww0zP5wsb2u+MxkGXyvpOr4U5aNLP4cIn6EZaKRiVBZPyOA91Tzm5J2gVRzSv/v8+VT+pkKAehlIN1Vof2bBGAgaAERHUUkEnEIBpzG/UkcBCAeJ2M/IU7QHqu+KL09Hs3iRTQqFnlHkWnrxWBhOhnBjfO6Pqut/xcHOEYoJohloAAUjwP9ZNwCqOPSMAMYL2I18uZPmVfdiRr566wyawawjwq3H5M36nvFgGE8nSiQReGkswRC/FQJAcDyjeSnXr1i7S412cefFxrlsW4oAIsq7L/Lqqg7pDMIQFlvn2oCFyuD/NEwj6xajK0dqil2HEJ5RhCAqunzrg7t3yQAA0ELiOhI7jQtJooq6mCHKQB1fWB+OVLFJntvTcmESCTimaKA0VR40RkSA9iGtDM3RycA0Z5meLqzxzASiVgVERxYEQUgJljw1SYVqn4wHLzxeo3HSjKLAWyfN5VQvsO0RSmurAcZOsNnrA6qjri9jvH6pZkWIYKVzPNTnRm2GAv42Fh3LjTit1cSp8t5MfnYWDP7ViEAI5GIVe2sqpevR+xJ5QWgqnqKnKxh7/lNGh/GRCPr7btbYV/z8zH610n2YQF/T1XDQrIpZAC5pUx3gPZvEoCBoAVEdCSPmCkB24+dhTwcBBidHfhxK7k+On44oV7RcI6CES9eGb+qiVMvBq5iAlA2ZIJJC2hULE7wLtzuz8MPQN0P5rfPcoxCAGJlDC9iDyQetav81l4zDbRlAhC/pyqn2OsIFK10Pst0esQ9N5Vl2KabAtCPCMYe0uenqgdFAGzzcj6+0BI2JeqJU6yUHldUpPGDEe8vqIrRQzqDAOR7+ypqmbiVHWcDeGcmvybJdsb1pxLmqsqtqj2gq0P7NwnAQNACIjoSfhPASdCfxUEA8v2FWA3jj6VEWtsicJO5KYcMfd4pAEh98PyAQwMjJQIQN/ih5qCIaoLX61gSQH0c6DdtZYzCbuNAeZ1DAIpT0F5edZigIjPQxv4t1dGsWMkTUYlrUQD6mTbHDNwXpukFIA4y8XFw6A2IOdQyZEMePGi+fJirpP5DkozB4yeJpT3A1A00LJdVMwHsqXY+N5gH+/aWcX17WHEVjZ4RVeVW9eGgq0P7NwnAQNACIjqSV7jm7K0lTAD+fIz6aM4vkUjEsizB4RIve4zfTcm1hI3KagP5aIk7CcMPuBGNynQLQPwabvTiAEduCTu6fNTH66MSgGhBctdgtQUJgC0A+wsC8EKjLaxDhtvP7xHTqy5P4VWHm/oSiQDE56x6/UUhJ6IasMH3NWM/u58fEezHKgaAWePgc8bhFS+/PgB5PBqP7Cj9X0tZFUsVg9ZZBKA49SsTswB2G4VK0IrJLwD28b2qh1VVuVXZL3V1aP8mARgIWkBER8K7/fvpzYoG7KnDqsAdA9dob9/fjJnCI2kdmEkqWo54oatE4OQtiiRRsBaWu48bVaiOA/Go+7YB+tditEIAAtjHkyHDbeeCE7AqAa2bxoxEIla0msx+RRRyIqpNXryfHxHs1zAbwBZrWOHyEsEAtqefyiwaH/NIlS2avGLQjlczAXhL/0zP55xIxAqoqi8ULZFEU3QEk1/4doxdJ/SDYli5fV6o3Kqm2rs6tH+TAAwELSCiI8Gp0rFrD/ueUPULHkeiybJXwghOGPLVCxXYU6SqxqhAkTlasonPMy0unjA9CcX+vTLO20/llYegABSrQX77xD7LZAIwZaV74viZyVus10kcSHja/JrqCP0VybEeDwov2Xv1rCXk5I+tylkW71dyxh4QUoHDBi994S0AsecPbV/4vlYVXmL2dokAVE2QI8dMAdizgwUgemquO8h6+2y7F6cAnLXZND+fv1v6OGj8zdv+YPVWlRf+TUG59OgeB6j+uVgdNdgVof2bBGAgaAERHQkf7YQZqXyMVBCwGoX2KV5Hy7i5yI6rRNCTb8K66JrKdVUcXvzIjm/549dLTeo4LgD1cSDfs6YTkToBiD97yHAPc3illfi1MukhMYRG4akSgKqqpSgA/Yhgr2lTHjSoxqPKn5oCcIcmd9ZLCMs88kZlFinfE4DOIwDFxBaxJxDByrzKaxF9H/mp78OVzGj6h4oUFTy6FwUgn7TTnaD9mwRgIGgBER2J9Yd5/m7IMf3ZfqXxZ4sGHBrAgQ2v9IumFrufSzWdifRReM55obIqAbDNq3EYRRQoftITEBSA4nEgn9fb2KIWkTqx8eW2E7YAFHr50LtNjHpDZH1dPLxHnjix7VVdVHkXPiPcT5WSwuMnLxgRe9mwv2/XCbUAlKVc8MhEkyqdBTlqVjZ7aiqb7YHo34cenEcFAbhb8OoUkQ39ePU5rlT0buIE/RtzvSfouxK0f5MADAQtIKIjWcl9YkeDXq+UCr+g5xz2Evnp51q+u9TXsS4KubESIaejb9o+5f34CqSqQsX7JupQ9YO1cEML5y42Ke+vOk4FsNNEQoa7l+89STYuD74XujxjtEgRTbtxYnyNQgBifnGv5U6BhMIR78dnLauqoMt3+xeAOH2MwycYl7frhHwSGgDgn4v1PaQ9U9yiCY8xP1LY5HQWASh67t1iCkDxQxXmVV/LTVDzyI7J+fhIGVi5FX/Xo6nodiVo/yYBGAhaQERHgoMfj47ZaMWh/WZCfAQgbkTYoxXPT//9PRryVWDl8PMstwDk7WpUVQ4cMNBZjADojwN79E2HkBGGsvPqKiIemw9c5W7Qx2EU2REm9kaqjsa9jogBbAElTsh6+cZN2sBi2f61tMBxvSgAzzfYaRUtrW3Sx1q2iwlAPuFDxZRsp0H3QyPZEf5uhRUOAMDwdH2qiyy5Bnvm3l2QL72Pn97G9kBMZFGlw7S0tlkG7TJDbLFyCwBw7qL+vVP1bqoMors6tH+TAAwELSCiI8Hw+NsGrLE8vn47QZ3RGg0otvA4TbVxxkKsvmKquDIAp3ehrHoHYJshq/JwEUsASsTA7R5pHQC2AJRNaGIFLWS47VzQ51BmdA3g7g+TYff6OQcknjQFYJZCAKIQEytkonDkeykvN8uPwZeaAvBVHwJwiRkHh9VCLy9EAIDZW/QDED0lVbNU8+j9r6nyHNzOIgBFO54b+zEBeOpsg+u2GBMnG7qSCX7+d6ShyR2jhwLwDzOcAtBvBnZXg/ZvEoCBoAVEdCR8TxpO8D2pMHmNFqyy4EWsDAUBj/1khs46cIBivKRCFolErOqcqnr3rod3GqI7DsQhE1UGK4D92skEYGtbxHqOohG216ACDkzoBOBf5rEeMtFkWpwuFZmeY1biFjmj8kQh4ScZBjN+X5vtLQCxco29q/j67tG8vqs9TL1lx6Y4pf5nRRKMX4ufRCP2Yt7QL10pAJ/UHOvL3m+vFoa0fPlRbzxN5jsTtH+TAAwELSCio8F+J6zgeA1r+AWPBPGiOm6LhcGKTF8vei3XH5FiRUQl3rC6ovJOQ3TVoEd9RJV5GeficxRNl/E1/2SpvE8NBaCugvmxabIt9mKiPc76IrkAnLHpKISMMLy/0FnpFSuHvIA9q+iD9BJbPGIcnB+BjX52qkg+2bGp12DKkSpWTb/dw+8y0XyRw96Hf5hCHD/UlJ5zC8C3UpnYl8Xb/XYCe783FFU5rhej5nhUr9HeU+chZHhbQXU1aP8mARgIWkBER4N2LXhk+1ScBGCq6auHF1n6RqxgXJsogLzwyiTF10Il3lDkvONhZ4ECUFYN8qqkAdgCcEhYLwDFahv2qameH1p7rNIIwE8VXokqQYDgsar4vWVHx1bvWZ1bRAAALNrhP3eZz51ubYu4kjBk6OxuAMCaBD9ZY4smlckx0lkE4Pw8dlT95rydAADQow8TgOWSnlNspZBV0n89npllZx9yvt83S14bRDW8U2zax3iZwXc1aP8mARgIWkBER4O2EeiN9owkBSIW8DgIL9GaNuvwEkgqvOK8UCCpxBsek3s1s+uOA/F76KpwmNKg+vnw5xCnkdFuQyWcXpjm9nZTfW+x+vibCUwQbDgkF4BopP33+c4eOZng9RqEicY2hI+Dq77QCPebAnBfaa3yPo0trXC1ZgBC1je3xsxKlqWkAHQekSMew+qsi3CyWfwgAWCnpYipMhgtJ+thVQ3v4MSxzvqnK0L7NwnAQNACIjoa7KfDo7N4TeplHah0CMDZW47F5XEB9EMSOjBCTiUA/z5/l1YA7itlx41eWb66atDrpj3Ooh1yrz4Au8I5VFHhjEQicLFR3YSvytDFIZZwgTwBA0Dt54cVIZUARH/Ct1J3Oq6XHR3fIpmy5VlgCsC/zNsp/brIDzl7nvuGMgG4v0wtAAHsiW6xwgUgF4DZHlPynUUArjV/77CSj5nclZJqK64X0bgZwK6GbznibFVAgS17fZcqBGC9T//Lrgbt3yQAA0ELiOhoxErdc1PjIwDzzMZvvIipFUHAYYdo+wqxv21Kdon063zKhky88RtZnWKAAcAWgDIxwOcvq4j1iBvNvFV5zjJzXxFVbNfj4+RHgsgCq2rnLQDvGcJ6LQvL5SJNPMb04rGxdhwc9nF6CUD0TLy292qXqJUNTnhlZXulZLQX4vPUHbejpdCtKZmuo3B8TcVeVZ3RNk5ki9PbbVzfZ82FxqA/YqeB9m8SgIGgBUR0NJjMgJfnp8qrR9FyoLzO8bi6vrNowdgx1bSrCjQAnrpRLgDx+FNXyblrsNo6A9FVg7yOoQHcVh5+QRGimkR9bmqupwCcm8uOckWLFDwS3CgcCSKqwQ1Z76BXXJuqmqgC7W1W5Jd6iksEq18hIwz3DMlyCKDrJYMTO4+zwZGffpYtfTy0VOpoAbhHGLjAn1F21N3U0mb1CIo9fTistO2o0/PyF2NZZTD3iHuICae3/ySZ3lb5EXZlaP8mARgIWkBEZwD98UKGusk9WrDRHi+q6dFYGGMeU34q5M56gbF00xQCcIKZZqHbyLGKprNSKdZUg9CrT2dhg1POw9KjE4C1l+wKpcxjD9Md0jUCEAcwRCGn6glDVN59MgH4uIeY9PLcE0HT8S9yjsLdpgA8UK7/mxqJRKzsWvGIVNaj6DXJigLwzg4WgHz7QSRiV96qFZU37O0U1wQekW8/5hTpWNGVDQPp7Hv8Vma7ErR/kwAMBC0gojPAV+vidQTMi5GQ4Z2eEQ2fZ8n71Lz4cBETgKJ/HoKTrLqNHPsIZWkiiO440MurDwBgUIw2N5FIxOpfk+Upy+K9RFRxXtgTtqlYLtpUFiCy4RGsRKqEaKpioEQFvl5DVx+0KrQHT/v7m4pJNfzzk03O4u8I2s2IFFWwr3v1hyYaPmvZz9ErVqRFU3Ws0oqJMPjeydaQzr7nZ6agFCuKXRnav0kABoIWENEZ4L3Z4pXXGYlErI3U68g0WjB3tveK6ATgP0wBqDJyxh4m3UY+Lgszb9XG1rpqkJdXH4AtaFSJHjqwR0u20T5rCUB5ni+APe0q2gGhANxcLPcvVMWAyYZHXjUnzsUsY0R1DK2Cn2a9a7C/vGYEja9TOS88XLf85KyX0XNnEYC1Dc4qMP6/Knsap7fFqp0qUxnzpGUVcJ19j1eSTFeE9m8SgIGgBUR0FjYVn4H+X+/3PDqLBvRkCxlhOFKljj6LlonrvUWYjA/Mo8IZm+QCEDNL2UYur/Tg8aRuQAEFoEwMWDFkGi9BnMyORQD+afZ2l6BBZPmuIpuK2SDJLz/PcVyPvV/iVCiCFjniRKnMTw6nrWUGxAAAc3y8Rjx4/PzHmXlwpzkRfKjC33pD30O+AnZdH7d1yska1tJwkyQjGgDg4Ok67bppL0RbHPz/8w1yAYim2PcIlU1VpB5OscuGunT2PSgcdTnUXQ3av0kABqLdFlB9JUDZbgBsdG5pAjixFaDxgn2bqiKAoxsByvPt21UdBDgrTCtWHQQ4d9z+d8NZgFM7ANrkwe4AANDaAnAyD+BCFfu+zYIn1flTABX7AKqPsOdwWfF6nDvBvn5yG3tMAPZ9T+0AqK9g1/M/U2sz+34nctl/K6OzDYFIBKB8D0Cd+sjMhfV6mD1YZ4+y1xYAoK7cfi6tiinSykL2c/K0NLL7NLnNV+Fynfl6qKdSpZw77n49zh5j76+KSIStowvySVCRJyZuhruMr+DF3iOhunAD+9l0NF0EOJbD3mP+UuccIMEqWrTxcp+mZsKLvUfC/Cy5v9wWc4LyfmMevDR4hv17wJHuESMGwKpBj/T6Ap4eNM/1tcWKSUmeQV/vgd/1Gg1jwwoB1NbKfp8uufNux5gDMmImLwDASxPXwrO9xsDafeqJbBx2+MmoDY7rnxkThmd6jYXcw1wFp/KA9bcAXxexheD3Y7+Bp3t9DhsP2ff7yGMaO3Xjfnix90gYNCdN+Tx5srk4uB8PTINneo2Fw6fVWcA8sti9B3p/Cb/uNREquCPgilpmOH1t79XSxzl4ug4e6zUVnhg0X/8NL1YDlO7U/72U0dps/n3zFrbYw3ii5iLcbiyEp3t9DrUN8iPghqYWyxPxTL19m98PTYUXe4+EfSVOuyIU77IPGAvyjsNTvcbBB7PcIhhTR8SIQSWNF9jfgjOavO9IBKBsl/PvUVsbQOku82+s2yopnpAAJAEIkyZNglAoBFdeeSXce++9sH27d34l0i4LqPkSwNDvAqRcBbBrLrsu7W3275m/YP8+mcf+jZf8L5lQwX+jIOGvqy1lv4Cjb2T/3jhK/Rwy+zgff/7z9tcu1gAM+Lbz69Medj9GfSXAwP9l32Ztf3b9pjHO+874uX2fle86v5ZyFRMUftm7iN1n8H87haUKx+sxkgkq/L5HsgAG/T/2v1e+575/yXr767zoXPpndt2Xz7rvM+3H7Gvhf/r/uWrL3K/H+ZP2dccVecC757GvD/s+E6UevDZzC1T3/77z9S/WHJGlPu1+v1KuAhjy/zk+FGBs3ccSkaPk0nloGvC/AVKugktDQuxDkMDeU+fhNmMRNPf/L/Z9i9ybPdrbqKZBAQCO7uN+TwRBvdG0avnF2BzFvQHyJ7wEkHIVlI5+SH6DdQPZY4+73fUl9F98dIx7nZcMvhMg5So4lfo35ffGaLV7hzo38bKBN7DntNRgVxzLcfwtyDSPjh1G4m1tcHZACCDlKji6YpB1dX+z6jZmjXxzrxrzI/uxy/Olt+FBO5O7BmfB0ZSbAFKugnMrPvG8H4DdT9oH2wkaL8Dl/v83QMpVcH77Aut2NVw1ra3N/cHg+M4M599GGW2tACOvYbfZMs7X87P45kP130aBOwaugZARhv2l56Gifwgg5Sq4vH6E8vY48GEN+FQWWj/LpQkPOG6LbRSyKnr+ggEAKVdB3aD/cQlcrwl8F7N+Zb+epxR76o4Z5t+j/2P/PudNt++X0cvf94oREoBJLgAXLVoE3/rWt2D27Nlw4MABePPNN+Hb3/42VFX5q5C0ywI6f8r+hVjTj1039Hv2dQBM8PEbblYKwK45nEjIZrfbNde+7tgmgObL9r8X/kH9HKY97N7UkbLd7q8N/Z77MUSRit9vyWvqxx7+f9xf2zHT/2u3frB9vxoff7haGu3bL3iJiT7+NeWfx4ir3ffn/3id4I7SZD+b+LXPb/X/cx3f7H49jm60r9s1R36/Nf3s29SrjxGRT+ZkuV//bVPUdxjb0xQ2twFMuo9d8MPBGXvoYprCq04Lt6lBylXSKmbJmQvweK9J9m22jHfdBqcsZVFxSNmmVPsxDn4j3J/1kvXsr77/5UHfVb/fAACzH7e/LlQpz11sstIfXIMQ5n0aRt2i/N74/Bw/XyRi3bd2svkBa8dMxwcGFJ6OLOmmi9Ztqma/bF0tq7rxNA7m/j7tW6p8rkgVFweH97s8SSGeBVy+hzUl1mNcyBxs3Y73gJRNWJdnTXT+bZRxuda+zQq1CJcy9hb9muDA49u84nLrPs0LXlbe3hUReOBr635tg7/juC3GKcpsjI5Nf8l+jkKlEmPnxGETJaOutR9rz1fy26Qb3N8js8K8+mP7uvnP+fteMUICMMkF4L333gvvvPOO9e+2tjb47ne/C8OHD/d1/4QtoNYWJkZaGtkxDf5CfPMhu24ot8G0NAJsm+rcHFd/DJDL/UE7uIrdbiu3ORatZpuoJXhetL+neJn6kFsI4Nd44YGXgf/L/RjFgpiY9xS7fvEr6sce9n3317aMUz9P8ZLRy75f2W7v2184Y9/+qxcACtPsf3/9jiAAQ+7789XMw2vs62U/m/i1sT39/1yH0t2vR5G9eULuRPn9sAqBgszj+4xdlO5+/TeOUt8H/+hXcPYun13Privdad1uZnYR9DDS4OMF2/3/zCe3OZ9H9RHXbarO1sLzvT6zb7NhqOs252rroYeRBj2MNGi6fEn6vcrXcb9PexY4vtbQcNG6f92FC9L7Nw78f9Xvd0sjwKxf2l+/XOf6+rupW6GHkQaD0vKla+XSqJuVr1NZ9XnoYaTBzX1W2tc31lv3rZv0CLtuy3j7ORxKh+zCU9DDSIOnx2+w71d32rrNmVm/t66ftLYQehhp0HfpTulzaBn4v+3H3jnb871tabwE1/dKg+uNFdb9Gic+6GtdpG4+DD2MNHg/dRu7rjzfeoyL3/Sybnf5UoP1vtVL3reK9JHOv42y78d/GF/2hv+129IIMOYm/ZrgLr8Zsw56GGmQs9v+0NPy1YvK278xazP0MNJgWV4Juy5/vnW/SMr/xT7om7cduGI39DDSYFzGPtfjHJv2e/s51pY5vjY2fR/0MNJgwAoff0dbGp1Firzp8tvwJzzVxew6PN1KuQpg9q/t2ybgOJgEYBILwKamJvi3f/s3SEtz9qm8+uqr8OSTT0rv09jYCHV1ddaltLQ0MQsoe7h746ULXbrKha+2jrut458PXehCl659yfZXlIkGEoBJLADLy8vhiiuugK1bnVNvn3zyCdx7773S+6SkpMAVV1zhunQKATjgvwCWv8X63Tr6l1V3Wfq6/GiXLt3jMuFO9okd4auOdKELXegSy4UEYEIgARiFAGy3CmDzZdZvYl3q3Ne1NDr/jROm/O2aGtjwg3g78TrxsWQXvI3sto31bFil6SJrHlY9BvaVtDT5f+yWRvYzNTWwi9fzFC/Nl9nrF819+OfReIH7vnX2cYrqvrLX1+s19vP6u17LC+7XQ3ZdwNejreE8RNra2OM2X/K+T5skLF74fvOzC6CnsQQ+Ss2J6mf+R+omCBnfwIKcfcrb9DSWwM3GUnacqLjNY8NWQU9jCew5ckL69QPHTsGNxjJ4eMg30q9/OG8j9DSWwNwNe6VfH7J8G/Qw0mDi6l0xv+f3918BPY0lcLzstHXdC+My2dFgQYn2/eppLIGexhKoqTljXf/bUWHoYaTBrkPHpWs17+Ax6GksgSdHr3Y83jNj06GHkQZbC49Z163eeQh6GkvgtalZ0ucwa90euNpYBb0WbvP93r4xfZ31vHsYaXCC+7l1l6z8YuhpLIGXJ66xrrvFWALXGyscPz9croW7+y2HnsYSKD1dIX3PbzCWw08V73k0713Q+70/Jxt6Gktg1ro91utxuf6c8vYpS3Khp7EEpmXmW9fdN2AlXG2sgqOnyhy3XbalEHoaS+DvMze4HmdhDjvm/cfcja6vbdl/FHoaS+CZsen+f178u6G7jezvUUsjm5oWbxdnSAAmsQCM5QhYhBYQQUQPmtf6NQpG/val2sICwUb/kBFW3gZNkVVRZjhJe9/QddKvY+TcPxbtkX69X5o5JbtWnTbihSx6S5bKIQOzcE+dtW2HvPJ7cTr6kdHZjutl/oGbi5ndzmNj5RP5OOUts7JRgR6PePGbOYtT2Y+PY4MbfHyamJ5x24A1pqel2xHA6z1vTzDx5rPMQ9bP0tgi+WBlggMaozJt38lbUzIhZITh6Bnnz8pb7ojM0yS44OujSlLpitD+ncQCEIANgbz77rvWv9va2uB73/texw+BEEQ3Bs2Y//alv6gw5K+ppgDUeJH5EYCYB/xNQbn0615iYN3BSq0AQgE4NoAAfMQUbHlcIojMlFnG7aaNSHGlPcmJCSNiNBii8g+UCUA0ylblLU/OPhK1zQ/mJ+PlZI3EM1OCKFz5+LSzQnqGLmZuXyl7z+8f1vECEJNkMPs6ZIShuVXtOyibyu7ZnwlAMVIQE0/uGOhORNEluJyuvWT5KMpsdLoitH8nuQBctGgRXHnllTB37lw4ePAgvPXWW/Dtb38bKiv9xd3QAiKI6JmfxwTgW6nqNA4ZfsxorzEtVHQCENMQFmw/Kf26lxhAU+Freq+WWor0TdsXWABa1b4iW+w9Pm6TtnKJ3G8muPDxfQ+PwmgwuQDcffIchIwwPDRyveP6x8ayrN1cTgDynnoyYRKL0TfaueCFr17q2HvqPISMMDxgvle8ABTj0x4czuxV9p5yxxoWlDofpyNZZiajYM5xyAhDi0YAohciH61486cZUiEtRs3x6BJcmlvbrN+titr4H8d2BLR/J7kABACYOHEi/M///A9861vfgnvvvRfy8vxnqdICIojoWWBGTv1FE8cm400z93V+nloA3tgvw1MAohnu9By5NyQKQJUYiEQi8EMzskwmJvqsYALw86zYBeAL09xVyl+ZAjDHQwBi9XD7MVvsqbJhERRSDw73FoBtbRFLDFTWucUARv0Zy/wLQBQ90QrAw5XOamSrRgDqqqCdSQDiz8RfdFU39NX8cLHdkoC/B+LrGIlE4IZ+dtIIj1fMIX6I2FrizqnuitD+TQIwELSACCJ6fEBSegAAIABJREFUMHReljmq4y+mAPwqT165A7B7n3QCEPNjRyuSLPyIgT/OzFM+FxSA47KKNT+Nnj9LMluxd9FLAMoqhQ+NXK8VgKpjb6xC5ZY4M4TvGeLuUUSwRzKarGfs5cNL6Tl/AlDM+G3hsnTF/FyZmEVUArgjaG2zRRpeIpJYQ0R2dItxcmXnL7luj0KYby8AAJi1mQnAdxQC8NVZ27WV864G7d8kAANBC4ggogfzdP88JzoB+MZcJgAXajaguwav9RSAozJZz1TKSnm2sR8xMCKjyHXshvSOgwB856vdEDLCMHuLneWNAnBTsV4APjslF0JGGDL222kvmC6x+6RcAB4oZ71hYpP/o6YAFKs+KDJlAynjLQHofm1UoADFi0y4yOBTRCKRCDRzArC2wZmvreuh7EwCEMAWY15rGcD+QPU69/t0XR9WoT1d634dMTnk6z1ljutnmt/z3QX50u+DwybDVmvyxrsQtH+TAAwELSCCiJ6l5nHfn2b7z90GsHv3Fu1QC0Dsf9NtmlMlR2Y8fsRAWn4ZhIww/H76VtfXei1nAnD8utgF4L+WuiO7UABuLnZXsHj+MGMbhIwwpOXbGzwKwHyFAMTBjjuFwQ6VAMRq0JKdp0BkXBYTgH0k4lgF9lXipdynAKy9ZPe0Nba0QlMLJwAvOQXg05O3QMgIw5pCdwzink4mAHkh6yUAv97D1uJLX2yzrtMd0ePE9TQh13fGpqMQMsLwnkIAYo/gm1G2bnRWaP8mARgIWkAEET3LdzMB+Mqs6ASg7FhUBHvddJsm2l2oppD9iIFdJ84pj4lRAE4IIAAHrGLVlhEZtrWHbCJXxhtz3UMuOACxR9KzCGBnJN8uTIf+bDTrJ9wmHBf+c/FeCBlhmJztzpQdu5YNJfRN8y8AeeGmqlx53a/2UrPj33WXnQLwebOvMlxw2vU4+eYQTGcRgAAA9w31/jADAJBZWAEhIwzPTLZznK/uxe5XVe8WgMPSD0or4CgA318oF4AbipiFzC8/z4nhp+l80P5NAjAQtIAIInqwevbyDP8DVwAAr81mVafFkqoTgoJFt2kuMY+gX1UIUBQDPxqhFgPV5iTs1b3cHm29lhcEFoDoAdf/aztXWdfDxiM7PtZNwAIAHD1zAUJGGHqmZDquVwlAFBEDVx0AkTGmAOyXtt/1NR18/6bfSdNIJAI/QLFTdxkaW1qVAhD7NvnKKOLnPW9vcL17CUCdF2K14IUIYFfyxA9AKAA/UAhA/JDQs3+mtiexq0D7NwnAQNACIojokR1Z+eFPs9XHjghOyuo2zXDBaQgZYXh+qvv4FsAWA6IlCk8kErEa7cWBBWMZE4AT18cuANFLjzdTVg1kiHy8xF2de0BiDcNzouYihAx7mAJ5ZLTbjxDAFguyfrExa5h4/fTr6AQgmlWrji5V3GRanpyouQiXm20BWC8IQF0FWWWD05GMNPtMvQRgNF6IAAAZ+9n6f2rSFsf1X+Sw91RlcM6/tqK/YFeE9m8SgIGgBUQQ0bNqb7myf04H9p0t3VWqvM2TEzd7bpp4lPWbCe40BAD/YgAHTooqnL//sv69aJGlMqj68URwynkMN+WMvZH7St1TuwAAp86yadrr+6Y7rpcZUgPYIv7F6W4RP9oUgKohGxW/M4dXsJrnlztNS55DFfUOkXKhscVxO52PZGcUgKv3nfYlAMWpdd0kNIDd4iD6XE7PMXtjFQIQwDbT7g7HwLR/kwAMBC0ggogeqwI3LToB+IopAJdpBCAvIlRsU8SeIdjf9+ORG6RfR1S+cvEQgDgowx9Tq45jRYatZsezQ8L28Sz2k8lsWwAAys+zpIfr+qx2XC/zFAQA2HKExcE9OsadhuI1Za0CBZqqd00Ff7x9qckWgBcFAfjuAjb8MGvzMddj+H3P25OmljZ4dkqucigDEb0QdYMwAE4j81bOX1DmJygyPL0IevRJ7xaDILR/kwAMBC0ggoiedLOy8dzU3Kjuhz1cy3erBeCL07d5CkCsmKiSPlAMPDxKLwZkaR0AAJ8s3RtYAMpeo0d8CsAxkiEMWbYwTyVnp8KjyhAuLGe2LfdIsmHx6HLAqugEIA6WqHrXVPCvCy8AG5qcAlB2NI50RgHoF9ELUXcMDsB8BmWpHl7T8d0N2r9JAAaCFhBBRE/Gfja1+OyU2ATginy1AMQqoU4AYjP7bQPceagAALtOnPUlAFFsrtzrzBTWCQ2/iI39AOp+PJEp2Wwj/+diu39QZ9wMAHCm3o534xv8VQLweDXrGbylf6b4UJZHomxARAcaaIeMMNREIQD5hJSGphalAOwvORpH/L7nnRHRC1FXBUXQGJyv7MrWTXeG9m8SgIGgBUQQ0bPGtK14evIW7xtzvDxDPcWJoAWKTgCWmcedPfqkS7+OYuAnHmJAlUyCAnBKtjxqzg87j7sFieo4VkSW6Xq3KQALy+UC8OzFJut1448FVcfcVfVMdFzdy51SMTydCcDB30QnAAd9c8B6DrLhBRVPTWL+fmsPVMLFRlsAXmpyTmfj5LLsecle765C3WWnFyL/GsiyqgHs3yV+ol42eNSdof2bBGAgaAERRPRkHaiEkBGGJydFJwDR4FhMMOD5+/xdngLwHCd2WlrbXF9HMeAlAD80M4VFQ92P4iAAMZnjrsH2EauqGiciS4ZAAXigXP63qrbBFhFNLfZrohKAWqEl6UH0A/YOhgx3jq8OTLb4pqAcLmjEz+dZ7GhcZlDt9z3vjIg9f/WCIJSB1dbPMu1q6KQNTAB+TAIwaSABGABaQAQRPTiF+8TEzVHd76UvvAUgphzoBCDfIyV6xQEA7DDFwE8/y9Y+H1WmMPayTd0YuwAU+7oA1GJMRGazg9ObB0/L/1bxooEXTg+b33PXCef35K1GxH69oaYAHBplZBhmCIcM+fSqile54SDVzwGgH3Lw+553RkQvRD4dpVnyAQfA7vfjLV9QAH6ylARgskACMAC0gAgierIP6W1YVKh67njw+FUnAMUNUwTFwCMeYkA17YoCUKwMRgMaTYeMMLSZR7IqMSaSKTliV1nWIHzvHN83hskqsu+J/nsna5w+iEPC7Cg32sxY9KELGe4cXx1vckfx4nEoj8xaB+nKAhDA+V6cUxzn8+CUOZ/GgwLwX0sL2utpdyi0f5MADAQtIIKInhzJgIMf8KhvlUYA9uYGCXTc0p+lTsgMbbcf8ycAVU3zHy6WHw1Hg6yR3xZj8jxfBF9f3quN98qToaqK6r6nqqo42OzlG55e5LqPjlRToOFRpl/Q3mX2lmNaAYgJMK9JMqj9vuedFXx/D1fWQ80F+UAPD1bhfz3e/h2cuJ5VYI1lJACTBRKAAaAFRBDRs7m42iVQ/PDCNLvXS0XKykJfAlDXEycmK6hI3XYCQkYY3kp1eqJhb+D0nNgFYCQSceW54uTm7pN6AbhD0s/2Q04gyGhWmAfrvqeqIjlwFROAfI6xHxabAk11NK8Cey6nbixxHH/yvYwAAN8UqA3Iu7oA5L0Q+YluFXslZtB4BN9rOQnAZIEEYABoARFE9OSaJsK/GBudAHzeFIDhgtPK28zNPe5LAOqOU1EA/sxDAGKv3R9mONMw/mEKwC9yjmrv7wVWKY+ZVcofjfAnAPeXMY+++4bam/sdA9dAyAhDsUIA8j19vAWLTgDy9is8A1YxET4ySgG40kyICRly/zoVONDwedZhxzCL2P+27qB6+Miv6O+s8BZBVQpPR57Sc6zHtEefdKtKON4SgO4hme4I7d8kAANBC4ggomdrCdtsfy5JkdDx/FQmAFfvUwvA5tY2GLb6IGwqPqO8DQDALz/PgZARlt5um08BiIJCHGZBAThjUzABKHr3oQDM9xCAR6ouQMhw+hzebgrAI1VyAQgAlnDiUzh03xNTVzL2O98PrMKOyoxOAKI9UMhwx7jp4CuO5xvUE974weOxse5155UO09l53BTjGw+fsZI+ru29Wnl7vsUAxfa4LBKAyQYJwADQAiKI6JEdUfrhualMcKRrBKBfnpnMvOMyCytcX0OBKos547GqRsKxIU4iBxWAou8fHvPtOXVeez8+6gsHSG4b4C0AZekQOgGoiuZDAShOR3uB5td836MfeONp3QCELu/Xr+jvrDxrivHMwgor1k/lc4lc3zcdQkYYTp1lQzxok9NbYpPTHaH9mwRgIGgBEUT0FJvZpbcPlCdxqLArTm7RFi06U2m/FUr06rtbiEN7P04C0IqaO8Si5vg+Lx2NLXZ1B/v5bAF4QXm/HqYgKDt/ybpOJzr/9iXzXEzdetxx/aeaxA0dKKhDhjvFQwfv78cLwDZBAB487fZWRPyK/s4K75GJx7vX99ULQGwLwL7QsWvVPondEdq/SQAGghYQQUQPNqlf3UttUyFDV7WLFlWKBwBAbkm1LwF46izbaG/o59xoUQDO3Hws0HMUex4fGLYOQkYYCkr1AhAAoKfZP1hyhgm+W1Oc/5ZxY78MR0UIQC8AVX6H/dJMAbj2sK+fE8HBhJDhNpfWgdPYHy3Z60g0EQXgiRp1fF1XF4Cvz2EJOIt2nLTW5Y39MrT3ET9QyDKkuzO0f5MADAQtIIKIHn7iNJrEh6dNAbgmDgJQV6VDASjrFePhq038wMF7C+IjAF+bzY5YMa7rflMA7iuVx7nxoH0Lmkb3NAXgUY0AlFnj6KqOqkpf3zQ2lDE2SgF4qKLeej1VEWYyZm1m0XfvLsjXWqDgcMQ1vVe7vuZX9HdW3p6/G0JGGObmHreE7s2f6gXgz8zBka0lLFt6zJpDEDLC0C9tf3s85Q6H9m8SgIGgBUQQsSFWqPzAZ74GpdfyAggZYZiwrtj1Nd2wAI9KyKIv3ayAAvDtr9imPnsLe5z7hjIBiEMhOvC1wmppT2GiWIasSqirOmLm7yAhWxencsdluV9bHShcoq0Azs9jdjxvztvpMNAW4T0CRYsYfM+7qgDkzcePVbPXsaek0sljtRgUsRYDFICffk0CMFkgARgAWkAEERtoL+KVasHzpClqsuIgANGqROZVtyUKm5ob+jkb6QEA3hGEW6x8spRt6pM2HAEAgHuHZvkWgHgkOD/vBADoja8RmVWMTgCqfON6LWcCcLxEXOtobm2D2weugfuHrXMd3+rAVItXZ23XeuDxgl00mvYr+jsrvBVOyRk2BX5ril4AilP1o00B2J8EYNJAAjAAtIAIIjaemLg5ajH3pHmfdQeDC0BVjBuALQD9GFWjoXRhuS3KUADOCSgART+9aAQgpnFgNedmMyrsRI1aAMri4nTHzjPNo9f3FuQ7rtdVV71oamlzVee8WLXXNnjm+0tl9OjDBHs5N+gCYL/nXVUADuLSV45U+RuywinupeYU92eZh5S/E90R2r9JAAaCFhBBxAZuPkvM/jY/oGhcXxRcAOqC76NJKkED3m1Ha6zr3o6TABQ35HskYlMFb6pcfv6SMreXR/b4eOwsE4ALt5+EkBGGN+bucFxvLGMCcOL66AVgLKw9wPwYn568BarqL2sFoCoTOZqqb2eEXyuHzSn7Owet1d7nrVQ2CJW6jVWJdR+KuiO0f5MADAQtIIKIDRzCiCYu7bcTNjt6loIwewurXr391W7X1zYVu7N0VWBVku9L5BvygzA5m4nUj5cwkaqLrxNBL7iQwfzxZBO+IrJqn67vEEXmi9OdSSj/WlrgOLpONHy2tFcKBnor5nGCHSD2eMLOAub49lpeoLW74RETa0ZmkABMNkgABoAWEEHEBm420eSOir54QViRz/rGXp6R5/oaCsBfjdvk+TjoJ7h8t22GjAJwnuCPFy0Ya/f2fCZS7xrMBODB0/7+3uCU7nNTc6W9iiIyyxfdsbMVrSYkoXxsZvNOzm4fAchH91Vyk74yVINEXV0Azth0FEJGGD5YmA+F5SwK8J4hegGIvZo4rIOG2gNWkQBMFkgABoAWEEHExup9pyFkhOE3E7xFFvLr8UwAZsdBAGYfqrKqRiJYUfIjANEMma/2/X3+rrgIwCU7T0HICMOfZm8HAPXxpQq0Vbn50wxX6oMMtI7ZdcJO/dAJQJV33kemAJyS7b+6G4Q9pn/gj0as94xBE/vekGiqvp2RL7exSei3UndKs6Bl8H2DAPZU98BVB7T36y7Q/k0CMBC0gAgiNjCvVmbKq4LPOw1KQSkTDfcPc2+SG7kjRS/ESV0AdUJGtKBIfm5qLgAA3DmICcBDFeo4N56mljb4Qa+wdRQcMsJQek4tAH9qHo/uOG5PZuv6DvE1fEB4DVUG0YmCP/JEAXhdH7kAxAEd0aIHRX9XFYBp+WUQMsLwx5l5yvdFROwxHZZ+EEKG29anu0L7NwnAQNACIojYqOc82fzGfv3KFIA5cRCAp2svWZUiceoUBeCvx3sLQKyiDEs/aF1nCUCzuT5WRCH6Q1MAHq70JwABAB4etcEhAMuE6Veen0kGWnQCEEX8bQOc06YfLt4TdX9nEI6atic9UzKt91UlANEuRTSpjqbq2xnJMgdhnpy0xaqIPjjcnXnMIw5CDVvNBOBgEoBJAwnAANACIojYiEQiVvas7liS55ef50DICMOm4uACMBKJWPm44vEmHg/7EYDjsrD53o7P+mtqfATgzuNnIWSE4SejNgCA3KfPC0wTwYtof8Lz2NiNEDLCkHuk2rpON3iiElvicEGiKTMHXnr0TbeGX3r0kefgjlAMOkRT9e2MbOP6IHefPAchIwwPjdQLQD5BBcAWgEPCJACTBRKAAaAFRBCxg1OnspgxGSgANxdXe9/YB5i1m5Zf5rgeBaCf/sR5W9mgxl9Td1nXob3GlwEF4IFydrR5t9nMH4sAHLjqgEMAnq5VC0CZwMbBE5kArL0kT9b4QBOzlwj49I/Scw2WGJQxPafEGpbg6eoCEPv+7h2aBbtOsA8OD5sfHFQssGx8dgIAwFBTAA5dfVB7v+4C7d8kAANBC4ggYgeHOvzauvxiLBMoW47ERwDiUaU4rbohCgH4TQGzQnl+6lbrujfnMQGIKRyxIma63m4KwCNV/gUgDgfgpaL2svK2siEb3eQxn6xxvsGOwtPlLCcCvp0AUzCuVwjA5bvZ9PcfZjita6Kp+nZG+LWyw6wc//SzbO19sG8QX4shYbOdgQRg0kACMAC0gAgidv44k1moLBMmMlXIjiiDgNFXfdP2Oa7fUMTEwG8nbFbc0ya3pNo6ekNQAH6VdzLQ8+NTLdra7CPrI1X+85Mx4gwvlXVqASgz2vaaPMZjfL638L04ZSH7panFFqJogXJDP7kAxGlf0fC5qwvAGq4KimvyEW5NysgsrICQEYZnJm8BADs9hgRg8kACMAC0gAgidvCo0G+v2M/HbLQ2uHiA1TE8AkNQAD4x0VsAotXKHVzs1l/iJAAbmlqsTf1iYwvcmpJpVbn8UmymQuClSiMAZR55XgJQdiwdryxkv0QiEbjanHbedYL1v93YL0N6W5wYFlMyoqn6dkYaW1qt9xiFnWjPIyIOvsgGmroztH+TAAwELSCCiB3MukUfMi8eNQXg1pIa7xv7ACcnxUrf+qJK3wKQr9K1tkUAAOCNuUwALtgeTADywqaq/jL0NAXg0SgEIBoj+xGAz07JhZARhoz9FdZ1XtYzMvPoeEXhRQNmHaOhs0oA8u9XS6vdt4iiv6sKQAC7Gov+kV65xjuEISPsF/X7+9jVof2bBGAgaAERROxgfJUsj1cG2pSIMV6xsq9UnpigSriQ0cL1wVVfaAQAWwAuDCgAAQBu6c9E3/Hqi9DT/P9j1Rd935+vIqKQVPH8VDYUs3rfaes6LwEoO5aPVxReNOC0csZ+Vv266VO5AGxti1jeiLwYjubYv7OC79VMc7rXy9OQHxwBsD+QjcggAZgskAAMAC0ggoidr/JwCnGHr9tjjuv2Y2e9b+yDqnq7OsYPPlgCcNIWX4+Dwxnoz/fG3B1xE4C8Dx8vBv0SiUTgmt6rrZ/zTH2j8ra/n84E4Kq95dZ1Xt6DsmNjTEIJaoQdDT8x/Q6X7Sq1hiFU4GAL720YTdW3s4Kej2PXHnYc7arAgZlbU5gZe8pKJgBHkgBMGkgABoAWEEHEDlZrnp7sT2jJkiqC0NoWsYTR63NsEcqb6vrhEbMyiUfTr89hAnDRjuACkP+Z8ZjzRI1/AQhgC1S+SinjDzO2QcgIw9d7bFucOwRx6+c+8fJBjAacYMb8ZF3CDNrd8KK/OwhAfA1QyHkdZ6NnIvo44v1GZZIATBZIAAaAFhBBxA4aHf9ohN6wFsEqz844CUAAgFRzEIQXe2tNAfiUTwH43FTWOxcuYEenKAAX7zgV+Pnx1iyxCsCHRq63BGCNRgDiVPby3fZUtpf3oGzgJV4+iNGAx9eTs1m6RU+NAMSfk88DjubYv7Pygulr+aFpxO0lZs83NFnrorm1zRKAn2Ueaqdn3LHQ/k0CMBC0gAgids5etDegusvNnrfHI65dJ+InAHFqlBehKAD9ViZR8OCR55/jKAD5vrybTAF4ssZfcgqCGcohIwxnLzYpb/cnMzVkyU77eXt5D8pMn+PlgxgN+NxHZRZ5CkAUSHxWsVX17cICEFsP8L9eFezLzfbkcP3lZuj/9X4IGWEYvYYEYLJAAjAAtIAIIhiYBuJH1P14JArAc3H7/migy0+NrimM7mi6X9p+x9EZxq8t3hlcAPKPdWM/JgD9RuchmHgSMsJwTiMAZUfXXgKwt5mtOy6r2LoOq4JBp6CjASePsYrVM0UtADHxYhCXeRvtsX9nBMU4fmjwWr/ilPmnpgAcQwIwaSABGABaQAQRjN9NcR6f6sCjzN0n4ycALzQ6vfYA3Aa5XuCx44eL9wCAvJIWK+ipN3PzMbihX3TZyQgKu5DhTOwQkR3neplPy9Ij4jkE45dPlu6FkBGGfy7e6xhskPFFzlEIGWF4n4uDW9sNBCB+EMEex2en5Hreh28rwPuTAEweSAAGgBYQQQTjbU7gePGjEUwA5sdRAEYiEUtY4dEqCkA/GyiAHan14nQWqYUCcKnPhBMdaM0xLP0gXG/6vJWei04AoogMGWGobVAftcuGN9B8WiUAceKUT1OJ5xCMX7Dyhz/DbQPWKG+Lk8J/nJlnXRdt32dnZEQGO/5+wKyqPzfVe/3yRt9901g1d8zaw+3wbDse2r9JAAaCFhBBBAPTB/wE0MtMh+MBPi5WFnE62a8AzDtaAyHDNtR9dVb8BOC0jSUQMsLwwcJ8aeyaH7Aq5iUAZf59Xukj03NKrMEDJJ49kH75LPOQJepCRhhuH6gWgLIKb7TH/p2RSRtYJRqres9P2+p5H/5DVR/zOH8sCcCkgQRgAGgBEUQw8DjuvQX5nrdFobY3zgLwSTMDF73sUAD+zqcAPFnTACEjDNf3TYdIJAKvmALQb8axjq/3lFmbeY8+TACWRykAey3fZwvAS2oB+K4kw7enhwDEOL23Uu04vdfieATuFzyGR19CnQDEfGQ+KaM7CMB5W49b73PICMPvp3sLQD5eEfs5P88iAZgskAAMAC0gggjGyr3lvqsVeLRVUBpfAYhHlji0kLH/dFQCkM9hPXuxyRKAvJ1KrBSW11o9bdf1YYbOp2ujE4B4PBoy9NPWsoler/i5Ffnu49R4VkD9gqbiaBV0h0YAFpSet45KkWj7Pjsjy3eXOgTgS19s87wPfvhZX1RpfVDgB3q6M7R/kwAMBC0gggiGeHyqAyeG95XWet42Gj5awo5IJ2cfAQCA9H2nffdQIZgusb+sVuqnFytNLW1W5Q8v0QrAYebUa8hgdh8qPlzM7FGmcfYoXvFzMuEUzwqoX/A9wyPrHw5aq7wtJmDwk8JY9e3KAhAnmfHy8ow8z/ugd2C44DT0Wl4AISMM49eRAEwWSAAGgBYQQQQDbVhu6MeOT3XcN3SdJbLiCfYhDktnfYgoJp6f6l2VRJ4wKylZByotAbgiPz4C6LcTNjs29opadZ6vjNFrDln3vWBOOsv4WBDCAN4CcHMxO07lc2fjKYD9ss38IIGXOzUCsKqORQD+oFfYWnPR9n12Rg5X1jteA74qq4KfWEcBOIEEYNJAAjAAtIAIIhi8Ga1uQAEA4N6hWQkRgBPWFUPICIOxrAAAAFbHIAAx//aLnKOWAErLL/O+ow/4Hr6QEYbKuugEIP58IcO2upFhLGMCYOJ6WwB45Q/vPsmMtB8aaRtpx/vn98OhCqf4uWuwWgA2NNnWPw1N7PXAY/+uLADFavGrs7Z73udvX9q5zbL3vztD+zcJwEDQAiKI4KDZ8KEKudkwcs8QJgALy+MrALF5/m9f7gIAgHDBad99iQiKrH8s2gMvz4ivAML+NrxURSkAcVKXFzwyZKbOOFGqEoAovPiKmywfONFgVc+PAIxEIvCDXs7XMtq+z84KXy1+bba3AMRUlOk5JfCvpSQAkw0SgAGgBUQQwUHj2o2Hz2hvd7cpAA+Ux/f3DSdt0ccPBeALUQjA9UWs/+qxsRvjLoCOV190CsD66ATgnC3HrPteampV3s4yAuZsQLzyh0+dbbCO8JGXvmh/AdjU0iYIwCzt7UV7m1j6PjsjeIwbMsLw+pwdnrfvw4l+NNOetOGI5/26A7R/kwAMBC0ggggODg14RafhoMXB0/H9fcs+VAUhIwyPj9sEAADfFJRHLQAralkF6preq+GZyVviLoDwqC5khOFMfWNU9+UriJeb1QIQp4U/y7STIG7yEIB8nnNrG+une3E6E4Ar95ZH9TyDgsfVISMMdw/RC0CcKEdLodXdRACiLU/ICMNf5u30vP1gs/91eHqR1QNKAjB56JYC8Pjx4/D666/D1VdfDf/+7/8O11xzDfTv3x+ampwxSAUFBfDQQw/BlVdeCd///vdh5MiRUX0fWkAEERysPHg1n/OpBfEk3+xje3A462NbZVrT+PFRQyKRCNw5iD0/rJrFUwBh4kbICEP1hegEICZfeAnAgauYGBjNQa/pAAAgAElEQVSRUWRdhwIQU1JE+B5OnDD+/XQ2WfpNQfsKQDQ1DhlhuMdDAD421vS/O1INALH1fXZG9p46b70Gb/oQgDgg1P/r/a5p+O4O7d/dVABmZGTAa6+9BmvWrIGjR4/CypUr4b//+7/ho48+sm5TV1cH3/nOd+Dll1+GwsJCWLhwIfzHf/wHTJ8+3ff3oQVEEMEZY25CfVbs094OBdbhSn2vYLQcM49Yb+nPbEFQAOKRsF+w8oWXeArAmZuPxSwAsaLpJQBlub439mMCUJU/HIlE4Jreqx3DKc9z1iLtCZpAh4ww3DtULwCxSptZWAEAXN9nFxeAvCD/19ICz9tjesgnS/daiTFTsks879cdoP27mwpAGaNGjYIf/OAH1r+nTJkC//Vf/+WoChqGATfccIPvx6QFRBDBmZ/Hjq3emKvvWbrDHBYpjrMA5I8xm1vbLHPqaAUgJmngZVUcBeCSnaesx62JUgBiykXICENji1oADktnfoGDvzlgXeclAAHcZtHPT2UCcPW+9hWAb3OZx/cNXae9rWjVE8vgT2dlz6nzkLr1uK8PCrPN/tB3F+RbPpBTN5IATBaSRgD27dsX7rrrLuvfr7zyCjz11FOO22zYsAGuuOIKOHfOX9g8LSCCCM66g2yA4jcTNmlvh9PCR6riKwBbWtsc4goFoJ8kBZ6+aU67lngegWZyIu7sxSbvO3Bgj2PICENTS5vydiMziiBkhGHAqkLruhv6pXsKQNGf8bmpuRAywpDezgKQN7z2EoCY/rJoB0t/wSppdxCA0bB4B/tg8drs7dZE8DQSgElDUgjAI0eOwFVXXQVffPGFdd1jjz0Gb731luN2Bw4cgCuuuAIOHpQH0zc2NkJdXZ11KS0tTfoFRBBB2V9W66tx/7YBKADlsWRBQMPjo2cuWFPB0QpAFFCJEIC5JdXW456LUgBuLbFNkptb1QKQ7wdDru/rLQAfGZ0NISMMeUdrAADgd1OYAMzY374CkM/CvX+YXgDiUM28rccBILbBn+4A73/IW8IkAyQAu5gANAwDrrjiCu2lqKjIcZ+ysjK49tpr4Y033nBcH4sATElJkX7PZF5ABBGUM/WNEDLCcHUvvUARrTviyYPD2QBB/slzlgD8w4zoBOC0jSUOARjPHjgUySEjDOcbohOAu06cs+7bonl9cdCkb5rdi4kCsPScWgCi99yGoioAcPfXtRdoxRMynDm/MsTc41gGf7oD+MHi52M2wj9MAfhFzlHvO3YDSAB2MQF45swZKCoq0l74nr7y8nLo0aMHvPLKK9DW5vzDF8sRMFUACSL+tLVF4Lo+bJCg/Lw651bsNYsnvx6/iYmYQ1WWAPSTpcqzcLvTsDmePXAnaxqsx/VKTBHhxSNatcgYb5pZ91puC8AePgQg5slixfNpUwCuaWcBeKTKTgPBiW4VoufdyiQVgLg27hmSZYliEoDJQ5cSgNFQVlYGPXr0gBdffBFaW92NzzgE0txs/zHt3bs3DYEQRAeAFbjdJ9X9t165tEHgzYvT8mMTgGglkggBWNvQbD1utFPAJWcuWPdt0whAnAjlp0dRAJZphPmfzX66xTuYjyNO4649UBnV8wwKPwHLG1PLEE2vYx386erwRt7vC1XR7g7t391UAJaVlcF1110Hjz76KJSVlUFFRYV1QWpra+E73/kOvPLKK1BYWAiLFi2C//zP/yQbGILoAPDYUDc44JVLGwTM8p239TisyGe+eX+cGZ0A3HKk2iEA4z0E8cnSvfDugnyIRNQiTkYkEoG3v9rtqOzJmJLNjrA/WrLXug6zZXWV2XfM6dvZW44BAMCTpgDMamcBCACO11/HIM4AGcCdBpMs1F6yP1j8NXUXCcAko1sKwDlz5ih7BHl4I+jvfe97MGLEiKi+Dy0ggogPKMBmbj6mvI1XLFkQMEJr/LrimAXgvtJahwBp7yGIoGBm8IeL9ljX+TmaxwxZPE59ciLrCVxf1P4CEI2rvQSgOPEc6+BPV6etLQJXm7nI6GOp+x3sTtD+3U0FYHtBC4gg4sMYcwDhY676JOKVShEE9MAb9M0BWL47NgHI9+kxAdi+PXBBmbHpKISMMLy/MN+6DgXg6Vq1ABywikXIjTQTRMShkPbkF2NzfAnAz7PYekPz8VgHf7oDaK+E6SizSAAmDSQAA0ALiCDiA/rc/Wqc2gvQjylxrODx5z8X77Wi016ZtT2qxzjf0NSlBSCaAr/z1W7rumt7ewvAzzKZfUzKSlZN+80Ee6CmvXl5Rp4vASgedyezAHx8HHu/sMKOR/ndHdq/SQAGghYQQcSHsvOXIGSE4dreq5VpFX5MiWPlqzw2wfvG3J2WAHw1SgHY2hZxCMD2tkEJCvro/X3+Lus6FIAVtZeV95ucfcRRvcWJ6uwOEIBoZeIlADFa770FrNoZ6+BPd+Av83Y61u0cEoBJAwnAANACIoj4EIlErKi3faW10tv48aSLlYz9rAL59OQtsDRGAQhgW9V0hA1KUL7cxiL53krdaV0n5vzKmJvLhOPb81nlECtKOYfPJPw5i/BpIDrEnxX7PpNRAKasLHQIwLm5xzv6KbULtH+TAAwELSCCiB94fLdw+0np1/1YksTKnlPnIWQwA2EUgH+aHb0ARDubrigAF2y3q6CIHwGIOcX4ev3yc9aHt6m4/QXgrhNnIWSEoUdfvQ3M4p12BBoAxDz40x3A3k8SgMkHCcAA0AIiiPiB1Rs+iYLHjyVJrFTUXraOoDEfNRYBiNWvkNH+PnhBwZ/7z3N2WNf9wJwQrdIIQPQ/fH4qM1FGAbi5uDrhz1nGrhPntIIVwD31G+vgT3cgXfCvxHi87g7t3yQAA0ELiCDiB27KT0/eIv26n4nUWGlpbbPEDva0vRaDAPz99K3WRtoRPnhBkB19X+1DAGYfqoKQEYZfj2cDPDiJu+VIxwhAP2AG7u+m5AJAcgvAo5xReMgIQyoJwKSBBGAAaAERRPw4UsU2ohv7ZUgjy/wMJATh3qFZEDLC8OnX+12VML+8lWo31K872LUE4DcFLA3jhWl2HJolAOvVr/mO4+zY9aefZQMAWHYiuSWdVwBuKGKi9bcTNgMAxDz53R1oa4s4/BNTt53o6KfULtD+TQIwELSACCJ+tLZFLKuXI1X1rq/76UcLAhoYv2lORcYiAD9esrfLCkCxkgdgJ2voBGBhuZ0nCwDw6BgmALeW1CT8OccKprb8YmwOANjVz2QUgAAAz07Jtd7rL0kAJg0kAANAC4gg4gtGwk1cX+z6mp9+tCCg8HvCFIKvxyAAB646YG2kHZGEEQQcoHh41AbrOvxZztSr84ePV1+EkBGGW/pnAgDAz0ZnQ8gIw7ajnVcAilXLIJPf3QHMRg4ZYZifRwIwWSABGABaQAQRX3gBJfb6+REjQcCj37uHZJnTsNELwNFrDlnPsyOSMIJwqKIeQkYY7hy01roOf5bqC+rXvKqeDdBc3SsMkUgEHjEFYF4nFoAFpfbUN4A9yZysAhCnoHVT+N0N2r9JAAaCFhBBxJfSc3acmugj50eMBGHShiOOZvhYBCAmTHRFAYhm3GihEolEfL3mFxtbrNtdamqFRz5jAnDH8bPt9dSjpqiiDkJGGO4azMSuaGWTbFxuboW/pu6CF6dvS8iQVWeE9m8SgIGgBUQQ8Qf9AJfvLrWu48VITYIEIA4C2AJwp/edBNAUOWR0TBRaEGovNVvPvbGl1fdr3tYWsY7nK+suw09GbYCQEYadnVgAHjOPrXuax9aLk1wAJiO0f5MADAQtIIKIPx8szIeQEYbpOSXWdW1czNrZi00J+b44GICXv8yLXgBiJSlkdEwUWhBahdeYf829RPcPB62FkBGGooo6eNgUgLtOdF4BKFY7RWNoovtD+zcJwEDQAiKI+DP4G9YHOHT1Qes6XpycS5AARBuaIAJwNWeq29UEIADAzaYdyImai1GJbhz8yC2phh+PRAF4rp2edfRUX2i0frZIJCI1wSa6N7R/kwAMBC0ggog/UzeyProPF+2xrmtpbbM27PMNiRGAF7heNrSDiZYNppVKyAjDxg7Iwg0KeiHuL6t1VQR1PDeV2YiEC07DQyNZHF7+yc4rAOsuO4+7F+04SQIwyaD9mwRgIGgBEUT8wWNUPpWhmROAtQ3NCfvet/TPtL7PW6nRC8C8ozXKIZauAFbyPl6yN6qqK1ropG47YeUh7zl1vp2edfQ0trRaP1vd5WZLAMZi/UN0TWj/JgEYCFpABBF/sIr2+DjbkLiphROAlxInAFEAxSoA9546b91/U3HXE4CY4/vwqA1RVV2NZQUQMsIwfl2xJQD3dmIBKE44L9xOAjDZoP2bBGAgaAERRPzZX+ZMlgBwV2wSxR9mbLO+z19Td0V9/8OV9V1aAKIZ9F2DsxxVVy8BODKjCEJGGFJWFsIDw9ZByAhDQWnnFYAAAD36pkPICEPZ+UuWAIzF+ofomtD+TQIwELSACCL+VNQyY+Freq+GNjMT+HKzLQDrEygAP1y8J5AAPHXW9jHcXNx5s3BV4PO/vm96VMfuMzYdhZARhvcX5sP9pgDcX1bbTs86Nnqax/3Hqi/CAhKASQft3yQAA0ELiCDiDy88cPiAF4AXGlsS9r3Hrj1sfZ9YLEHO1Dd2aQFY22APRzQ0tfgWgOih+MeZeY5Bks7MXYNt6xpbAEZ/7E90TWj/JgEYCFpABJEYbh+4BkJGGA5X1gMAwKUmWwBeTKAA5AXQr8dv8r6DAD9JvO5g18oCBnDa7VTWXfbdd7mhiPVt/mbCJrjHjNIrLO/cApDvVfwq72TM1j9E14T2bxKAgaAFRBCJ4dExG5mv3BFWReOrUQ1NiROAAHbkHN+D6Bd+cCJccDoBzy7x3GR6AR6pqvctAPeYwy8PDl9vZSkfKO/cfxd/ykXWzc87QQIwyaD9mwRgIGgBEURieGHaVggZYVi5txwA3HmziQS/z9W9woHuv2xXqfeNOyF4hLv75Dnfgzcna1jv4I39MuCuwVnW0WpnBieeNxdXWwIwFu9HomtC+zcJwEDQAiKIxPD2V7shZIRh1uZjAOA8Wr3c3D4CMGQEE4BfbjsR52fWPqAVzsbDZ3wP3tRzxsropXioor6dnnFsPDlxs3VU/+U2EoDJBu3fJAADQQuIIBJDyspCCBlhGJlRBABOgdFVBOCMTUfj/Mzah6cmbYGQEYZVe8t9C8BIJALX9VnteO2wf7Ozgukl6ftOWwIwFu9HomtC+zcJwEDQAiKIxDBxfTGEjDB8snQvALijuxLJj0asj4sAnJ5TEudn1j78cWYehIywNRjhd/Iahz/wUtzJBeDLM9jPmZZfBqkkAJMO2r9JAAaCFhBBJAY05sVs1tpLtgBsamlL6PcuLK+FB4evh+W7Y+vhG5VZBD8bnZ3QxJJE8vf5uyBkhGGamcnsVwBiTx1ejlRdaIdnGzuvz9kBISMMi3achNStx2P2fiS6JrR/kwAMBC0ggkgMWQcqIWSE4bcTNgOA056lpTWxAjDZ+ddSFus2KrMoKuudl77Y5hCAJWc6twD825dM6KZuPW4JwL99SQIwWaD9mwRgIGgBEURiKCxncXB3DloLAADnLjZZwqLVTAchEsPgbw5AyAjDp1/vj0oAvr8w3yEAj3ZyAfiB+XxnbDoK80gAJh20f5MADAQtIIJIDHzP34XGFjjLCcA2EoAJ5fMslobyASfo/HgvDgkfcAjAY9UX2+HZxg5WOidtOGIJwL/PJwGYLND+TQIwELSACCJx3GGmgRw8XQc1F+yItUiEBGAiQU889GL06734Rc5RhwA8UdO5BWC/NFbhHLP2MMzNJQGYbND+TQIwELSACCJxPGH6tK0prIBqTgASiWXLkWoIGWHLENqvAEzLL3MIwJM1De3wbGMHj7qHpR+0BODb83d39NMi2gnav0kABoIWEEEkjjfn7bSa9M/UkwBsL8rOX3IIOb/ei7mmcMTLqbOdWwDikEvKykKYs+UYE4BfkQBMFmj/JgEYCFpABJE4+ptDCCMziqCq/jKEjNjj2Qj/tLVFoEff9KgFIJ8d3BUE4Lgs5jXZe8U+mE0CMOmg/ZsEYCBoARFE4piSzXzoPly0B6rqmAD8AQnAduHnYzZGLQB5q56QEYay85fa4ZnGzlTT5/DDxXssAfgOCcCkgfZvEoCBoAVEEIljRX4phIwwvPTFNqg0BeA1vVd39NNKCjANJJr0lUjEWTks7+QCkE//mLWZBGCyQfs3CcBA0AIiiMSxtaQGQkYYHvksGypqmQC8lgRguyB6+vmN33twuB2jd7q2cwtAzDp+YdpWSwC+uyC/o58W0U7Q/k0CMBC0gAgicRyvvgghIww39suA07VsMOG6PiQA24MBqwodAtBv/N7Tk7dY96movZzgZxmMnMNnIGSE4Zef58BMEoBJB+3fJAADQQuIIBLH5eZWS0wUVdRByAhDjz7pHf20koJJG47EJADfSt1p3aeqrnMLwILS8xAywnD/sHWWAHyPBGDSQPs3CcBA0AIiiMRyu2kGveFQFROAfUkAtgcLtp90CMBmn/nLfdP22QKwvnMLwBM1rMJ806cZMGMTM7F+fyEJwGSB9m8SgIGgBUQQieWXn+dAyAjDV3lMkFxPArBdyNh/OiYBOH5dsXWfM/WNCX6WweCnlidnHyEBmGTQ/k0CMBC0gAgisbw2ezuEjDCMXnMIQkYYbuhHArA9wP44vLT4FIALucph9YXOLQDb2iJwda+wlQaC+cdEckD7NwnAQNACIojE0mt5AYSMMHy0ZK81EEIknp3HzzoEYGubv/zlrAOV1n3OXmxK8LMMzm0DWIuBsayABGCSQfs3CcBA0AIiiMQywTxSfGrSFqtfi0g8heW1MQnAPafOW/c51wUE4I9HboCQEYa/pu6CkBGGfyza09FPiWgnaP8mARgIWkAEkVi2H3NWom4mAdguHDMtePDS5lMA8jnCXaEC+MTEzZYXIAnA5IL2bxKAgaAFRBCJpbUt4hAiPftndvRTSgoweSVaAdjc2mbd51KTP/PojgQTT3DY6EMSgEkD7d8kAANBC4ggEg/2AYaMMPRMIQHYHtRddub6RiL+BCAAQMmZC3Cooj6Bzy5+vPPVbggZYbhv6DorF5hIDmj/JgEYCFpABJF45mw5ZgmRW0kAtgstXCUvWgHYleizYp81XU4CMLmg/ZsEYCBoARFE4lm845QlRG4bsKajn07SwAvA7sqozCLHz/nPxXs7+ikR7QTt3yQAA0ELiCASz6q95dYGfftAEoDtRTIIwOk5JSQAkxTav0kABoIWEEEknnUHbW+5O0gAths9+qR3ewHIV5fRb5JIDmj/JgEYCFpABJF4ckuqrQ36h4PWdvTTSRpuTcns9gIws7CCBGCSQvs3CcBA0AIiiMTDmwvfSQKw3cDJ2O4sAHedOOcQgB+TAEwaaP8mARgIWkAEkXgOV9ZbG/Rdg0kAthc//Sy72wvAC40tVh5wyAjDJ0tJACYLtH8ngQBsbGyE22+/Ha644grYs8c54l9QUAAPPfQQXHnllfD9738fRo4cGdVj0wIiiMRz6mwDJwCzOvrpJA3/f3v3HhtV+edx/EDtjK3YC7YWKLQBuWhKRAxUKwrZcL+E/nAjBEghultEcTERaGEVZ1cjVmVxWaTaqOAmSvtDArJZakm4KhVYupRCaRGRihMEq8CUcivQfvYPw5FhBuhvTznT6Xm/kucP5pw5Pueb58zz8cycp6P//Zs2HwAl/6BLAHQO5m8HBMDZs2dr9OjRAQGwrq5OSUlJmjp1qiorK1VYWKioqCgVFBQ0+9gMIODO+63+EncAQ+Dp/FJHBMAXP/9f8zxzvqwIdXdgE+bvNh4Ai4uL9eCDD+rgwYMBATA/P1/x8fFqaPjz71Xm5uaqT58+zT4+Awi48843XOFPwYXA1I93OSIAfrDlBwKgAzF/t+EAePLkSSUnJ2vPnj2qqakJCIBZWVnKzMz0e8+WLVtkGIZOnz4d9JiXLl1SXV2d2bxer+MHEHCnNV7394B7/vOGUHfHMf7xP/c4IgBu+77WPM/cNQRApyAAttEA2NTUpFGjRunNN9+UpKABcPjw4ZoxY4bf+67dKayqqgp6XI/HI8MwApqTBxBgBycsStza/NOqvY6o+fU/MXhp1d5Qdwc2IQCGWQDMzc0NGsCub9XV1Vq6dKkGDRqkq1evSmq5AMgdQCA0CID2y11T4ZiaXzvPYf+2LdRdgU0IgGEWAGtra1VdXX3L1tDQoMzMTLVv314RERFmMwxDERERmjZtmqT/31fAN2IAAfYgANrPs77SMTVnfDkP83eYBcDmOnbsmA4cOGC2jRs3yjAMrVmzRl6vV9KfD4FcvnzZfN+CBQt4CARohZig7ffO19WOqfmzK/9Hqbn/rWmf7g51V2AT5u82GgBvFOwrYJ/Pp6SkJGVlZamyslJFRUWKjo5mGRigFSIA2u8/Nh12TM3PXryslTuO6tezF0PdFdiE+dvBAVDyXwg6OTlZeXl5f9NxGUCAPfq8VuyYMNJafPzNj9QcbRbzt0MC4J3CAALs8ci/biSM2OzzXT9Rc7RZzN8EQEsYQIA9MhZtIozYbO1eLzVHm8X8TQC0hAEE2OPvFm8ljNjs6wMnqDnaLOZvAqAlDCDAHmOWfkMYsdk3h2upOdos5m8CoCUMIMAef59fShix2ZWrjfrL8h165a/7Qt0VoMUxfxMALWEAAfaY+vEuAiCAFsP8TQC0hAEE2OMfPttDAATQYpi/CYCWMIAAe7y0ai8BEECLYf4mAFrCAALskfNlBQEQQIth/iYAWsIAAuzxL/9VSQAE0GKYvwmAljCAAHtsqjpJAATQYpi/CYCWMIAAezQ1NWlj5Qkd+/18qLsCoA1g/iYAWsIAAgAg/DB/EwAtYQABABB+mL8JgJYwgAAACD/M3wRASxhAAACEH+ZvAqAlDCAAAMIP8zcB0BIGEAAA4Yf5mwBoCQMIAIDww/xNALSEAQQAQPhh/iYAWsIAAgAg/DB/EwAtYQABABB+mL8JgJYwgAAACD/M3wRASxhAAACEH+ZvAqAlDCAAAMIP8zcB0BIGEAAA4Yf5mwBoic/nk2EY8nq9qquro9FoNBqNFgbN6/XKMAz5fL5QR4mQIQBacG0A0Wg0Go1GC7/m9XpDHSVChgBoQWNjo7xer3w+3x37vxPuLlI/6heejRpSv1A3anjz5vP55PV61djYGOooETIEwFaqro7fJ1hB/ayhftZRQ2uon3XUELdCAGyluHCtoX7WUD/rqKE11M86aohbIQC2Uly41lA/a6ifddTQGupnHTXErRAAW6lLly7J4/Ho0qVLoe5KWKJ+1lA/66ihNdTPOmqIWyEAAgAAOAwBEAAAwGEIgAAAAA5DAAQAAHAYAiAAAIDDEABboQ8++ECpqalyu91KT0/X7t27Q92lkPB4PAF/tqdPnz7m9osXL+rFF19Ux44ddc899+jpp5/WyZMn/Y5x7NgxjRkzRlFRUUpMTNTcuXN15coVv322bt2q/v37y+Vy6YEHHtDKlSvtOL0Wt337do0bN06dO3eWYRhat26d3/ampiYtXLhQnTp10t13362hQ4fq8OHDfvucOnVKU6ZM0b333qvY2Fg999xzqq+v99unoqJCTz75pNxut7p27ap33nknoC+rV69Wnz595Ha71bdvX23YsKHlT7iF3a5+06dPDxiPI0eO9NvHyfVbtGiRBgwYoA4dOigxMVGZmZk6dOiQ3z52XrPh+DnanBoOGTIkYBw+//zzfvs4uYZoPgJgK1NUVCSXy6UVK1bo4MGDys7OVlxcnH799ddQd812Ho9HaWlpOnHihNl+++03c/vMmTPVrVs3bd68WWVlZXr88cf1xBNPmNuvXr2qvn37atiwYSovL1dxcbESEhK0YMECc5+jR48qOjpar7zyiqqqqrRs2TJFRESopKTE1nNtCcXFxXr11Ve1du3aoAEmLy9PsbGx+uqrr1RRUaHx48ere/fuunjxornPqFGj1K9fP+3atUvffvutevbsqcmTJ5vb6+rqlJSUpKlTp6qyslKFhYWKiopSQUGBuU9paakiIiL07rvvqqqqSq+99poiIyN14MCBO18EC25Xv+nTp2vUqFF+4/H06dN++zi5fiNHjtTKlStVWVmpffv2acyYMUpJSdG5c+fMfey6ZsP1c7Q5NRwyZIiys7P9xuH16/w5vYZoPgJgK5Oenq5Zs2aZ/25sbFSXLl309ttvh7BXoeHxeNSvX7+g23w+nyIjI/Xll1+ar1VXV8swDO3cuVPSHxN6+/bt/e4wfPjhh4qJiVFDQ4MkKScnR2lpaX7HnjRpUsCdnXBzY4BpampSp06d9N5775mv+Xw+ud1uFRYWSpKqqqpkGIb27Nlj7vP111+rXbt2On78uCQpPz9f8fHxZv0kKTc31+/O7MSJEzV27Fi//jz22GMBdylas5sFwMzMzJu+h/r5q62tlWEY2r59uyR7r9m28jl6Yw2lPwLgyy+/fNP3UEM0FwGwFWloaFBERETAxDNt2jSNHz8+RL0KHY/Ho+joaHXu3Fndu3fXlClTdOzYMUnS5s2bZRiGzpw54/eelJQULVmyRJK0cOHCgAB59OhRGYahvXv3SpKeeuqpgA/TFStWKCYm5k6dli1uDDA//vijDMNQeXm5336DBw/W7NmzJUmffvqp4uLi/LZfuXJFERERWrt2rSQpKysrIARt2bJFhmGYd8O6deum999/32+f119/XQ8//HDLnJwNbhYAY2NjlZiYqN69e2vmzJn6/fffze3Uz98PP/wgwzDMO5d2XbNt6XP0xhpKfwTAhIQE3XfffUpLS9P8+fN1/vx5czs1RHMRAFuR48ePyzAMfffdd36vz5s3T+np6SHqVegUFxdr9erVqqioUElJiTIyMpSSkqKzZ8/qiy++kG3lShsAAAUlSURBVMvlCnjPwIEDlZOTI0nKzs7WiBEj/LafP39ehmGouLhYktSrVy8tWrTIb58NGzbIMAxduHDhDp3ZnXdjgCktLZVhGPrll1/89nvmmWc0ceJESdJbb72l3r17BxwrMTFR+fn5kqThw4drxowZftsPHjwowzBUVVUlSYqMjNSqVav89lm+fLnuv/9+6ydmk2ABsLCwUOvXr9f+/fu1bt06PfTQQxo4cKCuXr0qifpdr7GxUWPHjtWgQYPM1+y6ZtvK52iwGkpSQUGBSkpKtH//fn3++edKTk7WhAkTzO3UEM1FAGxFuOhu7cyZM4qJidEnn3xCALwNAqA1wQLgja7dVd20aZMk6ne9mTNnKjU1VV6v13yNAPi3CVbDYK7dWT1y5IgkaojmIwC2Itx2v70BAwZo/vz5fAV8G3wFbE1zAqAkJSQk6KOPPpJE/a6ZNWuWunbtqqNHj/q9zlfAzXezGgZz7tw5GYZhPsBBDdFcBMBWJj09XS+99JL578bGRiUnJ/PDW0n19fWKj4/X0qVLzR+Ur1mzxtx+6NChoD8ov/6ptYKCAsXExJh/HD0nJ0d9+/b1++9Mnjy5zT4EsnjxYvO1urq6oA+BlJWVmfts3Lgx6EMMly9fNvdZsGBBwEMM48aN8+tPRkZGWD3E0JwA6PV61a5dO61fv14S9WtqatKsWbPUpUuXgOWFJNl6zYbr5+jtahjMjh07ZBiGKioqJFFDNB8BsJUpKiqS2+3WZ599pqqqKs2YMUNxcXEBa2U5wZw5c7Rt2zbV1NSotLRUw4YNU0JCgmprayX98RVJSkqKtmzZorKyMmVkZCgjI8N8/7XlEEaMGKF9+/appKREiYmJQZdDmDdvnqqrq7V8+fKwXQamvr5e5eXlKi8vl2EYWrJkicrLy80HZ/Ly8hQXF2f+ji0zMzPoMjD9+/fX7t27tWPHDvXq1ctvGROfz6ekpCRlZWWpsrJSRUVFio6ODljG5K677tLixYtVXV0tj8cTFsuY3Kp+9fX1mjt3rnbu3Kmamhpt2rRJjz76qHr16mVOqpKz6/fCCy8oNjZW27Zt81ui5PqfUth1zYbr5+jtanjkyBG98cYbKisrU01NjdavX68ePXpo8ODB5jGcXkM0HwGwFVq2bJlSUlLkcrmUnp6uXbt2hbpLITFp0iR17txZLpdLycnJmjRpkvk7F+nPRWXj4+MVHR2tCRMm6MSJE37H+OmnnzR69GhFRUUpISFBc+bMCbog6iOPPCKXy6UePXqE7ULQW7duDVgg1jAMTZ8+XdKfC0EnJSXJ7XZr6NCh+v777/2OcerUKU2ePFkdOnRQTEyMnn322VsuZJycnKy8vLyAvqxevVq9e/eWy+VSWlpaWCxkfKv6XbhwQSNGjFBiYqIiIyOVmpqq7OzsgMnQyfULVjvDMPyuJzuv2XD8HL1dDX/++WcNHjxYHTt2lNvtVs+ePTVv3jy/dQAlZ9cQzUcABAAAcBgCIAAAgMMQAAEAAByGAAgAAOAwBEAAAACHIQACAAA4DAEQAADAYQiAAAAADkMABAAAcBgCIAAAgMMQAAEAAByGAAgAAOAwBEAAAACHIQACAAA4DAEQAADAYQiAAAAADkMABAAAcBgCIAAAgMMQAAEAAByGAAgAAOAwBEAAAACHIQACAAA4DAEQAADAYQiAAAAADkMABAAAcBgCIAAAgMMQAAEAAByGAAgAAOAwBEAAAACHIQACAAA4DAEQAADAYQiAAAAADvN/S53BhTwjvt0AAAAASUVORK5CYII=\" width=\"640\">"
      ],
      "text/plain": [
       "<IPython.core.display.HTML object>"
      ]
     },
     "metadata": {},
     "output_type": "display_data"
    }
   ],
   "source": [
    "# Read Training data\n",
    "train =pd.read_csv('Train.csv')\n",
    "\n",
    "# Plot Training data\n",
    "plt.plot(train.index, train[['Soil humidity 2','Irrigation field 2']])\n",
    "plt.show()"
   ]
  },
  {
   "cell_type": "code",
   "execution_count": 2,
   "metadata": {},
   "outputs": [],
   "source": [
    "# Extract pressures\n",
    "pressure_list = train['Pressure (KPa)'].tolist()\n",
    "pressure_list_without_nan = []\n",
    "for i in range(len(pressure_list)):\n",
    "    if (np.isnan(pressure_list[i])):\n",
    "        pressure_list_without_nan.append(pressure_list_without_nan[i - 24*12])\n",
    "    else:\n",
    "        pressure_list_without_nan.append(pressure_list[i])\n",
    "\n",
    "#Extract temperatures\n",
    "temp_list = train['Air temperature (C)'].tolist()\n",
    "temp_list_without_nan = []\n",
    "for i in range(len(temp_list)):\n",
    "    if (np.isnan(temp_list[i])):\n",
    "        temp_list_without_nan.append(temp_list_without_nan[i - 24*12])\n",
    "    else:\n",
    "        temp_list_without_nan.append(temp_list[i])\n"
   ]
  },
  {
   "cell_type": "code",
   "execution_count": 3,
   "metadata": {},
   "outputs": [],
   "source": [
    "def firstNanIndex(listfloats, k):\n",
    "    for i, item in enumerate(listfloats):\n",
    "        if i > k and math.isnan(item) == True:\n",
    "            return i\n",
    "        \n",
    "def firstNonNan(listfloats, j):\n",
    "    bol = False\n",
    "    for i, item in enumerate(listfloats[j:]):\n",
    "        if math.isnan(item) == False:\n",
    "            bol = True\n",
    "            return i+j, item\n",
    "    if (bol == False):\n",
    "        return len(listfloats) -1 , listfloats[len(listfloats)-1]\n",
    "    \n",
    "def cleanSerie(columnName):\n",
    "    field = train[columnName].tolist()\n",
    "    cleanedList = [x for x in field if (math.isnan(x) == False)]\n",
    "    return cleanedList\n",
    "\n",
    "                \n"
   ]
  },
  {
   "cell_type": "code",
   "execution_count": 20,
   "metadata": {},
   "outputs": [],
   "source": [
    "# Clean the values: remove NaN\n",
    "field1_without_Nan = cleanSerie('Soil humidity 1')\n",
    "\n",
    "# Clean the values: remove last values\n",
    "field1_without_Nan = field1_without_Nan[:-3]\n",
    "\n",
    "field1 = train['Soil humidity 1'].tolist()\n",
    "index1 = firstNanIndex(field1, 0)\n",
    "field1 = field1[:index1+ 1153]\n",
    "\n",
    "field2_without_Nan = cleanSerie('Soil humidity 2')\n",
    "field2_without_Nan = field2_without_Nan[:-3]\n",
    "field2 = train['Soil humidity 2'].tolist()\n",
    "index2 = firstNanIndex(field2, 0)\n",
    "field2 = field2[:index2+ 1747]\n",
    "\n",
    "field3_without_Nan = cleanSerie('Soil humidity 3')\n",
    "field3_without_Nan = field3_without_Nan[:-3]\n",
    "field3 = train['Soil humidity 3'].tolist()\n",
    "index3 = firstNanIndex(field3, 0)\n",
    "field3 = field3[:index3+ 1153]\n",
    "\n",
    "field4_without_Nan = cleanSerie('Soil humidity 4')\n",
    "field4_without_Nan = field4_without_Nan[:-5]\n",
    "field4 = train['Soil humidity 4'].tolist()\n",
    "index4 = firstNanIndex(field4, 0)\n",
    "field4 = field4[:index4+ 1729]\n"
   ]
  },
  {
   "cell_type": "code",
   "execution_count": 5,
   "metadata": {},
   "outputs": [],
   "source": [
    "# Prepare the data. Returns X,Y:\n",
    "# X: differential of air pressure, differential of air temperature, irrigation now\n",
    "# Y: differential of soil humidity\n",
    "def prepare_data(train,field_number, field_without_Nan, preds_horizon):\n",
    "    target = train[['Pressure (KPa)','Air temperature (C)', 'Soil humidity ' + str(field_number),'Irrigation field ' +str(field_number)]][:len(field_without_Nan)]\n",
    "    \n",
    "    #Compute differential of soil humidity\n",
    "    target['last'] = target[['Soil humidity ' + str(field_number)]].shift(1)\n",
    "    target['diff'] = target['Soil humidity ' + str(field_number)] - target['last']\n",
    "   \n",
    "    #Compute differential of pressure\n",
    "    target['pressure'] = target['Pressure (KPa)']   \n",
    "    target['pressure_last'] = target[['pressure']].shift(1)\n",
    "    target['diff_pressure'] = target['pressure'] - target['pressure_last']    \n",
    "   \n",
    "    #Compute differential of temperature\n",
    "    target['temperature'] = target['Air temperature (C)']\n",
    "    target['temperature_last'] = target[['temperature']].shift(1)\n",
    "    target['diff_temperature'] = target['temperature'] - target['temperature_last']\n",
    "       \n",
    "    #Remove all the rest \n",
    "    del target['Air temperature (C)']\n",
    "    del target['temperature_last']\n",
    "    del target['pressure_last']   \n",
    "    del target['temperature']\n",
    "    del target['pressure']   \n",
    "    del target['Pressure (KPa)']\n",
    "   \n",
    "  \n",
    "    target['irrigation_now'] = train['Irrigation field ' +str(field_number)][:len(field_without_Nan)]\n",
    "    X = target.dropna()\n",
    "   \n",
    "    \n",
    "    del X['Soil humidity ' + str(field_number)]\n",
    "    del X['last']\n",
    "    \n",
    "   \n",
    "    # Y is the change of humidity (differential)\n",
    "    Y = X['diff']\n",
    "    \n",
    "    del X['Irrigation field ' +str(field_number)]   \n",
    "    del X['diff']\n",
    "\n",
    "    return X, Y\n"
   ]
  },
  {
   "cell_type": "code",
   "execution_count": 6,
   "metadata": {},
   "outputs": [],
   "source": [
    "# Train the model\n",
    "def train_xgboost(data_X, data_Y, random_state=0):\n",
    "    my_imputer = SimpleImputer()\n",
    "    final_train = my_imputer.fit_transform(data_X)\n",
    "    \n",
    "    # split the data in training set and testing set (10%)\n",
    "    train_X, test_X, train_y, test_y = train_test_split(final_train, data_Y, test_size=0.1, random_state=random_state)\n",
    "    \n",
    "    # Initialize model\n",
    "    my_model = XGBRegressor(n_estimators=1500, learning_rate=0.1, random_state=random_state)\n",
    "    \n",
    "    # Train model. Evaluation metric = Root mean square Error\n",
    "    my_model.fit(train_X, train_y, early_stopping_rounds=5,eval_metric=[\"rmse\"], eval_set=[(test_X, test_y)], verbose=False)\n",
    "    return my_model\n"
   ]
  },
  {
   "cell_type": "code",
   "execution_count": 7,
   "metadata": {},
   "outputs": [],
   "source": [
    "def findStep(last_prediction, moisture_list, index):\n",
    "    j = index\n",
    "    while(np.isnan(moisture_list[j])):\n",
    "        j =j+1\n",
    "    step = (moisture_list[j] - last_prediction ) /(j-index)\n",
    "    return step\n",
    "    \n"
   ]
  },
  {
   "cell_type": "code",
   "execution_count": 34,
   "metadata": {},
   "outputs": [],
   "source": [
    "# Get the prediction from the model\n",
    "def get_Predictions(model, field_number, field_without_Nan, field, train_last_index, preds_horizon):\n",
    "    moisture = field[len(field_without_Nan)-1:]\n",
    "    irrigationFrame = train[['Irrigation field ' +str(field_number)]][len(field_without_Nan)-1:len(field_without_Nan)+preds_horizon]\n",
    "    \n",
    "\n",
    "    preds = []\n",
    "    k=0\n",
    "    index=-1\n",
    "    bol = False\n",
    "    for i in range(preds_horizon):\n",
    "        index= index + 1\n",
    "\n",
    "        temperature = temp_list_without_nan[train_last_index + index]\n",
    "        temperature_last = temp_list_without_nan[train_last_index + index - 1]\n",
    "        temperature_diff = temperature - temperature_last\n",
    "        \n",
    "        pressure = pressure_list_without_nan[train_last_index + index]\n",
    "        pressure_last = pressure_list_without_nan[train_last_index + index - 1]\n",
    "        pressure_diff = pressure - pressure_last\n",
    "        \n",
    "        irrigation = irrigationFrame.iloc[i+1]['Irrigation field ' + str(field_number)]\n",
    "        if(np.isnan(irrigation)):\n",
    "            irrigation =0\n",
    "\n",
    "        #without irrigation\n",
    "        if(irrigation == 0):\n",
    "            bol = False\n",
    "            x= np.array([pressure_diff, temperature_diff, irrigation])\n",
    "            x = x[np.newaxis,...]\n",
    "            print(x)\n",
    "            # Perform the prediction\n",
    "            prediction = model.predict(x) \n",
    "        if(irrigation == 1 and index ==0):\n",
    "            x= np.array([pressure_diff, temperature_diff, irrigation])\n",
    "            x = x[np.newaxis,...]\n",
    "            prediction = model.predict(x) \n",
    "        if(irrigation == 1 and index > 0):\n",
    "            if(bol == False):\n",
    "                step =findStep(preds[-1], moisture, index)\n",
    "                prediction = [step]\n",
    "                bol = True\n",
    "            else:\n",
    "                prediction = [step]                \n",
    "     \n",
    "        if np.isnan(moisture[i]):\n",
    "            preds.append(prediction[0]+ preds[-1])\n",
    "            k=k+1\n",
    "        else:\n",
    "            preds.append(prediction[0]+ moisture[i])\n",
    "            k=0\n",
    "            \n",
    "        k=k+1\n",
    "    return preds"
   ]
  },
  {
   "cell_type": "code",
   "execution_count": 38,
   "metadata": {},
   "outputs": [
    {
     "name": "stdout",
     "output_type": "stream",
     "text": [
      "data_X:\n"
     ]
    },
    {
     "data": {
      "text/html": [
       "<div>\n",
       "<style scoped>\n",
       "    .dataframe tbody tr th:only-of-type {\n",
       "        vertical-align: middle;\n",
       "    }\n",
       "\n",
       "    .dataframe tbody tr th {\n",
       "        vertical-align: top;\n",
       "    }\n",
       "\n",
       "    .dataframe thead th {\n",
       "        text-align: right;\n",
       "    }\n",
       "</style>\n",
       "<table border=\"1\" class=\"dataframe\">\n",
       "  <thead>\n",
       "    <tr style=\"text-align: right;\">\n",
       "      <th></th>\n",
       "      <th>diff_pressure</th>\n",
       "      <th>diff_temperature</th>\n",
       "      <th>irrigation_now</th>\n",
       "    </tr>\n",
       "  </thead>\n",
       "  <tbody>\n",
       "    <tr>\n",
       "      <th>1</th>\n",
       "      <td>0.00</td>\n",
       "      <td>-0.03</td>\n",
       "      <td>0.0</td>\n",
       "    </tr>\n",
       "    <tr>\n",
       "      <th>2</th>\n",
       "      <td>0.01</td>\n",
       "      <td>-0.02</td>\n",
       "      <td>0.0</td>\n",
       "    </tr>\n",
       "    <tr>\n",
       "      <th>3</th>\n",
       "      <td>0.00</td>\n",
       "      <td>0.07</td>\n",
       "      <td>0.0</td>\n",
       "    </tr>\n",
       "    <tr>\n",
       "      <th>4</th>\n",
       "      <td>0.00</td>\n",
       "      <td>0.07</td>\n",
       "      <td>0.0</td>\n",
       "    </tr>\n",
       "    <tr>\n",
       "      <th>5</th>\n",
       "      <td>0.00</td>\n",
       "      <td>0.06</td>\n",
       "      <td>0.0</td>\n",
       "    </tr>\n",
       "  </tbody>\n",
       "</table>\n",
       "</div>"
      ],
      "text/plain": [
       "   diff_pressure  diff_temperature  irrigation_now\n",
       "1           0.00             -0.03             0.0\n",
       "2           0.01             -0.02             0.0\n",
       "3           0.00              0.07             0.0\n",
       "4           0.00              0.07             0.0\n",
       "5           0.00              0.06             0.0"
      ]
     },
     "metadata": {},
     "output_type": "display_data"
    },
    {
     "name": "stdout",
     "output_type": "stream",
     "text": [
      "data_Y:\n"
     ]
    },
    {
     "data": {
      "text/plain": [
       "1   -0.03\n",
       "2   -0.03\n",
       "3   -0.02\n",
       "4   -0.03\n",
       "5   -0.03\n",
       "Name: diff, dtype: float64"
      ]
     },
     "metadata": {},
     "output_type": "display_data"
    },
    {
     "name": "stdout",
     "output_type": "stream",
     "text": [
      "[[ 0.    0.99  0.  ]]\n",
      "[[ 0.   -0.07  0.  ]]\n",
      "[[-0.01 -0.06  0.  ]]\n",
      "[[-0.01  0.    0.  ]]\n",
      "[[ 0.  0.  0.]]\n",
      "[[ 0.   -0.04  0.  ]]\n",
      "[[-0.01 -0.04  0.  ]]\n",
      "[[-0.01  0.01  0.  ]]\n",
      "[[ 0.    0.01  0.  ]]\n",
      "[[-0.01 -0.03  0.  ]]\n",
      "[[-0.01 -0.03  0.  ]]\n",
      "[[ 0.   -0.03  0.  ]]\n",
      "[[ 0.   -0.03  0.  ]]\n",
      "[[ 0.   -0.02  0.  ]]\n",
      "[[ 0.   -0.01  0.  ]]\n",
      "[[ 0.   -0.02  0.  ]]\n",
      "[[-0.01 -0.02  0.  ]]\n",
      "[[-0.01  0.02  0.  ]]\n",
      "[[ 0.    0.02  0.  ]]\n",
      "[[ 0.   -0.04  0.  ]]\n",
      "[[ 0.   -0.04  0.  ]]\n",
      "[[-0.01 -0.03  0.  ]]\n",
      "[[-0.01 -0.04  0.  ]]\n",
      "[[ 0.    0.03  0.  ]]\n",
      "[[-0.01  0.03  0.  ]]\n",
      "[[ 0.    0.03  0.  ]]\n",
      "[[-0.01 -0.01  0.  ]]\n",
      "[[ 0.  0.  0.]]\n",
      "[[-0.01  0.    0.  ]]\n",
      "[[-0.01  0.    0.  ]]\n",
      "[[ 0.   -0.02  0.  ]]\n",
      "[[-0.01 -0.01  0.  ]]\n",
      "[[ 0.   -0.02  0.  ]]\n",
      "[[-0.01 -0.02  0.  ]]\n",
      "[[-0.01 -0.1   0.  ]]\n",
      "[[-0.01 -0.09  0.  ]]\n",
      "[[ 0.   -0.02  0.  ]]\n",
      "[[-0.01 -0.01  0.  ]]\n",
      "[[-0.01 -0.01  0.  ]]\n",
      "[[-0.01 -0.02  0.  ]]\n",
      "[[-0.01 -0.05  0.  ]]\n",
      "[[ 0.   -0.05  0.  ]]\n",
      "[[-0.01 -0.08  0.  ]]\n",
      "[[ 0.   -0.07  0.  ]]\n",
      "[[-0.01 -0.04  0.  ]]\n",
      "[[-0.01 -0.04  0.  ]]\n",
      "[[-0.01  0.03  0.  ]]\n",
      "[[ 0.    0.04  0.  ]]\n",
      "[[ 0.  0.  0.]]\n",
      "[[ 0.  0.  0.]]\n",
      "[[ 0.   -0.01  0.  ]]\n",
      "[[ 0.   -0.01  0.  ]]\n",
      "[[ 0.   -0.04  0.  ]]\n",
      "[[ 0.   -0.04  0.  ]]\n",
      "[[ 0.   -0.06  0.  ]]\n",
      "[[-0.01 -0.06  0.  ]]\n",
      "[[ 0.01 -0.12  0.  ]]\n",
      "[[ 0.01 -0.11  0.  ]]\n",
      "[[ 0.01  0.    0.  ]]\n",
      "[[ 0.  0.  0.]]\n",
      "[[ 0.   -0.01  0.  ]]\n",
      "[[ 0.01 -0.02  0.  ]]\n",
      "[[ 0.   0.1  0. ]]\n",
      "[[ 0.   0.1  0. ]]\n",
      "[[-0.01  0.16  0.  ]]\n",
      "[[-0.01  0.15  0.  ]]\n",
      "[[ 0.01  0.19  0.  ]]\n",
      "[[ 0.01  0.2   0.  ]]\n",
      "[[ 0.    0.02  0.  ]]\n",
      "[[ 0.01  0.01  0.  ]]\n",
      "[[ 0.    0.49  0.  ]]\n",
      "[[ 0.    0.52  0.  ]]\n",
      "[[ 0.01  0.52  0.  ]]\n",
      "[[ 0.01  0.64  0.  ]]\n",
      "[[ 0.    0.63  0.  ]]\n",
      "[[ 0.    0.52  0.  ]]\n",
      "[[ 0.01  0.51  0.  ]]\n",
      "[[ 0.01  0.83  0.  ]]\n",
      "[[ 0.    0.82  0.  ]]\n",
      "[[ 0.01 -0.17  0.  ]]\n",
      "[[ 0.01 -0.17  0.  ]]\n",
      "[[ 0.01 -0.09  0.  ]]\n",
      "[[ 0.01 -0.09  0.  ]]\n",
      "[[ 0.01  0.44  0.  ]]\n",
      "[[ 0.    0.43  0.  ]]\n",
      "[[ 0.01  0.44  0.  ]]\n",
      "[[ 0.  -0.4  0. ]]\n",
      "[[ 0.01 -0.4   0.  ]]\n",
      "[[ 0.01 -0.19  0.  ]]\n",
      "[[ 0.   -0.18  0.  ]]\n",
      "[[ 0.01  0.21  0.  ]]\n",
      "[[ 0.01  0.2   0.  ]]\n",
      "[[ 0.   -0.06  0.  ]]\n",
      "[[ 0.01 -0.06  0.  ]]\n",
      "[[ 0.01  0.15  0.  ]]\n",
      "[[ 0.    0.14  0.  ]]\n",
      "[[ 0.   0.6  0. ]]\n",
      "[[-0.01  0.61  0.  ]]\n",
      "[[ 0.  -0.4  0. ]]\n",
      "[[ 0.  -0.4  0. ]]\n",
      "[[ 0.    1.59  0.  ]]\n",
      "[[ 0.    1.59  0.  ]]\n",
      "[[ 0.01  0.42  0.  ]]\n",
      "[[ 0.    0.42  0.  ]]\n",
      "[[ 0.   -0.49  0.  ]]\n",
      "[[ 0.   -0.49  0.  ]]\n",
      "[[ 0.    0.85  0.  ]]\n",
      "[[ 0.    0.86  0.  ]]\n",
      "[[ 0.    0.66  0.  ]]\n",
      "[[ 0.01  0.65  0.  ]]\n",
      "[[ 0.   -1.06  0.  ]]\n",
      "[[ 0.01 -1.06  0.  ]]\n",
      "[[-0.01  0.34  0.  ]]\n",
      "[[-0.01  0.34  0.  ]]\n",
      "[[ 0.    0.35  0.  ]]\n",
      "[[ 0.    0.35  0.  ]]\n",
      "[[ 0.    0.57  0.  ]]\n",
      "[[-0.01  0.57  0.  ]]\n",
      "[[-0.01  0.53  0.  ]]\n",
      "[[-0.01  0.54  0.  ]]\n",
      "[[ 0.01 -0.18  0.  ]]\n",
      "[[ 0.   -0.19  0.  ]]\n",
      "[[-0.01 -0.07  0.  ]]\n",
      "[[-0.01 -0.08  0.  ]]\n",
      "[[-0.01  0.34  0.  ]]\n",
      "[[-0.01  0.34  0.  ]]\n",
      "[[-0.01 -0.44  0.  ]]\n",
      "[[-0.01 -0.45  0.  ]]\n",
      "[[ 0.   -0.53  0.  ]]\n",
      "[[-0.01 -0.52  0.  ]]\n",
      "[[-0.01 -0.44  0.  ]]\n",
      "[[-0.01 -0.45  0.  ]]\n",
      "[[ 0.   -0.81  0.  ]]\n",
      "[[ 0.   -0.81  0.  ]]\n",
      "[[-0.01 -0.4   0.  ]]\n",
      "[[ 0.  -0.4  0. ]]\n",
      "[[ 0.    0.83  0.  ]]\n",
      "[[-0.01  0.84  0.  ]]\n",
      "[[-0.01  0.43  0.  ]]\n",
      "[[ 0.    0.43  0.  ]]\n",
      "[[ 0.   0.3  0. ]]\n",
      "[[-0.01  0.29  0.  ]]\n",
      "[[-0.01 -0.41  0.  ]]\n",
      "[[-0.02 -0.4   0.  ]]\n",
      "[[-0.01 -0.78  0.  ]]\n",
      "[[-0.01 -0.79  0.  ]]\n",
      "[[-0.01 -0.32  0.  ]]\n",
      "[[-0.01 -0.32  0.  ]]\n",
      "[[-0.01 -0.19  0.  ]]\n",
      "[[-0.01 -0.19  0.  ]]\n",
      "[[-0.01  0.04  0.  ]]\n",
      "[[-0.01  0.05  0.  ]]\n",
      "[[ 0.    0.56  0.  ]]\n",
      "[[ 0.    0.57  0.  ]]\n",
      "[[-0.01 -0.37  0.  ]]\n",
      "[[ 0.   -0.38  0.  ]]\n",
      "[[-0.01 -0.1   0.  ]]\n",
      "[[ 0.   -0.11  0.  ]]\n",
      "[[ 0.   0.3  0. ]]\n",
      "[[-0.01  0.3   0.  ]]\n",
      "[[-0.01 -0.35  0.  ]]\n",
      "[[ 0.   -0.36  0.  ]]\n",
      "[[ 0.   -0.12  0.  ]]\n",
      "[[-0.01 -0.11  0.  ]]\n",
      "[[-0.01  0.05  0.  ]]\n",
      "[[ 0.    0.05  0.  ]]\n",
      "[[ 0.    0.03  0.  ]]\n",
      "[[ 0.    0.04  0.  ]]\n",
      "[[ 0.   -0.09  0.  ]]\n",
      "[[-0.01 -0.09  0.  ]]\n",
      "[[ 0.   -0.24  0.  ]]\n",
      "[[ 0.   -0.23  0.  ]]\n",
      "[[ 0.   -0.23  0.  ]]\n",
      "[[ 0.   -0.24  0.  ]]\n",
      "[[ 0.01 -0.19  0.  ]]\n",
      "[[ 0.   -0.19  0.  ]]\n",
      "[[ 0.   -0.25  0.  ]]\n",
      "[[ 0.   -0.25  0.  ]]\n",
      "[[ 0.   -0.16  0.  ]]\n",
      "[[-0.01 -0.17  0.  ]]\n",
      "[[ 0.    0.04  0.  ]]\n",
      "[[ 0.    0.04  0.  ]]\n",
      "[[-0.01 -0.11  0.  ]]\n",
      "[[ 0.  -0.1  0. ]]\n",
      "[[ 0.   -0.15  0.  ]]\n",
      "[[ 0.   -0.15  0.  ]]\n",
      "[[ 0.   -0.13  0.  ]]\n",
      "[[ 0.   -0.13  0.  ]]\n",
      "[[ 0.   -0.13  0.  ]]\n",
      "[[-0.01 -0.13  0.  ]]\n",
      "[[ 0.    0.02  0.  ]]\n",
      "[[ 0.    0.01  0.  ]]\n",
      "[[ 0.   -0.21  0.  ]]\n",
      "[[ 0.   -0.21  0.  ]]\n",
      "[[ 0.01 -0.14  0.  ]]\n",
      "[[ 0.01 -0.14  0.  ]]\n",
      "[[ 0.   -0.17  0.  ]]\n",
      "[[ 0.   -0.16  0.  ]]\n",
      "[[ 0.01 -0.08  0.  ]]\n",
      "[[ 0.   -0.09  0.  ]]\n",
      "[[ 0.   -0.16  0.  ]]\n",
      "[[-0.01 -0.16  0.  ]]\n",
      "[[ 0.01 -0.21  0.  ]]\n",
      "[[ 0.01 -0.22  0.  ]]\n",
      "[[ 0.01 -0.24  0.  ]]\n",
      "[[ 0.02 -0.23  0.  ]]\n",
      "[[ 0.   -0.25  0.  ]]\n",
      "[[ 0.   -0.25  0.  ]]\n",
      "[[ 0.   -0.26  0.  ]]\n",
      "[[ 0.   -0.25  0.  ]]\n",
      "[[ 0.01 -0.19  0.  ]]\n",
      "[[ 0.01 -0.19  0.  ]]\n",
      "[[ 0.  -0.1  0. ]]\n",
      "[[ 0.01 -0.11  0.  ]]\n",
      "[[ 0.01 -0.07  0.  ]]\n",
      "[[ 0.01 -0.08  0.  ]]\n",
      "[[ 0.01 -0.1   0.  ]]\n",
      "[[ 0.   -0.09  0.  ]]\n",
      "[[ 0.01 -0.04  0.  ]]\n",
      "[[ 0.01 -0.04  0.  ]]\n",
      "[[ 0.01 -0.03  0.  ]]\n",
      "[[ 0.01 -0.04  0.  ]]\n",
      "[[ 0.   -0.06  0.  ]]\n",
      "[[ 0.01 -0.06  0.  ]]\n",
      "[[ 0.   -0.06  0.  ]]\n",
      "[[ 0.01 -0.03  0.  ]]\n",
      "[[ 0.   -0.04  0.  ]]\n",
      "[[ 0.01 -0.03  0.  ]]\n",
      "[[ 0.01 -0.04  0.  ]]\n",
      "[[ 0.01 -0.02  0.  ]]\n",
      "[[ 0.01 -0.03  0.  ]]\n",
      "[[ 0.   -0.03  0.  ]]\n",
      "[[ 0.01 -0.02  0.  ]]\n",
      "[[ 0.  0.  0.]]\n",
      "[[ 0.    0.01  0.  ]]\n",
      "[[ 0.01  0.01  0.  ]]\n",
      "[[ 0.  0.  0.]]\n",
      "[[ 0.   -0.05  0.  ]]\n",
      "[[ 0.   -0.05  0.  ]]\n",
      "[[ 0.01 -0.12  0.  ]]\n",
      "[[ 0.01 -0.12  0.  ]]\n",
      "[[ 0.  -0.1  0. ]]\n",
      "[[ 0.   -0.09  0.  ]]\n",
      "[[ 0.   -0.11  0.  ]]\n",
      "[[ 0.01 -0.1   0.  ]]\n",
      "[[ 0.   -0.13  0.  ]]\n",
      "[[ 0.   -0.14  0.  ]]\n",
      "[[-0.01 -0.14  0.  ]]\n",
      "[[ 0.   -0.14  0.  ]]\n",
      "[[ 0.02 -0.13  0.  ]]\n",
      "[[ 0.01 -0.12  0.  ]]\n",
      "[[ 0.01 -0.12  0.  ]]\n",
      "[[ 0.    0.99  0.  ]]\n",
      "[[ 0.   -0.07  0.  ]]\n",
      "[[-0.01 -0.06  0.  ]]\n",
      "[[-0.01  0.    0.  ]]\n",
      "[[ 0.  0.  0.]]\n",
      "[[ 0.   -0.04  0.  ]]\n",
      "[[-0.01 -0.04  0.  ]]\n",
      "[[-0.01  0.01  0.  ]]\n",
      "[[ 0.    0.01  0.  ]]\n",
      "[[-0.01 -0.03  0.  ]]\n",
      "[[-0.01 -0.03  0.  ]]\n",
      "[[ 0.   -0.03  0.  ]]\n",
      "[[ 0.   -0.03  0.  ]]\n",
      "[[ 0.   -0.02  0.  ]]\n",
      "[[ 0.   -0.01  0.  ]]\n",
      "[[ 0.   -0.02  0.  ]]\n",
      "[[-0.01 -0.02  0.  ]]\n",
      "[[-0.01  0.02  0.  ]]\n",
      "[[ 0.    0.02  0.  ]]\n",
      "[[ 0.   -0.04  0.  ]]\n",
      "[[ 0.   -0.04  0.  ]]\n",
      "[[-0.01 -0.03  0.  ]]\n",
      "[[-0.01 -0.04  0.  ]]\n",
      "[[ 0.    0.03  0.  ]]\n",
      "[[-0.01  0.03  0.  ]]\n",
      "[[ 0.    0.03  0.  ]]\n",
      "[[-0.01 -0.01  0.  ]]\n",
      "[[ 0.  0.  0.]]\n",
      "[[-0.01  0.    0.  ]]\n",
      "[[-0.01  0.    0.  ]]\n",
      "[[ 0.   -0.02  0.  ]]\n",
      "[[-0.01 -0.01  0.  ]]\n",
      "[[ 0.   -0.02  0.  ]]\n",
      "[[-0.01 -0.02  0.  ]]\n",
      "[[-0.01 -0.1   0.  ]]\n",
      "[[-0.01 -0.09  0.  ]]\n",
      "[[ 0.   -0.02  0.  ]]\n",
      "[[-0.01 -0.01  0.  ]]\n",
      "[[-0.01 -0.01  0.  ]]\n",
      "[[-0.01 -0.02  0.  ]]\n",
      "[[-0.01 -0.05  0.  ]]\n",
      "[[ 0.   -0.05  0.  ]]\n",
      "[[-0.01 -0.08  0.  ]]\n",
      "[[ 0.   -0.07  0.  ]]\n",
      "[[-0.01 -0.04  0.  ]]\n",
      "[[-0.01 -0.04  0.  ]]\n",
      "[[-0.01  0.03  0.  ]]\n",
      "[[ 0.    0.04  0.  ]]\n",
      "[[ 0.  0.  0.]]\n",
      "[[ 0.  0.  0.]]\n",
      "[[ 0.   -0.01  0.  ]]\n",
      "[[ 0.   -0.01  0.  ]]\n",
      "[[ 0.   -0.04  0.  ]]\n",
      "[[ 0.   -0.04  0.  ]]\n",
      "[[ 0.   -0.06  0.  ]]\n",
      "[[-0.01 -0.06  0.  ]]\n",
      "[[ 0.01 -0.12  0.  ]]\n",
      "[[ 0.01 -0.11  0.  ]]\n",
      "[[ 0.01  0.    0.  ]]\n",
      "[[ 0.  0.  0.]]\n",
      "[[ 0.   -0.01  0.  ]]\n",
      "[[ 0.01 -0.02  0.  ]]\n",
      "[[ 0.   0.1  0. ]]\n",
      "[[ 0.   0.1  0. ]]\n",
      "[[-0.01  0.16  0.  ]]\n",
      "[[-0.01  0.15  0.  ]]\n",
      "[[ 0.01  0.19  0.  ]]\n",
      "[[ 0.01  0.2   0.  ]]\n",
      "[[ 0.    0.02  0.  ]]\n",
      "[[ 0.01  0.01  0.  ]]\n",
      "[[ 0.    0.02  0.  ]]\n",
      "[[ 0.   -0.09  0.  ]]\n",
      "[[ 0.  -0.1  0. ]]\n",
      "[[ 0.   -0.08  0.  ]]\n",
      "[[ 0.   -0.08  0.  ]]\n",
      "[[ 0.    0.02  0.  ]]\n",
      "[[ 0.    0.01  0.  ]]\n",
      "[[-0.01  0.1   0.  ]]\n",
      "[[ 0.    0.11  0.  ]]\n",
      "[[ 0.    0.02  0.  ]]\n",
      "[[ 0.01  0.01  0.  ]]\n",
      "[[ 0.    0.05  0.  ]]\n",
      "[[ 0.01  0.04  0.  ]]\n",
      "[[ 0.01  0.07  0.  ]]\n",
      "[[ 0.    0.07  0.  ]]\n",
      "[[ 0.    0.04  0.  ]]\n",
      "[[ 0.01  0.03  0.  ]]\n",
      "[[ 0.   -0.06  0.  ]]\n",
      "[[ 0.   -0.06  0.  ]]\n",
      "[[ 0.   -0.16  0.  ]]\n",
      "[[ 0.   -0.15  0.  ]]\n",
      "[[ 0.01  0.02  0.  ]]\n",
      "[[ 0.    0.01  0.  ]]\n",
      "[[ 0.    0.17  0.  ]]\n",
      "[[ 0.01  0.16  0.  ]]\n",
      "[[ 0.01  0.04  0.  ]]\n",
      "[[ 0.    0.03  0.  ]]\n",
      "[[ 0.01  0.09  0.  ]]\n",
      "[[ 0.01  0.09  0.  ]]\n",
      "[[ 0.   -0.07  0.  ]]\n",
      "[[ 0.01 -0.07  0.  ]]\n",
      "[[ 0.   -0.05  0.  ]]\n",
      "[[ 0.   -0.05  0.  ]]\n",
      "[[ 0.    0.17  0.  ]]\n",
      "[[ 0.    0.18  0.  ]]\n",
      "[[ 0.01  0.5   0.  ]]\n",
      "[[ 0.    0.49  0.  ]]\n",
      "[[-0.02 -0.4   0.  ]]\n",
      "[[-0.01 -0.78  0.  ]]\n",
      "[[-0.01 -0.79  0.  ]]\n",
      "[[-0.01 -0.32  0.  ]]\n",
      "[[-0.01 -0.32  0.  ]]\n",
      "[[-0.01 -0.19  0.  ]]\n",
      "[[-0.01 -0.19  0.  ]]\n",
      "[[-0.01  0.04  0.  ]]\n",
      "[[-0.01  0.05  0.  ]]\n",
      "[[ 0.    0.56  0.  ]]\n",
      "[[ 0.    0.57  0.  ]]\n",
      "[[-0.01 -0.37  0.  ]]\n",
      "[[ 0.   -0.38  0.  ]]\n",
      "[[-0.01 -0.1   0.  ]]\n",
      "[[ 0.   -0.11  0.  ]]\n",
      "[[ 0.   0.3  0. ]]\n",
      "[[-0.01  0.3   0.  ]]\n",
      "[[-0.01 -0.35  0.  ]]\n",
      "[[ 0.   -0.36  0.  ]]\n",
      "[[ 0.   -0.12  0.  ]]\n",
      "[[-0.01 -0.11  0.  ]]\n",
      "[[-0.01  0.05  0.  ]]\n",
      "[[ 0.    0.05  0.  ]]\n",
      "[[ 0.    0.03  0.  ]]\n",
      "[[ 0.    0.04  0.  ]]\n",
      "[[ 0.   -0.09  0.  ]]\n",
      "[[-0.01 -0.09  0.  ]]\n",
      "[[ 0.   -0.24  0.  ]]\n",
      "[[ 0.   -0.23  0.  ]]\n",
      "[[ 0.   -0.23  0.  ]]\n",
      "[[ 0.   -0.24  0.  ]]\n",
      "[[ 0.01 -0.19  0.  ]]\n",
      "[[ 0.   -0.19  0.  ]]\n",
      "[[ 0.   -0.25  0.  ]]\n",
      "[[ 0.   -0.25  0.  ]]\n",
      "[[ 0.   -0.16  0.  ]]\n",
      "[[-0.01 -0.17  0.  ]]\n",
      "[[ 0.    0.04  0.  ]]\n",
      "[[ 0.    0.04  0.  ]]\n",
      "[[-0.01 -0.11  0.  ]]\n",
      "[[ 0.  -0.1  0. ]]\n",
      "[[ 0.   -0.15  0.  ]]\n",
      "[[ 0.   -0.15  0.  ]]\n",
      "[[ 0.   -0.13  0.  ]]\n",
      "[[ 0.   -0.13  0.  ]]\n",
      "[[ 0.   -0.13  0.  ]]\n",
      "[[-0.01 -0.13  0.  ]]\n",
      "[[ 0.    0.02  0.  ]]\n",
      "[[ 0.    0.01  0.  ]]\n",
      "[[ 0.   -0.21  0.  ]]\n",
      "[[ 0.   -0.21  0.  ]]\n",
      "[[ 0.01 -0.14  0.  ]]\n",
      "[[ 0.01 -0.14  0.  ]]\n",
      "[[ 0.   -0.17  0.  ]]\n",
      "[[ 0.   -0.16  0.  ]]\n",
      "[[ 0.01 -0.08  0.  ]]\n",
      "[[ 0.   -0.09  0.  ]]\n",
      "[[ 0.   -0.16  0.  ]]\n",
      "[[-0.01 -0.16  0.  ]]\n",
      "[[ 0.01 -0.21  0.  ]]\n",
      "[[ 0.01 -0.22  0.  ]]\n",
      "[[ 0.01 -0.24  0.  ]]\n",
      "[[ 0.02 -0.23  0.  ]]\n",
      "[[ 0.   -0.25  0.  ]]\n",
      "[[ 0.   -0.25  0.  ]]\n",
      "[[ 0.   -0.26  0.  ]]\n",
      "[[ 0.   -0.25  0.  ]]\n",
      "[[ 0.01 -0.19  0.  ]]\n",
      "[[ 0.01 -0.19  0.  ]]\n",
      "[[ 0.  -0.1  0. ]]\n",
      "[[ 0.01 -0.11  0.  ]]\n",
      "[[ 0.01 -0.07  0.  ]]\n",
      "[[ 0.01 -0.08  0.  ]]\n"
     ]
    },
    {
     "name": "stdout",
     "output_type": "stream",
     "text": [
      "[[ 0.01 -0.1   0.  ]]\n",
      "[[ 0.   -0.09  0.  ]]\n",
      "[[ 0.01 -0.04  0.  ]]\n",
      "[[ 0.01 -0.04  0.  ]]\n",
      "[[ 0.01 -0.03  0.  ]]\n",
      "[[ 0.01 -0.04  0.  ]]\n",
      "[[ 0.   -0.06  0.  ]]\n",
      "[[ 0.01 -0.06  0.  ]]\n",
      "[[ 0.   -0.06  0.  ]]\n",
      "[[ 0.01 -0.03  0.  ]]\n",
      "[[ 0.   -0.04  0.  ]]\n",
      "[[ 0.01 -0.03  0.  ]]\n",
      "[[ 0.01 -0.04  0.  ]]\n",
      "[[ 0.01 -0.02  0.  ]]\n",
      "[[ 0.01 -0.03  0.  ]]\n",
      "[[ 0.   -0.03  0.  ]]\n",
      "[[ 0.01 -0.02  0.  ]]\n",
      "[[ 0.  0.  0.]]\n",
      "[[ 0.    0.01  0.  ]]\n",
      "[[ 0.01  0.01  0.  ]]\n",
      "[[ 0.  0.  0.]]\n",
      "[[ 0.   -0.05  0.  ]]\n",
      "[[ 0.   -0.05  0.  ]]\n",
      "[[ 0.01 -0.12  0.  ]]\n",
      "[[ 0.01 -0.12  0.  ]]\n",
      "[[ 0.  -0.1  0. ]]\n",
      "[[ 0.   -0.09  0.  ]]\n",
      "[[ 0.   -0.11  0.  ]]\n",
      "[[ 0.01 -0.1   0.  ]]\n",
      "[[ 0.   -0.13  0.  ]]\n",
      "[[ 0.   -0.14  0.  ]]\n",
      "[[-0.01 -0.14  0.  ]]\n",
      "[[ 0.   -0.14  0.  ]]\n",
      "[[ 0.02 -0.13  0.  ]]\n",
      "[[ 0.01 -0.12  0.  ]]\n",
      "[[ 0.01 -0.12  0.  ]]\n",
      "[[ 0.    0.99  0.  ]]\n",
      "[[ 0.   -0.07  0.  ]]\n",
      "[[-0.01 -0.06  0.  ]]\n",
      "[[-0.01  0.    0.  ]]\n",
      "[[ 0.  0.  0.]]\n",
      "[[ 0.   -0.04  0.  ]]\n",
      "[[-0.01 -0.04  0.  ]]\n",
      "[[-0.01  0.01  0.  ]]\n",
      "[[ 0.    0.01  0.  ]]\n",
      "[[-0.01 -0.03  0.  ]]\n",
      "[[-0.01 -0.03  0.  ]]\n",
      "[[ 0.   -0.03  0.  ]]\n",
      "[[ 0.   -0.03  0.  ]]\n",
      "[[ 0.   -0.02  0.  ]]\n",
      "[[ 0.   -0.01  0.  ]]\n",
      "[[ 0.   -0.02  0.  ]]\n",
      "[[-0.01 -0.02  0.  ]]\n",
      "[[-0.01  0.02  0.  ]]\n",
      "[[ 0.    0.02  0.  ]]\n",
      "[[ 0.   -0.04  0.  ]]\n",
      "[[ 0.   -0.04  0.  ]]\n",
      "[[-0.01 -0.03  0.  ]]\n",
      "[[-0.01 -0.04  0.  ]]\n",
      "[[ 0.    0.03  0.  ]]\n",
      "[[-0.01  0.03  0.  ]]\n",
      "[[ 0.    0.03  0.  ]]\n",
      "[[-0.01 -0.01  0.  ]]\n",
      "[[ 0.  0.  0.]]\n",
      "[[-0.01  0.    0.  ]]\n",
      "[[-0.01  0.    0.  ]]\n",
      "[[ 0.   -0.02  0.  ]]\n",
      "[[-0.01 -0.01  0.  ]]\n",
      "[[ 0.   -0.02  0.  ]]\n",
      "[[-0.01 -0.02  0.  ]]\n",
      "[[-0.01 -0.1   0.  ]]\n",
      "[[-0.01 -0.09  0.  ]]\n",
      "[[ 0.   -0.02  0.  ]]\n",
      "[[-0.01 -0.01  0.  ]]\n",
      "[[-0.01 -0.01  0.  ]]\n",
      "[[-0.01 -0.02  0.  ]]\n",
      "[[-0.01 -0.05  0.  ]]\n",
      "[[ 0.   -0.05  0.  ]]\n",
      "[[-0.01 -0.08  0.  ]]\n",
      "[[ 0.   -0.07  0.  ]]\n",
      "[[-0.01 -0.04  0.  ]]\n",
      "[[-0.01 -0.04  0.  ]]\n",
      "[[-0.01  0.03  0.  ]]\n",
      "[[ 0.    0.04  0.  ]]\n",
      "[[ 0.  0.  0.]]\n",
      "[[ 0.  0.  0.]]\n",
      "[[ 0.   -0.01  0.  ]]\n",
      "[[ 0.   -0.01  0.  ]]\n",
      "[[ 0.   -0.04  0.  ]]\n",
      "[[ 0.   -0.04  0.  ]]\n",
      "[[ 0.   -0.06  0.  ]]\n",
      "[[-0.01 -0.06  0.  ]]\n",
      "[[ 0.01 -0.12  0.  ]]\n",
      "[[ 0.01 -0.11  0.  ]]\n",
      "[[ 0.01  0.    0.  ]]\n",
      "[[ 0.  0.  0.]]\n",
      "[[ 0.   -0.01  0.  ]]\n",
      "[[ 0.01 -0.02  0.  ]]\n",
      "[[ 0.   0.1  0. ]]\n",
      "[[ 0.   0.1  0. ]]\n",
      "[[-0.01  0.16  0.  ]]\n",
      "[[-0.01  0.15  0.  ]]\n",
      "[[ 0.01  0.19  0.  ]]\n",
      "[[ 0.01  0.2   0.  ]]\n",
      "[[ 0.    0.02  0.  ]]\n",
      "[[ 0.01  0.01  0.  ]]\n",
      "[[ 0.    0.02  0.  ]]\n",
      "[[ 0.   -0.09  0.  ]]\n",
      "[[ 0.  -0.1  0. ]]\n",
      "[[ 0.   -0.08  0.  ]]\n",
      "[[ 0.   -0.08  0.  ]]\n",
      "[[ 0.    0.02  0.  ]]\n",
      "[[ 0.    0.01  0.  ]]\n",
      "[[-0.01  0.1   0.  ]]\n",
      "[[ 0.    0.11  0.  ]]\n",
      "[[ 0.    0.02  0.  ]]\n",
      "[[ 0.01  0.01  0.  ]]\n",
      "[[ 0.    0.05  0.  ]]\n",
      "[[ 0.01  0.04  0.  ]]\n",
      "[[ 0.01  0.07  0.  ]]\n",
      "[[ 0.    0.07  0.  ]]\n",
      "[[ 0.    0.04  0.  ]]\n",
      "[[ 0.01  0.03  0.  ]]\n",
      "[[ 0.   -0.06  0.  ]]\n",
      "[[ 0.   -0.06  0.  ]]\n",
      "[[ 0.   -0.16  0.  ]]\n",
      "[[ 0.   -0.15  0.  ]]\n",
      "[[ 0.01  0.02  0.  ]]\n",
      "[[ 0.    0.01  0.  ]]\n",
      "[[ 0.    0.17  0.  ]]\n",
      "[[ 0.01  0.16  0.  ]]\n",
      "[[ 0.01  0.04  0.  ]]\n",
      "[[ 0.    0.03  0.  ]]\n",
      "[[ 0.01  0.09  0.  ]]\n",
      "[[ 0.01  0.09  0.  ]]\n",
      "[[ 0.   -0.07  0.  ]]\n",
      "[[ 0.01 -0.07  0.  ]]\n",
      "[[ 0.   -0.05  0.  ]]\n",
      "[[ 0.   -0.05  0.  ]]\n",
      "[[ 0.    0.17  0.  ]]\n",
      "[[ 0.    0.18  0.  ]]\n",
      "[[ 0.01  0.5   0.  ]]\n",
      "[[ 0.    0.49  0.  ]]\n",
      "[[ 0.    0.52  0.  ]]\n",
      "[[ 0.01  0.52  0.  ]]\n",
      "[[ 0.01  0.64  0.  ]]\n",
      "[[ 0.    0.63  0.  ]]\n",
      "[[ 0.    0.52  0.  ]]\n",
      "[[ 0.01  0.51  0.  ]]\n",
      "[[ 0.01  0.83  0.  ]]\n",
      "[[ 0.    0.82  0.  ]]\n",
      "[[ 0.01 -0.17  0.  ]]\n",
      "[[ 0.01 -0.17  0.  ]]\n",
      "[[ 0.01 -0.09  0.  ]]\n",
      "[[ 0.01 -0.09  0.  ]]\n",
      "[[ 0.01  0.44  0.  ]]\n",
      "[[ 0.    0.43  0.  ]]\n",
      "[[ 0.01  0.44  0.  ]]\n",
      "[[ 0.  -0.4  0. ]]\n",
      "[[ 0.01 -0.4   0.  ]]\n",
      "[[ 0.01 -0.19  0.  ]]\n",
      "[[ 0.   -0.18  0.  ]]\n",
      "[[ 0.01  0.21  0.  ]]\n",
      "[[ 0.01  0.2   0.  ]]\n",
      "[[ 0.   -0.06  0.  ]]\n",
      "[[ 0.01 -0.06  0.  ]]\n",
      "[[ 0.01  0.15  0.  ]]\n",
      "[[ 0.    0.14  0.  ]]\n",
      "[[ 0.   0.6  0. ]]\n",
      "[[-0.01  0.61  0.  ]]\n",
      "[[ 0.  -0.4  0. ]]\n",
      "[[ 0.  -0.4  0. ]]\n",
      "[[ 0.    1.59  0.  ]]\n",
      "[[ 0.    1.59  0.  ]]\n",
      "[[ 0.01  0.42  0.  ]]\n",
      "[[ 0.    0.42  0.  ]]\n",
      "[[ 0.   -0.49  0.  ]]\n",
      "[[ 0.   -0.49  0.  ]]\n",
      "[[ 0.    0.85  0.  ]]\n",
      "[[ 0.    0.86  0.  ]]\n",
      "[[ 0.    0.66  0.  ]]\n",
      "[[ 0.01  0.65  0.  ]]\n",
      "[[ 0.   -1.06  0.  ]]\n",
      "[[ 0.01 -1.06  0.  ]]\n",
      "[[-0.01  0.34  0.  ]]\n",
      "[[-0.01  0.34  0.  ]]\n",
      "[[ 0.    0.35  0.  ]]\n",
      "[[ 0.    0.35  0.  ]]\n",
      "[[ 0.    0.57  0.  ]]\n",
      "[[-0.01  0.57  0.  ]]\n",
      "[[-0.01  0.53  0.  ]]\n",
      "[[-0.01  0.54  0.  ]]\n",
      "[[ 0.01 -0.18  0.  ]]\n",
      "[[ 0.   -0.19  0.  ]]\n",
      "[[-0.01 -0.07  0.  ]]\n",
      "[[-0.01 -0.08  0.  ]]\n",
      "[[-0.01  0.34  0.  ]]\n",
      "[[-0.01  0.34  0.  ]]\n",
      "[[-0.01 -0.44  0.  ]]\n",
      "[[-0.01 -0.45  0.  ]]\n",
      "[[ 0.   -0.53  0.  ]]\n",
      "[[-0.01 -0.52  0.  ]]\n",
      "[[-0.01 -0.44  0.  ]]\n",
      "[[-0.01 -0.45  0.  ]]\n",
      "[[ 0.   -0.81  0.  ]]\n",
      "[[ 0.   -0.81  0.  ]]\n",
      "[[-0.01 -0.4   0.  ]]\n",
      "[[ 0.  -0.4  0. ]]\n",
      "[[ 0.    0.83  0.  ]]\n",
      "[[-0.01  0.84  0.  ]]\n",
      "[[-0.01  0.43  0.  ]]\n",
      "[[ 0.    0.43  0.  ]]\n",
      "[[ 0.   0.3  0. ]]\n",
      "[[-0.01  0.29  0.  ]]\n",
      "[[-0.01 -0.41  0.  ]]\n",
      "[[-0.02 -0.4   0.  ]]\n",
      "[[-0.01 -0.78  0.  ]]\n",
      "[[-0.01 -0.79  0.  ]]\n",
      "[[-0.01 -0.32  0.  ]]\n",
      "[[-0.01 -0.32  0.  ]]\n",
      "[[-0.01 -0.19  0.  ]]\n",
      "[[-0.01 -0.19  0.  ]]\n",
      "[[-0.01  0.04  0.  ]]\n",
      "[[-0.01  0.05  0.  ]]\n",
      "[[ 0.    0.56  0.  ]]\n",
      "[[ 0.    0.57  0.  ]]\n",
      "[[-0.01 -0.37  0.  ]]\n",
      "[[ 0.   -0.38  0.  ]]\n",
      "[[-0.01 -0.1   0.  ]]\n",
      "[[ 0.   -0.11  0.  ]]\n",
      "[[ 0.   0.3  0. ]]\n",
      "[[-0.01  0.3   0.  ]]\n",
      "[[-0.01 -0.35  0.  ]]\n",
      "[[ 0.   -0.36  0.  ]]\n",
      "[[ 0.   -0.12  0.  ]]\n",
      "[[-0.01 -0.11  0.  ]]\n",
      "[[-0.01  0.05  0.  ]]\n",
      "[[ 0.    0.05  0.  ]]\n",
      "[[ 0.    0.03  0.  ]]\n",
      "[[ 0.    0.04  0.  ]]\n",
      "[[ 0.   -0.09  0.  ]]\n",
      "[[-0.01 -0.09  0.  ]]\n",
      "[[ 0.   -0.24  0.  ]]\n",
      "[[ 0.   -0.23  0.  ]]\n",
      "[[ 0.   -0.23  0.  ]]\n",
      "[[ 0.   -0.24  0.  ]]\n",
      "[[ 0.01 -0.19  0.  ]]\n",
      "[[ 0.   -0.19  0.  ]]\n",
      "[[ 0.   -0.25  0.  ]]\n",
      "[[ 0.   -0.25  0.  ]]\n",
      "[[ 0.   -0.16  0.  ]]\n",
      "[[-0.01 -0.17  0.  ]]\n",
      "[[ 0.    0.04  0.  ]]\n",
      "[[ 0.    0.04  0.  ]]\n",
      "[[-0.01 -0.11  0.  ]]\n",
      "[[ 0.  -0.1  0. ]]\n",
      "[[ 0.   -0.15  0.  ]]\n",
      "[[ 0.   -0.15  0.  ]]\n",
      "[[ 0.   -0.13  0.  ]]\n",
      "[[ 0.   -0.13  0.  ]]\n",
      "[[ 0.   -0.13  0.  ]]\n",
      "[[-0.01 -0.13  0.  ]]\n",
      "[[ 0.    0.02  0.  ]]\n",
      "[[ 0.    0.01  0.  ]]\n",
      "[[ 0.   -0.21  0.  ]]\n",
      "[[ 0.   -0.21  0.  ]]\n",
      "[[ 0.01 -0.14  0.  ]]\n",
      "[[ 0.01 -0.14  0.  ]]\n",
      "[[ 0.   -0.17  0.  ]]\n",
      "[[ 0.   -0.16  0.  ]]\n",
      "[[ 0.01 -0.08  0.  ]]\n",
      "[[ 0.   -0.09  0.  ]]\n",
      "[[ 0.   -0.16  0.  ]]\n",
      "[[-0.01 -0.16  0.  ]]\n",
      "[[ 0.01 -0.21  0.  ]]\n",
      "[[ 0.01 -0.22  0.  ]]\n",
      "[[ 0.01 -0.24  0.  ]]\n",
      "[[ 0.02 -0.23  0.  ]]\n",
      "[[ 0.   -0.25  0.  ]]\n",
      "[[ 0.   -0.25  0.  ]]\n",
      "[[ 0.   -0.26  0.  ]]\n",
      "[[ 0.   -0.25  0.  ]]\n",
      "[[ 0.01 -0.19  0.  ]]\n",
      "[[ 0.01 -0.19  0.  ]]\n",
      "[[ 0.  -0.1  0. ]]\n",
      "[[ 0.01 -0.11  0.  ]]\n",
      "[[ 0.01 -0.07  0.  ]]\n",
      "[[ 0.01 -0.08  0.  ]]\n",
      "[[ 0.01 -0.1   0.  ]]\n",
      "[[ 0.   -0.09  0.  ]]\n",
      "[[ 0.01 -0.04  0.  ]]\n",
      "[[ 0.01 -0.04  0.  ]]\n",
      "[[ 0.01 -0.03  0.  ]]\n",
      "[[ 0.01 -0.04  0.  ]]\n",
      "[[ 0.   -0.06  0.  ]]\n",
      "[[ 0.01 -0.06  0.  ]]\n",
      "[[ 0.   -0.06  0.  ]]\n",
      "[[ 0.01 -0.03  0.  ]]\n",
      "[[ 0.   -0.04  0.  ]]\n",
      "[[ 0.01 -0.03  0.  ]]\n",
      "[[ 0.01 -0.04  0.  ]]\n",
      "[[ 0.01 -0.02  0.  ]]\n",
      "[[ 0.01 -0.03  0.  ]]\n",
      "[[ 0.   -0.03  0.  ]]\n",
      "[[ 0.01 -0.02  0.  ]]\n",
      "[[ 0.  0.  0.]]\n",
      "[[ 0.    0.01  0.  ]]\n",
      "[[ 0.01  0.01  0.  ]]\n",
      "[[ 0.  0.  0.]]\n",
      "[[ 0.   -0.05  0.  ]]\n",
      "[[ 0.   -0.05  0.  ]]\n",
      "[[ 0.01 -0.12  0.  ]]\n",
      "[[ 0.01 -0.12  0.  ]]\n",
      "[[ 0.  -0.1  0. ]]\n",
      "[[ 0.   -0.09  0.  ]]\n",
      "[[ 0.   -0.11  0.  ]]\n",
      "[[ 0.01 -0.1   0.  ]]\n",
      "[[ 0.   -0.13  0.  ]]\n",
      "[[ 0.   -0.14  0.  ]]\n",
      "[[-0.01 -0.14  0.  ]]\n",
      "[[ 0.   -0.14  0.  ]]\n",
      "[[ 0.02 -0.13  0.  ]]\n",
      "[[ 0.01 -0.12  0.  ]]\n",
      "[[ 0.01 -0.12  0.  ]]\n",
      "[[ 0.    0.99  0.  ]]\n",
      "[[ 0.   -0.07  0.  ]]\n",
      "[[-0.01 -0.06  0.  ]]\n",
      "[[-0.01  0.    0.  ]]\n",
      "[[ 0.  0.  0.]]\n",
      "[[ 0.   -0.04  0.  ]]\n",
      "[[-0.01 -0.04  0.  ]]\n",
      "[[-0.01  0.01  0.  ]]\n",
      "[[ 0.    0.01  0.  ]]\n",
      "[[-0.01 -0.03  0.  ]]\n",
      "[[-0.01 -0.03  0.  ]]\n",
      "[[ 0.   -0.03  0.  ]]\n",
      "[[ 0.   -0.03  0.  ]]\n",
      "[[ 0.   -0.02  0.  ]]\n",
      "[[ 0.   -0.01  0.  ]]\n",
      "[[ 0.   -0.02  0.  ]]\n",
      "[[-0.01 -0.02  0.  ]]\n",
      "[[-0.01  0.02  0.  ]]\n",
      "[[ 0.    0.02  0.  ]]\n",
      "[[ 0.   -0.04  0.  ]]\n",
      "[[ 0.   -0.04  0.  ]]\n",
      "[[-0.01 -0.03  0.  ]]\n",
      "[[-0.01 -0.04  0.  ]]\n",
      "[[ 0.    0.03  0.  ]]\n",
      "[[-0.01  0.03  0.  ]]\n",
      "[[ 0.    0.03  0.  ]]\n",
      "[[-0.01 -0.01  0.  ]]\n",
      "[[ 0.  0.  0.]]\n",
      "[[-0.01  0.    0.  ]]\n",
      "[[-0.01  0.    0.  ]]\n",
      "[[ 0.   -0.02  0.  ]]\n",
      "[[-0.01 -0.01  0.  ]]\n",
      "[[ 0.   -0.02  0.  ]]\n",
      "[[-0.01 -0.02  0.  ]]\n",
      "[[-0.01 -0.1   0.  ]]\n",
      "[[-0.01 -0.09  0.  ]]\n",
      "[[ 0.   -0.02  0.  ]]\n",
      "[[-0.01 -0.01  0.  ]]\n",
      "[[-0.01 -0.01  0.  ]]\n",
      "[[-0.01 -0.02  0.  ]]\n",
      "[[-0.01 -0.05  0.  ]]\n",
      "[[ 0.   -0.05  0.  ]]\n",
      "[[-0.01 -0.08  0.  ]]\n",
      "[[ 0.   -0.07  0.  ]]\n",
      "[[-0.01 -0.04  0.  ]]\n",
      "[[-0.01 -0.04  0.  ]]\n",
      "[[-0.01  0.03  0.  ]]\n",
      "[[ 0.    0.04  0.  ]]\n",
      "[[ 0.  0.  0.]]\n",
      "[[ 0.  0.  0.]]\n",
      "[[ 0.   -0.01  0.  ]]\n",
      "[[ 0.   -0.01  0.  ]]\n",
      "[[ 0.   -0.04  0.  ]]\n",
      "[[ 0.   -0.04  0.  ]]\n",
      "[[ 0.   -0.06  0.  ]]\n",
      "[[-0.01 -0.06  0.  ]]\n",
      "[[ 0.01 -0.12  0.  ]]\n",
      "[[ 0.01 -0.11  0.  ]]\n",
      "[[ 0.01  0.    0.  ]]\n",
      "[[ 0.  0.  0.]]\n",
      "[[ 0.   -0.01  0.  ]]\n",
      "[[ 0.01 -0.02  0.  ]]\n",
      "[[ 0.   0.1  0. ]]\n",
      "[[ 0.   0.1  0. ]]\n",
      "[[-0.01  0.16  0.  ]]\n",
      "[[-0.01  0.15  0.  ]]\n",
      "[[ 0.01  0.19  0.  ]]\n",
      "[[ 0.01  0.2   0.  ]]\n",
      "[[ 0.    0.02  0.  ]]\n",
      "[[ 0.01  0.01  0.  ]]\n",
      "[[ 0.    0.02  0.  ]]\n",
      "[[ 0.   -0.09  0.  ]]\n",
      "[[ 0.  -0.1  0. ]]\n",
      "[[ 0.   -0.08  0.  ]]\n",
      "[[ 0.   -0.08  0.  ]]\n",
      "[[ 0.    0.02  0.  ]]\n",
      "[[ 0.    0.01  0.  ]]\n",
      "[[-0.01  0.1   0.  ]]\n",
      "[[ 0.    0.11  0.  ]]\n",
      "[[ 0.    0.02  0.  ]]\n",
      "[[ 0.01  0.01  0.  ]]\n",
      "[[ 0.    0.05  0.  ]]\n",
      "[[ 0.01  0.04  0.  ]]\n",
      "[[ 0.01  0.07  0.  ]]\n",
      "[[ 0.    0.07  0.  ]]\n",
      "[[ 0.    0.04  0.  ]]\n",
      "[[ 0.01  0.03  0.  ]]\n",
      "[[ 0.   -0.06  0.  ]]\n",
      "[[ 0.   -0.06  0.  ]]\n",
      "[[ 0.   -0.16  0.  ]]\n",
      "[[ 0.   -0.15  0.  ]]\n",
      "[[ 0.01  0.02  0.  ]]\n",
      "[[ 0.    0.01  0.  ]]\n",
      "[[ 0.    0.17  0.  ]]\n",
      "[[ 0.01  0.16  0.  ]]\n",
      "[[ 0.01  0.04  0.  ]]\n",
      "[[ 0.    0.03  0.  ]]\n",
      "[[ 0.01  0.09  0.  ]]\n",
      "[[ 0.01  0.09  0.  ]]\n",
      "[[ 0.   -0.07  0.  ]]\n",
      "[[ 0.01 -0.07  0.  ]]\n",
      "[[ 0.   -0.05  0.  ]]\n",
      "[[ 0.   -0.05  0.  ]]\n",
      "[[ 0.    0.17  0.  ]]\n",
      "[[ 0.    0.18  0.  ]]\n",
      "[[ 0.01  0.5   0.  ]]\n",
      "[[ 0.    0.49  0.  ]]\n",
      "[[ 0.    0.52  0.  ]]\n",
      "[[ 0.01  0.52  0.  ]]\n",
      "[[ 0.01  0.64  0.  ]]\n",
      "[[ 0.    0.63  0.  ]]\n",
      "[[ 0.    0.52  0.  ]]\n",
      "[[ 0.01  0.51  0.  ]]\n",
      "[[ 0.01  0.83  0.  ]]\n",
      "[[ 0.    0.82  0.  ]]\n",
      "[[ 0.01 -0.17  0.  ]]\n",
      "[[ 0.01 -0.17  0.  ]]\n",
      "[[ 0.01 -0.09  0.  ]]\n",
      "[[ 0.01 -0.09  0.  ]]\n",
      "[[ 0.01  0.44  0.  ]]\n",
      "[[ 0.    0.43  0.  ]]\n",
      "[[ 0.01  0.44  0.  ]]\n",
      "[[ 0.  -0.4  0. ]]\n",
      "[[ 0.01 -0.4   0.  ]]\n",
      "[[ 0.01 -0.19  0.  ]]\n",
      "[[ 0.   -0.18  0.  ]]\n",
      "[[ 0.01  0.21  0.  ]]\n",
      "[[ 0.01  0.2   0.  ]]\n",
      "[[ 0.   -0.06  0.  ]]\n",
      "[[ 0.01 -0.06  0.  ]]\n",
      "[[ 0.01  0.15  0.  ]]\n",
      "[[ 0.    0.14  0.  ]]\n",
      "[[ 0.   0.6  0. ]]\n",
      "[[-0.01  0.61  0.  ]]\n"
     ]
    },
    {
     "name": "stdout",
     "output_type": "stream",
     "text": [
      "[[ 0.  -0.4  0. ]]\n",
      "[[ 0.  -0.4  0. ]]\n",
      "[[ 0.    1.59  0.  ]]\n",
      "[[ 0.    1.59  0.  ]]\n",
      "[[ 0.01  0.42  0.  ]]\n",
      "[[ 0.    0.42  0.  ]]\n",
      "[[ 0.   -0.49  0.  ]]\n",
      "[[ 0.   -0.49  0.  ]]\n",
      "[[ 0.    0.85  0.  ]]\n",
      "[[ 0.    0.86  0.  ]]\n",
      "[[ 0.    0.66  0.  ]]\n",
      "[[ 0.01  0.65  0.  ]]\n",
      "[[ 0.   -1.06  0.  ]]\n",
      "[[ 0.01 -1.06  0.  ]]\n",
      "[[-0.01  0.34  0.  ]]\n",
      "[[-0.01  0.34  0.  ]]\n",
      "[[ 0.    0.35  0.  ]]\n",
      "[[ 0.    0.35  0.  ]]\n",
      "[[ 0.    0.57  0.  ]]\n",
      "[[-0.01  0.57  0.  ]]\n",
      "[[-0.01  0.53  0.  ]]\n",
      "[[-0.01  0.54  0.  ]]\n",
      "[[ 0.01 -0.18  0.  ]]\n",
      "[[ 0.   -0.19  0.  ]]\n",
      "[[-0.01 -0.07  0.  ]]\n",
      "[[-0.01 -0.08  0.  ]]\n",
      "[[-0.01  0.34  0.  ]]\n",
      "[[-0.01  0.34  0.  ]]\n",
      "[[-0.01 -0.44  0.  ]]\n",
      "[[-0.01 -0.45  0.  ]]\n",
      "[[ 0.   -0.53  0.  ]]\n",
      "[[-0.01 -0.52  0.  ]]\n",
      "[[-0.01 -0.44  0.  ]]\n",
      "[[-0.01 -0.45  0.  ]]\n",
      "[[ 0.   -0.81  0.  ]]\n",
      "[[ 0.   -0.81  0.  ]]\n",
      "[[-0.01 -0.4   0.  ]]\n",
      "[[ 0.  -0.4  0. ]]\n",
      "[[ 0.    0.83  0.  ]]\n",
      "[[-0.01  0.84  0.  ]]\n",
      "[[-0.01  0.43  0.  ]]\n",
      "[[ 0.    0.43  0.  ]]\n",
      "[[ 0.   0.3  0. ]]\n",
      "[[-0.01  0.29  0.  ]]\n",
      "[[-0.01 -0.41  0.  ]]\n",
      "[[-0.02 -0.4   0.  ]]\n",
      "[[-0.01 -0.78  0.  ]]\n",
      "[[-0.01 -0.79  0.  ]]\n",
      "[[-0.01 -0.32  0.  ]]\n",
      "[[-0.01 -0.32  0.  ]]\n",
      "[[-0.01 -0.19  0.  ]]\n",
      "[[-0.01 -0.19  0.  ]]\n",
      "[[-0.01  0.04  0.  ]]\n",
      "[[-0.01  0.05  0.  ]]\n",
      "[[ 0.    0.56  0.  ]]\n",
      "[[ 0.    0.57  0.  ]]\n",
      "[[-0.01 -0.37  0.  ]]\n",
      "[[ 0.   -0.38  0.  ]]\n",
      "[[-0.01 -0.1   0.  ]]\n",
      "[[ 0.   -0.11  0.  ]]\n",
      "[[ 0.   0.3  0. ]]\n",
      "[[-0.01  0.3   0.  ]]\n",
      "[[-0.01 -0.35  0.  ]]\n",
      "[[ 0.   -0.36  0.  ]]\n",
      "[[ 0.   -0.12  0.  ]]\n",
      "[[-0.01 -0.11  0.  ]]\n",
      "[[-0.01  0.05  0.  ]]\n",
      "[[ 0.    0.05  0.  ]]\n",
      "[[ 0.    0.03  0.  ]]\n",
      "[[ 0.    0.04  0.  ]]\n",
      "[[ 0.   -0.09  0.  ]]\n",
      "[[-0.01 -0.09  0.  ]]\n",
      "[[ 0.   -0.24  0.  ]]\n",
      "[[ 0.   -0.23  0.  ]]\n",
      "[[ 0.   -0.23  0.  ]]\n",
      "[[ 0.   -0.24  0.  ]]\n",
      "[[ 0.01 -0.19  0.  ]]\n",
      "[[ 0.   -0.19  0.  ]]\n",
      "[[ 0.   -0.25  0.  ]]\n",
      "[[ 0.   -0.25  0.  ]]\n",
      "[[ 0.   -0.16  0.  ]]\n",
      "[[-0.01 -0.17  0.  ]]\n",
      "[[ 0.   -0.09  0.  ]]\n",
      "[[ 0.01 -0.04  0.  ]]\n",
      "[[ 0.01 -0.04  0.  ]]\n",
      "[[ 0.01 -0.03  0.  ]]\n",
      "[[ 0.01 -0.04  0.  ]]\n",
      "[[ 0.   -0.06  0.  ]]\n",
      "[[ 0.01 -0.06  0.  ]]\n",
      "[[ 0.   -0.06  0.  ]]\n",
      "[[ 0.01 -0.03  0.  ]]\n",
      "[[ 0.   -0.04  0.  ]]\n",
      "[[ 0.01 -0.03  0.  ]]\n",
      "[[ 0.01 -0.04  0.  ]]\n",
      "[[ 0.01 -0.02  0.  ]]\n",
      "[[ 0.01 -0.03  0.  ]]\n",
      "[[ 0.   -0.03  0.  ]]\n",
      "[[ 0.01 -0.02  0.  ]]\n",
      "[[ 0.  0.  0.]]\n",
      "[[ 0.    0.01  0.  ]]\n",
      "[[ 0.01  0.01  0.  ]]\n",
      "[[ 0.  0.  0.]]\n",
      "[[ 0.   -0.05  0.  ]]\n",
      "[[ 0.   -0.05  0.  ]]\n",
      "[[ 0.01 -0.12  0.  ]]\n",
      "[[ 0.01 -0.12  0.  ]]\n",
      "[[ 0.  -0.1  0. ]]\n",
      "[[ 0.   -0.09  0.  ]]\n",
      "[[ 0.   -0.11  0.  ]]\n",
      "[[ 0.01 -0.1   0.  ]]\n",
      "[[ 0.   -0.13  0.  ]]\n",
      "[[ 0.   -0.14  0.  ]]\n",
      "[[-0.01 -0.14  0.  ]]\n",
      "[[ 0.   -0.14  0.  ]]\n",
      "[[ 0.02 -0.13  0.  ]]\n",
      "[[ 0.01 -0.12  0.  ]]\n",
      "[[ 0.01 -0.12  0.  ]]\n",
      "[[ 0.    0.99  0.  ]]\n"
     ]
    },
    {
     "data": {
      "text/plain": [
       "39.628363065719604"
      ]
     },
     "metadata": {},
     "output_type": "display_data"
    },
    {
     "data": {
      "text/plain": [
       "39.609794549942016"
      ]
     },
     "metadata": {},
     "output_type": "display_data"
    },
    {
     "data": {
      "text/plain": [
       "39.588189833164215"
      ]
     },
     "metadata": {},
     "output_type": "display_data"
    },
    {
     "data": {
      "text/plain": [
       "39.566789739131927"
      ]
     },
     "metadata": {},
     "output_type": "display_data"
    },
    {
     "data": {
      "text/plain": [
       "39.554567806720733"
      ]
     },
     "metadata": {},
     "output_type": "display_data"
    },
    {
     "data": {
      "text/plain": [
       "39.535999290943145"
      ]
     },
     "metadata": {},
     "output_type": "display_data"
    },
    {
     "data": {
      "text/plain": [
       "39.514394574165344"
      ]
     },
     "metadata": {},
     "output_type": "display_data"
    },
    {
     "data": {
      "text/plain": [
       "39.489333086013794"
      ]
     },
     "metadata": {},
     "output_type": "display_data"
    },
    {
     "data": {
      "text/plain": [
       "39.473073832988739"
      ]
     },
     "metadata": {},
     "output_type": "display_data"
    },
    {
     "data": {
      "text/plain": [
       "39.451469116210937"
      ]
     },
     "metadata": {},
     "output_type": "display_data"
    },
    {
     "data": {
      "text/plain": [
       "39.429864399433136"
      ]
     },
     "metadata": {},
     "output_type": "display_data"
    },
    {
     "data": {
      "text/plain": [
       "39.411295883655548"
      ]
     },
     "metadata": {},
     "output_type": "display_data"
    },
    {
     "data": {
      "text/plain": [
       "39.39272736787796"
      ]
     },
     "metadata": {},
     "output_type": "display_data"
    },
    {
     "data": {
      "text/plain": [
       "39.374158852100372"
      ]
     },
     "metadata": {},
     "output_type": "display_data"
    },
    {
     "data": {
      "text/plain": [
       "39.355590336322784"
      ]
     },
     "metadata": {},
     "output_type": "display_data"
    },
    {
     "data": {
      "text/plain": [
       "39.337021820545196"
      ]
     },
     "metadata": {},
     "output_type": "display_data"
    },
    {
     "data": {
      "text/plain": [
       "39.315417103767395"
      ]
     },
     "metadata": {},
     "output_type": "display_data"
    },
    {
     "data": {
      "text/plain": [
       "39.28681688785553"
      ]
     },
     "metadata": {},
     "output_type": "display_data"
    },
    {
     "data": {
      "text/plain": [
       "39.26701890707016"
      ]
     },
     "metadata": {},
     "output_type": "display_data"
    },
    {
     "data": {
      "text/plain": [
       "39.248450391292572"
      ]
     },
     "metadata": {},
     "output_type": "display_data"
    },
    {
     "data": {
      "text/plain": [
       "39.229881875514984"
      ]
     },
     "metadata": {},
     "output_type": "display_data"
    },
    {
     "data": {
      "text/plain": [
       "39.208277158737182"
      ]
     },
     "metadata": {},
     "output_type": "display_data"
    },
    {
     "data": {
      "text/plain": [
       "39.186672441959381"
      ]
     },
     "metadata": {},
     "output_type": "display_data"
    },
    {
     "data": {
      "text/plain": [
       "39.167543702125549"
      ]
     },
     "metadata": {},
     "output_type": "display_data"
    },
    {
     "data": {
      "text/plain": [
       "39.139612727165222"
      ]
     },
     "metadata": {},
     "output_type": "display_data"
    },
    {
     "data": {
      "text/plain": [
       "39.12048398733139"
      ]
     },
     "metadata": {},
     "output_type": "display_data"
    },
    {
     "data": {
      "text/plain": [
       "39.098879270553589"
      ]
     },
     "metadata": {},
     "output_type": "display_data"
    },
    {
     "data": {
      "text/plain": [
       "39.086657338142395"
      ]
     },
     "metadata": {},
     "output_type": "display_data"
    },
    {
     "data": {
      "text/plain": [
       "39.065257244110107"
      ]
     },
     "metadata": {},
     "output_type": "display_data"
    },
    {
     "data": {
      "text/plain": [
       "39.04385715007782"
      ]
     },
     "metadata": {},
     "output_type": "display_data"
    },
    {
     "data": {
      "text/plain": [
       "39.025288634300232"
      ]
     },
     "metadata": {},
     "output_type": "display_data"
    },
    {
     "data": {
      "text/plain": [
       "39.00368391752243"
      ]
     },
     "metadata": {},
     "output_type": "display_data"
    },
    {
     "data": {
      "text/plain": [
       "38.985115401744842"
      ]
     },
     "metadata": {},
     "output_type": "display_data"
    },
    {
     "data": {
      "text/plain": [
       "38.963510684967041"
      ]
     },
     "metadata": {},
     "output_type": "display_data"
    },
    {
     "data": {
      "text/plain": [
       "38.941905968189239"
      ]
     },
     "metadata": {},
     "output_type": "display_data"
    },
    {
     "data": {
      "text/plain": [
       "38.920301251411438"
      ]
     },
     "metadata": {},
     "output_type": "display_data"
    },
    {
     "data": {
      "text/plain": [
       "38.90173273563385"
      ]
     },
     "metadata": {},
     "output_type": "display_data"
    },
    {
     "data": {
      "text/plain": [
       "38.880128018856048"
      ]
     },
     "metadata": {},
     "output_type": "display_data"
    },
    {
     "data": {
      "text/plain": [
       "38.858523302078247"
      ]
     },
     "metadata": {},
     "output_type": "display_data"
    },
    {
     "data": {
      "text/plain": [
       "38.836918585300445"
      ]
     },
     "metadata": {},
     "output_type": "display_data"
    },
    {
     "data": {
      "text/plain": [
       "38.815313868522644"
      ]
     },
     "metadata": {},
     "output_type": "display_data"
    },
    {
     "data": {
      "text/plain": [
       "38.796745352745056"
      ]
     },
     "metadata": {},
     "output_type": "display_data"
    },
    {
     "data": {
      "text/plain": [
       "38.775140635967254"
      ]
     },
     "metadata": {},
     "output_type": "display_data"
    },
    {
     "data": {
      "text/plain": [
       "38.756572120189666"
      ]
     },
     "metadata": {},
     "output_type": "display_data"
    },
    {
     "data": {
      "text/plain": [
       "38.734967403411865"
      ]
     },
     "metadata": {},
     "output_type": "display_data"
    },
    {
     "data": {
      "text/plain": [
       "38.713362686634063"
      ]
     },
     "metadata": {},
     "output_type": "display_data"
    },
    {
     "data": {
      "text/plain": [
       "38.685431711673736"
      ]
     },
     "metadata": {},
     "output_type": "display_data"
    },
    {
     "data": {
      "text/plain": [
       "38.666302971839905"
      ]
     },
     "metadata": {},
     "output_type": "display_data"
    },
    {
     "data": {
      "text/plain": [
       "38.654081039428711"
      ]
     },
     "metadata": {},
     "output_type": "display_data"
    },
    {
     "data": {
      "text/plain": [
       "38.641859107017517"
      ]
     },
     "metadata": {},
     "output_type": "display_data"
    },
    {
     "data": {
      "text/plain": [
       "38.623290591239929"
      ]
     },
     "metadata": {},
     "output_type": "display_data"
    },
    {
     "data": {
      "text/plain": [
       "38.604722075462341"
      ]
     },
     "metadata": {},
     "output_type": "display_data"
    },
    {
     "data": {
      "text/plain": [
       "38.586153559684753"
      ]
     },
     "metadata": {},
     "output_type": "display_data"
    },
    {
     "data": {
      "text/plain": [
       "38.567585043907165"
      ]
     },
     "metadata": {},
     "output_type": "display_data"
    },
    {
     "data": {
      "text/plain": [
       "38.549016528129577"
      ]
     },
     "metadata": {},
     "output_type": "display_data"
    },
    {
     "data": {
      "text/plain": [
       "38.527411811351776"
      ]
     },
     "metadata": {},
     "output_type": "display_data"
    },
    {
     "data": {
      "text/plain": [
       "38.510710589885711"
      ]
     },
     "metadata": {},
     "output_type": "display_data"
    },
    {
     "data": {
      "text/plain": [
       "38.494009368419647"
      ]
     },
     "metadata": {},
     "output_type": "display_data"
    },
    {
     "data": {
      "text/plain": [
       "38.481787436008453"
      ]
     },
     "metadata": {},
     "output_type": "display_data"
    },
    {
     "data": {
      "text/plain": [
       "38.469565503597259"
      ]
     },
     "metadata": {},
     "output_type": "display_data"
    },
    {
     "data": {
      "text/plain": [
       "38.450996987819671"
      ]
     },
     "metadata": {},
     "output_type": "display_data"
    },
    {
     "data": {
      "text/plain": [
       "38.432661287784576"
      ]
     },
     "metadata": {},
     "output_type": "display_data"
    },
    {
     "data": {
      "text/plain": [
       "38.4065465259552"
      ]
     },
     "metadata": {},
     "output_type": "display_data"
    },
    {
     "data": {
      "text/plain": [
       "38.380431764125824"
      ]
     },
     "metadata": {},
     "output_type": "display_data"
    },
    {
     "data": {
      "text/plain": [
       "38.338991396427154"
      ]
     },
     "metadata": {},
     "output_type": "display_data"
    },
    {
     "data": {
      "text/plain": [
       "38.303548746109009"
      ]
     },
     "metadata": {},
     "output_type": "display_data"
    },
    {
     "data": {
      "text/plain": [
       "38.260880641937256"
      ]
     },
     "metadata": {},
     "output_type": "display_data"
    },
    {
     "data": {
      "text/plain": [
       "38.218368582725525"
      ]
     },
     "metadata": {},
     "output_type": "display_data"
    },
    {
     "data": {
      "text/plain": [
       "38.198570601940155"
      ]
     },
     "metadata": {},
     "output_type": "display_data"
    },
    {
     "data": {
      "text/plain": [
       "38.1823113489151"
      ]
     },
     "metadata": {},
     "output_type": "display_data"
    },
    {
     "data": {
      "text/plain": [
       "38.260580478111905"
      ]
     },
     "metadata": {},
     "output_type": "display_data"
    },
    {
     "data": {
      "text/plain": [
       "38.33884960730871"
      ]
     },
     "metadata": {},
     "output_type": "display_data"
    },
    {
     "data": {
      "text/plain": [
       "38.417118736505515"
      ]
     },
     "metadata": {},
     "output_type": "display_data"
    },
    {
     "data": {
      "text/plain": [
       "38.49538786570232"
      ]
     },
     "metadata": {},
     "output_type": "display_data"
    },
    {
     "data": {
      "text/plain": [
       "38.573656994899125"
      ]
     },
     "metadata": {},
     "output_type": "display_data"
    },
    {
     "data": {
      "text/plain": [
       "38.65192612409593"
      ]
     },
     "metadata": {},
     "output_type": "display_data"
    },
    {
     "data": {
      "text/plain": [
       "38.730195253292734"
      ]
     },
     "metadata": {},
     "output_type": "display_data"
    },
    {
     "data": {
      "text/plain": [
       "38.808464382489539"
      ]
     },
     "metadata": {},
     "output_type": "display_data"
    },
    {
     "data": {
      "text/plain": [
       "38.886733511686344"
      ]
     },
     "metadata": {},
     "output_type": "display_data"
    },
    {
     "data": {
      "text/plain": [
       "38.965002640883149"
      ]
     },
     "metadata": {},
     "output_type": "display_data"
    },
    {
     "data": {
      "text/plain": [
       "39.043271770079954"
      ]
     },
     "metadata": {},
     "output_type": "display_data"
    },
    {
     "data": {
      "text/plain": [
       "39.121540899276759"
      ]
     },
     "metadata": {},
     "output_type": "display_data"
    },
    {
     "data": {
      "text/plain": [
       "39.199810028473564"
      ]
     },
     "metadata": {},
     "output_type": "display_data"
    },
    {
     "data": {
      "text/plain": [
       "39.278079157670369"
      ]
     },
     "metadata": {},
     "output_type": "display_data"
    },
    {
     "data": {
      "text/plain": [
       "39.356348286867174"
      ]
     },
     "metadata": {},
     "output_type": "display_data"
    },
    {
     "data": {
      "text/plain": [
       "39.434617416063979"
      ]
     },
     "metadata": {},
     "output_type": "display_data"
    },
    {
     "data": {
      "text/plain": [
       "39.512886545260784"
      ]
     },
     "metadata": {},
     "output_type": "display_data"
    },
    {
     "data": {
      "text/plain": [
       "39.591155674457589"
      ]
     },
     "metadata": {},
     "output_type": "display_data"
    },
    {
     "data": {
      "text/plain": [
       "39.669424803654394"
      ]
     },
     "metadata": {},
     "output_type": "display_data"
    },
    {
     "data": {
      "text/plain": [
       "39.747693932851199"
      ]
     },
     "metadata": {},
     "output_type": "display_data"
    },
    {
     "data": {
      "text/plain": [
       "39.825963062048004"
      ]
     },
     "metadata": {},
     "output_type": "display_data"
    },
    {
     "data": {
      "text/plain": [
       "39.904232191244809"
      ]
     },
     "metadata": {},
     "output_type": "display_data"
    },
    {
     "data": {
      "text/plain": [
       "39.982501320441614"
      ]
     },
     "metadata": {},
     "output_type": "display_data"
    },
    {
     "data": {
      "text/plain": [
       "40.060770449638419"
      ]
     },
     "metadata": {},
     "output_type": "display_data"
    },
    {
     "data": {
      "text/plain": [
       "40.139039578835224"
      ]
     },
     "metadata": {},
     "output_type": "display_data"
    },
    {
     "data": {
      "text/plain": [
       "40.217308708032029"
      ]
     },
     "metadata": {},
     "output_type": "display_data"
    },
    {
     "data": {
      "text/plain": [
       "40.295577837228834"
      ]
     },
     "metadata": {},
     "output_type": "display_data"
    },
    {
     "data": {
      "text/plain": [
       "40.373846966425639"
      ]
     },
     "metadata": {},
     "output_type": "display_data"
    },
    {
     "data": {
      "text/plain": [
       "40.452116095622443"
      ]
     },
     "metadata": {},
     "output_type": "display_data"
    },
    {
     "data": {
      "text/plain": [
       "40.530385224819248"
      ]
     },
     "metadata": {},
     "output_type": "display_data"
    },
    {
     "data": {
      "text/plain": [
       "40.608654354016053"
      ]
     },
     "metadata": {},
     "output_type": "display_data"
    },
    {
     "data": {
      "text/plain": [
       "40.686923483212858"
      ]
     },
     "metadata": {},
     "output_type": "display_data"
    },
    {
     "data": {
      "text/plain": [
       "40.765192612409663"
      ]
     },
     "metadata": {},
     "output_type": "display_data"
    },
    {
     "data": {
      "text/plain": [
       "40.843461741606468"
      ]
     },
     "metadata": {},
     "output_type": "display_data"
    },
    {
     "data": {
      "text/plain": [
       "40.921730870803273"
      ]
     },
     "metadata": {},
     "output_type": "display_data"
    },
    {
     "data": {
      "text/plain": [
       "41.000000000000078"
      ]
     },
     "metadata": {},
     "output_type": "display_data"
    },
    {
     "data": {
      "text/plain": [
       "40.957111299037933"
      ]
     },
     "metadata": {},
     "output_type": "display_data"
    },
    {
     "data": {
      "text/plain": [
       "40.914222598075867"
      ]
     },
     "metadata": {},
     "output_type": "display_data"
    },
    {
     "data": {
      "text/plain": [
       "40.871480941772461"
      ]
     },
     "metadata": {},
     "output_type": "display_data"
    },
    {
     "data": {
      "text/plain": [
       "40.818341076374054"
      ]
     },
     "metadata": {},
     "output_type": "display_data"
    },
    {
     "data": {
      "text/plain": [
       "40.767709851264954"
      ]
     },
     "metadata": {},
     "output_type": "display_data"
    },
    {
     "data": {
      "text/plain": [
       "40.724821150302887"
      ]
     },
     "metadata": {},
     "output_type": "display_data"
    },
    {
     "data": {
      "text/plain": [
       "40.682079493999481"
      ]
     },
     "metadata": {},
     "output_type": "display_data"
    },
    {
     "data": {
      "text/plain": [
       "40.63994300365448"
      ]
     },
     "metadata": {},
     "output_type": "display_data"
    },
    {
     "data": {
      "text/plain": [
       "40.592441380023956"
      ]
     },
     "metadata": {},
     "output_type": "display_data"
    },
    {
     "data": {
      "text/plain": [
       "40.57489550113678"
      ]
     },
     "metadata": {},
     "output_type": "display_data"
    },
    {
     "data": {
      "text/plain": [
       "40.557349622249603"
      ]
     },
     "metadata": {},
     "output_type": "display_data"
    },
    {
     "data": {
      "text/plain": [
       "40.540648400783539"
      ]
     },
     "metadata": {},
     "output_type": "display_data"
    },
    {
     "data": {
      "text/plain": [
       "40.523947179317474"
      ]
     },
     "metadata": {},
     "output_type": "display_data"
    },
    {
     "data": {
      "text/plain": [
       "40.481205523014069"
      ]
     },
     "metadata": {},
     "output_type": "display_data"
    },
    {
     "data": {
      "text/plain": [
       "40.438316822052002"
      ]
     },
     "metadata": {},
     "output_type": "display_data"
    },
    {
     "data": {
      "text/plain": [
       "40.395575165748596"
      ]
     },
     "metadata": {},
     "output_type": "display_data"
    },
    {
     "data": {
      "text/plain": [
       "40.372434020042419"
      ]
     },
     "metadata": {},
     "output_type": "display_data"
    },
    {
     "data": {
      "text/plain": [
       "40.361118018627167"
      ]
     },
     "metadata": {},
     "output_type": "display_data"
    },
    {
     "data": {
      "text/plain": [
       "40.338439643383026"
      ]
     },
     "metadata": {},
     "output_type": "display_data"
    },
    {
     "data": {
      "text/plain": [
       "40.320128858089447"
      ]
     },
     "metadata": {},
     "output_type": "display_data"
    },
    {
     "data": {
      "text/plain": [
       "40.277616798877716"
      ]
     },
     "metadata": {},
     "output_type": "display_data"
    },
    {
     "data": {
      "text/plain": [
       "40.235104739665985"
      ]
     },
     "metadata": {},
     "output_type": "display_data"
    },
    {
     "data": {
      "text/plain": [
       "40.216536223888397"
      ]
     },
     "metadata": {},
     "output_type": "display_data"
    },
    {
     "data": {
      "text/plain": [
       "40.198200523853302"
      ]
     },
     "metadata": {},
     "output_type": "display_data"
    },
    {
     "data": {
      "text/plain": [
       "40.170587182044983"
      ]
     },
     "metadata": {},
     "output_type": "display_data"
    },
    {
     "data": {
      "text/plain": [
       "40.142160177230835"
      ]
     },
     "metadata": {},
     "output_type": "display_data"
    },
    {
     "data": {
      "text/plain": [
       "40.091363728046417"
      ]
     },
     "metadata": {},
     "output_type": "display_data"
    },
    {
     "data": {
      "text/plain": [
       "40.041688919067383"
      ]
     },
     "metadata": {},
     "output_type": "display_data"
    },
    {
     "data": {
      "text/plain": [
       "40.018547773361206"
      ]
     },
     "metadata": {},
     "output_type": "display_data"
    },
    {
     "data": {
      "text/plain": [
       "39.995406627655029"
      ]
     },
     "metadata": {},
     "output_type": "display_data"
    },
    {
     "data": {
      "text/plain": [
       "39.94007283449173"
      ]
     },
     "metadata": {},
     "output_type": "display_data"
    },
    {
     "data": {
      "text/plain": [
       "39.88473904132843"
      ]
     },
     "metadata": {},
     "output_type": "display_data"
    },
    {
     "data": {
      "text/plain": [
       "39.854321002960205"
      ]
     },
     "metadata": {},
     "output_type": "display_data"
    },
    {
     "data": {
      "text/plain": [
       "39.823755919933319"
      ]
     },
     "metadata": {},
     "output_type": "display_data"
    },
    {
     "data": {
      "text/plain": [
       "39.791409730911255"
      ]
     },
     "metadata": {},
     "output_type": "display_data"
    },
    {
     "data": {
      "text/plain": [
       "39.759063541889191"
      ]
     },
     "metadata": {},
     "output_type": "display_data"
    },
    {
     "data": {
      "text/plain": [
       "39.712619721889496"
      ]
     },
     "metadata": {},
     "output_type": "display_data"
    },
    {
     "data": {
      "text/plain": [
       "39.666175901889801"
      ]
     },
     "metadata": {},
     "output_type": "display_data"
    },
    {
     "data": {
      "text/plain": [
       "39.614850401878357"
      ]
     },
     "metadata": {},
     "output_type": "display_data"
    },
    {
     "data": {
      "text/plain": [
       "39.56171053647995"
      ]
     },
     "metadata": {},
     "output_type": "display_data"
    },
    {
     "data": {
      "text/plain": [
       "39.518879175186157"
      ]
     },
     "metadata": {},
     "output_type": "display_data"
    },
    {
     "data": {
      "text/plain": [
       "39.485096395015717"
      ]
     },
     "metadata": {},
     "output_type": "display_data"
    },
    {
     "data": {
      "text/plain": [
       "39.442014932632446"
      ]
     },
     "metadata": {},
     "output_type": "display_data"
    },
    {
     "data": {
      "text/plain": [
       "39.398933470249176"
      ]
     },
     "metadata": {},
     "output_type": "display_data"
    },
    {
     "data": {
      "text/plain": [
       "39.349635601043701"
      ]
     },
     "metadata": {},
     "output_type": "display_data"
    },
    {
     "data": {
      "text/plain": [
       "39.300337731838226"
      ]
     },
     "metadata": {},
     "output_type": "display_data"
    },
    {
     "data": {
      "text/plain": [
       "39.250269114971161"
      ]
     },
     "metadata": {},
     "output_type": "display_data"
    },
    {
     "data": {
      "text/plain": [
       "39.201322138309479"
      ]
     },
     "metadata": {},
     "output_type": "display_data"
    },
    {
     "data": {
      "text/plain": [
       "39.159555017948151"
      ]
     },
     "metadata": {},
     "output_type": "display_data"
    },
    {
     "data": {
      "text/plain": [
       "39.117787897586823"
      ]
     },
     "metadata": {},
     "output_type": "display_data"
    },
    {
     "data": {
      "text/plain": [
       "39.100242018699646"
      ]
     },
     "metadata": {},
     "output_type": "display_data"
    },
    {
     "data": {
      "text/plain": [
       "39.076798737049103"
      ]
     },
     "metadata": {},
     "output_type": "display_data"
    },
    {
     "data": {
      "text/plain": [
       "39.055194020271301"
      ]
     },
     "metadata": {},
     "output_type": "display_data"
    },
    {
     "data": {
      "text/plain": [
       "39.0335893034935"
      ]
     },
     "metadata": {},
     "output_type": "display_data"
    },
    {
     "data": {
      "text/plain": [
       "38.990507841110229"
      ]
     },
     "metadata": {},
     "output_type": "display_data"
    },
    {
     "data": {
      "text/plain": [
       "38.947426378726959"
      ]
     },
     "metadata": {},
     "output_type": "display_data"
    },
    {
     "data": {
      "text/plain": [
       "38.906503975391388"
      ]
     },
     "metadata": {},
     "output_type": "display_data"
    },
    {
     "data": {
      "text/plain": [
       "38.865581572055817"
      ]
     },
     "metadata": {},
     "output_type": "display_data"
    },
    {
     "data": {
      "text/plain": [
       "38.829799115657806"
      ]
     },
     "metadata": {},
     "output_type": "display_data"
    },
    {
     "data": {
      "text/plain": [
       "38.784876108169556"
      ]
     },
     "metadata": {},
     "output_type": "display_data"
    },
    {
     "data": {
      "text/plain": [
       "38.743953704833984"
      ]
     },
     "metadata": {},
     "output_type": "display_data"
    },
    {
     "data": {
      "text/plain": [
       "38.703031301498413"
      ]
     },
     "metadata": {},
     "output_type": "display_data"
    },
    {
     "data": {
      "text/plain": [
       "38.662095129489899"
      ]
     },
     "metadata": {},
     "output_type": "display_data"
    },
    {
     "data": {
      "text/plain": [
       "38.621158957481384"
      ]
     },
     "metadata": {},
     "output_type": "display_data"
    },
    {
     "data": {
      "text/plain": [
       "38.586367189884186"
      ]
     },
     "metadata": {},
     "output_type": "display_data"
    },
    {
     "data": {
      "text/plain": [
       "38.563226044178009"
      ]
     },
     "metadata": {},
     "output_type": "display_data"
    },
    {
     "data": {
      "text/plain": [
       "38.516782224178314"
      ]
     },
     "metadata": {},
     "output_type": "display_data"
    },
    {
     "data": {
      "text/plain": [
       "38.463072419166565"
      ]
     },
     "metadata": {},
     "output_type": "display_data"
    },
    {
     "data": {
      "text/plain": [
       "38.421305298805237"
      ]
     },
     "metadata": {},
     "output_type": "display_data"
    },
    {
     "data": {
      "text/plain": [
       "38.37841659784317"
      ]
     },
     "metadata": {},
     "output_type": "display_data"
    },
    {
     "data": {
      "text/plain": [
       "38.33590042591095"
      ]
     },
     "metadata": {},
     "output_type": "display_data"
    },
    {
     "data": {
      "text/plain": [
       "38.294223189353943"
      ]
     },
     "metadata": {},
     "output_type": "display_data"
    },
    {
     "data": {
      "text/plain": [
       "38.259431421756744"
      ]
     },
     "metadata": {},
     "output_type": "display_data"
    },
    {
     "data": {
      "text/plain": [
       "38.220342755317688"
      ]
     },
     "metadata": {},
     "output_type": "display_data"
    },
    {
     "data": {
      "text/plain": [
       "38.167755961418152"
      ]
     },
     "metadata": {},
     "output_type": "display_data"
    },
    {
     "data": {
      "text/plain": [
       "38.115169167518616"
      ]
     },
     "metadata": {},
     "output_type": "display_data"
    },
    {
     "data": {
      "text/plain": [
       "38.083454132080078"
      ]
     },
     "metadata": {},
     "output_type": "display_data"
    },
    {
     "data": {
      "text/plain": [
       "38.051739096641541"
      ]
     },
     "metadata": {},
     "output_type": "display_data"
    },
    {
     "data": {
      "text/plain": [
       "38.021578431129456"
      ]
     },
     "metadata": {},
     "output_type": "display_data"
    },
    {
     "data": {
      "text/plain": [
       "37.991417765617371"
      ]
     },
     "metadata": {},
     "output_type": "display_data"
    },
    {
     "data": {
      "text/plain": [
       "37.963486790657043"
      ]
     },
     "metadata": {},
     "output_type": "display_data"
    },
    {
     "data": {
      "text/plain": [
       "37.938659131526947"
      ]
     },
     "metadata": {},
     "output_type": "display_data"
    },
    {
     "data": {
      "text/plain": [
       "37.888590514659882"
      ]
     },
     "metadata": {},
     "output_type": "display_data"
    },
    {
     "data": {
      "text/plain": [
       "37.838521897792816"
      ]
     },
     "metadata": {},
     "output_type": "display_data"
    },
    {
     "data": {
      "text/plain": [
       "37.795837223529816"
      ]
     },
     "metadata": {},
     "output_type": "display_data"
    },
    {
     "data": {
      "text/plain": [
       "37.764803171157837"
      ]
     },
     "metadata": {},
     "output_type": "display_data"
    },
    {
     "data": {
      "text/plain": [
       "37.743198454380035"
      ]
     },
     "metadata": {},
     "output_type": "display_data"
    },
    {
     "data": {
      "text/plain": [
       "37.726264417171478"
      ]
     },
     "metadata": {},
     "output_type": "display_data"
    },
    {
     "data": {
      "text/plain": [
       "37.683748245239258"
      ]
     },
     "metadata": {},
     "output_type": "display_data"
    },
    {
     "data": {
      "text/plain": [
       "37.642071008682251"
      ]
     },
     "metadata": {},
     "output_type": "display_data"
    },
    {
     "data": {
      "text/plain": [
       "37.588128685951233"
      ]
     },
     "metadata": {},
     "output_type": "display_data"
    },
    {
     "data": {
      "text/plain": [
       "37.553678512573242"
      ]
     },
     "metadata": {},
     "output_type": "display_data"
    },
    {
     "data": {
      "text/plain": [
       "37.536744475364685"
      ]
     },
     "metadata": {},
     "output_type": "display_data"
    },
    {
     "data": {
      "text/plain": [
       "37.515139758586884"
      ]
     },
     "metadata": {},
     "output_type": "display_data"
    },
    {
     "data": {
      "text/plain": [
       "37.490312099456787"
      ]
     },
     "metadata": {},
     "output_type": "display_data"
    },
    {
     "data": {
      "text/plain": [
       "37.477059125900269"
      ]
     },
     "metadata": {},
     "output_type": "display_data"
    },
    {
     "data": {
      "text/plain": [
       "37.457930386066437"
      ]
     },
     "metadata": {},
     "output_type": "display_data"
    },
    {
     "data": {
      "text/plain": [
       "37.438801646232605"
      ]
     },
     "metadata": {},
     "output_type": "display_data"
    },
    {
     "data": {
      "text/plain": [
       "37.421867609024048"
      ]
     },
     "metadata": {},
     "output_type": "display_data"
    },
    {
     "data": {
      "text/plain": [
       "37.400262892246246"
      ]
     },
     "metadata": {},
     "output_type": "display_data"
    },
    {
     "data": {
      "text/plain": [
       "37.378807067871094"
      ]
     },
     "metadata": {},
     "output_type": "display_data"
    },
    {
     "data": {
      "text/plain": [
       "37.357351243495941"
      ]
     },
     "metadata": {},
     "output_type": "display_data"
    },
    {
     "data": {
      "text/plain": [
       "37.335895419120789"
      ]
     },
     "metadata": {},
     "output_type": "display_data"
    },
    {
     "data": {
      "text/plain": [
       "37.314439594745636"
      ]
     },
     "metadata": {},
     "output_type": "display_data"
    },
    {
     "data": {
      "text/plain": [
       "37.291761219501495"
      ]
     },
     "metadata": {},
     "output_type": "display_data"
    },
    {
     "data": {
      "text/plain": [
       "37.268317937850952"
      ]
     },
     "metadata": {},
     "output_type": "display_data"
    },
    {
     "data": {
      "text/plain": [
       "37.2468621134758"
      ]
     },
     "metadata": {},
     "output_type": "display_data"
    },
    {
     "data": {
      "text/plain": [
       "37.225406289100647"
      ]
     },
     "metadata": {},
     "output_type": "display_data"
    },
    {
     "data": {
      "text/plain": [
       "37.207095503807068"
      ]
     },
     "metadata": {},
     "output_type": "display_data"
    },
    {
     "data": {
      "text/plain": [
       "37.182067215442657"
      ]
     },
     "metadata": {},
     "output_type": "display_data"
    },
    {
     "data": {
      "text/plain": [
       "37.162938475608826"
      ]
     },
     "metadata": {},
     "output_type": "display_data"
    },
    {
     "data": {
      "text/plain": [
       "37.143809735774994"
      ]
     },
     "metadata": {},
     "output_type": "display_data"
    },
    {
     "data": {
      "text/plain": [
       "37.122205018997192"
      ]
     },
     "metadata": {},
     "output_type": "display_data"
    },
    {
     "data": {
      "text/plain": [
       "37.105270981788635"
      ]
     },
     "metadata": {},
     "output_type": "display_data"
    },
    {
     "data": {
      "text/plain": [
       "37.086922287940979"
      ]
     },
     "metadata": {},
     "output_type": "display_data"
    },
    {
     "data": {
      "text/plain": [
       "37.068573594093323"
      ]
     },
     "metadata": {},
     "output_type": "display_data"
    },
    {
     "data": {
      "text/plain": [
       "37.050224900245667"
      ]
     },
     "metadata": {},
     "output_type": "display_data"
    },
    {
     "data": {
      "text/plain": [
       "37.03187620639801"
      ]
     },
     "metadata": {},
     "output_type": "display_data"
    },
    {
     "data": {
      "text/plain": [
       "37.013527512550354"
      ]
     },
     "metadata": {},
     "output_type": "display_data"
    },
    {
     "data": {
      "text/plain": [
       "36.988461375236511"
      ]
     },
     "metadata": {},
     "output_type": "display_data"
    },
    {
     "data": {
      "text/plain": [
       "36.968663394451141"
      ]
     },
     "metadata": {},
     "output_type": "display_data"
    },
    {
     "data": {
      "text/plain": [
       "36.952404141426086"
      ]
     },
     "metadata": {},
     "output_type": "display_data"
    },
    {
     "data": {
      "text/plain": [
       "36.930948317050934"
      ]
     },
     "metadata": {},
     "output_type": "display_data"
    },
    {
     "data": {
      "text/plain": [
       "36.909492492675781"
      ]
     },
     "metadata": {},
     "output_type": "display_data"
    },
    {
     "data": {
      "text/plain": [
       "36.891908705234528"
      ]
     },
     "metadata": {},
     "output_type": "display_data"
    },
    {
     "data": {
      "text/plain": [
       "36.874324917793274"
      ]
     },
     "metadata": {},
     "output_type": "display_data"
    },
    {
     "data": {
      "text/plain": [
       "36.856014132499695"
      ]
     },
     "metadata": {},
     "output_type": "display_data"
    },
    {
     "data": {
      "text/plain": [
       "36.837703347206116"
      ]
     },
     "metadata": {},
     "output_type": "display_data"
    },
    {
     "data": {
      "text/plain": [
       "36.820360124111176"
      ]
     },
     "metadata": {},
     "output_type": "display_data"
    },
    {
     "data": {
      "text/plain": [
       "36.803426086902618"
      ]
     },
     "metadata": {},
     "output_type": "display_data"
    },
    {
     "data": {
      "text/plain": [
       "36.785115301609039"
      ]
     },
     "metadata": {},
     "output_type": "display_data"
    },
    {
     "data": {
      "text/plain": [
       "36.760087013244629"
      ]
     },
     "metadata": {},
     "output_type": "display_data"
    },
    {
     "data": {
      "text/plain": [
       "36.739404916763306"
      ]
     },
     "metadata": {},
     "output_type": "display_data"
    },
    {
     "data": {
      "text/plain": [
       "36.718722820281982"
      ]
     },
     "metadata": {},
     "output_type": "display_data"
    },
    {
     "data": {
      "text/plain": [
       "36.698040723800659"
      ]
     },
     "metadata": {},
     "output_type": "display_data"
    },
    {
     "data": {
      "text/plain": [
       "36.676765382289886"
      ]
     },
     "metadata": {},
     "output_type": "display_data"
    },
    {
     "data": {
      "text/plain": [
       "36.655309557914734"
      ]
     },
     "metadata": {},
     "output_type": "display_data"
    },
    {
     "data": {
      "text/plain": [
       "36.633853733539581"
      ]
     },
     "metadata": {},
     "output_type": "display_data"
    },
    {
     "data": {
      "text/plain": [
       "36.609440743923187"
      ]
     },
     "metadata": {},
     "output_type": "display_data"
    },
    {
     "data": {
      "text/plain": [
       "36.587984919548035"
      ]
     },
     "metadata": {},
     "output_type": "display_data"
    },
    {
     "data": {
      "text/plain": [
       "36.565306544303894"
      ]
     },
     "metadata": {},
     "output_type": "display_data"
    },
    {
     "data": {
      "text/plain": [
       "36.542628169059753"
      ]
     },
     "metadata": {},
     "output_type": "display_data"
    },
    {
     "data": {
      "text/plain": [
       "36.525694131851196"
      ]
     },
     "metadata": {},
     "output_type": "display_data"
    },
    {
     "data": {
      "text/plain": [
       "36.508992910385132"
      ]
     },
     "metadata": {},
     "output_type": "display_data"
    },
    {
     "data": {
      "text/plain": [
       "36.490657210350037"
      ]
     },
     "metadata": {},
     "output_type": "display_data"
    },
    {
     "data": {
      "text/plain": [
       "36.473313987255096"
      ]
     },
     "metadata": {},
     "output_type": "display_data"
    },
    {
     "data": {
      "text/plain": [
       "36.456612765789032"
      ]
     },
     "metadata": {},
     "output_type": "display_data"
    },
    {
     "data": {
      "text/plain": [
       "36.439678728580475"
      ]
     },
     "metadata": {},
     "output_type": "display_data"
    },
    {
     "data": {
      "text/plain": [
       "36.42134302854538"
      ]
     },
     "metadata": {},
     "output_type": "display_data"
    },
    {
     "data": {
      "text/plain": [
       "36.403007328510284"
      ]
     },
     "metadata": {},
     "output_type": "display_data"
    },
    {
     "data": {
      "text/plain": [
       "36.384671628475189"
      ]
     },
     "metadata": {},
     "output_type": "display_data"
    },
    {
     "data": {
      "text/plain": [
       "36.366335928440094"
      ]
     },
     "metadata": {},
     "output_type": "display_data"
    },
    {
     "data": {
      "text/plain": [
       "36.347767412662506"
      ]
     },
     "metadata": {},
     "output_type": "display_data"
    },
    {
     "data": {
      "text/plain": [
       "36.329431712627411"
      ]
     },
     "metadata": {},
     "output_type": "display_data"
    },
    {
     "data": {
      "text/plain": [
       "36.310863196849823"
      ]
     },
     "metadata": {},
     "output_type": "display_data"
    },
    {
     "data": {
      "text/plain": [
       "36.292527496814728"
      ]
     },
     "metadata": {},
     "output_type": "display_data"
    },
    {
     "data": {
      "text/plain": [
       "36.27395898103714"
      ]
     },
     "metadata": {},
     "output_type": "display_data"
    },
    {
     "data": {
      "text/plain": [
       "36.255623281002045"
      ]
     },
     "metadata": {},
     "output_type": "display_data"
    },
    {
     "data": {
      "text/plain": [
       "36.237287580966949"
      ]
     },
     "metadata": {},
     "output_type": "display_data"
    },
    {
     "data": {
      "text/plain": [
       "36.218951880931854"
      ]
     },
     "metadata": {},
     "output_type": "display_data"
    },
    {
     "data": {
      "text/plain": [
       "36.200616180896759"
      ]
     },
     "metadata": {},
     "output_type": "display_data"
    },
    {
     "data": {
      "text/plain": [
       "36.182047665119171"
      ]
     },
     "metadata": {},
     "output_type": "display_data"
    },
    {
     "data": {
      "text/plain": [
       "36.163711965084076"
      ]
     },
     "metadata": {},
     "output_type": "display_data"
    },
    {
     "data": {
      "text/plain": [
       "36.151490032672882"
      ]
     },
     "metadata": {},
     "output_type": "display_data"
    },
    {
     "data": {
      "text/plain": [
       "36.135230779647827"
      ]
     },
     "metadata": {},
     "output_type": "display_data"
    },
    {
     "data": {
      "text/plain": [
       "36.118971526622772"
      ]
     },
     "metadata": {},
     "output_type": "display_data"
    },
    {
     "data": {
      "text/plain": [
       "36.106749594211578"
      ]
     },
     "metadata": {},
     "output_type": "display_data"
    },
    {
     "data": {
      "text/plain": [
       "36.08818107843399"
      ]
     },
     "metadata": {},
     "output_type": "display_data"
    },
    {
     "data": {
      "text/plain": [
       "36.069612562656403"
      ]
     },
     "metadata": {},
     "output_type": "display_data"
    },
    {
     "data": {
      "text/plain": [
       "36.052911341190338"
      ]
     },
     "metadata": {},
     "output_type": "display_data"
    },
    {
     "data": {
      "text/plain": [
       "36.036210119724274"
      ]
     },
     "metadata": {},
     "output_type": "display_data"
    },
    {
     "data": {
      "text/plain": [
       "36.019276082515717"
      ]
     },
     "metadata": {},
     "output_type": "display_data"
    },
    {
     "data": {
      "text/plain": [
       "36.002342045307159"
      ]
     },
     "metadata": {},
     "output_type": "display_data"
    },
    {
     "data": {
      "text/plain": [
       "35.985408008098602"
      ]
     },
     "metadata": {},
     "output_type": "display_data"
    },
    {
     "data": {
      "text/plain": [
       "35.968706786632538"
      ]
     },
     "metadata": {},
     "output_type": "display_data"
    },
    {
     "data": {
      "text/plain": [
       "35.950358092784882"
      ]
     },
     "metadata": {},
     "output_type": "display_data"
    },
    {
     "data": {
      "text/plain": [
       "35.932009398937225"
      ]
     },
     "metadata": {},
     "output_type": "display_data"
    },
    {
     "data": {
      "text/plain": [
       "35.906943261623383"
      ]
     },
     "metadata": {},
     "output_type": "display_data"
    },
    {
     "data": {
      "text/plain": [
       "35.888594567775726"
      ]
     },
     "metadata": {},
     "output_type": "display_data"
    },
    {
     "data": {
      "text/plain": [
       "35.874194860458374"
      ]
     },
     "metadata": {},
     "output_type": "display_data"
    },
    {
     "data": {
      "text/plain": [
       "35.85749363899231"
      ]
     },
     "metadata": {},
     "output_type": "display_data"
    },
    {
     "data": {
      "text/plain": [
       "35.840792417526245"
      ]
     },
     "metadata": {},
     "output_type": "display_data"
    },
    {
     "data": {
      "text/plain": [
       "35.78915548324585"
      ]
     },
     "metadata": {},
     "output_type": "display_data"
    },
    {
     "data": {
      "text/plain": [
       "35.770586967468262"
      ]
     },
     "metadata": {},
     "output_type": "display_data"
    },
    {
     "data": {
      "text/plain": [
       "35.74898225069046"
      ]
     },
     "metadata": {},
     "output_type": "display_data"
    },
    {
     "data": {
      "text/plain": [
       "35.727582156658173"
      ]
     },
     "metadata": {},
     "output_type": "display_data"
    },
    {
     "data": {
      "text/plain": [
       "35.715360224246979"
      ]
     },
     "metadata": {},
     "output_type": "display_data"
    },
    {
     "data": {
      "text/plain": [
       "35.696791708469391"
      ]
     },
     "metadata": {},
     "output_type": "display_data"
    },
    {
     "data": {
      "text/plain": [
       "35.675186991691589"
      ]
     },
     "metadata": {},
     "output_type": "display_data"
    },
    {
     "data": {
      "text/plain": [
       "35.650125503540039"
      ]
     },
     "metadata": {},
     "output_type": "display_data"
    },
    {
     "data": {
      "text/plain": [
       "35.633866250514984"
      ]
     },
     "metadata": {},
     "output_type": "display_data"
    },
    {
     "data": {
      "text/plain": [
       "35.612261533737183"
      ]
     },
     "metadata": {},
     "output_type": "display_data"
    },
    {
     "data": {
      "text/plain": [
       "35.590656816959381"
      ]
     },
     "metadata": {},
     "output_type": "display_data"
    },
    {
     "data": {
      "text/plain": [
       "35.572088301181793"
      ]
     },
     "metadata": {},
     "output_type": "display_data"
    },
    {
     "data": {
      "text/plain": [
       "35.553519785404205"
      ]
     },
     "metadata": {},
     "output_type": "display_data"
    },
    {
     "data": {
      "text/plain": [
       "35.534951269626617"
      ]
     },
     "metadata": {},
     "output_type": "display_data"
    },
    {
     "data": {
      "text/plain": [
       "35.51638275384903"
      ]
     },
     "metadata": {},
     "output_type": "display_data"
    },
    {
     "data": {
      "text/plain": [
       "35.497814238071442"
      ]
     },
     "metadata": {},
     "output_type": "display_data"
    },
    {
     "data": {
      "text/plain": [
       "35.47620952129364"
      ]
     },
     "metadata": {},
     "output_type": "display_data"
    },
    {
     "data": {
      "text/plain": [
       "35.447609305381775"
      ]
     },
     "metadata": {},
     "output_type": "display_data"
    },
    {
     "data": {
      "text/plain": [
       "35.427811324596405"
      ]
     },
     "metadata": {},
     "output_type": "display_data"
    },
    {
     "data": {
      "text/plain": [
       "35.409242808818817"
      ]
     },
     "metadata": {},
     "output_type": "display_data"
    },
    {
     "data": {
      "text/plain": [
       "35.390674293041229"
      ]
     },
     "metadata": {},
     "output_type": "display_data"
    },
    {
     "data": {
      "text/plain": [
       "35.369069576263428"
      ]
     },
     "metadata": {},
     "output_type": "display_data"
    },
    {
     "data": {
      "text/plain": [
       "35.347464859485626"
      ]
     },
     "metadata": {},
     "output_type": "display_data"
    },
    {
     "data": {
      "text/plain": [
       "35.328336119651794"
      ]
     },
     "metadata": {},
     "output_type": "display_data"
    },
    {
     "data": {
      "text/plain": [
       "35.300405144691467"
      ]
     },
     "metadata": {},
     "output_type": "display_data"
    },
    {
     "data": {
      "text/plain": [
       "35.281276404857635"
      ]
     },
     "metadata": {},
     "output_type": "display_data"
    },
    {
     "data": {
      "text/plain": [
       "35.259671688079834"
      ]
     },
     "metadata": {},
     "output_type": "display_data"
    },
    {
     "data": {
      "text/plain": [
       "35.24744975566864"
      ]
     },
     "metadata": {},
     "output_type": "display_data"
    },
    {
     "data": {
      "text/plain": [
       "35.226049661636353"
      ]
     },
     "metadata": {},
     "output_type": "display_data"
    },
    {
     "data": {
      "text/plain": [
       "35.204649567604065"
      ]
     },
     "metadata": {},
     "output_type": "display_data"
    },
    {
     "data": {
      "text/plain": [
       "35.186081051826477"
      ]
     },
     "metadata": {},
     "output_type": "display_data"
    },
    {
     "data": {
      "text/plain": [
       "35.164476335048676"
      ]
     },
     "metadata": {},
     "output_type": "display_data"
    },
    {
     "data": {
      "text/plain": [
       "35.145907819271088"
      ]
     },
     "metadata": {},
     "output_type": "display_data"
    },
    {
     "data": {
      "text/plain": [
       "35.124303102493286"
      ]
     },
     "metadata": {},
     "output_type": "display_data"
    },
    {
     "data": {
      "text/plain": [
       "35.102698385715485"
      ]
     },
     "metadata": {},
     "output_type": "display_data"
    },
    {
     "data": {
      "text/plain": [
       "35.081093668937683"
      ]
     },
     "metadata": {},
     "output_type": "display_data"
    },
    {
     "data": {
      "text/plain": [
       "35.062525153160095"
      ]
     },
     "metadata": {},
     "output_type": "display_data"
    },
    {
     "data": {
      "text/plain": [
       "35.040920436382294"
      ]
     },
     "metadata": {},
     "output_type": "display_data"
    },
    {
     "data": {
      "text/plain": [
       "35.019315719604492"
      ]
     },
     "metadata": {},
     "output_type": "display_data"
    },
    {
     "data": {
      "text/plain": [
       "34.997711002826691"
      ]
     },
     "metadata": {},
     "output_type": "display_data"
    },
    {
     "data": {
      "text/plain": [
       "34.976106286048889"
      ]
     },
     "metadata": {},
     "output_type": "display_data"
    },
    {
     "data": {
      "text/plain": [
       "34.957537770271301"
      ]
     },
     "metadata": {},
     "output_type": "display_data"
    },
    {
     "data": {
      "text/plain": [
       "34.9359330534935"
      ]
     },
     "metadata": {},
     "output_type": "display_data"
    },
    {
     "data": {
      "text/plain": [
       "34.917364537715912"
      ]
     },
     "metadata": {},
     "output_type": "display_data"
    },
    {
     "data": {
      "text/plain": [
       "34.89575982093811"
      ]
     },
     "metadata": {},
     "output_type": "display_data"
    },
    {
     "data": {
      "text/plain": [
       "34.874155104160309"
      ]
     },
     "metadata": {},
     "output_type": "display_data"
    },
    {
     "data": {
      "text/plain": [
       "34.846224129199982"
      ]
     },
     "metadata": {},
     "output_type": "display_data"
    },
    {
     "data": {
      "text/plain": [
       "34.82709538936615"
      ]
     },
     "metadata": {},
     "output_type": "display_data"
    },
    {
     "data": {
      "text/plain": [
       "34.814873456954956"
      ]
     },
     "metadata": {},
     "output_type": "display_data"
    },
    {
     "data": {
      "text/plain": [
       "34.802651524543762"
      ]
     },
     "metadata": {},
     "output_type": "display_data"
    },
    {
     "data": {
      "text/plain": [
       "34.784083008766174"
      ]
     },
     "metadata": {},
     "output_type": "display_data"
    },
    {
     "data": {
      "text/plain": [
       "34.765514492988586"
      ]
     },
     "metadata": {},
     "output_type": "display_data"
    },
    {
     "data": {
      "text/plain": [
       "34.746945977210999"
      ]
     },
     "metadata": {},
     "output_type": "display_data"
    },
    {
     "data": {
      "text/plain": [
       "34.728377461433411"
      ]
     },
     "metadata": {},
     "output_type": "display_data"
    },
    {
     "data": {
      "text/plain": [
       "34.709808945655823"
      ]
     },
     "metadata": {},
     "output_type": "display_data"
    },
    {
     "data": {
      "text/plain": [
       "34.688204228878021"
      ]
     },
     "metadata": {},
     "output_type": "display_data"
    },
    {
     "data": {
      "text/plain": [
       "34.671503007411957"
      ]
     },
     "metadata": {},
     "output_type": "display_data"
    },
    {
     "data": {
      "text/plain": [
       "34.654801785945892"
      ]
     },
     "metadata": {},
     "output_type": "display_data"
    },
    {
     "data": {
      "text/plain": [
       "34.642579853534698"
      ]
     },
     "metadata": {},
     "output_type": "display_data"
    },
    {
     "data": {
      "text/plain": [
       "34.630357921123505"
      ]
     },
     "metadata": {},
     "output_type": "display_data"
    },
    {
     "data": {
      "text/plain": [
       "34.611789405345917"
      ]
     },
     "metadata": {},
     "output_type": "display_data"
    },
    {
     "data": {
      "text/plain": [
       "34.593453705310822"
      ]
     },
     "metadata": {},
     "output_type": "display_data"
    },
    {
     "data": {
      "text/plain": [
       "34.567338943481445"
      ]
     },
     "metadata": {},
     "output_type": "display_data"
    },
    {
     "data": {
      "text/plain": [
       "34.541224181652069"
      ]
     },
     "metadata": {},
     "output_type": "display_data"
    },
    {
     "data": {
      "text/plain": [
       "34.4997838139534"
      ]
     },
     "metadata": {},
     "output_type": "display_data"
    },
    {
     "data": {
      "text/plain": [
       "34.464341163635254"
      ]
     },
     "metadata": {},
     "output_type": "display_data"
    },
    {
     "data": {
      "text/plain": [
       "34.421673059463501"
      ]
     },
     "metadata": {},
     "output_type": "display_data"
    },
    {
     "data": {
      "text/plain": [
       "34.37916100025177"
      ]
     },
     "metadata": {},
     "output_type": "display_data"
    },
    {
     "data": {
      "text/plain": [
       "34.3593630194664"
      ]
     },
     "metadata": {},
     "output_type": "display_data"
    },
    {
     "data": {
      "text/plain": [
       "34.343103766441345"
      ]
     },
     "metadata": {},
     "output_type": "display_data"
    },
    {
     "data": {
      "text/plain": [
       "34.323305785655975"
      ]
     },
     "metadata": {},
     "output_type": "display_data"
    },
    {
     "data": {
      "text/plain": [
       "34.306371748447418"
      ]
     },
     "metadata": {},
     "output_type": "display_data"
    },
    {
     "data": {
      "text/plain": [
       "34.289437711238861"
      ]
     },
     "metadata": {},
     "output_type": "display_data"
    },
    {
     "data": {
      "text/plain": [
       "34.271861672401428"
      ]
     },
     "metadata": {},
     "output_type": "display_data"
    },
    {
     "data": {
      "text/plain": [
       "34.254285633563995"
      ]
     },
     "metadata": {},
     "output_type": "display_data"
    },
    {
     "data": {
      "text/plain": [
       "34.234487652778625"
      ]
     },
     "metadata": {},
     "output_type": "display_data"
    },
    {
     "data": {
      "text/plain": [
       "34.218228399753571"
      ]
     },
     "metadata": {},
     "output_type": "display_data"
    },
    {
     "data": {
      "text/plain": [
       "34.183311462402344"
      ]
     },
     "metadata": {},
     "output_type": "display_data"
    },
    {
     "data": {
      "text/plain": [
       "34.159580945968628"
      ]
     },
     "metadata": {},
     "output_type": "display_data"
    },
    {
     "data": {
      "text/plain": [
       "34.139782965183258"
      ]
     },
     "metadata": {},
     "output_type": "display_data"
    },
    {
     "data": {
      "text/plain": [
       "34.123523712158203"
      ]
     },
     "metadata": {},
     "output_type": "display_data"
    },
    {
     "data": {
      "text/plain": [
       "34.110270738601685"
      ]
     },
     "metadata": {},
     "output_type": "display_data"
    },
    {
     "data": {
      "text/plain": [
       "34.091141998767853"
      ]
     },
     "metadata": {},
     "output_type": "display_data"
    },
    {
     "data": {
      "text/plain": [
       "34.072376191616058"
      ]
     },
     "metadata": {},
     "output_type": "display_data"
    },
    {
     "data": {
      "text/plain": [
       "34.053557455539703"
      ]
     },
     "metadata": {},
     "output_type": "display_data"
    },
    {
     "data": {
      "text/plain": [
       "34.034428715705872"
      ]
     },
     "metadata": {},
     "output_type": "display_data"
    },
    {
     "data": {
      "text/plain": [
       "34.01529997587204"
      ]
     },
     "metadata": {},
     "output_type": "display_data"
    },
    {
     "data": {
      "text/plain": [
       "33.996731460094452"
      ]
     },
     "metadata": {},
     "output_type": "display_data"
    },
    {
     "data": {
      "text/plain": [
       "33.978162944316864"
      ]
     },
     "metadata": {},
     "output_type": "display_data"
    },
    {
     "data": {
      "text/plain": [
       "33.959852159023285"
      ]
     },
     "metadata": {},
     "output_type": "display_data"
    },
    {
     "data": {
      "text/plain": [
       "33.941503465175629"
      ]
     },
     "metadata": {},
     "output_type": "display_data"
    },
    {
     "data": {
      "text/plain": [
       "33.921705484390259"
      ]
     },
     "metadata": {},
     "output_type": "display_data"
    },
    {
     "data": {
      "text/plain": [
       "33.905446231365204"
      ]
     },
     "metadata": {},
     "output_type": "display_data"
    },
    {
     "data": {
      "text/plain": [
       "33.868773460388184"
      ]
     },
     "metadata": {},
     "output_type": "display_data"
    },
    {
     "data": {
      "text/plain": [
       "33.832970440387726"
      ]
     },
     "metadata": {},
     "output_type": "display_data"
    },
    {
     "data": {
      "text/plain": [
       "33.813841700553894"
      ]
     },
     "metadata": {},
     "output_type": "display_data"
    },
    {
     "data": {
      "text/plain": [
       "33.794712960720062"
      ]
     },
     "metadata": {},
     "output_type": "display_data"
    },
    {
     "data": {
      "text/plain": [
       "33.767625331878662"
      ]
     },
     "metadata": {},
     "output_type": "display_data"
    },
    {
     "data": {
      "text/plain": [
       "33.740537703037262"
      ]
     },
     "metadata": {},
     "output_type": "display_data"
    },
    {
     "data": {
      "text/plain": [
       "33.721969187259674"
      ]
     },
     "metadata": {},
     "output_type": "display_data"
    },
    {
     "data": {
      "text/plain": [
       "33.703633487224579"
      ]
     },
     "metadata": {},
     "output_type": "display_data"
    },
    {
     "data": {
      "text/plain": [
       "33.685064971446991"
      ]
     },
     "metadata": {},
     "output_type": "display_data"
    },
    {
     "data": {
      "text/plain": [
       "33.666496455669403"
      ]
     },
     "metadata": {},
     "output_type": "display_data"
    },
    {
     "data": {
      "text/plain": [
       "33.629823684692383"
      ]
     },
     "metadata": {},
     "output_type": "display_data"
    },
    {
     "data": {
      "text/plain": [
       "33.589999318122864"
      ]
     },
     "metadata": {},
     "output_type": "display_data"
    },
    {
     "data": {
      "text/plain": [
       "33.547257661819458"
      ]
     },
     "metadata": {},
     "output_type": "display_data"
    },
    {
     "data": {
      "text/plain": [
       "33.504368960857391"
      ]
     },
     "metadata": {},
     "output_type": "display_data"
    },
    {
     "data": {
      "text/plain": [
       "33.622363836401036"
      ]
     },
     "metadata": {},
     "output_type": "display_data"
    },
    {
     "data": {
      "text/plain": [
       "33.74035871194468"
      ]
     },
     "metadata": {},
     "output_type": "display_data"
    },
    {
     "data": {
      "text/plain": [
       "33.858353587488324"
      ]
     },
     "metadata": {},
     "output_type": "display_data"
    },
    {
     "data": {
      "text/plain": [
       "33.976348463031968"
      ]
     },
     "metadata": {},
     "output_type": "display_data"
    },
    {
     "data": {
      "text/plain": [
       "34.094343338575612"
      ]
     },
     "metadata": {},
     "output_type": "display_data"
    },
    {
     "data": {
      "text/plain": [
       "34.212338214119256"
      ]
     },
     "metadata": {},
     "output_type": "display_data"
    },
    {
     "data": {
      "text/plain": [
       "34.330333089662901"
      ]
     },
     "metadata": {},
     "output_type": "display_data"
    },
    {
     "data": {
      "text/plain": [
       "34.448327965206545"
      ]
     },
     "metadata": {},
     "output_type": "display_data"
    },
    {
     "data": {
      "text/plain": [
       "34.566322840750189"
      ]
     },
     "metadata": {},
     "output_type": "display_data"
    },
    {
     "data": {
      "text/plain": [
       "34.684317716293833"
      ]
     },
     "metadata": {},
     "output_type": "display_data"
    },
    {
     "data": {
      "text/plain": [
       "34.802312591837477"
      ]
     },
     "metadata": {},
     "output_type": "display_data"
    },
    {
     "data": {
      "text/plain": [
       "34.920307467381122"
      ]
     },
     "metadata": {},
     "output_type": "display_data"
    },
    {
     "data": {
      "text/plain": [
       "35.038302342924766"
      ]
     },
     "metadata": {},
     "output_type": "display_data"
    },
    {
     "data": {
      "text/plain": [
       "35.15629721846841"
      ]
     },
     "metadata": {},
     "output_type": "display_data"
    },
    {
     "data": {
      "text/plain": [
       "35.274292094012054"
      ]
     },
     "metadata": {},
     "output_type": "display_data"
    },
    {
     "data": {
      "text/plain": [
       "35.392286969555698"
      ]
     },
     "metadata": {},
     "output_type": "display_data"
    },
    {
     "data": {
      "text/plain": [
       "35.510281845099342"
      ]
     },
     "metadata": {},
     "output_type": "display_data"
    },
    {
     "data": {
      "text/plain": [
       "35.628276720642987"
      ]
     },
     "metadata": {},
     "output_type": "display_data"
    },
    {
     "data": {
      "text/plain": [
       "35.746271596186631"
      ]
     },
     "metadata": {},
     "output_type": "display_data"
    },
    {
     "data": {
      "text/plain": [
       "35.864266471730275"
      ]
     },
     "metadata": {},
     "output_type": "display_data"
    },
    {
     "data": {
      "text/plain": [
       "35.982261347273919"
      ]
     },
     "metadata": {},
     "output_type": "display_data"
    },
    {
     "data": {
      "text/plain": [
       "36.100256222817563"
      ]
     },
     "metadata": {},
     "output_type": "display_data"
    },
    {
     "data": {
      "text/plain": [
       "36.218251098361208"
      ]
     },
     "metadata": {},
     "output_type": "display_data"
    },
    {
     "data": {
      "text/plain": [
       "36.336245973904852"
      ]
     },
     "metadata": {},
     "output_type": "display_data"
    },
    {
     "data": {
      "text/plain": [
       "36.454240849448496"
      ]
     },
     "metadata": {},
     "output_type": "display_data"
    },
    {
     "data": {
      "text/plain": [
       "36.57223572499214"
      ]
     },
     "metadata": {},
     "output_type": "display_data"
    },
    {
     "data": {
      "text/plain": [
       "36.690230600535784"
      ]
     },
     "metadata": {},
     "output_type": "display_data"
    },
    {
     "data": {
      "text/plain": [
       "36.808225476079429"
      ]
     },
     "metadata": {},
     "output_type": "display_data"
    },
    {
     "data": {
      "text/plain": [
       "36.926220351623073"
      ]
     },
     "metadata": {},
     "output_type": "display_data"
    },
    {
     "data": {
      "text/plain": [
       "37.044215227166717"
      ]
     },
     "metadata": {},
     "output_type": "display_data"
    },
    {
     "data": {
      "text/plain": [
       "37.162210102710361"
      ]
     },
     "metadata": {},
     "output_type": "display_data"
    },
    {
     "data": {
      "text/plain": [
       "37.280204978254005"
      ]
     },
     "metadata": {},
     "output_type": "display_data"
    },
    {
     "data": {
      "text/plain": [
       "37.398199853797649"
      ]
     },
     "metadata": {},
     "output_type": "display_data"
    },
    {
     "data": {
      "text/plain": [
       "37.516194729341294"
      ]
     },
     "metadata": {},
     "output_type": "display_data"
    },
    {
     "data": {
      "text/plain": [
       "37.634189604884938"
      ]
     },
     "metadata": {},
     "output_type": "display_data"
    },
    {
     "data": {
      "text/plain": [
       "37.752184480428582"
      ]
     },
     "metadata": {},
     "output_type": "display_data"
    },
    {
     "data": {
      "text/plain": [
       "37.870179355972226"
      ]
     },
     "metadata": {},
     "output_type": "display_data"
    },
    {
     "data": {
      "text/plain": [
       "37.98817423151587"
      ]
     },
     "metadata": {},
     "output_type": "display_data"
    },
    {
     "data": {
      "text/plain": [
       "38.106169107059515"
      ]
     },
     "metadata": {},
     "output_type": "display_data"
    },
    {
     "data": {
      "text/plain": [
       "38.224163982603159"
      ]
     },
     "metadata": {},
     "output_type": "display_data"
    },
    {
     "data": {
      "text/plain": [
       "38.342158858146803"
      ]
     },
     "metadata": {},
     "output_type": "display_data"
    },
    {
     "data": {
      "text/plain": [
       "38.460153733690447"
      ]
     },
     "metadata": {},
     "output_type": "display_data"
    },
    {
     "data": {
      "text/plain": [
       "38.578148609234091"
      ]
     },
     "metadata": {},
     "output_type": "display_data"
    },
    {
     "data": {
      "text/plain": [
       "38.696143484777735"
      ]
     },
     "metadata": {},
     "output_type": "display_data"
    },
    {
     "data": {
      "text/plain": [
       "38.81413836032138"
      ]
     },
     "metadata": {},
     "output_type": "display_data"
    },
    {
     "data": {
      "text/plain": [
       "38.932133235865024"
      ]
     },
     "metadata": {},
     "output_type": "display_data"
    },
    {
     "data": {
      "text/plain": [
       "39.050128111408668"
      ]
     },
     "metadata": {},
     "output_type": "display_data"
    },
    {
     "data": {
      "text/plain": [
       "39.168122986952312"
      ]
     },
     "metadata": {},
     "output_type": "display_data"
    },
    {
     "data": {
      "text/plain": [
       "39.286117862495956"
      ]
     },
     "metadata": {},
     "output_type": "display_data"
    },
    {
     "data": {
      "text/plain": [
       "39.404112738039601"
      ]
     },
     "metadata": {},
     "output_type": "display_data"
    },
    {
     "data": {
      "text/plain": [
       "39.522107613583245"
      ]
     },
     "metadata": {},
     "output_type": "display_data"
    },
    {
     "data": {
      "text/plain": [
       "39.640102489126889"
      ]
     },
     "metadata": {},
     "output_type": "display_data"
    },
    {
     "data": {
      "text/plain": [
       "39.758097364670533"
      ]
     },
     "metadata": {},
     "output_type": "display_data"
    },
    {
     "data": {
      "text/plain": [
       "39.876092240214177"
      ]
     },
     "metadata": {},
     "output_type": "display_data"
    },
    {
     "data": {
      "text/plain": [
       "39.994087115757821"
      ]
     },
     "metadata": {},
     "output_type": "display_data"
    },
    {
     "data": {
      "text/plain": [
       "40.112081991301466"
      ]
     },
     "metadata": {},
     "output_type": "display_data"
    },
    {
     "data": {
      "text/plain": [
       "40.23007686684511"
      ]
     },
     "metadata": {},
     "output_type": "display_data"
    },
    {
     "data": {
      "text/plain": [
       "40.348071742388754"
      ]
     },
     "metadata": {},
     "output_type": "display_data"
    },
    {
     "data": {
      "text/plain": [
       "40.466066617932398"
      ]
     },
     "metadata": {},
     "output_type": "display_data"
    },
    {
     "data": {
      "text/plain": [
       "40.584061493476042"
      ]
     },
     "metadata": {},
     "output_type": "display_data"
    },
    {
     "data": {
      "text/plain": [
       "40.702056369019687"
      ]
     },
     "metadata": {},
     "output_type": "display_data"
    },
    {
     "data": {
      "text/plain": [
       "40.820051244563331"
      ]
     },
     "metadata": {},
     "output_type": "display_data"
    },
    {
     "data": {
      "text/plain": [
       "40.938046120106975"
      ]
     },
     "metadata": {},
     "output_type": "display_data"
    },
    {
     "data": {
      "text/plain": [
       "41.056040995650619"
      ]
     },
     "metadata": {},
     "output_type": "display_data"
    },
    {
     "data": {
      "text/plain": [
       "41.174035871194263"
      ]
     },
     "metadata": {},
     "output_type": "display_data"
    },
    {
     "data": {
      "text/plain": [
       "41.292030746737908"
      ]
     },
     "metadata": {},
     "output_type": "display_data"
    },
    {
     "data": {
      "text/plain": [
       "41.410025622281552"
      ]
     },
     "metadata": {},
     "output_type": "display_data"
    },
    {
     "data": {
      "text/plain": [
       "41.528020497825196"
      ]
     },
     "metadata": {},
     "output_type": "display_data"
    },
    {
     "data": {
      "text/plain": [
       "41.64601537336884"
      ]
     },
     "metadata": {},
     "output_type": "display_data"
    },
    {
     "data": {
      "text/plain": [
       "41.764010248912484"
      ]
     },
     "metadata": {},
     "output_type": "display_data"
    },
    {
     "data": {
      "text/plain": [
       "41.882005124456128"
      ]
     },
     "metadata": {},
     "output_type": "display_data"
    },
    {
     "data": {
      "text/plain": [
       "41.999999999999773"
      ]
     },
     "metadata": {},
     "output_type": "display_data"
    },
    {
     "data": {
      "text/plain": [
       "41.960911333560944"
      ]
     },
     "metadata": {},
     "output_type": "display_data"
    },
    {
     "data": {
      "text/plain": [
       "41.908324539661407"
      ]
     },
     "metadata": {},
     "output_type": "display_data"
    },
    {
     "data": {
      "text/plain": [
       "41.855737745761871"
      ]
     },
     "metadata": {},
     "output_type": "display_data"
    },
    {
     "data": {
      "text/plain": [
       "41.824022710323334"
      ]
     },
     "metadata": {},
     "output_type": "display_data"
    },
    {
     "data": {
      "text/plain": [
       "41.792307674884796"
      ]
     },
     "metadata": {},
     "output_type": "display_data"
    },
    {
     "data": {
      "text/plain": [
       "41.762147009372711"
      ]
     },
     "metadata": {},
     "output_type": "display_data"
    },
    {
     "data": {
      "text/plain": [
       "41.731986343860626"
      ]
     },
     "metadata": {},
     "output_type": "display_data"
    },
    {
     "data": {
      "text/plain": [
       "41.704055368900299"
      ]
     },
     "metadata": {},
     "output_type": "display_data"
    },
    {
     "data": {
      "text/plain": [
       "41.679227709770203"
      ]
     },
     "metadata": {},
     "output_type": "display_data"
    },
    {
     "data": {
      "text/plain": [
       "41.629159092903137"
      ]
     },
     "metadata": {},
     "output_type": "display_data"
    },
    {
     "data": {
      "text/plain": [
       "41.579090476036072"
      ]
     },
     "metadata": {},
     "output_type": "display_data"
    },
    {
     "data": {
      "text/plain": [
       "41.536405801773071"
      ]
     },
     "metadata": {},
     "output_type": "display_data"
    },
    {
     "data": {
      "text/plain": [
       "41.505371749401093"
      ]
     },
     "metadata": {},
     "output_type": "display_data"
    },
    {
     "data": {
      "text/plain": [
       "41.483767032623291"
      ]
     },
     "metadata": {},
     "output_type": "display_data"
    },
    {
     "data": {
      "text/plain": [
       "41.466832995414734"
      ]
     },
     "metadata": {},
     "output_type": "display_data"
    },
    {
     "data": {
      "text/plain": [
       "41.424316823482513"
      ]
     },
     "metadata": {},
     "output_type": "display_data"
    },
    {
     "data": {
      "text/plain": [
       "41.382639586925507"
      ]
     },
     "metadata": {},
     "output_type": "display_data"
    },
    {
     "data": {
      "text/plain": [
       "41.328697264194489"
      ]
     },
     "metadata": {},
     "output_type": "display_data"
    },
    {
     "data": {
      "text/plain": [
       "41.294247090816498"
      ]
     },
     "metadata": {},
     "output_type": "display_data"
    },
    {
     "data": {
      "text/plain": [
       "41.277313053607941"
      ]
     },
     "metadata": {},
     "output_type": "display_data"
    },
    {
     "data": {
      "text/plain": [
       "41.255708336830139"
      ]
     },
     "metadata": {},
     "output_type": "display_data"
    },
    {
     "data": {
      "text/plain": [
       "41.230880677700043"
      ]
     },
     "metadata": {},
     "output_type": "display_data"
    },
    {
     "data": {
      "text/plain": [
       "41.217627704143524"
      ]
     },
     "metadata": {},
     "output_type": "display_data"
    },
    {
     "data": {
      "text/plain": [
       "41.198498964309692"
      ]
     },
     "metadata": {},
     "output_type": "display_data"
    },
    {
     "data": {
      "text/plain": [
       "41.179370224475861"
      ]
     },
     "metadata": {},
     "output_type": "display_data"
    },
    {
     "data": {
      "text/plain": [
       "41.162436187267303"
      ]
     },
     "metadata": {},
     "output_type": "display_data"
    },
    {
     "data": {
      "text/plain": [
       "41.140831470489502"
      ]
     },
     "metadata": {},
     "output_type": "display_data"
    },
    {
     "data": {
      "text/plain": [
       "41.119375646114349"
      ]
     },
     "metadata": {},
     "output_type": "display_data"
    },
    {
     "data": {
      "text/plain": [
       "41.097919821739197"
      ]
     },
     "metadata": {},
     "output_type": "display_data"
    },
    {
     "data": {
      "text/plain": [
       "41.076463997364044"
      ]
     },
     "metadata": {},
     "output_type": "display_data"
    },
    {
     "data": {
      "text/plain": [
       "41.055008172988892"
      ]
     },
     "metadata": {},
     "output_type": "display_data"
    },
    {
     "data": {
      "text/plain": [
       "41.032329797744751"
      ]
     },
     "metadata": {},
     "output_type": "display_data"
    },
    {
     "data": {
      "text/plain": [
       "41.008886516094208"
      ]
     },
     "metadata": {},
     "output_type": "display_data"
    },
    {
     "data": {
      "text/plain": [
       "40.987430691719055"
      ]
     },
     "metadata": {},
     "output_type": "display_data"
    },
    {
     "data": {
      "text/plain": [
       "40.965974867343903"
      ]
     },
     "metadata": {},
     "output_type": "display_data"
    },
    {
     "data": {
      "text/plain": [
       "40.947664082050323"
      ]
     },
     "metadata": {},
     "output_type": "display_data"
    },
    {
     "data": {
      "text/plain": [
       "40.922635793685913"
      ]
     },
     "metadata": {},
     "output_type": "display_data"
    },
    {
     "data": {
      "text/plain": [
       "40.903507053852081"
      ]
     },
     "metadata": {},
     "output_type": "display_data"
    },
    {
     "data": {
      "text/plain": [
       "40.88437831401825"
      ]
     },
     "metadata": {},
     "output_type": "display_data"
    },
    {
     "data": {
      "text/plain": [
       "40.862773597240448"
      ]
     },
     "metadata": {},
     "output_type": "display_data"
    },
    {
     "data": {
      "text/plain": [
       "40.845839560031891"
      ]
     },
     "metadata": {},
     "output_type": "display_data"
    },
    {
     "data": {
      "text/plain": [
       "40.827490866184235"
      ]
     },
     "metadata": {},
     "output_type": "display_data"
    },
    {
     "data": {
      "text/plain": [
       "40.809142172336578"
      ]
     },
     "metadata": {},
     "output_type": "display_data"
    },
    {
     "data": {
      "text/plain": [
       "40.790793478488922"
      ]
     },
     "metadata": {},
     "output_type": "display_data"
    },
    {
     "data": {
      "text/plain": [
       "40.772444784641266"
      ]
     },
     "metadata": {},
     "output_type": "display_data"
    },
    {
     "data": {
      "text/plain": [
       "40.75409609079361"
      ]
     },
     "metadata": {},
     "output_type": "display_data"
    },
    {
     "data": {
      "text/plain": [
       "40.729029953479767"
      ]
     },
     "metadata": {},
     "output_type": "display_data"
    },
    {
     "data": {
      "text/plain": [
       "40.709231972694397"
      ]
     },
     "metadata": {},
     "output_type": "display_data"
    },
    {
     "data": {
      "text/plain": [
       "40.692972719669342"
      ]
     },
     "metadata": {},
     "output_type": "display_data"
    },
    {
     "data": {
      "text/plain": [
       "40.671516895294189"
      ]
     },
     "metadata": {},
     "output_type": "display_data"
    },
    {
     "data": {
      "text/plain": [
       "40.650061070919037"
      ]
     },
     "metadata": {},
     "output_type": "display_data"
    },
    {
     "data": {
      "text/plain": [
       "40.632477283477783"
      ]
     },
     "metadata": {},
     "output_type": "display_data"
    },
    {
     "data": {
      "text/plain": [
       "40.61489349603653"
      ]
     },
     "metadata": {},
     "output_type": "display_data"
    },
    {
     "data": {
      "text/plain": [
       "40.59658271074295"
      ]
     },
     "metadata": {},
     "output_type": "display_data"
    },
    {
     "data": {
      "text/plain": [
       "40.578271925449371"
      ]
     },
     "metadata": {},
     "output_type": "display_data"
    },
    {
     "data": {
      "text/plain": [
       "40.560928702354431"
      ]
     },
     "metadata": {},
     "output_type": "display_data"
    },
    {
     "data": {
      "text/plain": [
       "40.543994665145874"
      ]
     },
     "metadata": {},
     "output_type": "display_data"
    },
    {
     "data": {
      "text/plain": [
       "40.525683879852295"
      ]
     },
     "metadata": {},
     "output_type": "display_data"
    },
    {
     "data": {
      "text/plain": [
       "40.500655591487885"
      ]
     },
     "metadata": {},
     "output_type": "display_data"
    },
    {
     "data": {
      "text/plain": [
       "40.479973495006561"
      ]
     },
     "metadata": {},
     "output_type": "display_data"
    },
    {
     "data": {
      "text/plain": [
       "40.459291398525238"
      ]
     },
     "metadata": {},
     "output_type": "display_data"
    },
    {
     "data": {
      "text/plain": [
       "40.438609302043915"
      ]
     },
     "metadata": {},
     "output_type": "display_data"
    },
    {
     "data": {
      "text/plain": [
       "40.417333960533142"
      ]
     },
     "metadata": {},
     "output_type": "display_data"
    },
    {
     "data": {
      "text/plain": [
       "40.39587813615799"
      ]
     },
     "metadata": {},
     "output_type": "display_data"
    },
    {
     "data": {
      "text/plain": [
       "40.374422311782837"
      ]
     },
     "metadata": {},
     "output_type": "display_data"
    },
    {
     "data": {
      "text/plain": [
       "40.350009322166443"
      ]
     },
     "metadata": {},
     "output_type": "display_data"
    },
    {
     "data": {
      "text/plain": [
       "40.32855349779129"
      ]
     },
     "metadata": {},
     "output_type": "display_data"
    },
    {
     "data": {
      "text/plain": [
       "40.30587512254715"
      ]
     },
     "metadata": {},
     "output_type": "display_data"
    },
    {
     "data": {
      "text/plain": [
       "40.283196747303009"
      ]
     },
     "metadata": {},
     "output_type": "display_data"
    },
    {
     "data": {
      "text/plain": [
       "40.266262710094452"
      ]
     },
     "metadata": {},
     "output_type": "display_data"
    },
    {
     "data": {
      "text/plain": [
       "40.249561488628387"
      ]
     },
     "metadata": {},
     "output_type": "display_data"
    },
    {
     "data": {
      "text/plain": [
       "40.231225788593292"
      ]
     },
     "metadata": {},
     "output_type": "display_data"
    },
    {
     "data": {
      "text/plain": [
       "40.213882565498352"
      ]
     },
     "metadata": {},
     "output_type": "display_data"
    },
    {
     "data": {
      "text/plain": [
       "40.197181344032288"
      ]
     },
     "metadata": {},
     "output_type": "display_data"
    },
    {
     "data": {
      "text/plain": [
       "40.18024730682373"
      ]
     },
     "metadata": {},
     "output_type": "display_data"
    },
    {
     "data": {
      "text/plain": [
       "40.161911606788635"
      ]
     },
     "metadata": {},
     "output_type": "display_data"
    },
    {
     "data": {
      "text/plain": [
       "40.14357590675354"
      ]
     },
     "metadata": {},
     "output_type": "display_data"
    },
    {
     "data": {
      "text/plain": [
       "40.125240206718445"
      ]
     },
     "metadata": {},
     "output_type": "display_data"
    },
    {
     "data": {
      "text/plain": [
       "40.10690450668335"
      ]
     },
     "metadata": {},
     "output_type": "display_data"
    },
    {
     "data": {
      "text/plain": [
       "40.088335990905762"
      ]
     },
     "metadata": {},
     "output_type": "display_data"
    },
    {
     "data": {
      "text/plain": [
       "40.070000290870667"
      ]
     },
     "metadata": {},
     "output_type": "display_data"
    },
    {
     "data": {
      "text/plain": [
       "40.051431775093079"
      ]
     },
     "metadata": {},
     "output_type": "display_data"
    },
    {
     "data": {
      "text/plain": [
       "40.033096075057983"
      ]
     },
     "metadata": {},
     "output_type": "display_data"
    },
    {
     "data": {
      "text/plain": [
       "40.014527559280396"
      ]
     },
     "metadata": {},
     "output_type": "display_data"
    },
    {
     "data": {
      "text/plain": [
       "39.9961918592453"
      ]
     },
     "metadata": {},
     "output_type": "display_data"
    },
    {
     "data": {
      "text/plain": [
       "39.977856159210205"
      ]
     },
     "metadata": {},
     "output_type": "display_data"
    },
    {
     "data": {
      "text/plain": [
       "39.95952045917511"
      ]
     },
     "metadata": {},
     "output_type": "display_data"
    },
    {
     "data": {
      "text/plain": [
       "39.941184759140015"
      ]
     },
     "metadata": {},
     "output_type": "display_data"
    },
    {
     "data": {
      "text/plain": [
       "39.922616243362427"
      ]
     },
     "metadata": {},
     "output_type": "display_data"
    },
    {
     "data": {
      "text/plain": [
       "39.904280543327332"
      ]
     },
     "metadata": {},
     "output_type": "display_data"
    },
    {
     "data": {
      "text/plain": [
       "39.892058610916138"
      ]
     },
     "metadata": {},
     "output_type": "display_data"
    },
    {
     "data": {
      "text/plain": [
       "39.875799357891083"
      ]
     },
     "metadata": {},
     "output_type": "display_data"
    },
    {
     "data": {
      "text/plain": [
       "39.859540104866028"
      ]
     },
     "metadata": {},
     "output_type": "display_data"
    },
    {
     "data": {
      "text/plain": [
       "39.847318172454834"
      ]
     },
     "metadata": {},
     "output_type": "display_data"
    },
    {
     "data": {
      "text/plain": [
       "39.828749656677246"
      ]
     },
     "metadata": {},
     "output_type": "display_data"
    },
    {
     "data": {
      "text/plain": [
       "39.810181140899658"
      ]
     },
     "metadata": {},
     "output_type": "display_data"
    },
    {
     "data": {
      "text/plain": [
       "39.793479919433594"
      ]
     },
     "metadata": {},
     "output_type": "display_data"
    },
    {
     "data": {
      "text/plain": [
       "39.776778697967529"
      ]
     },
     "metadata": {},
     "output_type": "display_data"
    },
    {
     "data": {
      "text/plain": [
       "39.759844660758972"
      ]
     },
     "metadata": {},
     "output_type": "display_data"
    },
    {
     "data": {
      "text/plain": [
       "39.742910623550415"
      ]
     },
     "metadata": {},
     "output_type": "display_data"
    },
    {
     "data": {
      "text/plain": [
       "39.725976586341858"
      ]
     },
     "metadata": {},
     "output_type": "display_data"
    },
    {
     "data": {
      "text/plain": [
       "39.709275364875793"
      ]
     },
     "metadata": {},
     "output_type": "display_data"
    },
    {
     "data": {
      "text/plain": [
       "39.690926671028137"
      ]
     },
     "metadata": {},
     "output_type": "display_data"
    },
    {
     "data": {
      "text/plain": [
       "39.672577977180481"
      ]
     },
     "metadata": {},
     "output_type": "display_data"
    },
    {
     "data": {
      "text/plain": [
       "39.647511839866638"
      ]
     },
     "metadata": {},
     "output_type": "display_data"
    },
    {
     "data": {
      "text/plain": [
       "39.629163146018982"
      ]
     },
     "metadata": {},
     "output_type": "display_data"
    },
    {
     "data": {
      "text/plain": [
       "39.61476343870163"
      ]
     },
     "metadata": {},
     "output_type": "display_data"
    },
    {
     "data": {
      "text/plain": [
       "39.598062217235565"
      ]
     },
     "metadata": {},
     "output_type": "display_data"
    },
    {
     "data": {
      "text/plain": [
       "39.581360995769501"
      ]
     },
     "metadata": {},
     "output_type": "display_data"
    },
    {
     "data": {
      "text/plain": [
       "39.529724061489105"
      ]
     },
     "metadata": {},
     "output_type": "display_data"
    },
    {
     "data": {
      "text/plain": [
       "39.511155545711517"
      ]
     },
     "metadata": {},
     "output_type": "display_data"
    },
    {
     "data": {
      "text/plain": [
       "39.489550828933716"
      ]
     },
     "metadata": {},
     "output_type": "display_data"
    },
    {
     "data": {
      "text/plain": [
       "39.468150734901428"
      ]
     },
     "metadata": {},
     "output_type": "display_data"
    },
    {
     "data": {
      "text/plain": [
       "39.455928802490234"
      ]
     },
     "metadata": {},
     "output_type": "display_data"
    },
    {
     "data": {
      "text/plain": [
       "39.437360286712646"
      ]
     },
     "metadata": {},
     "output_type": "display_data"
    },
    {
     "data": {
      "text/plain": [
       "39.415755569934845"
      ]
     },
     "metadata": {},
     "output_type": "display_data"
    },
    {
     "data": {
      "text/plain": [
       "39.390694081783295"
      ]
     },
     "metadata": {},
     "output_type": "display_data"
    },
    {
     "data": {
      "text/plain": [
       "39.37443482875824"
      ]
     },
     "metadata": {},
     "output_type": "display_data"
    },
    {
     "data": {
      "text/plain": [
       "39.352830111980438"
      ]
     },
     "metadata": {},
     "output_type": "display_data"
    },
    {
     "data": {
      "text/plain": [
       "39.331225395202637"
      ]
     },
     "metadata": {},
     "output_type": "display_data"
    },
    {
     "data": {
      "text/plain": [
       "39.312656879425049"
      ]
     },
     "metadata": {},
     "output_type": "display_data"
    },
    {
     "data": {
      "text/plain": [
       "39.294088363647461"
      ]
     },
     "metadata": {},
     "output_type": "display_data"
    },
    {
     "data": {
      "text/plain": [
       "39.275519847869873"
      ]
     },
     "metadata": {},
     "output_type": "display_data"
    },
    {
     "data": {
      "text/plain": [
       "39.256951332092285"
      ]
     },
     "metadata": {},
     "output_type": "display_data"
    },
    {
     "data": {
      "text/plain": [
       "39.238382816314697"
      ]
     },
     "metadata": {},
     "output_type": "display_data"
    },
    {
     "data": {
      "text/plain": [
       "39.216778099536896"
      ]
     },
     "metadata": {},
     "output_type": "display_data"
    },
    {
     "data": {
      "text/plain": [
       "39.188177883625031"
      ]
     },
     "metadata": {},
     "output_type": "display_data"
    },
    {
     "data": {
      "text/plain": [
       "39.168379902839661"
      ]
     },
     "metadata": {},
     "output_type": "display_data"
    },
    {
     "data": {
      "text/plain": [
       "39.149811387062073"
      ]
     },
     "metadata": {},
     "output_type": "display_data"
    },
    {
     "data": {
      "text/plain": [
       "39.131242871284485"
      ]
     },
     "metadata": {},
     "output_type": "display_data"
    },
    {
     "data": {
      "text/plain": [
       "39.109638154506683"
      ]
     },
     "metadata": {},
     "output_type": "display_data"
    },
    {
     "data": {
      "text/plain": [
       "39.088033437728882"
      ]
     },
     "metadata": {},
     "output_type": "display_data"
    },
    {
     "data": {
      "text/plain": [
       "39.06890469789505"
      ]
     },
     "metadata": {},
     "output_type": "display_data"
    },
    {
     "data": {
      "text/plain": [
       "39.040973722934723"
      ]
     },
     "metadata": {},
     "output_type": "display_data"
    },
    {
     "data": {
      "text/plain": [
       "39.021844983100891"
      ]
     },
     "metadata": {},
     "output_type": "display_data"
    },
    {
     "data": {
      "text/plain": [
       "39.00024026632309"
      ]
     },
     "metadata": {},
     "output_type": "display_data"
    },
    {
     "data": {
      "text/plain": [
       "38.988018333911896"
      ]
     },
     "metadata": {},
     "output_type": "display_data"
    },
    {
     "data": {
      "text/plain": [
       "38.966618239879608"
      ]
     },
     "metadata": {},
     "output_type": "display_data"
    },
    {
     "data": {
      "text/plain": [
       "38.945218145847321"
      ]
     },
     "metadata": {},
     "output_type": "display_data"
    },
    {
     "data": {
      "text/plain": [
       "38.926649630069733"
      ]
     },
     "metadata": {},
     "output_type": "display_data"
    },
    {
     "data": {
      "text/plain": [
       "38.905044913291931"
      ]
     },
     "metadata": {},
     "output_type": "display_data"
    },
    {
     "data": {
      "text/plain": [
       "38.886476397514343"
      ]
     },
     "metadata": {},
     "output_type": "display_data"
    },
    {
     "data": {
      "text/plain": [
       "38.864871680736542"
      ]
     },
     "metadata": {},
     "output_type": "display_data"
    },
    {
     "data": {
      "text/plain": [
       "38.84326696395874"
      ]
     },
     "metadata": {},
     "output_type": "display_data"
    },
    {
     "data": {
      "text/plain": [
       "38.821662247180939"
      ]
     },
     "metadata": {},
     "output_type": "display_data"
    },
    {
     "data": {
      "text/plain": [
       "38.803093731403351"
      ]
     },
     "metadata": {},
     "output_type": "display_data"
    },
    {
     "data": {
      "text/plain": [
       "38.781489014625549"
      ]
     },
     "metadata": {},
     "output_type": "display_data"
    },
    {
     "data": {
      "text/plain": [
       "38.759884297847748"
      ]
     },
     "metadata": {},
     "output_type": "display_data"
    },
    {
     "data": {
      "text/plain": [
       "38.738279581069946"
      ]
     },
     "metadata": {},
     "output_type": "display_data"
    },
    {
     "data": {
      "text/plain": [
       "38.716674864292145"
      ]
     },
     "metadata": {},
     "output_type": "display_data"
    },
    {
     "data": {
      "text/plain": [
       "38.698106348514557"
      ]
     },
     "metadata": {},
     "output_type": "display_data"
    },
    {
     "data": {
      "text/plain": [
       "38.676501631736755"
      ]
     },
     "metadata": {},
     "output_type": "display_data"
    },
    {
     "data": {
      "text/plain": [
       "38.657933115959167"
      ]
     },
     "metadata": {},
     "output_type": "display_data"
    },
    {
     "data": {
      "text/plain": [
       "38.636328399181366"
      ]
     },
     "metadata": {},
     "output_type": "display_data"
    },
    {
     "data": {
      "text/plain": [
       "38.614723682403564"
      ]
     },
     "metadata": {},
     "output_type": "display_data"
    },
    {
     "data": {
      "text/plain": [
       "38.586792707443237"
      ]
     },
     "metadata": {},
     "output_type": "display_data"
    },
    {
     "data": {
      "text/plain": [
       "38.567663967609406"
      ]
     },
     "metadata": {},
     "output_type": "display_data"
    },
    {
     "data": {
      "text/plain": [
       "38.555442035198212"
      ]
     },
     "metadata": {},
     "output_type": "display_data"
    },
    {
     "data": {
      "text/plain": [
       "38.543220102787018"
      ]
     },
     "metadata": {},
     "output_type": "display_data"
    },
    {
     "data": {
      "text/plain": [
       "38.52465158700943"
      ]
     },
     "metadata": {},
     "output_type": "display_data"
    },
    {
     "data": {
      "text/plain": [
       "38.506083071231842"
      ]
     },
     "metadata": {},
     "output_type": "display_data"
    },
    {
     "data": {
      "text/plain": [
       "38.487514555454254"
      ]
     },
     "metadata": {},
     "output_type": "display_data"
    },
    {
     "data": {
      "text/plain": [
       "38.468946039676666"
      ]
     },
     "metadata": {},
     "output_type": "display_data"
    },
    {
     "data": {
      "text/plain": [
       "38.450377523899078"
      ]
     },
     "metadata": {},
     "output_type": "display_data"
    },
    {
     "data": {
      "text/plain": [
       "38.428772807121277"
      ]
     },
     "metadata": {},
     "output_type": "display_data"
    },
    {
     "data": {
      "text/plain": [
       "38.412071585655212"
      ]
     },
     "metadata": {},
     "output_type": "display_data"
    },
    {
     "data": {
      "text/plain": [
       "38.395370364189148"
      ]
     },
     "metadata": {},
     "output_type": "display_data"
    },
    {
     "data": {
      "text/plain": [
       "38.383148431777954"
      ]
     },
     "metadata": {},
     "output_type": "display_data"
    },
    {
     "data": {
      "text/plain": [
       "38.37092649936676"
      ]
     },
     "metadata": {},
     "output_type": "display_data"
    },
    {
     "data": {
      "text/plain": [
       "38.352357983589172"
      ]
     },
     "metadata": {},
     "output_type": "display_data"
    },
    {
     "data": {
      "text/plain": [
       "38.334022283554077"
      ]
     },
     "metadata": {},
     "output_type": "display_data"
    },
    {
     "data": {
      "text/plain": [
       "38.307907521724701"
      ]
     },
     "metadata": {},
     "output_type": "display_data"
    },
    {
     "data": {
      "text/plain": [
       "38.281792759895325"
      ]
     },
     "metadata": {},
     "output_type": "display_data"
    },
    {
     "data": {
      "text/plain": [
       "38.240352392196655"
      ]
     },
     "metadata": {},
     "output_type": "display_data"
    },
    {
     "data": {
      "text/plain": [
       "38.20490974187851"
      ]
     },
     "metadata": {},
     "output_type": "display_data"
    },
    {
     "data": {
      "text/plain": [
       "38.162241637706757"
      ]
     },
     "metadata": {},
     "output_type": "display_data"
    },
    {
     "data": {
      "text/plain": [
       "38.119729578495026"
      ]
     },
     "metadata": {},
     "output_type": "display_data"
    },
    {
     "data": {
      "text/plain": [
       "38.099931597709656"
      ]
     },
     "metadata": {},
     "output_type": "display_data"
    },
    {
     "data": {
      "text/plain": [
       "38.083672344684601"
      ]
     },
     "metadata": {},
     "output_type": "display_data"
    },
    {
     "data": {
      "text/plain": [
       "38.063874363899231"
      ]
     },
     "metadata": {},
     "output_type": "display_data"
    },
    {
     "data": {
      "text/plain": [
       "38.046940326690674"
      ]
     },
     "metadata": {},
     "output_type": "display_data"
    },
    {
     "data": {
      "text/plain": [
       "38.030006289482117"
      ]
     },
     "metadata": {},
     "output_type": "display_data"
    },
    {
     "data": {
      "text/plain": [
       "38.012430250644684"
      ]
     },
     "metadata": {},
     "output_type": "display_data"
    },
    {
     "data": {
      "text/plain": [
       "37.994854211807251"
      ]
     },
     "metadata": {},
     "output_type": "display_data"
    },
    {
     "data": {
      "text/plain": [
       "37.975056231021881"
      ]
     },
     "metadata": {},
     "output_type": "display_data"
    },
    {
     "data": {
      "text/plain": [
       "37.958796977996826"
      ]
     },
     "metadata": {},
     "output_type": "display_data"
    },
    {
     "data": {
      "text/plain": [
       "37.923880040645599"
      ]
     },
     "metadata": {},
     "output_type": "display_data"
    },
    {
     "data": {
      "text/plain": [
       "37.900149524211884"
      ]
     },
     "metadata": {},
     "output_type": "display_data"
    },
    {
     "data": {
      "text/plain": [
       "37.880351543426514"
      ]
     },
     "metadata": {},
     "output_type": "display_data"
    },
    {
     "data": {
      "text/plain": [
       "37.864092290401459"
      ]
     },
     "metadata": {},
     "output_type": "display_data"
    },
    {
     "data": {
      "text/plain": [
       "37.85083931684494"
      ]
     },
     "metadata": {},
     "output_type": "display_data"
    },
    {
     "data": {
      "text/plain": [
       "37.831710577011108"
      ]
     },
     "metadata": {},
     "output_type": "display_data"
    },
    {
     "data": {
      "text/plain": [
       "37.812944769859314"
      ]
     },
     "metadata": {},
     "output_type": "display_data"
    },
    {
     "data": {
      "text/plain": [
       "37.794126033782959"
      ]
     },
     "metadata": {},
     "output_type": "display_data"
    },
    {
     "data": {
      "text/plain": [
       "37.774997293949127"
      ]
     },
     "metadata": {},
     "output_type": "display_data"
    },
    {
     "data": {
      "text/plain": [
       "37.755868554115295"
      ]
     },
     "metadata": {},
     "output_type": "display_data"
    },
    {
     "data": {
      "text/plain": [
       "37.737300038337708"
      ]
     },
     "metadata": {},
     "output_type": "display_data"
    },
    {
     "data": {
      "text/plain": [
       "37.71873152256012"
      ]
     },
     "metadata": {},
     "output_type": "display_data"
    },
    {
     "data": {
      "text/plain": [
       "37.700420737266541"
      ]
     },
     "metadata": {},
     "output_type": "display_data"
    },
    {
     "data": {
      "text/plain": [
       "37.682072043418884"
      ]
     },
     "metadata": {},
     "output_type": "display_data"
    },
    {
     "data": {
      "text/plain": [
       "37.662274062633514"
      ]
     },
     "metadata": {},
     "output_type": "display_data"
    },
    {
     "data": {
      "text/plain": [
       "37.646014809608459"
      ]
     },
     "metadata": {},
     "output_type": "display_data"
    },
    {
     "data": {
      "text/plain": [
       "37.609342038631439"
      ]
     },
     "metadata": {},
     "output_type": "display_data"
    },
    {
     "data": {
      "text/plain": [
       "37.573539018630981"
      ]
     },
     "metadata": {},
     "output_type": "display_data"
    },
    {
     "data": {
      "text/plain": [
       "37.55441027879715"
      ]
     },
     "metadata": {},
     "output_type": "display_data"
    },
    {
     "data": {
      "text/plain": [
       "37.535281538963318"
      ]
     },
     "metadata": {},
     "output_type": "display_data"
    },
    {
     "data": {
      "text/plain": [
       "37.508193910121918"
      ]
     },
     "metadata": {},
     "output_type": "display_data"
    },
    {
     "data": {
      "text/plain": [
       "37.481106281280518"
      ]
     },
     "metadata": {},
     "output_type": "display_data"
    },
    {
     "data": {
      "text/plain": [
       "37.46253776550293"
      ]
     },
     "metadata": {},
     "output_type": "display_data"
    },
    {
     "data": {
      "text/plain": [
       "37.444202065467834"
      ]
     },
     "metadata": {},
     "output_type": "display_data"
    },
    {
     "data": {
      "text/plain": [
       "37.425633549690247"
      ]
     },
     "metadata": {},
     "output_type": "display_data"
    },
    {
     "data": {
      "text/plain": [
       "37.407065033912659"
      ]
     },
     "metadata": {},
     "output_type": "display_data"
    },
    {
     "data": {
      "text/plain": [
       "37.370392262935638"
      ]
     },
     "metadata": {},
     "output_type": "display_data"
    },
    {
     "data": {
      "text/plain": [
       "37.330567896366119"
      ]
     },
     "metadata": {},
     "output_type": "display_data"
    },
    {
     "data": {
      "text/plain": [
       "37.287826240062714"
      ]
     },
     "metadata": {},
     "output_type": "display_data"
    },
    {
     "data": {
      "text/plain": [
       "37.244937539100647"
      ]
     },
     "metadata": {},
     "output_type": "display_data"
    },
    {
     "data": {
      "text/plain": [
       "37.20204883813858"
      ]
     },
     "metadata": {},
     "output_type": "display_data"
    },
    {
     "data": {
      "text/plain": [
       "37.159307181835175"
      ]
     },
     "metadata": {},
     "output_type": "display_data"
    },
    {
     "data": {
      "text/plain": [
       "37.106167316436768"
      ]
     },
     "metadata": {},
     "output_type": "display_data"
    },
    {
     "data": {
      "text/plain": [
       "37.055536091327667"
      ]
     },
     "metadata": {},
     "output_type": "display_data"
    },
    {
     "data": {
      "text/plain": [
       "37.012647390365601"
      ]
     },
     "metadata": {},
     "output_type": "display_data"
    },
    {
     "data": {
      "text/plain": [
       "36.969905734062195"
      ]
     },
     "metadata": {},
     "output_type": "display_data"
    },
    {
     "data": {
      "text/plain": [
       "36.927769243717194"
      ]
     },
     "metadata": {},
     "output_type": "display_data"
    },
    {
     "data": {
      "text/plain": [
       "36.88026762008667"
      ]
     },
     "metadata": {},
     "output_type": "display_data"
    },
    {
     "data": {
      "text/plain": [
       "36.862721741199493"
      ]
     },
     "metadata": {},
     "output_type": "display_data"
    },
    {
     "data": {
      "text/plain": [
       "36.845175862312317"
      ]
     },
     "metadata": {},
     "output_type": "display_data"
    },
    {
     "data": {
      "text/plain": [
       "36.828474640846252"
      ]
     },
     "metadata": {},
     "output_type": "display_data"
    },
    {
     "data": {
      "text/plain": [
       "36.811773419380188"
      ]
     },
     "metadata": {},
     "output_type": "display_data"
    },
    {
     "data": {
      "text/plain": [
       "36.769031763076782"
      ]
     },
     "metadata": {},
     "output_type": "display_data"
    },
    {
     "data": {
      "text/plain": [
       "36.726143062114716"
      ]
     },
     "metadata": {},
     "output_type": "display_data"
    },
    {
     "data": {
      "text/plain": [
       "36.68340140581131"
      ]
     },
     "metadata": {},
     "output_type": "display_data"
    },
    {
     "data": {
      "text/plain": [
       "36.660260260105133"
      ]
     },
     "metadata": {},
     "output_type": "display_data"
    },
    {
     "data": {
      "text/plain": [
       "36.64894425868988"
      ]
     },
     "metadata": {},
     "output_type": "display_data"
    },
    {
     "data": {
      "text/plain": [
       "36.62626588344574"
      ]
     },
     "metadata": {},
     "output_type": "display_data"
    },
    {
     "data": {
      "text/plain": [
       "36.607955098152161"
      ]
     },
     "metadata": {},
     "output_type": "display_data"
    },
    {
     "data": {
      "text/plain": [
       "36.56544303894043"
      ]
     },
     "metadata": {},
     "output_type": "display_data"
    },
    {
     "data": {
      "text/plain": [
       "36.522930979728699"
      ]
     },
     "metadata": {},
     "output_type": "display_data"
    },
    {
     "data": {
      "text/plain": [
       "36.504362463951111"
      ]
     },
     "metadata": {},
     "output_type": "display_data"
    },
    {
     "data": {
      "text/plain": [
       "36.486026763916016"
      ]
     },
     "metadata": {},
     "output_type": "display_data"
    },
    {
     "data": {
      "text/plain": [
       "36.458413422107697"
      ]
     },
     "metadata": {},
     "output_type": "display_data"
    },
    {
     "data": {
      "text/plain": [
       "36.429986417293549"
      ]
     },
     "metadata": {},
     "output_type": "display_data"
    },
    {
     "data": {
      "text/plain": [
       "36.379189968109131"
      ]
     },
     "metadata": {},
     "output_type": "display_data"
    },
    {
     "data": {
      "text/plain": [
       "36.329515159130096"
      ]
     },
     "metadata": {},
     "output_type": "display_data"
    },
    {
     "data": {
      "text/plain": [
       "36.30637401342392"
      ]
     },
     "metadata": {},
     "output_type": "display_data"
    },
    {
     "data": {
      "text/plain": [
       "36.283232867717743"
      ]
     },
     "metadata": {},
     "output_type": "display_data"
    },
    {
     "data": {
      "text/plain": [
       "36.227899074554443"
      ]
     },
     "metadata": {},
     "output_type": "display_data"
    },
    {
     "data": {
      "text/plain": [
       "36.172565281391144"
      ]
     },
     "metadata": {},
     "output_type": "display_data"
    },
    {
     "data": {
      "text/plain": [
       "36.142147243022919"
      ]
     },
     "metadata": {},
     "output_type": "display_data"
    },
    {
     "data": {
      "text/plain": [
       "36.111582159996033"
      ]
     },
     "metadata": {},
     "output_type": "display_data"
    },
    {
     "data": {
      "text/plain": [
       "36.079235970973969"
      ]
     },
     "metadata": {},
     "output_type": "display_data"
    },
    {
     "data": {
      "text/plain": [
       "36.046889781951904"
      ]
     },
     "metadata": {},
     "output_type": "display_data"
    },
    {
     "data": {
      "text/plain": [
       "36.000445961952209"
      ]
     },
     "metadata": {},
     "output_type": "display_data"
    },
    {
     "data": {
      "text/plain": [
       "35.954002141952515"
      ]
     },
     "metadata": {},
     "output_type": "display_data"
    },
    {
     "data": {
      "text/plain": [
       "35.902676641941071"
      ]
     },
     "metadata": {},
     "output_type": "display_data"
    },
    {
     "data": {
      "text/plain": [
       "35.849536776542664"
      ]
     },
     "metadata": {},
     "output_type": "display_data"
    },
    {
     "data": {
      "text/plain": [
       "35.806705415248871"
      ]
     },
     "metadata": {},
     "output_type": "display_data"
    },
    {
     "data": {
      "text/plain": [
       "35.77292263507843"
      ]
     },
     "metadata": {},
     "output_type": "display_data"
    },
    {
     "data": {
      "text/plain": [
       "35.72984117269516"
      ]
     },
     "metadata": {},
     "output_type": "display_data"
    },
    {
     "data": {
      "text/plain": [
       "35.68675971031189"
      ]
     },
     "metadata": {},
     "output_type": "display_data"
    },
    {
     "data": {
      "text/plain": [
       "35.637461841106415"
      ]
     },
     "metadata": {},
     "output_type": "display_data"
    },
    {
     "data": {
      "text/plain": [
       "35.58816397190094"
      ]
     },
     "metadata": {},
     "output_type": "display_data"
    },
    {
     "data": {
      "text/plain": [
       "35.538095355033875"
      ]
     },
     "metadata": {},
     "output_type": "display_data"
    },
    {
     "data": {
      "text/plain": [
       "35.489148378372192"
      ]
     },
     "metadata": {},
     "output_type": "display_data"
    },
    {
     "data": {
      "text/plain": [
       "35.447381258010864"
      ]
     },
     "metadata": {},
     "output_type": "display_data"
    },
    {
     "data": {
      "text/plain": [
       "35.405614137649536"
      ]
     },
     "metadata": {},
     "output_type": "display_data"
    },
    {
     "data": {
      "text/plain": [
       "35.38806825876236"
      ]
     },
     "metadata": {},
     "output_type": "display_data"
    },
    {
     "data": {
      "text/plain": [
       "35.364624977111816"
      ]
     },
     "metadata": {},
     "output_type": "display_data"
    },
    {
     "data": {
      "text/plain": [
       "35.343020260334015"
      ]
     },
     "metadata": {},
     "output_type": "display_data"
    },
    {
     "data": {
      "text/plain": [
       "35.321415543556213"
      ]
     },
     "metadata": {},
     "output_type": "display_data"
    },
    {
     "data": {
      "text/plain": [
       "35.278334081172943"
      ]
     },
     "metadata": {},
     "output_type": "display_data"
    },
    {
     "data": {
      "text/plain": [
       "35.235252618789673"
      ]
     },
     "metadata": {},
     "output_type": "display_data"
    },
    {
     "data": {
      "text/plain": [
       "35.194330215454102"
      ]
     },
     "metadata": {},
     "output_type": "display_data"
    },
    {
     "data": {
      "text/plain": [
       "35.15340781211853"
      ]
     },
     "metadata": {},
     "output_type": "display_data"
    },
    {
     "data": {
      "text/plain": [
       "35.11762535572052"
      ]
     },
     "metadata": {},
     "output_type": "display_data"
    },
    {
     "data": {
      "text/plain": [
       "35.072702348232269"
      ]
     },
     "metadata": {},
     "output_type": "display_data"
    },
    {
     "data": {
      "text/plain": [
       "35.031779944896698"
      ]
     },
     "metadata": {},
     "output_type": "display_data"
    },
    {
     "data": {
      "text/plain": [
       "34.990857541561127"
      ]
     },
     "metadata": {},
     "output_type": "display_data"
    },
    {
     "data": {
      "text/plain": [
       "34.949921369552612"
      ]
     },
     "metadata": {},
     "output_type": "display_data"
    },
    {
     "data": {
      "text/plain": [
       "34.908985197544098"
      ]
     },
     "metadata": {},
     "output_type": "display_data"
    },
    {
     "data": {
      "text/plain": [
       "34.874193429946899"
      ]
     },
     "metadata": {},
     "output_type": "display_data"
    },
    {
     "data": {
      "text/plain": [
       "34.851052284240723"
      ]
     },
     "metadata": {},
     "output_type": "display_data"
    },
    {
     "data": {
      "text/plain": [
       "34.804608464241028"
      ]
     },
     "metadata": {},
     "output_type": "display_data"
    },
    {
     "data": {
      "text/plain": [
       "34.750898659229279"
      ]
     },
     "metadata": {},
     "output_type": "display_data"
    },
    {
     "data": {
      "text/plain": [
       "34.70913153886795"
      ]
     },
     "metadata": {},
     "output_type": "display_data"
    },
    {
     "data": {
      "text/plain": [
       "34.666242837905884"
      ]
     },
     "metadata": {},
     "output_type": "display_data"
    },
    {
     "data": {
      "text/plain": [
       "34.623726665973663"
      ]
     },
     "metadata": {},
     "output_type": "display_data"
    },
    {
     "data": {
      "text/plain": [
       "34.582049429416656"
      ]
     },
     "metadata": {},
     "output_type": "display_data"
    },
    {
     "data": {
      "text/plain": [
       "34.547257661819458"
      ]
     },
     "metadata": {},
     "output_type": "display_data"
    },
    {
     "data": {
      "text/plain": [
       "34.508168995380402"
      ]
     },
     "metadata": {},
     "output_type": "display_data"
    },
    {
     "data": {
      "text/plain": [
       "34.455582201480865"
      ]
     },
     "metadata": {},
     "output_type": "display_data"
    },
    {
     "data": {
      "text/plain": [
       "34.402995407581329"
      ]
     },
     "metadata": {},
     "output_type": "display_data"
    },
    {
     "data": {
      "text/plain": [
       "34.371280372142792"
      ]
     },
     "metadata": {},
     "output_type": "display_data"
    },
    {
     "data": {
      "text/plain": [
       "34.339565336704254"
      ]
     },
     "metadata": {},
     "output_type": "display_data"
    },
    {
     "data": {
      "text/plain": [
       "34.309404671192169"
      ]
     },
     "metadata": {},
     "output_type": "display_data"
    },
    {
     "data": {
      "text/plain": [
       "34.279244005680084"
      ]
     },
     "metadata": {},
     "output_type": "display_data"
    },
    {
     "data": {
      "text/plain": [
       "34.251313030719757"
      ]
     },
     "metadata": {},
     "output_type": "display_data"
    },
    {
     "data": {
      "text/plain": [
       "34.226485371589661"
      ]
     },
     "metadata": {},
     "output_type": "display_data"
    },
    {
     "data": {
      "text/plain": [
       "34.176416754722595"
      ]
     },
     "metadata": {},
     "output_type": "display_data"
    },
    {
     "data": {
      "text/plain": [
       "34.12634813785553"
      ]
     },
     "metadata": {},
     "output_type": "display_data"
    },
    {
     "data": {
      "text/plain": [
       "34.083663463592529"
      ]
     },
     "metadata": {},
     "output_type": "display_data"
    },
    {
     "data": {
      "text/plain": [
       "34.052629411220551"
      ]
     },
     "metadata": {},
     "output_type": "display_data"
    },
    {
     "data": {
      "text/plain": [
       "34.031024694442749"
      ]
     },
     "metadata": {},
     "output_type": "display_data"
    },
    {
     "data": {
      "text/plain": [
       "34.014090657234192"
      ]
     },
     "metadata": {},
     "output_type": "display_data"
    },
    {
     "data": {
      "text/plain": [
       "33.971574485301971"
      ]
     },
     "metadata": {},
     "output_type": "display_data"
    },
    {
     "data": {
      "text/plain": [
       "33.929897248744965"
      ]
     },
     "metadata": {},
     "output_type": "display_data"
    },
    {
     "data": {
      "text/plain": [
       "33.875954926013947"
      ]
     },
     "metadata": {},
     "output_type": "display_data"
    },
    {
     "data": {
      "text/plain": [
       "33.841504752635956"
      ]
     },
     "metadata": {},
     "output_type": "display_data"
    },
    {
     "data": {
      "text/plain": [
       "33.824570715427399"
      ]
     },
     "metadata": {},
     "output_type": "display_data"
    },
    {
     "data": {
      "text/plain": [
       "33.802965998649597"
      ]
     },
     "metadata": {},
     "output_type": "display_data"
    },
    {
     "data": {
      "text/plain": [
       "33.778138339519501"
      ]
     },
     "metadata": {},
     "output_type": "display_data"
    },
    {
     "data": {
      "text/plain": [
       "33.764885365962982"
      ]
     },
     "metadata": {},
     "output_type": "display_data"
    },
    {
     "data": {
      "text/plain": [
       "33.74575662612915"
      ]
     },
     "metadata": {},
     "output_type": "display_data"
    },
    {
     "data": {
      "text/plain": [
       "33.726627886295319"
      ]
     },
     "metadata": {},
     "output_type": "display_data"
    },
    {
     "data": {
      "text/plain": [
       "33.709693849086761"
      ]
     },
     "metadata": {},
     "output_type": "display_data"
    },
    {
     "data": {
      "text/plain": [
       "33.68808913230896"
      ]
     },
     "metadata": {},
     "output_type": "display_data"
    },
    {
     "data": {
      "text/plain": [
       "33.666633307933807"
      ]
     },
     "metadata": {},
     "output_type": "display_data"
    },
    {
     "data": {
      "text/plain": [
       "33.645177483558655"
      ]
     },
     "metadata": {},
     "output_type": "display_data"
    },
    {
     "data": {
      "text/plain": [
       "33.623721659183502"
      ]
     },
     "metadata": {},
     "output_type": "display_data"
    },
    {
     "data": {
      "text/plain": [
       "33.60226583480835"
      ]
     },
     "metadata": {},
     "output_type": "display_data"
    },
    {
     "data": {
      "text/plain": [
       "33.579587459564209"
      ]
     },
     "metadata": {},
     "output_type": "display_data"
    },
    {
     "data": {
      "text/plain": [
       "33.556144177913666"
      ]
     },
     "metadata": {},
     "output_type": "display_data"
    },
    {
     "data": {
      "text/plain": [
       "33.534688353538513"
      ]
     },
     "metadata": {},
     "output_type": "display_data"
    },
    {
     "data": {
      "text/plain": [
       "33.513232529163361"
      ]
     },
     "metadata": {},
     "output_type": "display_data"
    },
    {
     "data": {
      "text/plain": [
       "33.494921743869781"
      ]
     },
     "metadata": {},
     "output_type": "display_data"
    },
    {
     "data": {
      "text/plain": [
       "33.469893455505371"
      ]
     },
     "metadata": {},
     "output_type": "display_data"
    },
    {
     "data": {
      "text/plain": [
       "33.450764715671539"
      ]
     },
     "metadata": {},
     "output_type": "display_data"
    },
    {
     "data": {
      "text/plain": [
       "33.431635975837708"
      ]
     },
     "metadata": {},
     "output_type": "display_data"
    },
    {
     "data": {
      "text/plain": [
       "33.410031259059906"
      ]
     },
     "metadata": {},
     "output_type": "display_data"
    },
    {
     "data": {
      "text/plain": [
       "33.393097221851349"
      ]
     },
     "metadata": {},
     "output_type": "display_data"
    },
    {
     "data": {
      "text/plain": [
       "33.374748528003693"
      ]
     },
     "metadata": {},
     "output_type": "display_data"
    },
    {
     "data": {
      "text/plain": [
       "33.356399834156036"
      ]
     },
     "metadata": {},
     "output_type": "display_data"
    },
    {
     "data": {
      "text/plain": [
       "33.33805114030838"
      ]
     },
     "metadata": {},
     "output_type": "display_data"
    },
    {
     "data": {
      "text/plain": [
       "33.319702446460724"
      ]
     },
     "metadata": {},
     "output_type": "display_data"
    },
    {
     "data": {
      "text/plain": [
       "33.301353752613068"
      ]
     },
     "metadata": {},
     "output_type": "display_data"
    },
    {
     "data": {
      "text/plain": [
       "33.276287615299225"
      ]
     },
     "metadata": {},
     "output_type": "display_data"
    },
    {
     "data": {
      "text/plain": [
       "33.256489634513855"
      ]
     },
     "metadata": {},
     "output_type": "display_data"
    },
    {
     "data": {
      "text/plain": [
       "33.2402303814888"
      ]
     },
     "metadata": {},
     "output_type": "display_data"
    },
    {
     "data": {
      "text/plain": [
       "33.218774557113647"
      ]
     },
     "metadata": {},
     "output_type": "display_data"
    },
    {
     "data": {
      "text/plain": [
       "33.197318732738495"
      ]
     },
     "metadata": {},
     "output_type": "display_data"
    },
    {
     "data": {
      "text/plain": [
       "33.179734945297241"
      ]
     },
     "metadata": {},
     "output_type": "display_data"
    },
    {
     "data": {
      "text/plain": [
       "33.162151157855988"
      ]
     },
     "metadata": {},
     "output_type": "display_data"
    },
    {
     "data": {
      "text/plain": [
       "33.143840372562408"
      ]
     },
     "metadata": {},
     "output_type": "display_data"
    },
    {
     "data": {
      "text/plain": [
       "33.125529587268829"
      ]
     },
     "metadata": {},
     "output_type": "display_data"
    },
    {
     "data": {
      "text/plain": [
       "33.108186364173889"
      ]
     },
     "metadata": {},
     "output_type": "display_data"
    },
    {
     "data": {
      "text/plain": [
       "33.091252326965332"
      ]
     },
     "metadata": {},
     "output_type": "display_data"
    },
    {
     "data": {
      "text/plain": [
       "33.072941541671753"
      ]
     },
     "metadata": {},
     "output_type": "display_data"
    },
    {
     "data": {
      "text/plain": [
       "33.047913253307343"
      ]
     },
     "metadata": {},
     "output_type": "display_data"
    },
    {
     "data": {
      "text/plain": [
       "33.027231156826019"
      ]
     },
     "metadata": {},
     "output_type": "display_data"
    },
    {
     "data": {
      "text/plain": [
       "33.006549060344696"
      ]
     },
     "metadata": {},
     "output_type": "display_data"
    },
    {
     "data": {
      "text/plain": [
       "32.985866963863373"
      ]
     },
     "metadata": {},
     "output_type": "display_data"
    },
    {
     "data": {
      "text/plain": [
       "32.9645916223526"
      ]
     },
     "metadata": {},
     "output_type": "display_data"
    },
    {
     "data": {
      "text/plain": [
       "32.943135797977448"
      ]
     },
     "metadata": {},
     "output_type": "display_data"
    },
    {
     "data": {
      "text/plain": [
       "32.921679973602295"
      ]
     },
     "metadata": {},
     "output_type": "display_data"
    },
    {
     "data": {
      "text/plain": [
       "32.897266983985901"
      ]
     },
     "metadata": {},
     "output_type": "display_data"
    },
    {
     "data": {
      "text/plain": [
       "32.875811159610748"
      ]
     },
     "metadata": {},
     "output_type": "display_data"
    },
    {
     "data": {
      "text/plain": [
       "32.853132784366608"
      ]
     },
     "metadata": {},
     "output_type": "display_data"
    },
    {
     "data": {
      "text/plain": [
       "32.830454409122467"
      ]
     },
     "metadata": {},
     "output_type": "display_data"
    },
    {
     "data": {
      "text/plain": [
       "32.81352037191391"
      ]
     },
     "metadata": {},
     "output_type": "display_data"
    },
    {
     "data": {
      "text/plain": [
       "32.796819150447845"
      ]
     },
     "metadata": {},
     "output_type": "display_data"
    },
    {
     "data": {
      "text/plain": [
       "32.77848345041275"
      ]
     },
     "metadata": {},
     "output_type": "display_data"
    },
    {
     "data": {
      "text/plain": [
       "32.76114022731781"
      ]
     },
     "metadata": {},
     "output_type": "display_data"
    },
    {
     "data": {
      "text/plain": [
       "32.744439005851746"
      ]
     },
     "metadata": {},
     "output_type": "display_data"
    },
    {
     "data": {
      "text/plain": [
       "32.727504968643188"
      ]
     },
     "metadata": {},
     "output_type": "display_data"
    },
    {
     "data": {
      "text/plain": [
       "32.709169268608093"
      ]
     },
     "metadata": {},
     "output_type": "display_data"
    },
    {
     "data": {
      "text/plain": [
       "32.690833568572998"
      ]
     },
     "metadata": {},
     "output_type": "display_data"
    },
    {
     "data": {
      "text/plain": [
       "32.672497868537903"
      ]
     },
     "metadata": {},
     "output_type": "display_data"
    },
    {
     "data": {
      "text/plain": [
       "32.654162168502808"
      ]
     },
     "metadata": {},
     "output_type": "display_data"
    },
    {
     "data": {
      "text/plain": [
       "32.63559365272522"
      ]
     },
     "metadata": {},
     "output_type": "display_data"
    },
    {
     "data": {
      "text/plain": [
       "32.617257952690125"
      ]
     },
     "metadata": {},
     "output_type": "display_data"
    },
    {
     "data": {
      "text/plain": [
       "32.598689436912537"
      ]
     },
     "metadata": {},
     "output_type": "display_data"
    },
    {
     "data": {
      "text/plain": [
       "32.580353736877441"
      ]
     },
     "metadata": {},
     "output_type": "display_data"
    },
    {
     "data": {
      "text/plain": [
       "32.561785221099854"
      ]
     },
     "metadata": {},
     "output_type": "display_data"
    },
    {
     "data": {
      "text/plain": [
       "32.543449521064758"
      ]
     },
     "metadata": {},
     "output_type": "display_data"
    },
    {
     "data": {
      "text/plain": [
       "32.525113821029663"
      ]
     },
     "metadata": {},
     "output_type": "display_data"
    },
    {
     "data": {
      "text/plain": [
       "32.506778120994568"
      ]
     },
     "metadata": {},
     "output_type": "display_data"
    },
    {
     "data": {
      "text/plain": [
       "32.488442420959473"
      ]
     },
     "metadata": {},
     "output_type": "display_data"
    },
    {
     "data": {
      "text/plain": [
       "32.469873905181885"
      ]
     },
     "metadata": {},
     "output_type": "display_data"
    },
    {
     "data": {
      "text/plain": [
       "32.45153820514679"
      ]
     },
     "metadata": {},
     "output_type": "display_data"
    },
    {
     "data": {
      "text/plain": [
       "32.439316272735596"
      ]
     },
     "metadata": {},
     "output_type": "display_data"
    },
    {
     "data": {
      "text/plain": [
       "32.423057019710541"
      ]
     },
     "metadata": {},
     "output_type": "display_data"
    },
    {
     "data": {
      "text/plain": [
       "32.406797766685486"
      ]
     },
     "metadata": {},
     "output_type": "display_data"
    },
    {
     "data": {
      "text/plain": [
       "32.394575834274292"
      ]
     },
     "metadata": {},
     "output_type": "display_data"
    },
    {
     "data": {
      "text/plain": [
       "32.376007318496704"
      ]
     },
     "metadata": {},
     "output_type": "display_data"
    },
    {
     "data": {
      "text/plain": [
       "32.357438802719116"
      ]
     },
     "metadata": {},
     "output_type": "display_data"
    },
    {
     "data": {
      "text/plain": [
       "32.340737581253052"
      ]
     },
     "metadata": {},
     "output_type": "display_data"
    },
    {
     "data": {
      "text/plain": [
       "32.324036359786987"
      ]
     },
     "metadata": {},
     "output_type": "display_data"
    },
    {
     "data": {
      "text/plain": [
       "32.30710232257843"
      ]
     },
     "metadata": {},
     "output_type": "display_data"
    },
    {
     "data": {
      "text/plain": [
       "32.290168285369873"
      ]
     },
     "metadata": {},
     "output_type": "display_data"
    },
    {
     "data": {
      "text/plain": [
       "32.273234248161316"
      ]
     },
     "metadata": {},
     "output_type": "display_data"
    },
    {
     "data": {
      "text/plain": [
       "32.256533026695251"
      ]
     },
     "metadata": {},
     "output_type": "display_data"
    },
    {
     "data": {
      "text/plain": [
       "32.238184332847595"
      ]
     },
     "metadata": {},
     "output_type": "display_data"
    },
    {
     "data": {
      "text/plain": [
       "32.219835638999939"
      ]
     },
     "metadata": {},
     "output_type": "display_data"
    },
    {
     "data": {
      "text/plain": [
       "32.194769501686096"
      ]
     },
     "metadata": {},
     "output_type": "display_data"
    },
    {
     "data": {
      "text/plain": [
       "32.17642080783844"
      ]
     },
     "metadata": {},
     "output_type": "display_data"
    },
    {
     "data": {
      "text/plain": [
       "32.162021100521088"
      ]
     },
     "metadata": {},
     "output_type": "display_data"
    },
    {
     "data": {
      "text/plain": [
       "32.145319879055023"
      ]
     },
     "metadata": {},
     "output_type": "display_data"
    },
    {
     "data": {
      "text/plain": [
       "32.128618657588959"
      ]
     },
     "metadata": {},
     "output_type": "display_data"
    },
    {
     "data": {
      "text/plain": [
       "32.076981723308563"
      ]
     },
     "metadata": {},
     "output_type": "display_data"
    },
    {
     "data": {
      "text/plain": [
       "32.058413207530975"
      ]
     },
     "metadata": {},
     "output_type": "display_data"
    },
    {
     "data": {
      "text/plain": [
       "32.036808490753174"
      ]
     },
     "metadata": {},
     "output_type": "display_data"
    },
    {
     "data": {
      "text/plain": [
       "32.015408396720886"
      ]
     },
     "metadata": {},
     "output_type": "display_data"
    },
    {
     "data": {
      "text/plain": [
       "32.003186464309692"
      ]
     },
     "metadata": {},
     "output_type": "display_data"
    },
    {
     "data": {
      "text/plain": [
       "31.984617948532104"
      ]
     },
     "metadata": {},
     "output_type": "display_data"
    },
    {
     "data": {
      "text/plain": [
       "31.963013231754303"
      ]
     },
     "metadata": {},
     "output_type": "display_data"
    },
    {
     "data": {
      "text/plain": [
       "31.937951743602753"
      ]
     },
     "metadata": {},
     "output_type": "display_data"
    },
    {
     "data": {
      "text/plain": [
       "31.921692490577698"
      ]
     },
     "metadata": {},
     "output_type": "display_data"
    },
    {
     "data": {
      "text/plain": [
       "31.900087773799896"
      ]
     },
     "metadata": {},
     "output_type": "display_data"
    },
    {
     "data": {
      "text/plain": [
       "31.878483057022095"
      ]
     },
     "metadata": {},
     "output_type": "display_data"
    },
    {
     "data": {
      "text/plain": [
       "31.859914541244507"
      ]
     },
     "metadata": {},
     "output_type": "display_data"
    },
    {
     "data": {
      "text/plain": [
       "31.841346025466919"
      ]
     },
     "metadata": {},
     "output_type": "display_data"
    },
    {
     "data": {
      "text/plain": [
       "31.822777509689331"
      ]
     },
     "metadata": {},
     "output_type": "display_data"
    },
    {
     "data": {
      "text/plain": [
       "31.804208993911743"
      ]
     },
     "metadata": {},
     "output_type": "display_data"
    },
    {
     "data": {
      "text/plain": [
       "31.785640478134155"
      ]
     },
     "metadata": {},
     "output_type": "display_data"
    },
    {
     "data": {
      "text/plain": [
       "31.764035761356354"
      ]
     },
     "metadata": {},
     "output_type": "display_data"
    },
    {
     "data": {
      "text/plain": [
       "31.735435545444489"
      ]
     },
     "metadata": {},
     "output_type": "display_data"
    },
    {
     "data": {
      "text/plain": [
       "31.715637564659119"
      ]
     },
     "metadata": {},
     "output_type": "display_data"
    },
    {
     "data": {
      "text/plain": [
       "31.697069048881531"
      ]
     },
     "metadata": {},
     "output_type": "display_data"
    },
    {
     "data": {
      "text/plain": [
       "31.678500533103943"
      ]
     },
     "metadata": {},
     "output_type": "display_data"
    },
    {
     "data": {
      "text/plain": [
       "31.656895816326141"
      ]
     },
     "metadata": {},
     "output_type": "display_data"
    },
    {
     "data": {
      "text/plain": [
       "31.63529109954834"
      ]
     },
     "metadata": {},
     "output_type": "display_data"
    },
    {
     "data": {
      "text/plain": [
       "31.616162359714508"
      ]
     },
     "metadata": {},
     "output_type": "display_data"
    },
    {
     "data": {
      "text/plain": [
       "31.588231384754181"
      ]
     },
     "metadata": {},
     "output_type": "display_data"
    },
    {
     "data": {
      "text/plain": [
       "31.569102644920349"
      ]
     },
     "metadata": {},
     "output_type": "display_data"
    },
    {
     "data": {
      "text/plain": [
       "31.547497928142548"
      ]
     },
     "metadata": {},
     "output_type": "display_data"
    },
    {
     "data": {
      "text/plain": [
       "31.535275995731354"
      ]
     },
     "metadata": {},
     "output_type": "display_data"
    },
    {
     "data": {
      "text/plain": [
       "31.513875901699066"
      ]
     },
     "metadata": {},
     "output_type": "display_data"
    },
    {
     "data": {
      "text/plain": [
       "31.492475807666779"
      ]
     },
     "metadata": {},
     "output_type": "display_data"
    },
    {
     "data": {
      "text/plain": [
       "31.473907291889191"
      ]
     },
     "metadata": {},
     "output_type": "display_data"
    },
    {
     "data": {
      "text/plain": [
       "31.452302575111389"
      ]
     },
     "metadata": {},
     "output_type": "display_data"
    },
    {
     "data": {
      "text/plain": [
       "31.433734059333801"
      ]
     },
     "metadata": {},
     "output_type": "display_data"
    },
    {
     "data": {
      "text/plain": [
       "31.412129342556"
      ]
     },
     "metadata": {},
     "output_type": "display_data"
    },
    {
     "data": {
      "text/plain": [
       "31.390524625778198"
      ]
     },
     "metadata": {},
     "output_type": "display_data"
    },
    {
     "data": {
      "text/plain": [
       "31.368919909000397"
      ]
     },
     "metadata": {},
     "output_type": "display_data"
    },
    {
     "data": {
      "text/plain": [
       "31.350351393222809"
      ]
     },
     "metadata": {},
     "output_type": "display_data"
    },
    {
     "data": {
      "text/plain": [
       "31.328746676445007"
      ]
     },
     "metadata": {},
     "output_type": "display_data"
    },
    {
     "data": {
      "text/plain": [
       "31.307141959667206"
      ]
     },
     "metadata": {},
     "output_type": "display_data"
    },
    {
     "data": {
      "text/plain": [
       "31.285537242889404"
      ]
     },
     "metadata": {},
     "output_type": "display_data"
    },
    {
     "data": {
      "text/plain": [
       "31.263932526111603"
      ]
     },
     "metadata": {},
     "output_type": "display_data"
    },
    {
     "data": {
      "text/plain": [
       "31.245364010334015"
      ]
     },
     "metadata": {},
     "output_type": "display_data"
    },
    {
     "data": {
      "text/plain": [
       "31.223759293556213"
      ]
     },
     "metadata": {},
     "output_type": "display_data"
    },
    {
     "data": {
      "text/plain": [
       "31.205190777778625"
      ]
     },
     "metadata": {},
     "output_type": "display_data"
    },
    {
     "data": {
      "text/plain": [
       "31.183586061000824"
      ]
     },
     "metadata": {},
     "output_type": "display_data"
    },
    {
     "data": {
      "text/plain": [
       "31.161981344223022"
      ]
     },
     "metadata": {},
     "output_type": "display_data"
    },
    {
     "data": {
      "text/plain": [
       "31.134050369262695"
      ]
     },
     "metadata": {},
     "output_type": "display_data"
    },
    {
     "data": {
      "text/plain": [
       "31.114921629428864"
      ]
     },
     "metadata": {},
     "output_type": "display_data"
    },
    {
     "data": {
      "text/plain": [
       "31.10269969701767"
      ]
     },
     "metadata": {},
     "output_type": "display_data"
    },
    {
     "data": {
      "text/plain": [
       "31.090477764606476"
      ]
     },
     "metadata": {},
     "output_type": "display_data"
    },
    {
     "data": {
      "text/plain": [
       "31.071909248828888"
      ]
     },
     "metadata": {},
     "output_type": "display_data"
    },
    {
     "data": {
      "text/plain": [
       "31.0533407330513"
      ]
     },
     "metadata": {},
     "output_type": "display_data"
    },
    {
     "data": {
      "text/plain": [
       "31.034772217273712"
      ]
     },
     "metadata": {},
     "output_type": "display_data"
    },
    {
     "data": {
      "text/plain": [
       "31.016203701496124"
      ]
     },
     "metadata": {},
     "output_type": "display_data"
    },
    {
     "data": {
      "text/plain": [
       "30.997635185718536"
      ]
     },
     "metadata": {},
     "output_type": "display_data"
    },
    {
     "data": {
      "text/plain": [
       "30.976030468940735"
      ]
     },
     "metadata": {},
     "output_type": "display_data"
    },
    {
     "data": {
      "text/plain": [
       "30.95932924747467"
      ]
     },
     "metadata": {},
     "output_type": "display_data"
    },
    {
     "data": {
      "text/plain": [
       "30.942628026008606"
      ]
     },
     "metadata": {},
     "output_type": "display_data"
    },
    {
     "data": {
      "text/plain": [
       "30.930406093597412"
      ]
     },
     "metadata": {},
     "output_type": "display_data"
    },
    {
     "data": {
      "text/plain": [
       "30.918184161186218"
      ]
     },
     "metadata": {},
     "output_type": "display_data"
    },
    {
     "data": {
      "text/plain": [
       "30.89961564540863"
      ]
     },
     "metadata": {},
     "output_type": "display_data"
    },
    {
     "data": {
      "text/plain": [
       "30.881279945373535"
      ]
     },
     "metadata": {},
     "output_type": "display_data"
    },
    {
     "data": {
      "text/plain": [
       "30.855165183544159"
      ]
     },
     "metadata": {},
     "output_type": "display_data"
    },
    {
     "data": {
      "text/plain": [
       "30.829050421714783"
      ]
     },
     "metadata": {},
     "output_type": "display_data"
    },
    {
     "data": {
      "text/plain": [
       "30.787610054016113"
      ]
     },
     "metadata": {},
     "output_type": "display_data"
    },
    {
     "data": {
      "text/plain": [
       "30.752167403697968"
      ]
     },
     "metadata": {},
     "output_type": "display_data"
    },
    {
     "data": {
      "text/plain": [
       "30.709499299526215"
      ]
     },
     "metadata": {},
     "output_type": "display_data"
    },
    {
     "data": {
      "text/plain": [
       "30.666987240314484"
      ]
     },
     "metadata": {},
     "output_type": "display_data"
    },
    {
     "data": {
      "text/plain": [
       "30.647189259529114"
      ]
     },
     "metadata": {},
     "output_type": "display_data"
    },
    {
     "data": {
      "text/plain": [
       "30.630930006504059"
      ]
     },
     "metadata": {},
     "output_type": "display_data"
    },
    {
     "data": {
      "text/plain": [
       "30.611132025718689"
      ]
     },
     "metadata": {},
     "output_type": "display_data"
    },
    {
     "data": {
      "text/plain": [
       "30.594197988510132"
      ]
     },
     "metadata": {},
     "output_type": "display_data"
    },
    {
     "data": {
      "text/plain": [
       "30.577263951301575"
      ]
     },
     "metadata": {},
     "output_type": "display_data"
    },
    {
     "data": {
      "text/plain": [
       "30.559687912464142"
      ]
     },
     "metadata": {},
     "output_type": "display_data"
    },
    {
     "data": {
      "text/plain": [
       "30.542111873626709"
      ]
     },
     "metadata": {},
     "output_type": "display_data"
    },
    {
     "data": {
      "text/plain": [
       "30.522313892841339"
      ]
     },
     "metadata": {},
     "output_type": "display_data"
    },
    {
     "data": {
      "text/plain": [
       "30.506054639816284"
      ]
     },
     "metadata": {},
     "output_type": "display_data"
    },
    {
     "data": {
      "text/plain": [
       "30.471137702465057"
      ]
     },
     "metadata": {},
     "output_type": "display_data"
    },
    {
     "data": {
      "text/plain": [
       "30.447407186031342"
      ]
     },
     "metadata": {},
     "output_type": "display_data"
    },
    {
     "data": {
      "text/plain": [
       "30.427609205245972"
      ]
     },
     "metadata": {},
     "output_type": "display_data"
    },
    {
     "data": {
      "text/plain": [
       "30.411349952220917"
      ]
     },
     "metadata": {},
     "output_type": "display_data"
    },
    {
     "data": {
      "text/plain": [
       "30.398096978664398"
      ]
     },
     "metadata": {},
     "output_type": "display_data"
    },
    {
     "data": {
      "text/plain": [
       "30.378968238830566"
      ]
     },
     "metadata": {},
     "output_type": "display_data"
    },
    {
     "data": {
      "text/plain": [
       "30.360202431678772"
      ]
     },
     "metadata": {},
     "output_type": "display_data"
    },
    {
     "data": {
      "text/plain": [
       "30.341383695602417"
      ]
     },
     "metadata": {},
     "output_type": "display_data"
    },
    {
     "data": {
      "text/plain": [
       "30.322254955768585"
      ]
     },
     "metadata": {},
     "output_type": "display_data"
    },
    {
     "data": {
      "text/plain": [
       "30.303126215934753"
      ]
     },
     "metadata": {},
     "output_type": "display_data"
    },
    {
     "data": {
      "text/plain": [
       "30.284557700157166"
      ]
     },
     "metadata": {},
     "output_type": "display_data"
    },
    {
     "data": {
      "text/plain": [
       "30.265989184379578"
      ]
     },
     "metadata": {},
     "output_type": "display_data"
    },
    {
     "data": {
      "text/plain": [
       "30.247678399085999"
      ]
     },
     "metadata": {},
     "output_type": "display_data"
    },
    {
     "data": {
      "text/plain": [
       "30.229329705238342"
      ]
     },
     "metadata": {},
     "output_type": "display_data"
    },
    {
     "data": {
      "text/plain": [
       "30.209531724452972"
      ]
     },
     "metadata": {},
     "output_type": "display_data"
    },
    {
     "data": {
      "text/plain": [
       "30.193272471427917"
      ]
     },
     "metadata": {},
     "output_type": "display_data"
    },
    {
     "data": {
      "text/plain": [
       "30.156599700450897"
      ]
     },
     "metadata": {},
     "output_type": "display_data"
    },
    {
     "data": {
      "text/plain": [
       "30.120796680450439"
      ]
     },
     "metadata": {},
     "output_type": "display_data"
    },
    {
     "data": {
      "text/plain": [
       "30.101667940616608"
      ]
     },
     "metadata": {},
     "output_type": "display_data"
    },
    {
     "data": {
      "text/plain": [
       "30.082539200782776"
      ]
     },
     "metadata": {},
     "output_type": "display_data"
    },
    {
     "data": {
      "text/plain": [
       "30.055451571941376"
      ]
     },
     "metadata": {},
     "output_type": "display_data"
    },
    {
     "data": {
      "text/plain": [
       "30.028363943099976"
      ]
     },
     "metadata": {},
     "output_type": "display_data"
    },
    {
     "data": {
      "text/plain": [
       "30.009795427322388"
      ]
     },
     "metadata": {},
     "output_type": "display_data"
    },
    {
     "data": {
      "text/plain": [
       "29.991459727287292"
      ]
     },
     "metadata": {},
     "output_type": "display_data"
    },
    {
     "data": {
      "text/plain": [
       "29.972891211509705"
      ]
     },
     "metadata": {},
     "output_type": "display_data"
    },
    {
     "data": {
      "text/plain": [
       "29.954322695732117"
      ]
     },
     "metadata": {},
     "output_type": "display_data"
    },
    {
     "data": {
      "text/plain": [
       "29.917649924755096"
      ]
     },
     "metadata": {},
     "output_type": "display_data"
    },
    {
     "data": {
      "text/plain": [
       "29.877825558185577"
      ]
     },
     "metadata": {},
     "output_type": "display_data"
    },
    {
     "data": {
      "text/plain": [
       "29.835083901882172"
      ]
     },
     "metadata": {},
     "output_type": "display_data"
    },
    {
     "data": {
      "text/plain": [
       "29.792195200920105"
      ]
     },
     "metadata": {},
     "output_type": "display_data"
    },
    {
     "data": {
      "text/plain": [
       "29.749306499958038"
      ]
     },
     "metadata": {},
     "output_type": "display_data"
    },
    {
     "data": {
      "text/plain": [
       "29.706564843654633"
      ]
     },
     "metadata": {},
     "output_type": "display_data"
    },
    {
     "data": {
      "text/plain": [
       "29.653424978256226"
      ]
     },
     "metadata": {},
     "output_type": "display_data"
    },
    {
     "data": {
      "text/plain": [
       "29.602793753147125"
      ]
     },
     "metadata": {},
     "output_type": "display_data"
    },
    {
     "data": {
      "text/plain": [
       "29.559905052185059"
      ]
     },
     "metadata": {},
     "output_type": "display_data"
    },
    {
     "data": {
      "text/plain": [
       "29.517163395881653"
      ]
     },
     "metadata": {},
     "output_type": "display_data"
    },
    {
     "data": {
      "text/plain": [
       "29.475026905536652"
      ]
     },
     "metadata": {},
     "output_type": "display_data"
    },
    {
     "data": {
      "text/plain": [
       "29.427525281906128"
      ]
     },
     "metadata": {},
     "output_type": "display_data"
    },
    {
     "data": {
      "text/plain": [
       "29.409979403018951"
      ]
     },
     "metadata": {},
     "output_type": "display_data"
    },
    {
     "data": {
      "text/plain": [
       "29.392433524131775"
      ]
     },
     "metadata": {},
     "output_type": "display_data"
    },
    {
     "data": {
      "text/plain": [
       "29.37573230266571"
      ]
     },
     "metadata": {},
     "output_type": "display_data"
    },
    {
     "data": {
      "text/plain": [
       "29.359031081199646"
      ]
     },
     "metadata": {},
     "output_type": "display_data"
    },
    {
     "data": {
      "text/plain": [
       "29.31628942489624"
      ]
     },
     "metadata": {},
     "output_type": "display_data"
    },
    {
     "data": {
      "text/plain": [
       "29.273400723934174"
      ]
     },
     "metadata": {},
     "output_type": "display_data"
    },
    {
     "data": {
      "text/plain": [
       "29.230659067630768"
      ]
     },
     "metadata": {},
     "output_type": "display_data"
    },
    {
     "data": {
      "text/plain": [
       "29.207517921924591"
      ]
     },
     "metadata": {},
     "output_type": "display_data"
    },
    {
     "data": {
      "text/plain": [
       "29.196201920509338"
      ]
     },
     "metadata": {},
     "output_type": "display_data"
    },
    {
     "data": {
      "text/plain": [
       "29.173523545265198"
      ]
     },
     "metadata": {},
     "output_type": "display_data"
    },
    {
     "data": {
      "text/plain": [
       "29.155212759971619"
      ]
     },
     "metadata": {},
     "output_type": "display_data"
    },
    {
     "data": {
      "text/plain": [
       "29.112700700759888"
      ]
     },
     "metadata": {},
     "output_type": "display_data"
    },
    {
     "data": {
      "text/plain": [
       "29.070188641548157"
      ]
     },
     "metadata": {},
     "output_type": "display_data"
    },
    {
     "data": {
      "text/plain": [
       "29.051620125770569"
      ]
     },
     "metadata": {},
     "output_type": "display_data"
    },
    {
     "data": {
      "text/plain": [
       "29.033284425735474"
      ]
     },
     "metadata": {},
     "output_type": "display_data"
    },
    {
     "data": {
      "text/plain": [
       "29.005671083927155"
      ]
     },
     "metadata": {},
     "output_type": "display_data"
    },
    {
     "data": {
      "text/plain": [
       "28.977244079113007"
      ]
     },
     "metadata": {},
     "output_type": "display_data"
    },
    {
     "data": {
      "text/plain": [
       "28.926447629928589"
      ]
     },
     "metadata": {},
     "output_type": "display_data"
    },
    {
     "data": {
      "text/plain": [
       "28.876772820949554"
      ]
     },
     "metadata": {},
     "output_type": "display_data"
    },
    {
     "data": {
      "text/plain": [
       "28.853631675243378"
      ]
     },
     "metadata": {},
     "output_type": "display_data"
    },
    {
     "data": {
      "text/plain": [
       "28.830490529537201"
      ]
     },
     "metadata": {},
     "output_type": "display_data"
    },
    {
     "data": {
      "text/plain": [
       "28.775156736373901"
      ]
     },
     "metadata": {},
     "output_type": "display_data"
    },
    {
     "data": {
      "text/plain": [
       "28.719822943210602"
      ]
     },
     "metadata": {},
     "output_type": "display_data"
    },
    {
     "data": {
      "text/plain": [
       "28.689404904842377"
      ]
     },
     "metadata": {},
     "output_type": "display_data"
    },
    {
     "data": {
      "text/plain": [
       "28.658839821815491"
      ]
     },
     "metadata": {},
     "output_type": "display_data"
    },
    {
     "data": {
      "text/plain": [
       "28.626493632793427"
      ]
     },
     "metadata": {},
     "output_type": "display_data"
    },
    {
     "data": {
      "text/plain": [
       "28.594147443771362"
      ]
     },
     "metadata": {},
     "output_type": "display_data"
    },
    {
     "data": {
      "text/plain": [
       "28.547703623771667"
      ]
     },
     "metadata": {},
     "output_type": "display_data"
    },
    {
     "data": {
      "text/plain": [
       "28.501259803771973"
      ]
     },
     "metadata": {},
     "output_type": "display_data"
    },
    {
     "data": {
      "text/plain": [
       "28.449934303760529"
      ]
     },
     "metadata": {},
     "output_type": "display_data"
    },
    {
     "data": {
      "text/plain": [
       "28.396794438362122"
      ]
     },
     "metadata": {},
     "output_type": "display_data"
    },
    {
     "data": {
      "text/plain": [
       "28.353963077068329"
      ]
     },
     "metadata": {},
     "output_type": "display_data"
    },
    {
     "data": {
      "text/plain": [
       "28.320180296897888"
      ]
     },
     "metadata": {},
     "output_type": "display_data"
    },
    {
     "data": {
      "text/plain": [
       "28.277098834514618"
      ]
     },
     "metadata": {},
     "output_type": "display_data"
    },
    {
     "data": {
      "text/plain": [
       "28.234017372131348"
      ]
     },
     "metadata": {},
     "output_type": "display_data"
    },
    {
     "data": {
      "text/plain": [
       "28.184719502925873"
      ]
     },
     "metadata": {},
     "output_type": "display_data"
    },
    {
     "data": {
      "text/plain": [
       "28.135421633720398"
      ]
     },
     "metadata": {},
     "output_type": "display_data"
    },
    {
     "data": {
      "text/plain": [
       "28.085353016853333"
      ]
     },
     "metadata": {},
     "output_type": "display_data"
    },
    {
     "data": {
      "text/plain": [
       "28.03640604019165"
      ]
     },
     "metadata": {},
     "output_type": "display_data"
    },
    {
     "data": {
      "text/plain": [
       "27.994638919830322"
      ]
     },
     "metadata": {},
     "output_type": "display_data"
    },
    {
     "data": {
      "text/plain": [
       "27.952871799468994"
      ]
     },
     "metadata": {},
     "output_type": "display_data"
    },
    {
     "data": {
      "text/plain": [
       "27.935325920581818"
      ]
     },
     "metadata": {},
     "output_type": "display_data"
    },
    {
     "data": {
      "text/plain": [
       "27.911882638931274"
      ]
     },
     "metadata": {},
     "output_type": "display_data"
    },
    {
     "data": {
      "text/plain": [
       "27.890277922153473"
      ]
     },
     "metadata": {},
     "output_type": "display_data"
    },
    {
     "data": {
      "text/plain": [
       "27.868673205375671"
      ]
     },
     "metadata": {},
     "output_type": "display_data"
    },
    {
     "data": {
      "text/plain": [
       "27.825591742992401"
      ]
     },
     "metadata": {},
     "output_type": "display_data"
    },
    {
     "data": {
      "text/plain": [
       "27.782510280609131"
      ]
     },
     "metadata": {},
     "output_type": "display_data"
    },
    {
     "data": {
      "text/plain": [
       "27.74158787727356"
      ]
     },
     "metadata": {},
     "output_type": "display_data"
    },
    {
     "data": {
      "text/plain": [
       "27.700665473937988"
      ]
     },
     "metadata": {},
     "output_type": "display_data"
    },
    {
     "data": {
      "text/plain": [
       "27.664883017539978"
      ]
     },
     "metadata": {},
     "output_type": "display_data"
    },
    {
     "data": {
      "text/plain": [
       "27.619960010051727"
      ]
     },
     "metadata": {},
     "output_type": "display_data"
    },
    {
     "data": {
      "text/plain": [
       "27.579037606716156"
      ]
     },
     "metadata": {},
     "output_type": "display_data"
    },
    {
     "data": {
      "text/plain": [
       "27.538115203380585"
      ]
     },
     "metadata": {},
     "output_type": "display_data"
    },
    {
     "data": {
      "text/plain": [
       "27.49717903137207"
      ]
     },
     "metadata": {},
     "output_type": "display_data"
    },
    {
     "data": {
      "text/plain": [
       "27.456242859363556"
      ]
     },
     "metadata": {},
     "output_type": "display_data"
    },
    {
     "data": {
      "text/plain": [
       "27.421451091766357"
      ]
     },
     "metadata": {},
     "output_type": "display_data"
    },
    {
     "data": {
      "text/plain": [
       "27.398309946060181"
      ]
     },
     "metadata": {},
     "output_type": "display_data"
    },
    {
     "data": {
      "text/plain": [
       "27.351866126060486"
      ]
     },
     "metadata": {},
     "output_type": "display_data"
    },
    {
     "data": {
      "text/plain": [
       "27.298156321048737"
      ]
     },
     "metadata": {},
     "output_type": "display_data"
    },
    {
     "data": {
      "text/plain": [
       "27.256389200687408"
      ]
     },
     "metadata": {},
     "output_type": "display_data"
    },
    {
     "data": {
      "text/plain": [
       "27.213500499725342"
      ]
     },
     "metadata": {},
     "output_type": "display_data"
    },
    {
     "data": {
      "text/plain": [
       "27.170984327793121"
      ]
     },
     "metadata": {},
     "output_type": "display_data"
    },
    {
     "data": {
      "text/plain": [
       "27.129307091236115"
      ]
     },
     "metadata": {},
     "output_type": "display_data"
    },
    {
     "data": {
      "text/plain": [
       "27.094515323638916"
      ]
     },
     "metadata": {},
     "output_type": "display_data"
    },
    {
     "data": {
      "text/plain": [
       "27.05542665719986"
      ]
     },
     "metadata": {},
     "output_type": "display_data"
    },
    {
     "data": {
      "text/plain": [
       "27.002839863300323"
      ]
     },
     "metadata": {},
     "output_type": "display_data"
    },
    {
     "data": {
      "text/plain": [
       "26.950253069400787"
      ]
     },
     "metadata": {},
     "output_type": "display_data"
    },
    {
     "data": {
      "text/plain": [
       "26.91853803396225"
      ]
     },
     "metadata": {},
     "output_type": "display_data"
    },
    {
     "data": {
      "text/plain": [
       "26.886822998523712"
      ]
     },
     "metadata": {},
     "output_type": "display_data"
    },
    {
     "data": {
      "text/plain": [
       "26.856662333011627"
      ]
     },
     "metadata": {},
     "output_type": "display_data"
    },
    {
     "data": {
      "text/plain": [
       "26.826501667499542"
      ]
     },
     "metadata": {},
     "output_type": "display_data"
    },
    {
     "data": {
      "text/plain": [
       "26.798570692539215"
      ]
     },
     "metadata": {},
     "output_type": "display_data"
    },
    {
     "data": {
      "text/plain": [
       "26.773743033409119"
      ]
     },
     "metadata": {},
     "output_type": "display_data"
    },
    {
     "data": {
      "text/plain": [
       "26.723674416542053"
      ]
     },
     "metadata": {},
     "output_type": "display_data"
    },
    {
     "data": {
      "text/plain": [
       "26.673605799674988"
      ]
     },
     "metadata": {},
     "output_type": "display_data"
    },
    {
     "data": {
      "text/plain": [
       "26.630921125411987"
      ]
     },
     "metadata": {},
     "output_type": "display_data"
    },
    {
     "data": {
      "text/plain": [
       "26.599887073040009"
      ]
     },
     "metadata": {},
     "output_type": "display_data"
    },
    {
     "data": {
      "text/plain": [
       "26.578282356262207"
      ]
     },
     "metadata": {},
     "output_type": "display_data"
    },
    {
     "data": {
      "text/plain": [
       "26.56134831905365"
      ]
     },
     "metadata": {},
     "output_type": "display_data"
    },
    {
     "data": {
      "text/plain": [
       "26.518832147121429"
      ]
     },
     "metadata": {},
     "output_type": "display_data"
    },
    {
     "data": {
      "text/plain": [
       "26.477154910564423"
      ]
     },
     "metadata": {},
     "output_type": "display_data"
    },
    {
     "data": {
      "text/plain": [
       "26.423212587833405"
      ]
     },
     "metadata": {},
     "output_type": "display_data"
    },
    {
     "data": {
      "text/plain": [
       "26.388762414455414"
      ]
     },
     "metadata": {},
     "output_type": "display_data"
    },
    {
     "data": {
      "text/plain": [
       "26.371828377246857"
      ]
     },
     "metadata": {},
     "output_type": "display_data"
    },
    {
     "data": {
      "text/plain": [
       "26.350223660469055"
      ]
     },
     "metadata": {},
     "output_type": "display_data"
    },
    {
     "data": {
      "text/plain": [
       "26.325396001338959"
      ]
     },
     "metadata": {},
     "output_type": "display_data"
    },
    {
     "data": {
      "text/plain": [
       "26.31214302778244"
      ]
     },
     "metadata": {},
     "output_type": "display_data"
    },
    {
     "data": {
      "text/plain": [
       "26.293014287948608"
      ]
     },
     "metadata": {},
     "output_type": "display_data"
    },
    {
     "data": {
      "text/plain": [
       "26.273885548114777"
      ]
     },
     "metadata": {},
     "output_type": "display_data"
    },
    {
     "data": {
      "text/plain": [
       "26.256951510906219"
      ]
     },
     "metadata": {},
     "output_type": "display_data"
    },
    {
     "data": {
      "text/plain": [
       "26.235346794128418"
      ]
     },
     "metadata": {},
     "output_type": "display_data"
    },
    {
     "data": {
      "text/plain": [
       "26.213890969753265"
      ]
     },
     "metadata": {},
     "output_type": "display_data"
    },
    {
     "data": {
      "text/plain": [
       "26.192435145378113"
      ]
     },
     "metadata": {},
     "output_type": "display_data"
    },
    {
     "data": {
      "text/plain": [
       "26.17097932100296"
      ]
     },
     "metadata": {},
     "output_type": "display_data"
    },
    {
     "data": {
      "text/plain": [
       "26.149523496627808"
      ]
     },
     "metadata": {},
     "output_type": "display_data"
    },
    {
     "data": {
      "text/plain": [
       "26.126845121383667"
      ]
     },
     "metadata": {},
     "output_type": "display_data"
    },
    {
     "data": {
      "text/plain": [
       "26.103401839733124"
      ]
     },
     "metadata": {},
     "output_type": "display_data"
    },
    {
     "data": {
      "text/plain": [
       "26.081946015357971"
      ]
     },
     "metadata": {},
     "output_type": "display_data"
    },
    {
     "data": {
      "text/plain": [
       "26.060490190982819"
      ]
     },
     "metadata": {},
     "output_type": "display_data"
    },
    {
     "data": {
      "text/plain": [
       "26.04217940568924"
      ]
     },
     "metadata": {},
     "output_type": "display_data"
    },
    {
     "data": {
      "text/plain": [
       "26.017151117324829"
      ]
     },
     "metadata": {},
     "output_type": "display_data"
    },
    {
     "data": {
      "text/plain": [
       "26.557228114153887"
      ]
     },
     "metadata": {},
     "output_type": "display_data"
    },
    {
     "data": {
      "text/plain": [
       "27.097305110982944"
      ]
     },
     "metadata": {},
     "output_type": "display_data"
    },
    {
     "data": {
      "text/plain": [
       "27.637382107812002"
      ]
     },
     "metadata": {},
     "output_type": "display_data"
    },
    {
     "data": {
      "text/plain": [
       "28.177459104641059"
      ]
     },
     "metadata": {},
     "output_type": "display_data"
    },
    {
     "data": {
      "text/plain": [
       "28.717536101470117"
      ]
     },
     "metadata": {},
     "output_type": "display_data"
    },
    {
     "data": {
      "text/plain": [
       "29.257613098299174"
      ]
     },
     "metadata": {},
     "output_type": "display_data"
    },
    {
     "data": {
      "text/plain": [
       "29.797690095128232"
      ]
     },
     "metadata": {},
     "output_type": "display_data"
    },
    {
     "data": {
      "text/plain": [
       "30.337767091957289"
      ]
     },
     "metadata": {},
     "output_type": "display_data"
    },
    {
     "data": {
      "text/plain": [
       "30.877844088786347"
      ]
     },
     "metadata": {},
     "output_type": "display_data"
    },
    {
     "data": {
      "text/plain": [
       "31.417921085615404"
      ]
     },
     "metadata": {},
     "output_type": "display_data"
    },
    {
     "data": {
      "text/plain": [
       "31.957998082444462"
      ]
     },
     "metadata": {},
     "output_type": "display_data"
    },
    {
     "data": {
      "text/plain": [
       "32.498075079273519"
      ]
     },
     "metadata": {},
     "output_type": "display_data"
    },
    {
     "data": {
      "text/plain": [
       "33.038152076102577"
      ]
     },
     "metadata": {},
     "output_type": "display_data"
    },
    {
     "data": {
      "text/plain": [
       "33.578229072931634"
      ]
     },
     "metadata": {},
     "output_type": "display_data"
    },
    {
     "data": {
      "text/plain": [
       "34.118306069760692"
      ]
     },
     "metadata": {},
     "output_type": "display_data"
    },
    {
     "data": {
      "text/plain": [
       "34.658383066589749"
      ]
     },
     "metadata": {},
     "output_type": "display_data"
    },
    {
     "data": {
      "text/plain": [
       "35.198460063418807"
      ]
     },
     "metadata": {},
     "output_type": "display_data"
    },
    {
     "data": {
      "text/plain": [
       "35.738537060247864"
      ]
     },
     "metadata": {},
     "output_type": "display_data"
    },
    {
     "data": {
      "text/plain": [
       "36.278614057076922"
      ]
     },
     "metadata": {},
     "output_type": "display_data"
    },
    {
     "data": {
      "text/plain": [
       "36.81869105390598"
      ]
     },
     "metadata": {},
     "output_type": "display_data"
    },
    {
     "data": {
      "text/plain": [
       "37.358768050735037"
      ]
     },
     "metadata": {},
     "output_type": "display_data"
    },
    {
     "data": {
      "text/plain": [
       "37.898845047564095"
      ]
     },
     "metadata": {},
     "output_type": "display_data"
    },
    {
     "data": {
      "text/plain": [
       "38.438922044393152"
      ]
     },
     "metadata": {},
     "output_type": "display_data"
    },
    {
     "data": {
      "text/plain": [
       "38.97899904122221"
      ]
     },
     "metadata": {},
     "output_type": "display_data"
    },
    {
     "data": {
      "text/plain": [
       "39.519076038051267"
      ]
     },
     "metadata": {},
     "output_type": "display_data"
    },
    {
     "data": {
      "text/plain": [
       "40.059153034880325"
      ]
     },
     "metadata": {},
     "output_type": "display_data"
    },
    {
     "data": {
      "text/plain": [
       "40.599230031709382"
      ]
     },
     "metadata": {},
     "output_type": "display_data"
    },
    {
     "data": {
      "text/plain": [
       "41.13930702853844"
      ]
     },
     "metadata": {},
     "output_type": "display_data"
    },
    {
     "data": {
      "text/plain": [
       "41.679384025367497"
      ]
     },
     "metadata": {},
     "output_type": "display_data"
    },
    {
     "data": {
      "text/plain": [
       "42.219461022196555"
      ]
     },
     "metadata": {},
     "output_type": "display_data"
    },
    {
     "data": {
      "text/plain": [
       "42.759538019025612"
      ]
     },
     "metadata": {},
     "output_type": "display_data"
    },
    {
     "data": {
      "text/plain": [
       "43.29961501585467"
      ]
     },
     "metadata": {},
     "output_type": "display_data"
    },
    {
     "data": {
      "text/plain": [
       "43.839692012683727"
      ]
     },
     "metadata": {},
     "output_type": "display_data"
    },
    {
     "data": {
      "text/plain": [
       "44.379769009512785"
      ]
     },
     "metadata": {},
     "output_type": "display_data"
    },
    {
     "data": {
      "text/plain": [
       "44.919846006341842"
      ]
     },
     "metadata": {},
     "output_type": "display_data"
    },
    {
     "data": {
      "text/plain": [
       "45.4599230031709"
      ]
     },
     "metadata": {},
     "output_type": "display_data"
    },
    {
     "data": {
      "text/plain": [
       "45.999999999999957"
      ]
     },
     "metadata": {},
     "output_type": "display_data"
    },
    {
     "data": {
      "text/plain": [
       "45.983065962791443"
      ]
     },
     "metadata": {},
     "output_type": "display_data"
    },
    {
     "data": {
      "text/plain": [
       "45.964730262756348"
      ]
     },
     "metadata": {},
     "output_type": "display_data"
    },
    {
     "data": {
      "text/plain": [
       "45.946394562721252"
      ]
     },
     "metadata": {},
     "output_type": "display_data"
    },
    {
     "data": {
      "text/plain": [
       "45.928058862686157"
      ]
     },
     "metadata": {},
     "output_type": "display_data"
    },
    {
     "data": {
      "text/plain": [
       "45.909723162651062"
      ]
     },
     "metadata": {},
     "output_type": "display_data"
    },
    {
     "data": {
      "text/plain": [
       "45.891154646873474"
      ]
     },
     "metadata": {},
     "output_type": "display_data"
    },
    {
     "data": {
      "text/plain": [
       "45.872818946838379"
      ]
     },
     "metadata": {},
     "output_type": "display_data"
    },
    {
     "data": {
      "text/plain": [
       "45.854250431060791"
      ]
     },
     "metadata": {},
     "output_type": "display_data"
    },
    {
     "data": {
      "text/plain": [
       "45.835914731025696"
      ]
     },
     "metadata": {},
     "output_type": "display_data"
    },
    {
     "data": {
      "text/plain": [
       "45.817346215248108"
      ]
     },
     "metadata": {},
     "output_type": "display_data"
    },
    {
     "data": {
      "text/plain": [
       "45.799010515213013"
      ]
     },
     "metadata": {},
     "output_type": "display_data"
    },
    {
     "data": {
      "text/plain": [
       "45.780674815177917"
      ]
     },
     "metadata": {},
     "output_type": "display_data"
    },
    {
     "data": {
      "text/plain": [
       "45.762339115142822"
      ]
     },
     "metadata": {},
     "output_type": "display_data"
    },
    {
     "data": {
      "text/plain": [
       "45.744003415107727"
      ]
     },
     "metadata": {},
     "output_type": "display_data"
    },
    {
     "data": {
      "text/plain": [
       "45.725434899330139"
      ]
     },
     "metadata": {},
     "output_type": "display_data"
    },
    {
     "data": {
      "text/plain": [
       "45.707099199295044"
      ]
     },
     "metadata": {},
     "output_type": "display_data"
    },
    {
     "data": {
      "text/plain": [
       "45.69487726688385"
      ]
     },
     "metadata": {},
     "output_type": "display_data"
    },
    {
     "data": {
      "text/plain": [
       "45.678618013858795"
      ]
     },
     "metadata": {},
     "output_type": "display_data"
    },
    {
     "data": {
      "text/plain": [
       "45.66235876083374"
      ]
     },
     "metadata": {},
     "output_type": "display_data"
    },
    {
     "data": {
      "text/plain": [
       "45.650136828422546"
      ]
     },
     "metadata": {},
     "output_type": "display_data"
    },
    {
     "data": {
      "text/plain": [
       "45.631568312644958"
      ]
     },
     "metadata": {},
     "output_type": "display_data"
    },
    {
     "data": {
      "text/plain": [
       "45.612999796867371"
      ]
     },
     "metadata": {},
     "output_type": "display_data"
    },
    {
     "data": {
      "text/plain": [
       "45.596298575401306"
      ]
     },
     "metadata": {},
     "output_type": "display_data"
    },
    {
     "data": {
      "text/plain": [
       "45.579597353935242"
      ]
     },
     "metadata": {},
     "output_type": "display_data"
    },
    {
     "data": {
      "text/plain": [
       "45.562663316726685"
      ]
     },
     "metadata": {},
     "output_type": "display_data"
    },
    {
     "data": {
      "text/plain": [
       "45.545729279518127"
      ]
     },
     "metadata": {},
     "output_type": "display_data"
    },
    {
     "data": {
      "text/plain": [
       "45.52879524230957"
      ]
     },
     "metadata": {},
     "output_type": "display_data"
    },
    {
     "data": {
      "text/plain": [
       "45.512094020843506"
      ]
     },
     "metadata": {},
     "output_type": "display_data"
    },
    {
     "data": {
      "text/plain": [
       "45.49374532699585"
      ]
     },
     "metadata": {},
     "output_type": "display_data"
    },
    {
     "data": {
      "text/plain": [
       "45.475396633148193"
      ]
     },
     "metadata": {},
     "output_type": "display_data"
    },
    {
     "data": {
      "text/plain": [
       "45.450330495834351"
      ]
     },
     "metadata": {},
     "output_type": "display_data"
    },
    {
     "data": {
      "text/plain": [
       "45.431981801986694"
      ]
     },
     "metadata": {},
     "output_type": "display_data"
    },
    {
     "data": {
      "text/plain": [
       "45.417582094669342"
      ]
     },
     "metadata": {},
     "output_type": "display_data"
    },
    {
     "data": {
      "text/plain": [
       "45.400880873203278"
      ]
     },
     "metadata": {},
     "output_type": "display_data"
    },
    {
     "data": {
      "text/plain": [
       "45.384179651737213"
      ]
     },
     "metadata": {},
     "output_type": "display_data"
    },
    {
     "data": {
      "text/plain": [
       "45.332542717456818"
      ]
     },
     "metadata": {},
     "output_type": "display_data"
    },
    {
     "name": "stdout",
     "output_type": "stream",
     "text": [
      "[[-0.08  0.99  0.  ]]\n",
      "[[ 0.    0.44  0.  ]]\n",
      "[[ 0.01  0.45  0.  ]]\n",
      "[[ 0.01  0.65  0.  ]]\n",
      "[[ 0.01  0.64  0.  ]]\n",
      "[[ 0.    0.16  0.  ]]\n",
      "[[ 0.    0.16  0.  ]]\n",
      "[[ 0.01  0.78  0.  ]]\n",
      "[[ 0.    0.78  0.  ]]\n",
      "[[ 0.   -0.04  0.  ]]\n",
      "[[ 0.   -0.05  0.  ]]\n",
      "[[ 0.    0.29  0.  ]]\n",
      "[[ 0.    0.29  0.  ]]\n",
      "[[ 0.    0.11  0.  ]]\n",
      "[[ 0.01  0.11  0.  ]]\n",
      "[[ 0.02  0.27  0.  ]]\n",
      "[[ 0.02  0.27  0.  ]]\n",
      "[[ 0.01  0.41  0.  ]]\n",
      "[[ 0.01  0.41  0.  ]]\n",
      "[[-0.01  0.11  0.  ]]\n",
      "[[ 0.    0.11  0.  ]]\n",
      "[[ 0.01  0.1   0.  ]]\n",
      "[[ 0.01  0.1   0.  ]]\n",
      "[[ 0.    0.28  0.  ]]\n",
      "[[-0.01  0.28  0.  ]]\n",
      "[[ 0.    0.14  0.  ]]\n",
      "[[ 0.    0.14  0.  ]]\n",
      "[[ 0.   -0.03  0.  ]]\n",
      "[[ 0.   -0.03  0.  ]]\n",
      "[[ 0.01  0.19  0.  ]]\n",
      "[[ 0.    0.19  0.  ]]\n",
      "[[ 0.01  0.24  0.  ]]\n",
      "[[ 0.01  0.25  0.  ]]\n",
      "[[ 0.    0.07  0.  ]]\n",
      "[[-0.01  0.07  0.  ]]\n",
      "[[ 0.01  0.22  0.  ]]\n",
      "[[ 0.    0.21  0.  ]]\n",
      "[[ 0.01  0.58  0.  ]]\n",
      "[[ 0.01  0.58  0.  ]]\n",
      "[[ 0.01  0.13  0.  ]]\n",
      "[[ 0.01  0.13  0.  ]]\n",
      "[[-0.01  0.71  0.  ]]\n",
      "[[-0.01  0.72  0.  ]]\n",
      "[[ 0.   -0.14  0.  ]]\n",
      "[[ 0.   -0.13  0.  ]]\n",
      "[[ 0.    0.19  0.  ]]\n",
      "[[-0.01  0.19  0.  ]]\n",
      "[[-0.01 -0.02  0.  ]]\n",
      "[[-0.01 -0.03  0.  ]]\n",
      "[[ 0.   -0.11  0.  ]]\n",
      "[[ 0.  -0.1  0. ]]\n",
      "[[-0.01  0.35  0.  ]]\n",
      "[[ 0.    0.36  0.  ]]\n",
      "[[ 0.    0.13  0.  ]]\n",
      "[[-0.01  0.13  0.  ]]\n",
      "[[ 0.    0.08  0.  ]]\n",
      "[[ 0.    0.08  0.  ]]\n",
      "[[-0.01  0.63  0.  ]]\n",
      "[[-0.02  0.63  0.  ]]\n",
      "[[ 0.   -0.65  0.  ]]\n",
      "[[-0.01 -0.64  0.  ]]\n",
      "[[-0.01 -0.25  0.  ]]\n",
      "[[-0.01 -0.24  0.  ]]\n",
      "[[ 0.01 -0.12  0.  ]]\n",
      "[[ 0.   -0.11  0.  ]]\n",
      "[[-0.01 -0.11  0.  ]]\n",
      "[[-0.01 -0.1   0.  ]]\n",
      "[[-0.01 -0.1   0.  ]]\n",
      "[[-0.01 -0.11  0.  ]]\n",
      "[[ 0.    0.15  0.  ]]\n",
      "[[-0.01  0.16  0.  ]]\n",
      "[[-0.01 -0.25  0.  ]]\n",
      "[[ 0.   -0.26  0.  ]]\n",
      "[[ 0.    0.15  0.  ]]\n",
      "[[ 0.    0.14  0.  ]]\n",
      "[[ 0.   -0.45  0.  ]]\n",
      "[[-0.01 -0.45  0.  ]]\n",
      "[[-0.01 -0.22  0.  ]]\n",
      "[[-0.02 -0.23  0.  ]]\n",
      "[[ 0.   -0.46  0.  ]]\n",
      "[[ 0.   -0.46  0.  ]]\n",
      "[[-0.01 -0.3   0.  ]]\n",
      "[[-0.01 -0.29  0.  ]]\n",
      "[[ 0.01 -0.28  0.  ]]\n",
      "[[ 0.   -0.29  0.  ]]\n",
      "[[ 0.   -0.13  0.  ]]\n",
      "[[ 0.   -0.12  0.  ]]\n",
      "[[ 0.   -0.46  0.  ]]\n",
      "[[-0.01 -0.47  0.  ]]\n",
      "[[ 0.   -0.21  0.  ]]\n",
      "[[ 0.   -0.22  0.  ]]\n",
      "[[-0.01 -0.08  0.  ]]\n",
      "[[-0.01 -0.07  0.  ]]\n",
      "[[ 0.   -0.21  0.  ]]\n",
      "[[-0.01 -0.2   0.  ]]\n",
      "[[ 0.   -0.21  0.  ]]\n",
      "[[ 0.   -0.21  0.  ]]\n",
      "[[-0.01 -0.22  0.  ]]\n",
      "[[ 0.   -0.21  0.  ]]\n",
      "[[-0.01  0.11  0.  ]]\n",
      "[[-0.01  0.11  0.  ]]\n",
      "[[ 0.   -0.18  0.  ]]\n",
      "[[ 0.   -0.18  0.  ]]\n",
      "[[ 0.    0.03  0.  ]]\n",
      "[[ 0.    0.04  0.  ]]\n",
      "[[-0.01 -0.18  0.  ]]\n",
      "[[ 0.   -0.17  0.  ]]\n",
      "[[-0.01 -0.21  0.  ]]\n",
      "[[ 0.  -0.2  0. ]]\n",
      "[[ 0.  -0.2  0. ]]\n",
      "[[-0.01 -0.21  0.  ]]\n",
      "[[-0.01 -0.03  0.  ]]\n",
      "[[ 0.   -0.02  0.  ]]\n",
      "[[ 0.   -0.14  0.  ]]\n",
      "[[-0.01 -0.14  0.  ]]\n",
      "[[-0.01 -0.14  0.  ]]\n",
      "[[ 0.   -0.15  0.  ]]\n",
      "[[ 0.   -0.17  0.  ]]\n",
      "[[-0.01 -0.17  0.  ]]\n",
      "[[-0.01 -0.14  0.  ]]\n",
      "[[ 0.   -0.14  0.  ]]\n",
      "[[ 0.  -0.1  0. ]]\n",
      "[[ 0.01 -0.1   0.  ]]\n",
      "[[ 0.   -0.39  0.  ]]\n",
      "[[ 0.   -0.39  0.  ]]\n",
      "[[ 0.01 -0.23  0.  ]]\n",
      "[[ 0.   -0.22  0.  ]]\n",
      "[[ 0.01 -0.2   0.  ]]\n",
      "[[ 0.01 -0.2   0.  ]]\n",
      "[[ 0.   -0.19  0.  ]]\n",
      "[[ 0.01 -0.2   0.  ]]\n",
      "[[ 0.   -0.16  0.  ]]\n",
      "[[ 0.   -0.16  0.  ]]\n",
      "[[ 0.01 -0.23  0.  ]]\n",
      "[[ 0.   -0.24  0.  ]]\n",
      "[[ 0.01 -0.24  0.  ]]\n",
      "[[ 0.01 -0.23  0.  ]]\n",
      "[[ 0.   -0.14  0.  ]]\n",
      "[[ 0.01 -0.15  0.  ]]\n",
      "[[ 0.   -0.14  0.  ]]\n",
      "[[ 0.01 -0.2   0.  ]]\n",
      "[[ 0.01 -0.19  0.  ]]\n",
      "[[ 0.01 -0.16  0.  ]]\n",
      "[[ 0.01 -0.16  0.  ]]\n",
      "[[ 0.01 -0.12  0.  ]]\n",
      "[[ 0.01 -0.12  0.  ]]\n",
      "[[ 0.01 -0.05  0.  ]]\n",
      "[[ 0.01 -0.06  0.  ]]\n",
      "[[ 0.01 -0.08  0.  ]]\n",
      "[[ 0.   -0.07  0.  ]]\n",
      "[[ 0.   -0.03  0.  ]]\n",
      "[[ 0.   -0.02  0.  ]]\n",
      "[[ 0.01 -0.05  0.  ]]\n",
      "[[ 0.01 -0.05  0.  ]]\n",
      "[[ 0.   -0.04  0.  ]]\n",
      "[[ 0.   -0.03  0.  ]]\n",
      "[[ 0.   -0.05  0.  ]]\n",
      "[[ 0.   -0.04  0.  ]]\n",
      "[[ 0.   -0.02  0.  ]]\n",
      "[[ 0.   -0.01  0.  ]]\n",
      "[[ 0.   -0.01  0.  ]]\n",
      "[[ 0.   -0.02  0.  ]]\n",
      "[[ 0.01 -0.02  0.  ]]\n",
      "[[ 0.01 -0.02  0.  ]]\n",
      "[[ 0.01 -0.06  0.  ]]\n",
      "[[ 0.01 -0.06  0.  ]]\n",
      "[[ 0.01 -0.04  0.  ]]\n",
      "[[ 0.01 -0.04  0.  ]]\n",
      "[[ 0.  0.  0.]]\n",
      "[[ 0.  0.  0.]]\n",
      "[[ 0.01 -0.01  0.  ]]\n",
      "[[ 0.01 -0.01  0.  ]]\n",
      "[[-0.02  0.01  0.  ]]\n",
      "[[-0.01  0.01  0.  ]]\n",
      "[[ 0.01  0.    0.  ]]\n",
      "[[ 0.   -0.01  0.  ]]\n",
      "[[ 0.02 -0.05  0.  ]]\n",
      "[[ 0.02 -0.06  0.  ]]\n",
      "[[-0.01  0.    0.  ]]\n",
      "[[ 0.    0.01  0.  ]]\n",
      "[[ 0.01 -0.01  0.  ]]\n",
      "[[ 0.01 -0.01  0.  ]]\n",
      "[[ 0.01 -0.03  0.  ]]\n",
      "[[ 0.   -0.04  0.  ]]\n",
      "[[ 0.   -0.03  0.  ]]\n",
      "[[ 0.01 -0.03  0.  ]]\n",
      "[[ 0.01 -0.04  0.  ]]\n",
      "[[ 0.   -0.03  0.  ]]\n",
      "[[ 0.   -0.05  0.  ]]\n",
      "[[ 0.   -0.05  0.  ]]\n",
      "[[ 0.    0.01  0.  ]]\n",
      "[[-0.01  0.02  0.  ]]\n",
      "[[-0.01  0.    0.  ]]\n",
      "[[ 0.  0.  0.]]\n",
      "[[ 0.  0.  0.]]\n",
      "[[-0.01  0.    0.  ]]\n",
      "[[ 0.  0.  0.]]\n",
      "[[ 0.  0.  0.]]\n",
      "[[ 0.  0.  0.]]\n",
      "[[-0.01 -0.02  0.  ]]\n",
      "[[ 0.   -0.01  0.  ]]\n",
      "[[-0.02  0.01  0.  ]]\n",
      "[[-0.02  0.02  0.  ]]\n",
      "[[-0.02  0.    0.  ]]\n",
      "[[-0.01  0.01  0.  ]]\n",
      "[[ 0.01  0.    0.  ]]\n",
      "[[ 0.   -0.01  0.  ]]\n",
      "[[ 0.   -0.01  0.  ]]\n",
      "[[ 0.01 -0.01  0.  ]]\n",
      "[[ 0.01  0.    0.  ]]\n",
      "[[ 0.   -0.01  0.  ]]\n",
      "[[ 0.   -0.02  0.  ]]\n",
      "[[-0.01 -0.01  0.  ]]\n",
      "[[-0.01  0.    0.  ]]\n",
      "[[ 0.   -0.01  0.  ]]\n",
      "[[ 0.   -0.02  0.  ]]\n",
      "[[-0.01 -0.02  0.  ]]\n",
      "[[-0.01  0.01  0.  ]]\n",
      "[[-0.01  0.01  0.  ]]\n",
      "[[-0.01  0.02  0.  ]]\n",
      "[[ 0.    0.02  0.  ]]\n",
      "[[ 0.   -0.04  0.  ]]\n",
      "[[ 0.01 -0.04  0.  ]]\n",
      "[[-0.01 -0.03  0.  ]]\n",
      "[[-0.01 -0.04  0.  ]]\n",
      "[[-0.01  0.    0.  ]]\n",
      "[[ 0.  0.  0.]]\n",
      "[[ 0.   -0.06  0.  ]]\n",
      "[[ 0.   -0.05  0.  ]]\n",
      "[[ 0.   -0.03  0.  ]]\n",
      "[[ 0.   -0.03  0.  ]]\n",
      "[[ 0.    0.03  0.  ]]\n",
      "[[-0.01  0.04  0.  ]]\n",
      "[[-0.01  0.    0.  ]]\n",
      "[[ 0.  0.  0.]]\n",
      "[[ 0.   -0.06  0.  ]]\n",
      "[[-0.01 -0.06  0.  ]]\n",
      "[[ 0.   -0.03  0.  ]]\n",
      "[[ 0.   -0.04  0.  ]]\n",
      "[[ 0.   -0.01  0.  ]]\n",
      "[[ 0.   -0.02  0.  ]]\n",
      "[[ 0.    0.01  0.  ]]\n",
      "[[-0.01  0.01  0.  ]]\n",
      "[[ 0.   -0.02  0.  ]]\n",
      "[[ 0.   -0.02  0.  ]]\n",
      "[[ 0.   -0.03  0.  ]]\n",
      "[[-0.01 -0.03  0.  ]]\n",
      "[[ 0.    0.01  0.  ]]\n",
      "[[ 0.    0.01  0.  ]]\n",
      "[[ 0.  0.  0.]]\n",
      "[[ 0.  0.  0.]]\n",
      "[[ 0.  0.  0.]]\n",
      "[[ 0.    0.01  0.  ]]\n",
      "[[ 0.01  0.    0.  ]]\n",
      "[[ 0.    0.01  0.  ]]\n",
      "[[ 0.01  0.    0.  ]]\n",
      "[[ 0.01  0.01  0.  ]]\n",
      "[[ 0.    0.01  0.  ]]\n",
      "[[ 0.    0.06  0.  ]]\n",
      "[[ 0.01  0.06  0.  ]]\n",
      "[[ 0.01 -0.04  0.  ]]\n",
      "[[ 0.   -0.04  0.  ]]\n",
      "[[ 0.   -0.03  0.  ]]\n",
      "[[ 0.   -0.03  0.  ]]\n",
      "[[ 0.   -0.03  0.  ]]\n",
      "[[ 0.   -0.03  0.  ]]\n",
      "[[ 0.   -0.01  0.  ]]\n",
      "[[ 0.01 -0.02  0.  ]]\n",
      "[[ 0.01 -0.01  0.  ]]\n",
      "[[ 0.   -0.02  0.  ]]\n",
      "[[ 0.01 -0.01  0.  ]]\n",
      "[[ 0.01 -0.01  0.  ]]\n",
      "[[ 0.   -0.02  0.  ]]\n",
      "[[ 0.   -0.01  0.  ]]\n",
      "[[ 0.    0.03  0.  ]]\n",
      "[[ 0.    0.03  0.  ]]\n",
      "[[ 0.    0.06  0.  ]]\n",
      "[[ 0.01  0.06  0.  ]]\n",
      "[[ 0.01  0.11  0.  ]]\n",
      "[[ 0.   0.1  0. ]]\n",
      "[[ 0.    0.26  0.  ]]\n",
      "[[ 0.    0.27  0.  ]]\n",
      "[[ 0.01  0.39  0.  ]]\n",
      "[[ 0.01  0.38  0.  ]]\n",
      "[[ 0.    0.44  0.  ]]\n",
      "[[ 0.    0.44  0.  ]]\n",
      "[[ 0.01  0.36  0.  ]]\n",
      "[[ 0.01  0.35  0.  ]]\n",
      "[[-0.08  0.99  0.  ]]\n",
      "[[ 0.    0.44  0.  ]]\n",
      "[[ 0.01  0.45  0.  ]]\n",
      "[[ 0.01  0.65  0.  ]]\n",
      "[[ 0.01  0.64  0.  ]]\n",
      "[[ 0.    0.16  0.  ]]\n",
      "[[ 0.    0.16  0.  ]]\n",
      "[[ 0.01  0.78  0.  ]]\n",
      "[[ 0.    0.78  0.  ]]\n",
      "[[ 0.   -0.04  0.  ]]\n",
      "[[ 0.   -0.05  0.  ]]\n",
      "[[ 0.    0.29  0.  ]]\n",
      "[[ 0.    0.29  0.  ]]\n",
      "[[ 0.    0.11  0.  ]]\n",
      "[[ 0.01  0.11  0.  ]]\n",
      "[[ 0.02  0.27  0.  ]]\n",
      "[[ 0.02  0.27  0.  ]]\n",
      "[[ 0.01  0.41  0.  ]]\n",
      "[[ 0.01  0.41  0.  ]]\n",
      "[[-0.01  0.11  0.  ]]\n",
      "[[ 0.    0.11  0.  ]]\n",
      "[[ 0.01  0.1   0.  ]]\n",
      "[[ 0.01  0.1   0.  ]]\n",
      "[[ 0.    0.28  0.  ]]\n",
      "[[-0.01  0.28  0.  ]]\n",
      "[[ 0.    0.14  0.  ]]\n",
      "[[ 0.    0.14  0.  ]]\n",
      "[[ 0.   -0.03  0.  ]]\n",
      "[[ 0.   -0.03  0.  ]]\n",
      "[[ 0.01  0.19  0.  ]]\n",
      "[[ 0.    0.19  0.  ]]\n",
      "[[ 0.01  0.24  0.  ]]\n",
      "[[ 0.01  0.25  0.  ]]\n",
      "[[ 0.    0.07  0.  ]]\n",
      "[[-0.01  0.07  0.  ]]\n",
      "[[ 0.01  0.22  0.  ]]\n",
      "[[ 0.    0.21  0.  ]]\n",
      "[[ 0.01  0.58  0.  ]]\n",
      "[[ 0.01  0.58  0.  ]]\n",
      "[[ 0.01  0.13  0.  ]]\n",
      "[[ 0.01  0.13  0.  ]]\n",
      "[[-0.01  0.71  0.  ]]\n",
      "[[-0.01  0.72  0.  ]]\n",
      "[[ 0.   -0.14  0.  ]]\n",
      "[[ 0.   -0.13  0.  ]]\n",
      "[[ 0.    0.19  0.  ]]\n",
      "[[-0.01  0.19  0.  ]]\n",
      "[[-0.01 -0.02  0.  ]]\n",
      "[[-0.01 -0.03  0.  ]]\n",
      "[[ 0.   -0.11  0.  ]]\n",
      "[[ 0.  -0.1  0. ]]\n",
      "[[-0.01  0.35  0.  ]]\n",
      "[[ 0.    0.36  0.  ]]\n",
      "[[ 0.    0.13  0.  ]]\n",
      "[[-0.01  0.13  0.  ]]\n",
      "[[ 0.    0.08  0.  ]]\n",
      "[[ 0.    0.08  0.  ]]\n",
      "[[-0.01  0.63  0.  ]]\n",
      "[[-0.02  0.63  0.  ]]\n",
      "[[ 0.   -0.65  0.  ]]\n",
      "[[-0.01 -0.64  0.  ]]\n",
      "[[-0.01 -0.25  0.  ]]\n",
      "[[-0.01 -0.24  0.  ]]\n",
      "[[ 0.01 -0.12  0.  ]]\n",
      "[[ 0.   -0.11  0.  ]]\n",
      "[[-0.01 -0.11  0.  ]]\n",
      "[[-0.01 -0.1   0.  ]]\n",
      "[[-0.01 -0.1   0.  ]]\n",
      "[[-0.01 -0.11  0.  ]]\n",
      "[[ 0.    0.15  0.  ]]\n",
      "[[-0.01  0.16  0.  ]]\n",
      "[[-0.01 -0.25  0.  ]]\n",
      "[[ 0.   -0.26  0.  ]]\n",
      "[[ 0.    0.15  0.  ]]\n",
      "[[ 0.    0.14  0.  ]]\n",
      "[[ 0.   -0.45  0.  ]]\n",
      "[[-0.01 -0.45  0.  ]]\n",
      "[[-0.01 -0.22  0.  ]]\n",
      "[[-0.02 -0.23  0.  ]]\n",
      "[[ 0.   -0.46  0.  ]]\n",
      "[[ 0.   -0.46  0.  ]]\n",
      "[[-0.01 -0.3   0.  ]]\n",
      "[[-0.01 -0.29  0.  ]]\n",
      "[[ 0.01 -0.28  0.  ]]\n",
      "[[ 0.   -0.29  0.  ]]\n",
      "[[ 0.   -0.13  0.  ]]\n",
      "[[ 0.   -0.12  0.  ]]\n",
      "[[ 0.   -0.46  0.  ]]\n",
      "[[-0.01 -0.47  0.  ]]\n",
      "[[ 0.   -0.21  0.  ]]\n",
      "[[ 0.   -0.22  0.  ]]\n",
      "[[-0.01 -0.08  0.  ]]\n",
      "[[-0.01 -0.07  0.  ]]\n",
      "[[ 0.   -0.21  0.  ]]\n",
      "[[-0.01 -0.2   0.  ]]\n",
      "[[ 0.   -0.21  0.  ]]\n",
      "[[ 0.   -0.21  0.  ]]\n",
      "[[-0.01 -0.22  0.  ]]\n",
      "[[ 0.   -0.21  0.  ]]\n",
      "[[-0.01  0.11  0.  ]]\n",
      "[[-0.01  0.11  0.  ]]\n",
      "[[ 0.   -0.18  0.  ]]\n",
      "[[ 0.   -0.18  0.  ]]\n",
      "[[ 0.    0.03  0.  ]]\n",
      "[[ 0.    0.04  0.  ]]\n",
      "[[-0.01 -0.18  0.  ]]\n",
      "[[ 0.   -0.17  0.  ]]\n",
      "[[-0.01 -0.21  0.  ]]\n",
      "[[ 0.  -0.2  0. ]]\n",
      "[[ 0.  -0.2  0. ]]\n",
      "[[-0.01 -0.21  0.  ]]\n",
      "[[-0.01 -0.03  0.  ]]\n",
      "[[ 0.   -0.02  0.  ]]\n",
      "[[ 0.   -0.14  0.  ]]\n",
      "[[-0.01 -0.14  0.  ]]\n",
      "[[-0.01 -0.14  0.  ]]\n",
      "[[ 0.   -0.15  0.  ]]\n",
      "[[ 0.   -0.17  0.  ]]\n",
      "[[-0.01 -0.17  0.  ]]\n",
      "[[-0.01 -0.14  0.  ]]\n",
      "[[ 0.   -0.14  0.  ]]\n",
      "[[ 0.  -0.1  0. ]]\n",
      "[[ 0.01 -0.1   0.  ]]\n",
      "[[ 0.   -0.39  0.  ]]\n",
      "[[ 0.   -0.39  0.  ]]\n",
      "[[ 0.01 -0.23  0.  ]]\n",
      "[[ 0.   -0.22  0.  ]]\n",
      "[[ 0.01 -0.2   0.  ]]\n",
      "[[ 0.01 -0.2   0.  ]]\n",
      "[[ 0.   -0.19  0.  ]]\n",
      "[[ 0.01 -0.2   0.  ]]\n",
      "[[ 0.   -0.16  0.  ]]\n",
      "[[ 0.   -0.16  0.  ]]\n",
      "[[ 0.01 -0.23  0.  ]]\n",
      "[[ 0.   -0.24  0.  ]]\n",
      "[[ 0.01 -0.24  0.  ]]\n",
      "[[ 0.01 -0.23  0.  ]]\n",
      "[[ 0.   -0.14  0.  ]]\n",
      "[[ 0.01 -0.15  0.  ]]\n",
      "[[ 0.   -0.14  0.  ]]\n",
      "[[ 0.01 -0.2   0.  ]]\n",
      "[[ 0.01 -0.19  0.  ]]\n",
      "[[ 0.01 -0.16  0.  ]]\n",
      "[[ 0.01 -0.16  0.  ]]\n",
      "[[ 0.01 -0.12  0.  ]]\n",
      "[[ 0.01 -0.12  0.  ]]\n",
      "[[ 0.01 -0.05  0.  ]]\n",
      "[[ 0.01 -0.06  0.  ]]\n",
      "[[ 0.01 -0.08  0.  ]]\n",
      "[[ 0.   -0.07  0.  ]]\n",
      "[[ 0.   -0.03  0.  ]]\n",
      "[[ 0.   -0.02  0.  ]]\n",
      "[[ 0.01 -0.05  0.  ]]\n"
     ]
    },
    {
     "name": "stdout",
     "output_type": "stream",
     "text": [
      "[[ 0.01 -0.05  0.  ]]\n",
      "[[ 0.   -0.04  0.  ]]\n",
      "[[ 0.   -0.03  0.  ]]\n",
      "[[ 0.   -0.05  0.  ]]\n",
      "[[ 0.   -0.04  0.  ]]\n",
      "[[ 0.   -0.02  0.  ]]\n",
      "[[ 0.   -0.01  0.  ]]\n",
      "[[ 0.   -0.01  0.  ]]\n",
      "[[ 0.   -0.02  0.  ]]\n",
      "[[ 0.01 -0.02  0.  ]]\n",
      "[[ 0.01 -0.02  0.  ]]\n",
      "[[ 0.01 -0.06  0.  ]]\n",
      "[[ 0.01 -0.06  0.  ]]\n",
      "[[ 0.01 -0.04  0.  ]]\n",
      "[[ 0.01 -0.04  0.  ]]\n",
      "[[ 0.  0.  0.]]\n",
      "[[ 0.  0.  0.]]\n",
      "[[ 0.01 -0.01  0.  ]]\n",
      "[[ 0.01 -0.01  0.  ]]\n",
      "[[-0.02  0.01  0.  ]]\n",
      "[[-0.01  0.01  0.  ]]\n",
      "[[ 0.01  0.    0.  ]]\n",
      "[[ 0.   -0.01  0.  ]]\n",
      "[[ 0.02 -0.05  0.  ]]\n",
      "[[ 0.02 -0.06  0.  ]]\n",
      "[[-0.01  0.    0.  ]]\n",
      "[[ 0.    0.01  0.  ]]\n",
      "[[ 0.01 -0.01  0.  ]]\n",
      "[[ 0.01 -0.01  0.  ]]\n",
      "[[ 0.01 -0.03  0.  ]]\n",
      "[[ 0.   -0.04  0.  ]]\n",
      "[[ 0.   -0.03  0.  ]]\n",
      "[[ 0.01 -0.03  0.  ]]\n",
      "[[ 0.01 -0.04  0.  ]]\n",
      "[[ 0.   -0.03  0.  ]]\n",
      "[[ 0.   -0.05  0.  ]]\n",
      "[[ 0.   -0.05  0.  ]]\n",
      "[[ 0.    0.01  0.  ]]\n",
      "[[-0.01  0.02  0.  ]]\n",
      "[[-0.01  0.    0.  ]]\n",
      "[[ 0.  0.  0.]]\n",
      "[[ 0.  0.  0.]]\n",
      "[[-0.01  0.    0.  ]]\n",
      "[[ 0.  0.  0.]]\n",
      "[[ 0.  0.  0.]]\n",
      "[[ 0.  0.  0.]]\n",
      "[[-0.01 -0.02  0.  ]]\n",
      "[[ 0.   -0.01  0.  ]]\n",
      "[[-0.02  0.01  0.  ]]\n",
      "[[-0.02  0.02  0.  ]]\n",
      "[[-0.02  0.    0.  ]]\n",
      "[[-0.01  0.01  0.  ]]\n",
      "[[ 0.01  0.    0.  ]]\n",
      "[[ 0.   -0.01  0.  ]]\n",
      "[[ 0.   -0.01  0.  ]]\n",
      "[[ 0.01 -0.01  0.  ]]\n",
      "[[ 0.01  0.    0.  ]]\n",
      "[[ 0.   -0.01  0.  ]]\n",
      "[[ 0.   -0.02  0.  ]]\n",
      "[[-0.01 -0.01  0.  ]]\n",
      "[[-0.01  0.    0.  ]]\n",
      "[[ 0.   -0.01  0.  ]]\n",
      "[[ 0.   -0.02  0.  ]]\n",
      "[[-0.01 -0.02  0.  ]]\n",
      "[[-0.01  0.01  0.  ]]\n",
      "[[-0.01  0.01  0.  ]]\n",
      "[[-0.01  0.02  0.  ]]\n",
      "[[ 0.    0.02  0.  ]]\n",
      "[[ 0.   -0.04  0.  ]]\n",
      "[[ 0.01 -0.04  0.  ]]\n",
      "[[-0.01 -0.03  0.  ]]\n",
      "[[-0.01 -0.04  0.  ]]\n",
      "[[-0.01  0.    0.  ]]\n",
      "[[ 0.  0.  0.]]\n",
      "[[ 0.   -0.06  0.  ]]\n",
      "[[ 0.   -0.05  0.  ]]\n",
      "[[ 0.   -0.03  0.  ]]\n",
      "[[ 0.   -0.03  0.  ]]\n",
      "[[ 0.    0.03  0.  ]]\n",
      "[[-0.01  0.04  0.  ]]\n",
      "[[-0.01  0.    0.  ]]\n",
      "[[ 0.  0.  0.]]\n",
      "[[ 0.   -0.06  0.  ]]\n",
      "[[-0.01 -0.06  0.  ]]\n",
      "[[ 0.   -0.03  0.  ]]\n",
      "[[ 0.   -0.04  0.  ]]\n",
      "[[ 0.   -0.01  0.  ]]\n",
      "[[ 0.   -0.02  0.  ]]\n",
      "[[ 0.    0.01  0.  ]]\n",
      "[[-0.01  0.01  0.  ]]\n",
      "[[ 0.   -0.02  0.  ]]\n",
      "[[ 0.   -0.02  0.  ]]\n",
      "[[ 0.   -0.03  0.  ]]\n",
      "[[-0.01 -0.03  0.  ]]\n",
      "[[ 0.    0.01  0.  ]]\n",
      "[[ 0.    0.01  0.  ]]\n",
      "[[ 0.  0.  0.]]\n",
      "[[ 0.  0.  0.]]\n",
      "[[ 0.  0.  0.]]\n",
      "[[ 0.    0.01  0.  ]]\n",
      "[[ 0.01  0.    0.  ]]\n",
      "[[ 0.    0.01  0.  ]]\n",
      "[[ 0.01  0.    0.  ]]\n",
      "[[ 0.01  0.01  0.  ]]\n",
      "[[ 0.    0.01  0.  ]]\n",
      "[[ 0.    0.06  0.  ]]\n",
      "[[ 0.01  0.06  0.  ]]\n",
      "[[ 0.01 -0.04  0.  ]]\n",
      "[[ 0.   -0.04  0.  ]]\n",
      "[[ 0.   -0.03  0.  ]]\n",
      "[[ 0.   -0.03  0.  ]]\n",
      "[[ 0.   -0.03  0.  ]]\n",
      "[[ 0.   -0.03  0.  ]]\n",
      "[[ 0.   -0.01  0.  ]]\n",
      "[[ 0.01 -0.02  0.  ]]\n",
      "[[ 0.01 -0.01  0.  ]]\n",
      "[[ 0.   -0.02  0.  ]]\n",
      "[[ 0.01 -0.01  0.  ]]\n",
      "[[ 0.01 -0.01  0.  ]]\n",
      "[[ 0.   -0.02  0.  ]]\n",
      "[[ 0.   -0.01  0.  ]]\n",
      "[[ 0.    0.03  0.  ]]\n",
      "[[ 0.    0.03  0.  ]]\n",
      "[[ 0.    0.06  0.  ]]\n",
      "[[ 0.01  0.06  0.  ]]\n",
      "[[ 0.01  0.11  0.  ]]\n",
      "[[ 0.   0.1  0. ]]\n",
      "[[ 0.    0.26  0.  ]]\n",
      "[[ 0.    0.27  0.  ]]\n",
      "[[ 0.01  0.39  0.  ]]\n",
      "[[ 0.01  0.38  0.  ]]\n",
      "[[ 0.    0.44  0.  ]]\n",
      "[[ 0.    0.44  0.  ]]\n",
      "[[ 0.01  0.36  0.  ]]\n",
      "[[ 0.01  0.35  0.  ]]\n",
      "[[-0.08  0.99  0.  ]]\n",
      "[[ 0.    0.44  0.  ]]\n",
      "[[ 0.01  0.45  0.  ]]\n",
      "[[ 0.01  0.65  0.  ]]\n",
      "[[ 0.01  0.64  0.  ]]\n",
      "[[ 0.    0.16  0.  ]]\n",
      "[[ 0.    0.16  0.  ]]\n",
      "[[ 0.01  0.78  0.  ]]\n",
      "[[ 0.   -0.12  0.  ]]\n",
      "[[ 0.   -0.46  0.  ]]\n",
      "[[-0.01 -0.47  0.  ]]\n",
      "[[ 0.   -0.21  0.  ]]\n",
      "[[ 0.   -0.22  0.  ]]\n",
      "[[-0.01 -0.08  0.  ]]\n",
      "[[-0.01 -0.07  0.  ]]\n",
      "[[ 0.   -0.21  0.  ]]\n",
      "[[-0.01 -0.2   0.  ]]\n",
      "[[ 0.   -0.21  0.  ]]\n",
      "[[ 0.   -0.21  0.  ]]\n",
      "[[-0.01 -0.22  0.  ]]\n",
      "[[ 0.   -0.21  0.  ]]\n",
      "[[-0.01  0.11  0.  ]]\n",
      "[[-0.01  0.11  0.  ]]\n",
      "[[ 0.   -0.18  0.  ]]\n",
      "[[ 0.   -0.18  0.  ]]\n",
      "[[ 0.    0.03  0.  ]]\n",
      "[[ 0.    0.04  0.  ]]\n",
      "[[-0.01 -0.18  0.  ]]\n",
      "[[ 0.   -0.17  0.  ]]\n",
      "[[-0.01 -0.21  0.  ]]\n",
      "[[ 0.  -0.2  0. ]]\n",
      "[[ 0.  -0.2  0. ]]\n",
      "[[-0.01 -0.21  0.  ]]\n",
      "[[-0.01 -0.03  0.  ]]\n",
      "[[ 0.   -0.02  0.  ]]\n",
      "[[ 0.   -0.14  0.  ]]\n",
      "[[-0.01 -0.14  0.  ]]\n",
      "[[-0.01 -0.14  0.  ]]\n",
      "[[ 0.   -0.15  0.  ]]\n",
      "[[ 0.   -0.17  0.  ]]\n",
      "[[-0.01 -0.17  0.  ]]\n",
      "[[-0.01 -0.14  0.  ]]\n",
      "[[ 0.   -0.14  0.  ]]\n",
      "[[ 0.  -0.1  0. ]]\n",
      "[[ 0.01 -0.1   0.  ]]\n",
      "[[ 0.   -0.39  0.  ]]\n",
      "[[ 0.   -0.39  0.  ]]\n",
      "[[ 0.01 -0.23  0.  ]]\n",
      "[[ 0.   -0.22  0.  ]]\n",
      "[[ 0.01 -0.2   0.  ]]\n",
      "[[ 0.01 -0.2   0.  ]]\n",
      "[[ 0.   -0.19  0.  ]]\n",
      "[[ 0.01 -0.2   0.  ]]\n",
      "[[ 0.   -0.16  0.  ]]\n",
      "[[ 0.   -0.16  0.  ]]\n",
      "[[ 0.01 -0.23  0.  ]]\n",
      "[[ 0.   -0.24  0.  ]]\n",
      "[[ 0.01 -0.24  0.  ]]\n",
      "[[ 0.01 -0.23  0.  ]]\n",
      "[[ 0.   -0.14  0.  ]]\n",
      "[[ 0.01 -0.15  0.  ]]\n",
      "[[ 0.   -0.14  0.  ]]\n",
      "[[ 0.01 -0.2   0.  ]]\n",
      "[[ 0.01 -0.19  0.  ]]\n",
      "[[ 0.01 -0.16  0.  ]]\n",
      "[[ 0.01 -0.16  0.  ]]\n",
      "[[ 0.01 -0.12  0.  ]]\n",
      "[[ 0.01 -0.12  0.  ]]\n",
      "[[ 0.01 -0.05  0.  ]]\n",
      "[[ 0.01 -0.06  0.  ]]\n",
      "[[ 0.01 -0.08  0.  ]]\n",
      "[[ 0.   -0.07  0.  ]]\n",
      "[[ 0.   -0.03  0.  ]]\n",
      "[[ 0.   -0.02  0.  ]]\n",
      "[[ 0.01 -0.05  0.  ]]\n",
      "[[ 0.01 -0.05  0.  ]]\n",
      "[[ 0.   -0.04  0.  ]]\n",
      "[[ 0.   -0.03  0.  ]]\n",
      "[[ 0.   -0.05  0.  ]]\n",
      "[[ 0.   -0.04  0.  ]]\n",
      "[[ 0.   -0.02  0.  ]]\n",
      "[[ 0.   -0.01  0.  ]]\n",
      "[[ 0.   -0.01  0.  ]]\n",
      "[[ 0.   -0.02  0.  ]]\n",
      "[[ 0.01 -0.02  0.  ]]\n",
      "[[ 0.01 -0.02  0.  ]]\n",
      "[[ 0.01 -0.06  0.  ]]\n",
      "[[ 0.01 -0.06  0.  ]]\n",
      "[[ 0.01 -0.04  0.  ]]\n",
      "[[ 0.01 -0.04  0.  ]]\n",
      "[[ 0.  0.  0.]]\n",
      "[[ 0.  0.  0.]]\n",
      "[[ 0.01 -0.01  0.  ]]\n",
      "[[ 0.01 -0.01  0.  ]]\n",
      "[[-0.02  0.01  0.  ]]\n",
      "[[-0.01  0.01  0.  ]]\n",
      "[[ 0.01  0.    0.  ]]\n",
      "[[ 0.   -0.01  0.  ]]\n",
      "[[ 0.02 -0.05  0.  ]]\n",
      "[[ 0.02 -0.06  0.  ]]\n",
      "[[-0.01  0.    0.  ]]\n",
      "[[ 0.    0.01  0.  ]]\n",
      "[[ 0.01 -0.01  0.  ]]\n",
      "[[ 0.01 -0.01  0.  ]]\n",
      "[[ 0.01 -0.03  0.  ]]\n",
      "[[ 0.   -0.04  0.  ]]\n",
      "[[ 0.   -0.03  0.  ]]\n",
      "[[ 0.01 -0.03  0.  ]]\n",
      "[[ 0.01 -0.04  0.  ]]\n",
      "[[ 0.   -0.03  0.  ]]\n",
      "[[ 0.   -0.05  0.  ]]\n",
      "[[ 0.   -0.05  0.  ]]\n",
      "[[ 0.    0.01  0.  ]]\n",
      "[[-0.01  0.02  0.  ]]\n",
      "[[-0.01  0.    0.  ]]\n",
      "[[ 0.  0.  0.]]\n",
      "[[ 0.  0.  0.]]\n",
      "[[-0.01  0.    0.  ]]\n",
      "[[ 0.  0.  0.]]\n",
      "[[ 0.  0.  0.]]\n",
      "[[ 0.  0.  0.]]\n",
      "[[-0.01 -0.02  0.  ]]\n",
      "[[ 0.   -0.01  0.  ]]\n",
      "[[-0.02  0.01  0.  ]]\n",
      "[[-0.02  0.02  0.  ]]\n",
      "[[-0.02  0.    0.  ]]\n",
      "[[-0.01  0.01  0.  ]]\n",
      "[[ 0.01  0.    0.  ]]\n",
      "[[ 0.   -0.01  0.  ]]\n",
      "[[ 0.   -0.01  0.  ]]\n",
      "[[ 0.01 -0.01  0.  ]]\n",
      "[[ 0.01  0.    0.  ]]\n",
      "[[ 0.   -0.01  0.  ]]\n",
      "[[ 0.   -0.02  0.  ]]\n",
      "[[-0.01 -0.01  0.  ]]\n",
      "[[-0.01  0.    0.  ]]\n",
      "[[ 0.   -0.01  0.  ]]\n",
      "[[ 0.   -0.02  0.  ]]\n",
      "[[-0.01 -0.02  0.  ]]\n",
      "[[-0.01  0.01  0.  ]]\n",
      "[[-0.01  0.01  0.  ]]\n",
      "[[-0.01  0.02  0.  ]]\n",
      "[[ 0.    0.02  0.  ]]\n",
      "[[ 0.   -0.04  0.  ]]\n",
      "[[ 0.01 -0.04  0.  ]]\n",
      "[[-0.01 -0.03  0.  ]]\n",
      "[[-0.01 -0.04  0.  ]]\n",
      "[[-0.01  0.    0.  ]]\n",
      "[[ 0.  0.  0.]]\n",
      "[[ 0.   -0.06  0.  ]]\n",
      "[[ 0.   -0.05  0.  ]]\n",
      "[[ 0.   -0.03  0.  ]]\n",
      "[[ 0.   -0.03  0.  ]]\n",
      "[[ 0.    0.03  0.  ]]\n",
      "[[-0.01  0.04  0.  ]]\n",
      "[[-0.01  0.    0.  ]]\n",
      "[[ 0.  0.  0.]]\n",
      "[[ 0.   -0.06  0.  ]]\n",
      "[[-0.01 -0.06  0.  ]]\n",
      "[[ 0.   -0.03  0.  ]]\n",
      "[[ 0.   -0.04  0.  ]]\n",
      "[[ 0.   -0.01  0.  ]]\n",
      "[[ 0.   -0.02  0.  ]]\n",
      "[[ 0.    0.01  0.  ]]\n",
      "[[-0.01  0.01  0.  ]]\n",
      "[[ 0.   -0.02  0.  ]]\n",
      "[[ 0.   -0.02  0.  ]]\n",
      "[[ 0.   -0.03  0.  ]]\n",
      "[[-0.01 -0.03  0.  ]]\n",
      "[[ 0.    0.01  0.  ]]\n",
      "[[ 0.    0.01  0.  ]]\n",
      "[[ 0.  0.  0.]]\n",
      "[[ 0.  0.  0.]]\n",
      "[[ 0.  0.  0.]]\n",
      "[[ 0.    0.01  0.  ]]\n",
      "[[ 0.01  0.    0.  ]]\n",
      "[[ 0.    0.01  0.  ]]\n",
      "[[ 0.01  0.    0.  ]]\n",
      "[[ 0.01  0.01  0.  ]]\n",
      "[[ 0.    0.01  0.  ]]\n",
      "[[ 0.    0.06  0.  ]]\n",
      "[[ 0.01  0.06  0.  ]]\n",
      "[[ 0.01 -0.04  0.  ]]\n",
      "[[ 0.   -0.04  0.  ]]\n",
      "[[ 0.   -0.03  0.  ]]\n",
      "[[ 0.   -0.03  0.  ]]\n",
      "[[ 0.   -0.03  0.  ]]\n",
      "[[ 0.   -0.03  0.  ]]\n",
      "[[ 0.   -0.01  0.  ]]\n",
      "[[ 0.01 -0.02  0.  ]]\n",
      "[[ 0.01 -0.01  0.  ]]\n",
      "[[ 0.   -0.02  0.  ]]\n",
      "[[ 0.01 -0.01  0.  ]]\n",
      "[[ 0.01 -0.01  0.  ]]\n",
      "[[ 0.   -0.02  0.  ]]\n",
      "[[ 0.   -0.01  0.  ]]\n",
      "[[ 0.    0.03  0.  ]]\n",
      "[[ 0.    0.03  0.  ]]\n",
      "[[ 0.    0.06  0.  ]]\n",
      "[[ 0.01  0.06  0.  ]]\n",
      "[[ 0.01  0.11  0.  ]]\n",
      "[[ 0.   0.1  0. ]]\n",
      "[[ 0.    0.26  0.  ]]\n",
      "[[ 0.    0.27  0.  ]]\n",
      "[[ 0.01  0.39  0.  ]]\n",
      "[[ 0.01  0.38  0.  ]]\n",
      "[[ 0.    0.44  0.  ]]\n",
      "[[ 0.    0.44  0.  ]]\n",
      "[[ 0.01  0.36  0.  ]]\n",
      "[[ 0.01  0.35  0.  ]]\n",
      "[[-0.08  0.99  0.  ]]\n",
      "[[ 0.    0.44  0.  ]]\n",
      "[[ 0.01  0.45  0.  ]]\n",
      "[[ 0.01  0.65  0.  ]]\n",
      "[[ 0.01  0.64  0.  ]]\n",
      "[[ 0.    0.16  0.  ]]\n",
      "[[ 0.    0.16  0.  ]]\n",
      "[[ 0.01  0.78  0.  ]]\n",
      "[[ 0.    0.78  0.  ]]\n",
      "[[ 0.   -0.04  0.  ]]\n",
      "[[ 0.   -0.05  0.  ]]\n",
      "[[ 0.    0.29  0.  ]]\n",
      "[[ 0.    0.29  0.  ]]\n",
      "[[ 0.    0.11  0.  ]]\n",
      "[[ 0.01  0.11  0.  ]]\n",
      "[[ 0.02  0.27  0.  ]]\n",
      "[[ 0.02  0.27  0.  ]]\n",
      "[[ 0.01  0.41  0.  ]]\n",
      "[[ 0.01  0.41  0.  ]]\n",
      "[[-0.01  0.11  0.  ]]\n",
      "[[ 0.    0.11  0.  ]]\n",
      "[[ 0.01  0.1   0.  ]]\n",
      "[[ 0.01  0.1   0.  ]]\n",
      "[[ 0.    0.28  0.  ]]\n",
      "[[-0.01  0.28  0.  ]]\n",
      "[[ 0.    0.14  0.  ]]\n",
      "[[ 0.    0.14  0.  ]]\n",
      "[[ 0.   -0.03  0.  ]]\n",
      "[[ 0.   -0.03  0.  ]]\n",
      "[[ 0.01  0.19  0.  ]]\n",
      "[[ 0.    0.19  0.  ]]\n",
      "[[ 0.01  0.24  0.  ]]\n",
      "[[ 0.01  0.25  0.  ]]\n",
      "[[ 0.    0.07  0.  ]]\n",
      "[[-0.01  0.07  0.  ]]\n",
      "[[ 0.01  0.22  0.  ]]\n",
      "[[ 0.    0.21  0.  ]]\n",
      "[[ 0.01  0.58  0.  ]]\n",
      "[[ 0.01  0.58  0.  ]]\n",
      "[[ 0.01  0.13  0.  ]]\n",
      "[[ 0.01  0.13  0.  ]]\n",
      "[[-0.01  0.71  0.  ]]\n",
      "[[-0.01  0.72  0.  ]]\n",
      "[[ 0.   -0.14  0.  ]]\n",
      "[[ 0.   -0.13  0.  ]]\n",
      "[[ 0.    0.19  0.  ]]\n",
      "[[-0.01  0.19  0.  ]]\n",
      "[[-0.01 -0.02  0.  ]]\n",
      "[[-0.01 -0.03  0.  ]]\n",
      "[[ 0.   -0.11  0.  ]]\n",
      "[[ 0.  -0.1  0. ]]\n",
      "[[-0.01  0.35  0.  ]]\n",
      "[[ 0.    0.36  0.  ]]\n",
      "[[ 0.    0.13  0.  ]]\n",
      "[[-0.01  0.13  0.  ]]\n",
      "[[ 0.    0.08  0.  ]]\n",
      "[[ 0.    0.08  0.  ]]\n",
      "[[-0.01  0.63  0.  ]]\n",
      "[[-0.02  0.63  0.  ]]\n",
      "[[ 0.   -0.65  0.  ]]\n",
      "[[-0.01 -0.64  0.  ]]\n",
      "[[-0.01 -0.25  0.  ]]\n",
      "[[-0.01 -0.24  0.  ]]\n",
      "[[ 0.01 -0.12  0.  ]]\n",
      "[[ 0.   -0.11  0.  ]]\n",
      "[[-0.01 -0.11  0.  ]]\n",
      "[[-0.01 -0.1   0.  ]]\n",
      "[[-0.01 -0.1   0.  ]]\n",
      "[[-0.01 -0.11  0.  ]]\n",
      "[[ 0.    0.15  0.  ]]\n",
      "[[-0.01  0.16  0.  ]]\n",
      "[[-0.01 -0.25  0.  ]]\n",
      "[[ 0.   -0.26  0.  ]]\n",
      "[[ 0.    0.15  0.  ]]\n",
      "[[ 0.    0.14  0.  ]]\n"
     ]
    },
    {
     "name": "stdout",
     "output_type": "stream",
     "text": [
      "[[ 0.   -0.45  0.  ]]\n",
      "[[-0.01 -0.45  0.  ]]\n",
      "[[-0.01 -0.22  0.  ]]\n",
      "[[-0.02 -0.23  0.  ]]\n",
      "[[ 0.   -0.46  0.  ]]\n",
      "[[ 0.   -0.46  0.  ]]\n",
      "[[-0.01 -0.3   0.  ]]\n",
      "[[-0.01 -0.29  0.  ]]\n",
      "[[ 0.01 -0.28  0.  ]]\n",
      "[[ 0.   -0.29  0.  ]]\n",
      "[[ 0.   -0.13  0.  ]]\n",
      "[[ 0.   -0.12  0.  ]]\n",
      "[[ 0.   -0.46  0.  ]]\n",
      "[[-0.01 -0.47  0.  ]]\n",
      "[[ 0.   -0.21  0.  ]]\n",
      "[[ 0.   -0.22  0.  ]]\n",
      "[[-0.01 -0.08  0.  ]]\n",
      "[[-0.01 -0.07  0.  ]]\n",
      "[[ 0.   -0.21  0.  ]]\n",
      "[[-0.01 -0.2   0.  ]]\n",
      "[[ 0.   -0.21  0.  ]]\n",
      "[[ 0.   -0.21  0.  ]]\n",
      "[[-0.01 -0.22  0.  ]]\n",
      "[[ 0.   -0.21  0.  ]]\n",
      "[[-0.01  0.11  0.  ]]\n",
      "[[-0.01  0.11  0.  ]]\n",
      "[[ 0.   -0.18  0.  ]]\n",
      "[[ 0.   -0.18  0.  ]]\n",
      "[[ 0.    0.03  0.  ]]\n",
      "[[ 0.    0.04  0.  ]]\n",
      "[[-0.01 -0.18  0.  ]]\n",
      "[[ 0.   -0.17  0.  ]]\n",
      "[[-0.01 -0.21  0.  ]]\n",
      "[[ 0.  -0.2  0. ]]\n",
      "[[ 0.  -0.2  0. ]]\n",
      "[[-0.01 -0.21  0.  ]]\n",
      "[[-0.01 -0.03  0.  ]]\n",
      "[[ 0.   -0.02  0.  ]]\n",
      "[[ 0.   -0.14  0.  ]]\n",
      "[[-0.01 -0.14  0.  ]]\n",
      "[[-0.01 -0.14  0.  ]]\n",
      "[[ 0.   -0.15  0.  ]]\n",
      "[[ 0.   -0.17  0.  ]]\n",
      "[[-0.01 -0.17  0.  ]]\n",
      "[[-0.01 -0.14  0.  ]]\n",
      "[[ 0.   -0.14  0.  ]]\n",
      "[[ 0.  -0.1  0. ]]\n",
      "[[ 0.01 -0.1   0.  ]]\n",
      "[[ 0.   -0.39  0.  ]]\n",
      "[[ 0.   -0.39  0.  ]]\n",
      "[[ 0.01 -0.23  0.  ]]\n",
      "[[ 0.   -0.22  0.  ]]\n",
      "[[ 0.01 -0.2   0.  ]]\n",
      "[[ 0.01 -0.2   0.  ]]\n",
      "[[ 0.   -0.19  0.  ]]\n",
      "[[ 0.01 -0.2   0.  ]]\n",
      "[[ 0.   -0.16  0.  ]]\n",
      "[[ 0.   -0.16  0.  ]]\n",
      "[[ 0.01 -0.23  0.  ]]\n",
      "[[ 0.   -0.24  0.  ]]\n",
      "[[ 0.01 -0.24  0.  ]]\n",
      "[[ 0.01 -0.23  0.  ]]\n",
      "[[ 0.   -0.14  0.  ]]\n",
      "[[ 0.01 -0.15  0.  ]]\n",
      "[[ 0.   -0.14  0.  ]]\n",
      "[[ 0.01 -0.2   0.  ]]\n",
      "[[ 0.01 -0.19  0.  ]]\n",
      "[[ 0.01 -0.16  0.  ]]\n",
      "[[ 0.01 -0.16  0.  ]]\n",
      "[[ 0.01 -0.12  0.  ]]\n",
      "[[ 0.01 -0.12  0.  ]]\n",
      "[[ 0.01 -0.05  0.  ]]\n",
      "[[ 0.01 -0.06  0.  ]]\n",
      "[[ 0.01 -0.08  0.  ]]\n",
      "[[ 0.   -0.07  0.  ]]\n",
      "[[ 0.   -0.03  0.  ]]\n",
      "[[ 0.   -0.02  0.  ]]\n",
      "[[ 0.01 -0.05  0.  ]]\n",
      "[[ 0.01 -0.05  0.  ]]\n",
      "[[ 0.   -0.04  0.  ]]\n",
      "[[ 0.   -0.03  0.  ]]\n",
      "[[ 0.   -0.05  0.  ]]\n",
      "[[ 0.   -0.04  0.  ]]\n",
      "[[ 0.   -0.02  0.  ]]\n",
      "[[ 0.   -0.01  0.  ]]\n",
      "[[ 0.   -0.01  0.  ]]\n",
      "[[ 0.   -0.02  0.  ]]\n",
      "[[ 0.01 -0.02  0.  ]]\n",
      "[[ 0.01 -0.02  0.  ]]\n",
      "[[ 0.01 -0.06  0.  ]]\n",
      "[[ 0.01 -0.06  0.  ]]\n",
      "[[ 0.01 -0.04  0.  ]]\n",
      "[[ 0.01 -0.04  0.  ]]\n",
      "[[ 0.  0.  0.]]\n",
      "[[ 0.  0.  0.]]\n",
      "[[ 0.01 -0.01  0.  ]]\n",
      "[[ 0.01 -0.01  0.  ]]\n",
      "[[-0.02  0.01  0.  ]]\n",
      "[[-0.01  0.01  0.  ]]\n",
      "[[ 0.01  0.    0.  ]]\n",
      "[[ 0.   -0.01  0.  ]]\n",
      "[[ 0.02 -0.05  0.  ]]\n",
      "[[ 0.02 -0.06  0.  ]]\n",
      "[[-0.01  0.    0.  ]]\n",
      "[[ 0.    0.01  0.  ]]\n",
      "[[ 0.01 -0.01  0.  ]]\n",
      "[[ 0.01 -0.01  0.  ]]\n",
      "[[ 0.01 -0.03  0.  ]]\n",
      "[[ 0.   -0.04  0.  ]]\n",
      "[[ 0.   -0.03  0.  ]]\n",
      "[[ 0.01 -0.03  0.  ]]\n",
      "[[ 0.01 -0.04  0.  ]]\n",
      "[[ 0.   -0.03  0.  ]]\n",
      "[[ 0.   -0.05  0.  ]]\n",
      "[[ 0.   -0.05  0.  ]]\n",
      "[[ 0.    0.01  0.  ]]\n",
      "[[-0.01  0.02  0.  ]]\n",
      "[[-0.01  0.    0.  ]]\n",
      "[[ 0.  0.  0.]]\n",
      "[[ 0.  0.  0.]]\n",
      "[[-0.01  0.    0.  ]]\n",
      "[[ 0.  0.  0.]]\n",
      "[[ 0.  0.  0.]]\n",
      "[[ 0.  0.  0.]]\n",
      "[[-0.01 -0.02  0.  ]]\n",
      "[[ 0.   -0.01  0.  ]]\n",
      "[[-0.02  0.01  0.  ]]\n",
      "[[-0.02  0.02  0.  ]]\n",
      "[[-0.02  0.    0.  ]]\n",
      "[[-0.01  0.01  0.  ]]\n",
      "[[ 0.01  0.    0.  ]]\n",
      "[[ 0.   -0.01  0.  ]]\n",
      "[[ 0.   -0.01  0.  ]]\n",
      "[[ 0.01 -0.01  0.  ]]\n",
      "[[ 0.01  0.    0.  ]]\n",
      "[[ 0.   -0.01  0.  ]]\n",
      "[[ 0.   -0.02  0.  ]]\n",
      "[[-0.01 -0.01  0.  ]]\n",
      "[[-0.01  0.    0.  ]]\n",
      "[[ 0.   -0.01  0.  ]]\n",
      "[[ 0.   -0.02  0.  ]]\n",
      "[[-0.01 -0.02  0.  ]]\n",
      "[[-0.01  0.01  0.  ]]\n",
      "[[-0.01  0.01  0.  ]]\n",
      "[[-0.01  0.02  0.  ]]\n",
      "[[ 0.    0.02  0.  ]]\n",
      "[[ 0.   -0.04  0.  ]]\n",
      "[[ 0.01 -0.04  0.  ]]\n",
      "[[-0.01 -0.03  0.  ]]\n",
      "[[-0.01 -0.04  0.  ]]\n",
      "[[-0.01  0.    0.  ]]\n",
      "[[ 0.  0.  0.]]\n",
      "[[ 0.   -0.06  0.  ]]\n",
      "[[ 0.   -0.05  0.  ]]\n",
      "[[ 0.   -0.03  0.  ]]\n",
      "[[ 0.   -0.03  0.  ]]\n",
      "[[ 0.    0.03  0.  ]]\n",
      "[[-0.01  0.04  0.  ]]\n",
      "[[-0.01  0.    0.  ]]\n",
      "[[ 0.  0.  0.]]\n",
      "[[ 0.   -0.06  0.  ]]\n",
      "[[-0.01 -0.06  0.  ]]\n",
      "[[ 0.   -0.03  0.  ]]\n",
      "[[ 0.   -0.04  0.  ]]\n",
      "[[ 0.   -0.01  0.  ]]\n",
      "[[ 0.   -0.02  0.  ]]\n",
      "[[ 0.    0.01  0.  ]]\n",
      "[[-0.01  0.01  0.  ]]\n",
      "[[ 0.   -0.02  0.  ]]\n",
      "[[ 0.   -0.02  0.  ]]\n",
      "[[ 0.   -0.03  0.  ]]\n",
      "[[-0.01 -0.03  0.  ]]\n",
      "[[ 0.    0.01  0.  ]]\n",
      "[[ 0.    0.01  0.  ]]\n",
      "[[ 0.  0.  0.]]\n",
      "[[ 0.  0.  0.]]\n",
      "[[ 0.  0.  0.]]\n",
      "[[ 0.    0.01  0.  ]]\n",
      "[[ 0.01  0.    0.  ]]\n",
      "[[ 0.    0.01  0.  ]]\n",
      "[[ 0.01  0.    0.  ]]\n",
      "[[ 0.01  0.01  0.  ]]\n",
      "[[ 0.    0.01  0.  ]]\n",
      "[[ 0.    0.06  0.  ]]\n",
      "[[ 0.01  0.06  0.  ]]\n",
      "[[ 0.01 -0.04  0.  ]]\n",
      "[[ 0.   -0.04  0.  ]]\n",
      "[[ 0.   -0.03  0.  ]]\n",
      "[[ 0.   -0.03  0.  ]]\n",
      "[[ 0.   -0.03  0.  ]]\n",
      "[[ 0.   -0.03  0.  ]]\n",
      "[[ 0.   -0.01  0.  ]]\n",
      "[[ 0.01 -0.02  0.  ]]\n",
      "[[ 0.01 -0.01  0.  ]]\n",
      "[[ 0.   -0.02  0.  ]]\n",
      "[[ 0.01 -0.01  0.  ]]\n",
      "[[ 0.01 -0.01  0.  ]]\n",
      "[[ 0.   -0.02  0.  ]]\n",
      "[[ 0.   -0.01  0.  ]]\n",
      "[[ 0.    0.03  0.  ]]\n",
      "[[ 0.    0.03  0.  ]]\n",
      "[[ 0.    0.06  0.  ]]\n",
      "[[ 0.01  0.06  0.  ]]\n",
      "[[ 0.01  0.11  0.  ]]\n",
      "[[ 0.   0.1  0. ]]\n",
      "[[ 0.    0.26  0.  ]]\n",
      "[[ 0.    0.27  0.  ]]\n",
      "[[ 0.01  0.39  0.  ]]\n",
      "[[ 0.01  0.38  0.  ]]\n",
      "[[ 0.    0.44  0.  ]]\n",
      "[[ 0.    0.44  0.  ]]\n",
      "[[ 0.01  0.36  0.  ]]\n",
      "[[ 0.01  0.35  0.  ]]\n",
      "[[-0.08  0.99  0.  ]]\n",
      "[[ 0.    0.44  0.  ]]\n",
      "[[ 0.01  0.45  0.  ]]\n",
      "[[ 0.01  0.65  0.  ]]\n",
      "[[ 0.01  0.64  0.  ]]\n",
      "[[ 0.    0.16  0.  ]]\n",
      "[[ 0.    0.16  0.  ]]\n",
      "[[ 0.01  0.78  0.  ]]\n",
      "[[ 0.    0.78  0.  ]]\n",
      "[[ 0.   -0.04  0.  ]]\n",
      "[[ 0.   -0.05  0.  ]]\n",
      "[[ 0.    0.29  0.  ]]\n",
      "[[ 0.    0.29  0.  ]]\n",
      "[[ 0.    0.36  0.  ]]\n",
      "[[ 0.    0.13  0.  ]]\n",
      "[[-0.01  0.13  0.  ]]\n",
      "[[ 0.    0.08  0.  ]]\n",
      "[[ 0.    0.08  0.  ]]\n",
      "[[-0.01  0.63  0.  ]]\n",
      "[[-0.02  0.63  0.  ]]\n",
      "[[ 0.   -0.65  0.  ]]\n",
      "[[-0.01 -0.64  0.  ]]\n",
      "[[-0.01 -0.25  0.  ]]\n",
      "[[-0.01 -0.24  0.  ]]\n",
      "[[ 0.01 -0.12  0.  ]]\n",
      "[[ 0.   -0.11  0.  ]]\n",
      "[[-0.01 -0.11  0.  ]]\n",
      "[[-0.01 -0.1   0.  ]]\n",
      "[[-0.01 -0.1   0.  ]]\n",
      "[[-0.01 -0.11  0.  ]]\n",
      "[[ 0.    0.15  0.  ]]\n",
      "[[-0.01  0.16  0.  ]]\n",
      "[[-0.01 -0.25  0.  ]]\n",
      "[[ 0.   -0.26  0.  ]]\n",
      "[[ 0.    0.15  0.  ]]\n",
      "[[ 0.    0.14  0.  ]]\n",
      "[[ 0.   -0.45  0.  ]]\n",
      "[[-0.01 -0.45  0.  ]]\n",
      "[[-0.01 -0.22  0.  ]]\n",
      "[[-0.02 -0.23  0.  ]]\n",
      "[[ 0.   -0.46  0.  ]]\n",
      "[[ 0.   -0.46  0.  ]]\n",
      "[[-0.01 -0.3   0.  ]]\n",
      "[[-0.01 -0.29  0.  ]]\n",
      "[[ 0.01 -0.28  0.  ]]\n",
      "[[ 0.   -0.29  0.  ]]\n",
      "[[ 0.   -0.13  0.  ]]\n",
      "[[ 0.   -0.12  0.  ]]\n",
      "[[ 0.   -0.46  0.  ]]\n",
      "[[-0.01 -0.47  0.  ]]\n",
      "[[ 0.   -0.21  0.  ]]\n",
      "[[ 0.   -0.22  0.  ]]\n",
      "[[-0.01 -0.08  0.  ]]\n",
      "[[-0.01 -0.07  0.  ]]\n",
      "[[ 0.   -0.21  0.  ]]\n",
      "[[-0.01 -0.2   0.  ]]\n",
      "[[ 0.   -0.21  0.  ]]\n",
      "[[ 0.   -0.21  0.  ]]\n",
      "[[-0.01 -0.22  0.  ]]\n",
      "[[ 0.   -0.21  0.  ]]\n",
      "[[-0.01  0.11  0.  ]]\n",
      "[[-0.01  0.11  0.  ]]\n",
      "[[ 0.   -0.18  0.  ]]\n",
      "[[ 0.   -0.18  0.  ]]\n",
      "[[ 0.    0.03  0.  ]]\n",
      "[[ 0.    0.04  0.  ]]\n",
      "[[-0.01 -0.18  0.  ]]\n",
      "[[ 0.   -0.17  0.  ]]\n",
      "[[-0.01 -0.21  0.  ]]\n",
      "[[ 0.  -0.2  0. ]]\n",
      "[[ 0.  -0.2  0. ]]\n",
      "[[-0.01 -0.21  0.  ]]\n",
      "[[-0.01 -0.03  0.  ]]\n",
      "[[ 0.   -0.02  0.  ]]\n",
      "[[ 0.   -0.14  0.  ]]\n",
      "[[-0.01 -0.14  0.  ]]\n",
      "[[-0.01 -0.14  0.  ]]\n",
      "[[ 0.   -0.15  0.  ]]\n",
      "[[ 0.   -0.17  0.  ]]\n",
      "[[-0.01 -0.17  0.  ]]\n",
      "[[-0.01 -0.14  0.  ]]\n",
      "[[ 0.   -0.14  0.  ]]\n",
      "[[ 0.  -0.1  0. ]]\n",
      "[[ 0.01 -0.1   0.  ]]\n",
      "[[ 0.   -0.39  0.  ]]\n",
      "[[ 0.   -0.39  0.  ]]\n",
      "[[ 0.01 -0.23  0.  ]]\n",
      "[[ 0.   -0.22  0.  ]]\n",
      "[[ 0.01 -0.2   0.  ]]\n",
      "[[ 0.01 -0.2   0.  ]]\n",
      "[[ 0.   -0.19  0.  ]]\n",
      "[[ 0.01 -0.2   0.  ]]\n",
      "[[ 0.   -0.16  0.  ]]\n",
      "[[ 0.   -0.16  0.  ]]\n",
      "[[ 0.01 -0.23  0.  ]]\n",
      "[[ 0.   -0.24  0.  ]]\n",
      "[[ 0.01 -0.24  0.  ]]\n",
      "[[ 0.01 -0.23  0.  ]]\n",
      "[[ 0.   -0.14  0.  ]]\n",
      "[[ 0.01 -0.15  0.  ]]\n",
      "[[ 0.   -0.14  0.  ]]\n",
      "[[ 0.01 -0.2   0.  ]]\n",
      "[[ 0.01 -0.19  0.  ]]\n",
      "[[ 0.01 -0.16  0.  ]]\n",
      "[[ 0.01 -0.16  0.  ]]\n",
      "[[ 0.01 -0.12  0.  ]]\n",
      "[[ 0.01 -0.12  0.  ]]\n",
      "[[ 0.01 -0.05  0.  ]]\n",
      "[[ 0.01 -0.06  0.  ]]\n",
      "[[ 0.01 -0.08  0.  ]]\n",
      "[[ 0.   -0.07  0.  ]]\n",
      "[[ 0.   -0.03  0.  ]]\n",
      "[[ 0.   -0.02  0.  ]]\n",
      "[[ 0.01 -0.05  0.  ]]\n",
      "[[ 0.01 -0.05  0.  ]]\n",
      "[[ 0.   -0.04  0.  ]]\n",
      "[[ 0.   -0.03  0.  ]]\n",
      "[[ 0.   -0.05  0.  ]]\n",
      "[[ 0.   -0.04  0.  ]]\n",
      "[[ 0.   -0.02  0.  ]]\n",
      "[[ 0.   -0.01  0.  ]]\n",
      "[[ 0.   -0.01  0.  ]]\n",
      "[[ 0.   -0.02  0.  ]]\n",
      "[[ 0.01 -0.02  0.  ]]\n",
      "[[ 0.01 -0.02  0.  ]]\n",
      "[[ 0.01 -0.06  0.  ]]\n",
      "[[ 0.01 -0.06  0.  ]]\n",
      "[[ 0.01 -0.04  0.  ]]\n",
      "[[ 0.01 -0.04  0.  ]]\n",
      "[[ 0.  0.  0.]]\n",
      "[[ 0.  0.  0.]]\n",
      "[[ 0.01 -0.01  0.  ]]\n",
      "[[ 0.01 -0.01  0.  ]]\n",
      "[[-0.02  0.01  0.  ]]\n",
      "[[-0.01  0.01  0.  ]]\n",
      "[[ 0.01  0.    0.  ]]\n",
      "[[ 0.   -0.01  0.  ]]\n",
      "[[ 0.02 -0.05  0.  ]]\n",
      "[[ 0.02 -0.06  0.  ]]\n",
      "[[-0.01  0.    0.  ]]\n",
      "[[ 0.    0.01  0.  ]]\n",
      "[[ 0.01 -0.01  0.  ]]\n",
      "[[ 0.01 -0.01  0.  ]]\n",
      "[[ 0.01 -0.03  0.  ]]\n",
      "[[ 0.   -0.04  0.  ]]\n",
      "[[ 0.   -0.03  0.  ]]\n",
      "[[ 0.01 -0.03  0.  ]]\n",
      "[[ 0.01 -0.04  0.  ]]\n",
      "[[ 0.   -0.03  0.  ]]\n",
      "[[ 0.   -0.05  0.  ]]\n",
      "[[ 0.   -0.05  0.  ]]\n",
      "[[ 0.    0.01  0.  ]]\n",
      "[[-0.01  0.02  0.  ]]\n",
      "[[-0.01  0.    0.  ]]\n",
      "[[ 0.  0.  0.]]\n",
      "[[ 0.  0.  0.]]\n",
      "[[-0.01  0.    0.  ]]\n",
      "[[ 0.  0.  0.]]\n",
      "[[ 0.  0.  0.]]\n",
      "[[ 0.  0.  0.]]\n",
      "[[-0.01 -0.02  0.  ]]\n",
      "[[ 0.   -0.01  0.  ]]\n",
      "[[-0.02  0.01  0.  ]]\n",
      "[[-0.02  0.02  0.  ]]\n",
      "[[-0.02  0.    0.  ]]\n",
      "[[-0.01  0.01  0.  ]]\n",
      "[[ 0.01  0.    0.  ]]\n",
      "[[ 0.   -0.01  0.  ]]\n",
      "[[ 0.   -0.01  0.  ]]\n",
      "[[ 0.01 -0.01  0.  ]]\n",
      "[[ 0.01  0.    0.  ]]\n",
      "[[ 0.   -0.01  0.  ]]\n",
      "[[ 0.   -0.02  0.  ]]\n",
      "[[-0.01 -0.01  0.  ]]\n",
      "[[-0.01  0.    0.  ]]\n",
      "[[ 0.   -0.01  0.  ]]\n",
      "[[ 0.   -0.02  0.  ]]\n",
      "[[-0.01 -0.02  0.  ]]\n",
      "[[-0.01  0.01  0.  ]]\n",
      "[[-0.01  0.01  0.  ]]\n",
      "[[-0.01  0.02  0.  ]]\n",
      "[[ 0.    0.02  0.  ]]\n",
      "[[ 0.   -0.04  0.  ]]\n",
      "[[ 0.01 -0.04  0.  ]]\n",
      "[[-0.01 -0.03  0.  ]]\n",
      "[[-0.01 -0.04  0.  ]]\n",
      "[[-0.01  0.    0.  ]]\n",
      "[[ 0.  0.  0.]]\n",
      "[[ 0.   -0.06  0.  ]]\n",
      "[[ 0.   -0.05  0.  ]]\n",
      "[[ 0.   -0.03  0.  ]]\n",
      "[[ 0.   -0.03  0.  ]]\n",
      "[[ 0.    0.03  0.  ]]\n",
      "[[-0.01  0.04  0.  ]]\n",
      "[[-0.01  0.    0.  ]]\n",
      "[[ 0.  0.  0.]]\n",
      "[[ 0.   -0.06  0.  ]]\n",
      "[[-0.01 -0.06  0.  ]]\n",
      "[[ 0.   -0.03  0.  ]]\n",
      "[[ 0.   -0.04  0.  ]]\n",
      "[[ 0.   -0.01  0.  ]]\n",
      "[[ 0.   -0.02  0.  ]]\n",
      "[[ 0.    0.01  0.  ]]\n",
      "[[-0.01  0.01  0.  ]]\n",
      "[[ 0.   -0.02  0.  ]]\n",
      "[[ 0.   -0.02  0.  ]]\n",
      "[[ 0.   -0.03  0.  ]]\n",
      "[[-0.01 -0.03  0.  ]]\n",
      "[[ 0.    0.01  0.  ]]\n",
      "[[ 0.    0.01  0.  ]]\n",
      "[[ 0.  0.  0.]]\n",
      "[[ 0.  0.  0.]]\n",
      "[[ 0.  0.  0.]]\n",
      "[[ 0.    0.01  0.  ]]\n",
      "[[ 0.01  0.    0.  ]]\n",
      "[[ 0.    0.01  0.  ]]\n",
      "[[ 0.01  0.    0.  ]]\n",
      "[[ 0.01  0.01  0.  ]]\n"
     ]
    },
    {
     "name": "stdout",
     "output_type": "stream",
     "text": [
      "[[ 0.    0.01  0.  ]]\n",
      "[[ 0.    0.06  0.  ]]\n",
      "[[ 0.01  0.06  0.  ]]\n",
      "[[ 0.01 -0.04  0.  ]]\n",
      "[[ 0.   -0.04  0.  ]]\n",
      "[[ 0.   -0.03  0.  ]]\n",
      "[[ 0.   -0.03  0.  ]]\n",
      "[[ 0.   -0.03  0.  ]]\n",
      "[[ 0.   -0.03  0.  ]]\n",
      "[[ 0.   -0.01  0.  ]]\n",
      "[[ 0.01 -0.02  0.  ]]\n",
      "[[ 0.01 -0.01  0.  ]]\n",
      "[[ 0.   -0.02  0.  ]]\n",
      "[[ 0.01 -0.01  0.  ]]\n",
      "[[ 0.01 -0.01  0.  ]]\n",
      "[[ 0.   -0.02  0.  ]]\n",
      "[[ 0.   -0.01  0.  ]]\n",
      "[[ 0.    0.03  0.  ]]\n",
      "[[ 0.    0.03  0.  ]]\n",
      "[[ 0.    0.06  0.  ]]\n",
      "[[ 0.01  0.06  0.  ]]\n",
      "[[ 0.01  0.11  0.  ]]\n",
      "[[ 0.   0.1  0. ]]\n",
      "[[ 0.    0.26  0.  ]]\n",
      "[[ 0.    0.27  0.  ]]\n",
      "[[ 0.01  0.39  0.  ]]\n",
      "[[ 0.01  0.38  0.  ]]\n",
      "[[ 0.    0.44  0.  ]]\n",
      "[[ 0.    0.44  0.  ]]\n",
      "[[ 0.01  0.36  0.  ]]\n",
      "[[ 0.01  0.35  0.  ]]\n",
      "[[-0.08  0.99  0.  ]]\n",
      "[[ 0.    0.44  0.  ]]\n",
      "[[ 0.01  0.45  0.  ]]\n",
      "[[ 0.01  0.65  0.  ]]\n",
      "[[ 0.01  0.64  0.  ]]\n",
      "[[ 0.    0.16  0.  ]]\n",
      "[[ 0.    0.16  0.  ]]\n",
      "[[ 0.01  0.78  0.  ]]\n",
      "[[ 0.    0.78  0.  ]]\n",
      "[[ 0.   -0.04  0.  ]]\n",
      "[[ 0.   -0.05  0.  ]]\n",
      "[[ 0.    0.29  0.  ]]\n",
      "[[ 0.    0.29  0.  ]]\n",
      "[[ 0.    0.11  0.  ]]\n",
      "[[ 0.01  0.11  0.  ]]\n",
      "[[ 0.02  0.27  0.  ]]\n",
      "[[ 0.02  0.27  0.  ]]\n",
      "[[ 0.01  0.41  0.  ]]\n",
      "[[ 0.01  0.41  0.  ]]\n",
      "[[-0.01  0.11  0.  ]]\n",
      "[[ 0.    0.11  0.  ]]\n",
      "[[ 0.01  0.1   0.  ]]\n",
      "[[ 0.01  0.1   0.  ]]\n",
      "[[ 0.    0.28  0.  ]]\n",
      "[[-0.01  0.28  0.  ]]\n",
      "[[ 0.    0.14  0.  ]]\n",
      "[[ 0.    0.14  0.  ]]\n",
      "[[ 0.   -0.03  0.  ]]\n",
      "[[ 0.   -0.03  0.  ]]\n",
      "[[ 0.01  0.19  0.  ]]\n",
      "[[ 0.    0.19  0.  ]]\n",
      "[[ 0.01  0.24  0.  ]]\n",
      "[[ 0.01  0.25  0.  ]]\n",
      "[[ 0.    0.07  0.  ]]\n",
      "[[-0.01  0.07  0.  ]]\n",
      "[[ 0.   -0.14  0.  ]]\n",
      "[[-0.01 -0.14  0.  ]]\n",
      "[[-0.01 -0.14  0.  ]]\n",
      "[[ 0.   -0.15  0.  ]]\n",
      "[[ 0.   -0.17  0.  ]]\n",
      "[[-0.01 -0.17  0.  ]]\n",
      "[[-0.01 -0.14  0.  ]]\n",
      "[[ 0.   -0.14  0.  ]]\n",
      "[[ 0.  -0.1  0. ]]\n",
      "[[ 0.01 -0.1   0.  ]]\n",
      "[[ 0.   -0.39  0.  ]]\n",
      "[[ 0.   -0.39  0.  ]]\n",
      "[[ 0.01 -0.23  0.  ]]\n",
      "[[ 0.   -0.22  0.  ]]\n",
      "[[ 0.01 -0.2   0.  ]]\n",
      "[[ 0.01 -0.2   0.  ]]\n",
      "[[ 0.   -0.19  0.  ]]\n",
      "[[ 0.01 -0.2   0.  ]]\n",
      "[[ 0.   -0.16  0.  ]]\n",
      "[[ 0.   -0.16  0.  ]]\n",
      "[[ 0.01 -0.23  0.  ]]\n",
      "[[ 0.   -0.24  0.  ]]\n",
      "[[ 0.01 -0.24  0.  ]]\n",
      "[[ 0.01 -0.23  0.  ]]\n",
      "[[ 0.   -0.14  0.  ]]\n",
      "[[ 0.01 -0.15  0.  ]]\n",
      "[[ 0.   -0.14  0.  ]]\n",
      "[[ 0.01 -0.2   0.  ]]\n",
      "[[ 0.01 -0.19  0.  ]]\n",
      "[[ 0.01 -0.16  0.  ]]\n",
      "[[ 0.01 -0.16  0.  ]]\n",
      "[[ 0.01 -0.12  0.  ]]\n",
      "[[ 0.01 -0.12  0.  ]]\n",
      "[[ 0.01 -0.05  0.  ]]\n",
      "[[ 0.01 -0.06  0.  ]]\n",
      "[[ 0.01 -0.08  0.  ]]\n",
      "[[ 0.   -0.07  0.  ]]\n",
      "[[ 0.   -0.03  0.  ]]\n",
      "[[ 0.   -0.02  0.  ]]\n",
      "[[ 0.01 -0.05  0.  ]]\n",
      "[[ 0.01 -0.05  0.  ]]\n",
      "[[ 0.   -0.04  0.  ]]\n",
      "[[ 0.   -0.03  0.  ]]\n",
      "[[ 0.   -0.05  0.  ]]\n",
      "[[ 0.   -0.04  0.  ]]\n",
      "[[ 0.   -0.02  0.  ]]\n",
      "[[ 0.   -0.01  0.  ]]\n",
      "[[ 0.   -0.01  0.  ]]\n",
      "[[ 0.   -0.02  0.  ]]\n",
      "[[ 0.01 -0.02  0.  ]]\n",
      "[[ 0.01 -0.02  0.  ]]\n",
      "[[ 0.01 -0.06  0.  ]]\n",
      "[[ 0.01 -0.06  0.  ]]\n",
      "[[ 0.01 -0.04  0.  ]]\n",
      "[[ 0.01 -0.04  0.  ]]\n",
      "[[ 0.  0.  0.]]\n",
      "[[ 0.  0.  0.]]\n",
      "[[ 0.01 -0.01  0.  ]]\n",
      "[[ 0.01 -0.01  0.  ]]\n",
      "[[-0.02  0.01  0.  ]]\n",
      "[[-0.01  0.01  0.  ]]\n",
      "[[ 0.01  0.    0.  ]]\n",
      "[[ 0.   -0.01  0.  ]]\n",
      "[[ 0.02 -0.05  0.  ]]\n",
      "[[ 0.02 -0.06  0.  ]]\n",
      "[[-0.01  0.    0.  ]]\n",
      "[[ 0.    0.01  0.  ]]\n",
      "[[ 0.01 -0.01  0.  ]]\n",
      "[[ 0.01 -0.01  0.  ]]\n",
      "[[ 0.01 -0.03  0.  ]]\n",
      "[[ 0.   -0.04  0.  ]]\n",
      "[[ 0.   -0.03  0.  ]]\n",
      "[[ 0.01 -0.03  0.  ]]\n",
      "[[ 0.01 -0.04  0.  ]]\n",
      "[[ 0.   -0.03  0.  ]]\n",
      "[[ 0.   -0.05  0.  ]]\n",
      "[[ 0.   -0.05  0.  ]]\n",
      "[[ 0.    0.01  0.  ]]\n",
      "[[-0.01  0.02  0.  ]]\n",
      "[[-0.01  0.    0.  ]]\n",
      "[[ 0.  0.  0.]]\n",
      "[[ 0.  0.  0.]]\n",
      "[[-0.01  0.    0.  ]]\n",
      "[[ 0.  0.  0.]]\n",
      "[[ 0.  0.  0.]]\n",
      "[[ 0.  0.  0.]]\n",
      "[[-0.01 -0.02  0.  ]]\n",
      "[[ 0.   -0.01  0.  ]]\n",
      "[[-0.02  0.01  0.  ]]\n",
      "[[-0.02  0.02  0.  ]]\n",
      "[[-0.02  0.    0.  ]]\n",
      "[[-0.01  0.01  0.  ]]\n",
      "[[ 0.01  0.    0.  ]]\n",
      "[[ 0.   -0.01  0.  ]]\n",
      "[[ 0.   -0.01  0.  ]]\n",
      "[[ 0.01 -0.01  0.  ]]\n",
      "[[ 0.01  0.    0.  ]]\n",
      "[[ 0.   -0.01  0.  ]]\n",
      "[[ 0.   -0.02  0.  ]]\n",
      "[[-0.01 -0.01  0.  ]]\n",
      "[[-0.01  0.    0.  ]]\n",
      "[[ 0.   -0.01  0.  ]]\n",
      "[[ 0.   -0.02  0.  ]]\n",
      "[[-0.01 -0.02  0.  ]]\n",
      "[[-0.01  0.01  0.  ]]\n",
      "[[-0.01  0.01  0.  ]]\n",
      "[[-0.01  0.02  0.  ]]\n",
      "[[ 0.    0.02  0.  ]]\n",
      "[[ 0.   -0.04  0.  ]]\n",
      "[[ 0.01 -0.04  0.  ]]\n",
      "[[-0.01 -0.03  0.  ]]\n",
      "[[-0.01 -0.04  0.  ]]\n",
      "[[-0.01  0.    0.  ]]\n",
      "[[ 0.  0.  0.]]\n",
      "[[ 0.   -0.06  0.  ]]\n",
      "[[ 0.   -0.05  0.  ]]\n",
      "[[ 0.   -0.03  0.  ]]\n",
      "[[ 0.   -0.03  0.  ]]\n",
      "[[ 0.    0.03  0.  ]]\n",
      "[[-0.01  0.04  0.  ]]\n",
      "[[-0.01  0.    0.  ]]\n",
      "[[ 0.  0.  0.]]\n",
      "[[ 0.   -0.06  0.  ]]\n",
      "[[-0.01 -0.06  0.  ]]\n",
      "[[ 0.   -0.03  0.  ]]\n",
      "[[ 0.   -0.04  0.  ]]\n",
      "[[ 0.   -0.01  0.  ]]\n",
      "[[ 0.   -0.02  0.  ]]\n",
      "[[ 0.    0.01  0.  ]]\n",
      "[[-0.01  0.01  0.  ]]\n",
      "[[ 0.   -0.02  0.  ]]\n",
      "[[ 0.   -0.02  0.  ]]\n",
      "[[ 0.   -0.03  0.  ]]\n",
      "[[-0.01 -0.03  0.  ]]\n",
      "[[ 0.    0.01  0.  ]]\n",
      "[[ 0.    0.01  0.  ]]\n",
      "[[ 0.  0.  0.]]\n",
      "[[ 0.  0.  0.]]\n",
      "[[ 0.  0.  0.]]\n",
      "[[ 0.    0.01  0.  ]]\n",
      "[[ 0.01  0.    0.  ]]\n",
      "[[ 0.    0.01  0.  ]]\n",
      "[[ 0.01  0.    0.  ]]\n",
      "[[ 0.01  0.01  0.  ]]\n",
      "[[ 0.    0.01  0.  ]]\n",
      "[[ 0.    0.06  0.  ]]\n",
      "[[ 0.01  0.06  0.  ]]\n",
      "[[ 0.01 -0.04  0.  ]]\n",
      "[[ 0.   -0.04  0.  ]]\n",
      "[[ 0.   -0.03  0.  ]]\n",
      "[[ 0.   -0.03  0.  ]]\n",
      "[[ 0.   -0.03  0.  ]]\n",
      "[[ 0.   -0.03  0.  ]]\n",
      "[[ 0.   -0.01  0.  ]]\n",
      "[[ 0.01 -0.02  0.  ]]\n",
      "[[ 0.01 -0.01  0.  ]]\n",
      "[[ 0.   -0.02  0.  ]]\n",
      "[[ 0.01 -0.01  0.  ]]\n",
      "[[ 0.01 -0.01  0.  ]]\n",
      "[[ 0.   -0.02  0.  ]]\n",
      "[[ 0.   -0.01  0.  ]]\n",
      "[[ 0.    0.03  0.  ]]\n",
      "[[ 0.    0.03  0.  ]]\n",
      "[[ 0.    0.06  0.  ]]\n",
      "[[ 0.01  0.06  0.  ]]\n",
      "[[ 0.01  0.11  0.  ]]\n",
      "[[ 0.   0.1  0. ]]\n",
      "[[ 0.    0.26  0.  ]]\n",
      "[[ 0.    0.27  0.  ]]\n",
      "[[ 0.01  0.39  0.  ]]\n",
      "[[ 0.01  0.38  0.  ]]\n",
      "[[ 0.    0.44  0.  ]]\n",
      "[[ 0.    0.44  0.  ]]\n",
      "[[ 0.01  0.36  0.  ]]\n",
      "[[ 0.01  0.35  0.  ]]\n",
      "[[-0.08  0.99  0.  ]]\n",
      "[[ 0.    0.44  0.  ]]\n",
      "[[ 0.01  0.45  0.  ]]\n",
      "[[ 0.01  0.65  0.  ]]\n",
      "[[ 0.01  0.64  0.  ]]\n",
      "[[ 0.    0.16  0.  ]]\n",
      "[[ 0.    0.16  0.  ]]\n",
      "[[ 0.01  0.78  0.  ]]\n",
      "[[ 0.    0.78  0.  ]]\n",
      "[[ 0.   -0.04  0.  ]]\n",
      "[[ 0.   -0.05  0.  ]]\n",
      "[[ 0.    0.29  0.  ]]\n",
      "[[ 0.    0.29  0.  ]]\n",
      "[[ 0.    0.11  0.  ]]\n",
      "[[ 0.01  0.11  0.  ]]\n",
      "[[ 0.02  0.27  0.  ]]\n",
      "[[ 0.02  0.27  0.  ]]\n",
      "[[ 0.01  0.41  0.  ]]\n",
      "[[ 0.01  0.41  0.  ]]\n",
      "[[ 0.   -0.72  0.  ]]\n",
      "[[ 0.   -0.07  0.  ]]\n",
      "[[ 0.   -0.06  0.  ]]\n",
      "[[ 0.   -0.06  0.  ]]\n",
      "[[ 0.    0.01  0.  ]]\n",
      "[[ 0.    0.01  0.  ]]\n",
      "[[ 0.   -0.03  0.  ]]\n",
      "[[ 0.01 -0.03  0.  ]]\n",
      "[[ 0.   -0.02  0.  ]]\n",
      "[[ 0.   -0.02  0.  ]]\n",
      "[[ 0.01  0.    0.  ]]\n",
      "[[ 0.    0.01  0.  ]]\n",
      "[[ 0.    0.01  0.  ]]\n",
      "[[ 0.01  0.01  0.  ]]\n",
      "[[ 0.   -0.03  0.  ]]\n",
      "[[ 0.   -0.03  0.  ]]\n",
      "[[ 0.01  0.    0.  ]]\n",
      "[[ 0.  0.  0.]]\n",
      "[[ 0.   -0.03  0.  ]]\n",
      "[[ 0.01 -0.03  0.  ]]\n",
      "[[ 0.   -0.01  0.  ]]\n",
      "[[ 0.01 -0.02  0.  ]]\n",
      "[[ 0.   -0.03  0.  ]]\n",
      "[[ 0.   -0.03  0.  ]]\n",
      "[[ 0.  0.  0.]]\n",
      "[[ 0.01 -0.01  0.  ]]\n",
      "[[ 0.01 -0.05  0.  ]]\n",
      "[[ 0.01 -0.05  0.  ]]\n",
      "[[ 0.   -0.01  0.  ]]\n",
      "[[ 0.01  0.    0.  ]]\n",
      "[[ 0.   -0.01  0.  ]]\n",
      "[[ 0.    0.04  0.  ]]\n",
      "[[ 0.01  0.04  0.  ]]\n",
      "[[ 0.01  0.    0.  ]]\n",
      "[[ 0.    0.01  0.  ]]\n",
      "[[ 0.   -0.02  0.  ]]\n",
      "[[ 0.   -0.01  0.  ]]\n",
      "[[ 0.01 -0.03  0.  ]]\n",
      "[[ 0.   -0.02  0.  ]]\n",
      "[[ 0.   -0.02  0.  ]]\n",
      "[[ 0.   -0.02  0.  ]]\n",
      "[[ 0.   -0.08  0.  ]]\n",
      "[[ 0.   -0.07  0.  ]]\n",
      "[[ 0.01 -0.02  0.  ]]\n",
      "[[ 0.   -0.02  0.  ]]\n",
      "[[ 0.   -0.01  0.  ]]\n",
      "[[-0.01 -0.01  0.  ]]\n",
      "[[ 0.  0.  0.]]\n",
      "[[-0.01  0.    0.  ]]\n",
      "[[-0.01 -0.03  0.  ]]\n",
      "[[-0.01 -0.03  0.  ]]\n",
      "[[ 0.   -0.07  0.  ]]\n",
      "[[ 0.   -0.08  0.  ]]\n",
      "[[ 0.   -0.02  0.  ]]\n",
      "[[-0.01 -0.01  0.  ]]\n",
      "[[-0.01 -0.01  0.  ]]\n",
      "[[ 0.  0.  0.]]\n",
      "[[ 0.   -0.04  0.  ]]\n",
      "[[-0.01 -0.03  0.  ]]\n",
      "[[-0.01 -0.04  0.  ]]\n",
      "[[ 0.   -0.04  0.  ]]\n",
      "[[ 0.   -0.01  0.  ]]\n",
      "[[ 0.   -0.02  0.  ]]\n",
      "[[-0.01 -0.04  0.  ]]\n",
      "[[ 0.   -0.03  0.  ]]\n",
      "[[-0.01 -0.03  0.  ]]\n",
      "[[ 0.   -0.02  0.  ]]\n",
      "[[ 0.  0.  0.]]\n",
      "[[-0.01  0.    0.  ]]\n",
      "[[ 0.  0.  0.]]\n",
      "[[ 0.   -0.01  0.  ]]\n",
      "[[-0.01 -0.05  0.  ]]\n",
      "[[-0.01 -0.05  0.  ]]\n",
      "[[-0.01 -0.03  0.  ]]\n",
      "[[-0.02 -0.02  0.  ]]\n",
      "[[ 0.  0.  0.]]\n",
      "[[ 0.   -0.01  0.  ]]\n",
      "[[ 0.   -0.04  0.  ]]\n",
      "[[ 0.   -0.05  0.  ]]\n",
      "[[ 0.   -0.02  0.  ]]\n",
      "[[-0.01 -0.01  0.  ]]\n",
      "[[-0.01 -0.05  0.  ]]\n",
      "[[ 0.   -0.06  0.  ]]\n",
      "[[ 0.   -0.02  0.  ]]\n",
      "[[-0.01 -0.02  0.  ]]\n",
      "[[ 0.    0.01  0.  ]]\n",
      "[[ 0.    0.02  0.  ]]\n",
      "[[ 0.    0.01  0.  ]]\n",
      "[[-0.01 -0.02  0.  ]]\n",
      "[[ 0.   -0.02  0.  ]]\n",
      "[[-0.01  0.02  0.  ]]\n",
      "[[-0.01  0.03  0.  ]]\n",
      "[[ 0.   -0.01  0.  ]]\n",
      "[[ 0.   -0.01  0.  ]]\n",
      "[[ 0.    0.04  0.  ]]\n",
      "[[-0.01  0.03  0.  ]]\n",
      "[[ 0.   -0.02  0.  ]]\n",
      "[[-0.01 -0.01  0.  ]]\n",
      "[[ 0.  0.  0.]]\n",
      "[[-0.01  0.    0.  ]]\n",
      "[[ 0.01 -0.03  0.  ]]\n",
      "[[ 0.   -0.04  0.  ]]\n",
      "[[ 0.01  0.    0.  ]]\n",
      "[[ 0.    0.01  0.  ]]\n",
      "[[ 0.   -0.01  0.  ]]\n",
      "[[-0.01 -0.01  0.  ]]\n",
      "[[ 0.01 -0.01  0.  ]]\n",
      "[[ 0.   -0.02  0.  ]]\n",
      "[[ 0.01  0.01  0.  ]]\n",
      "[[ 0.02  0.01  0.  ]]\n",
      "[[ 0.  0.  0.]]\n",
      "[[-0.01  0.    0.  ]]\n",
      "[[ 0.   -0.04  0.  ]]\n",
      "[[ 0.   -0.04  0.  ]]\n",
      "[[ 0.   -0.02  0.  ]]\n",
      "[[ 0.   -0.02  0.  ]]\n",
      "[[-0.01 -0.03  0.  ]]\n",
      "[[ 0.   -0.03  0.  ]]\n",
      "[[ 0.   -0.03  0.  ]]\n",
      "[[ 0.   -0.02  0.  ]]\n",
      "[[ 0.   -0.03  0.  ]]\n",
      "[[ 0.   -0.03  0.  ]]\n",
      "[[ 0.   -0.04  0.  ]]\n",
      "[[ 0.   -0.05  0.  ]]\n",
      "[[ 0.  0.  0.]]\n",
      "[[ 0.  0.  0.]]\n",
      "[[ 0.   -0.02  0.  ]]\n",
      "[[ 0.01 -0.02  0.  ]]\n",
      "[[ 0.01  0.08  0.  ]]\n",
      "[[ 0.    0.08  0.  ]]\n",
      "[[ 0.   0.2  0. ]]\n",
      "[[ 0.01  0.21  0.  ]]\n",
      "[[ 0.    0.27  0.  ]]\n",
      "[[ 0.    0.28  0.  ]]\n",
      "[[-0.01 -0.06  0.  ]]\n",
      "[[ 0.   -0.07  0.  ]]\n",
      "[[ 0.    0.21  0.  ]]\n",
      "[[ 0.    0.21  0.  ]]\n",
      "[[ 0.    0.37  0.  ]]\n",
      "[[ 0.    0.38  0.  ]]\n",
      "[[ 0.01  0.58  0.  ]]\n",
      "[[ 0.01  0.24  0.  ]]\n",
      "[[ 0.    0.23  0.  ]]\n",
      "[[ 0.   -0.19  0.  ]]\n",
      "[[-0.01 -0.19  0.  ]]\n",
      "[[ 0.01  0.39  0.  ]]\n",
      "[[ 0.    0.39  0.  ]]\n",
      "[[ 0.   -0.06  0.  ]]\n",
      "[[ 0.   -0.06  0.  ]]\n",
      "[[ 0.   0.4  0. ]]\n",
      "[[ 0.    0.39  0.  ]]\n",
      "[[ 0.01  0.58  0.  ]]\n",
      "[[ 0.    0.58  0.  ]]\n",
      "[[-0.01  0.02  0.  ]]\n",
      "[[-0.01  0.03  0.  ]]\n",
      "[[ 0.    0.53  0.  ]]\n",
      "[[ 0.    0.52  0.  ]]\n",
      "[[-0.01 -0.13  0.  ]]\n",
      "[[ 0.   -0.13  0.  ]]\n",
      "[[ 0.   -0.36  0.  ]]\n",
      "[[ 0.   -0.37  0.  ]]\n",
      "[[-0.01 -0.37  0.  ]]\n",
      "[[-0.01 -0.37  0.  ]]\n",
      "[[-0.01 -0.38  0.  ]]\n",
      "[[-0.01 -0.37  0.  ]]\n",
      "[[-0.01  0.5   0.  ]]\n",
      "[[ 0.   0.5  0. ]]\n",
      "[[-0.01 -0.53  0.  ]]\n",
      "[[-0.01 -0.61  0.  ]]\n",
      "[[-0.01 -0.62  0.  ]]\n",
      "[[ 0.  -1.8  0. ]]\n",
      "[[ 0.  -1.8  0. ]]\n",
      "[[-0.01 -0.18  0.  ]]\n",
      "[[-0.01 -0.18  0.  ]]\n",
      "[[-0.01 -0.12  0.  ]]\n",
      "[[-0.01 -0.11  0.  ]]\n",
      "[[ 0.    0.46  0.  ]]\n",
      "[[-0.01  0.46  0.  ]]\n",
      "[[-0.01  0.37  0.  ]]\n",
      "[[-0.01  0.38  0.  ]]\n",
      "[[-0.01 -0.36  0.  ]]\n",
      "[[ 0.   -0.35  0.  ]]\n",
      "[[-0.01 -0.54  0.  ]]\n",
      "[[-0.01 -0.55  0.  ]]\n",
      "[[ 0.   -0.19  0.  ]]\n",
      "[[-0.01 -0.19  0.  ]]\n",
      "[[-0.01  0.02  0.  ]]\n",
      "[[-0.01  0.03  0.  ]]\n",
      "[[ 0.   -0.09  0.  ]]\n",
      "[[ 0.   -0.09  0.  ]]\n",
      "[[-0.01 -0.02  0.  ]]\n",
      "[[-0.01 -0.02  0.  ]]\n",
      "[[ 0.   -0.15  0.  ]]\n",
      "[[ 0.   -0.15  0.  ]]\n",
      "[[-0.01 -0.49  0.  ]]\n",
      "[[ 0.   -0.49  0.  ]]\n",
      "[[ 0.   -0.27  0.  ]]\n",
      "[[-0.01 -0.28  0.  ]]\n",
      "[[-0.01 -0.46  0.  ]]\n",
      "[[ 0.   -0.47  0.  ]]\n",
      "[[-0.01 -0.07  0.  ]]\n",
      "[[ 0.   -0.07  0.  ]]\n",
      "[[ 0.   -0.17  0.  ]]\n",
      "[[ 0.   -0.17  0.  ]]\n",
      "[[-0.01  0.03  0.  ]]\n",
      "[[ 0.    0.04  0.  ]]\n",
      "[[ 0.   -0.24  0.  ]]\n",
      "[[ 0.   -0.24  0.  ]]\n",
      "[[ 0.   -0.07  0.  ]]\n",
      "[[ 0.   -0.07  0.  ]]\n",
      "[[ 0.01 -0.07  0.  ]]\n",
      "[[ 0.   -0.07  0.  ]]\n",
      "[[-0.01 -0.18  0.  ]]\n",
      "[[ 0.   -0.17  0.  ]]\n",
      "[[ 0.01 -0.19  0.  ]]\n",
      "[[ 0.01 -0.2   0.  ]]\n",
      "[[ 0.  -0.2  0. ]]\n",
      "[[ 0.   -0.19  0.  ]]\n",
      "[[ 0.   -0.13  0.  ]]\n",
      "[[ 0.   -0.13  0.  ]]\n",
      "[[ 0.   -0.22  0.  ]]\n",
      "[[ 0.01 -0.22  0.  ]]\n",
      "[[ 0.01 -0.25  0.  ]]\n",
      "[[ 0.   -0.25  0.  ]]\n",
      "[[ 0.   -0.25  0.  ]]\n",
      "[[ 0.01 -0.25  0.  ]]\n",
      "[[-0.01 -0.29  0.  ]]\n",
      "[[ 0.  -0.3  0. ]]\n",
      "[[ 0.   -0.34  0.  ]]\n",
      "[[ 0.   -0.34  0.  ]]\n",
      "[[ 0.01 -0.32  0.  ]]\n",
      "[[ 0.01 -0.31  0.  ]]\n",
      "[[ 0.01 -0.29  0.  ]]\n",
      "[[ 0.01 -0.28  0.  ]]\n",
      "[[ 0.   -0.14  0.  ]]\n",
      "[[ 0.   -0.14  0.  ]]\n",
      "[[ 0.01 -0.1   0.  ]]\n",
      "[[ 0.   -0.11  0.  ]]\n",
      "[[ 0.01 -0.27  0.  ]]\n",
      "[[ 0.01 -0.26  0.  ]]\n",
      "[[ 0.01 -0.16  0.  ]]\n",
      "[[ 0.   -0.16  0.  ]]\n",
      "[[ 0.   -0.22  0.  ]]\n",
      "[[-0.01 -0.21  0.  ]]\n",
      "[[ 0.   -0.07  0.  ]]\n",
      "[[ 0.01 -0.08  0.  ]]\n",
      "[[ 0.   -0.07  0.  ]]\n",
      "[[ 0.02 -0.12  0.  ]]\n",
      "[[ 0.02 -0.12  0.  ]]\n",
      "[[ 0.01 -0.15  0.  ]]\n",
      "[[ 0.01 -0.16  0.  ]]\n",
      "[[ 0.   -0.07  0.  ]]\n",
      "[[ 0.   -0.72  0.  ]]\n",
      "[[ 0.   -0.07  0.  ]]\n",
      "[[ 0.   -0.06  0.  ]]\n",
      "[[ 0.   -0.06  0.  ]]\n",
      "[[ 0.    0.01  0.  ]]\n",
      "[[ 0.    0.01  0.  ]]\n",
      "[[ 0.   -0.03  0.  ]]\n",
      "[[ 0.01 -0.03  0.  ]]\n",
      "[[ 0.   -0.02  0.  ]]\n",
      "[[ 0.   -0.02  0.  ]]\n",
      "[[ 0.01  0.    0.  ]]\n",
      "[[ 0.    0.01  0.  ]]\n",
      "[[ 0.    0.01  0.  ]]\n",
      "[[ 0.01  0.01  0.  ]]\n",
      "[[ 0.   -0.03  0.  ]]\n",
      "[[ 0.   -0.03  0.  ]]\n",
      "[[ 0.01  0.    0.  ]]\n",
      "[[ 0.  0.  0.]]\n",
      "[[ 0.   -0.03  0.  ]]\n",
      "[[ 0.01 -0.03  0.  ]]\n",
      "[[ 0.   -0.01  0.  ]]\n",
      "[[ 0.01 -0.02  0.  ]]\n",
      "[[ 0.   -0.03  0.  ]]\n",
      "[[ 0.   -0.03  0.  ]]\n",
      "[[ 0.  0.  0.]]\n",
      "[[ 0.01 -0.01  0.  ]]\n",
      "[[ 0.01 -0.05  0.  ]]\n",
      "[[ 0.01 -0.05  0.  ]]\n",
      "[[ 0.   -0.01  0.  ]]\n",
      "[[ 0.01  0.    0.  ]]\n",
      "[[ 0.   -0.01  0.  ]]\n",
      "[[ 0.    0.04  0.  ]]\n",
      "[[ 0.01  0.04  0.  ]]\n",
      "[[ 0.01  0.    0.  ]]\n",
      "[[ 0.    0.01  0.  ]]\n",
      "[[ 0.   -0.02  0.  ]]\n",
      "[[ 0.   -0.01  0.  ]]\n",
      "[[ 0.01 -0.03  0.  ]]\n",
      "[[ 0.   -0.02  0.  ]]\n",
      "[[ 0.   -0.02  0.  ]]\n",
      "[[ 0.   -0.02  0.  ]]\n",
      "[[ 0.   -0.08  0.  ]]\n",
      "[[ 0.   -0.07  0.  ]]\n",
      "[[ 0.01 -0.02  0.  ]]\n",
      "[[ 0.   -0.02  0.  ]]\n",
      "[[ 0.   -0.01  0.  ]]\n",
      "[[-0.01 -0.01  0.  ]]\n",
      "[[ 0.  0.  0.]]\n",
      "[[-0.01  0.    0.  ]]\n",
      "[[-0.01 -0.03  0.  ]]\n",
      "[[-0.01 -0.03  0.  ]]\n",
      "[[ 0.   -0.07  0.  ]]\n",
      "[[ 0.   -0.08  0.  ]]\n",
      "[[ 0.   -0.02  0.  ]]\n",
      "[[-0.01 -0.01  0.  ]]\n",
      "[[-0.01 -0.01  0.  ]]\n",
      "[[ 0.  0.  0.]]\n",
      "[[ 0.   -0.04  0.  ]]\n",
      "[[-0.01 -0.03  0.  ]]\n",
      "[[-0.01 -0.04  0.  ]]\n",
      "[[ 0.   -0.04  0.  ]]\n",
      "[[ 0.   -0.01  0.  ]]\n",
      "[[ 0.   -0.02  0.  ]]\n",
      "[[-0.01 -0.04  0.  ]]\n",
      "[[ 0.   -0.03  0.  ]]\n",
      "[[-0.01 -0.03  0.  ]]\n",
      "[[ 0.   -0.02  0.  ]]\n",
      "[[ 0.  0.  0.]]\n",
      "[[-0.01  0.    0.  ]]\n",
      "[[ 0.  0.  0.]]\n",
      "[[ 0.   -0.01  0.  ]]\n",
      "[[-0.01 -0.05  0.  ]]\n",
      "[[-0.01 -0.05  0.  ]]\n",
      "[[-0.01 -0.03  0.  ]]\n",
      "[[-0.02 -0.02  0.  ]]\n",
      "[[ 0.  0.  0.]]\n",
      "[[ 0.   -0.01  0.  ]]\n",
      "[[ 0.   -0.04  0.  ]]\n",
      "[[ 0.   -0.05  0.  ]]\n",
      "[[ 0.   -0.02  0.  ]]\n",
      "[[-0.01 -0.01  0.  ]]\n",
      "[[-0.01 -0.05  0.  ]]\n",
      "[[ 0.   -0.06  0.  ]]\n",
      "[[ 0.   -0.02  0.  ]]\n",
      "[[-0.01 -0.02  0.  ]]\n",
      "[[ 0.    0.01  0.  ]]\n",
      "[[ 0.    0.02  0.  ]]\n",
      "[[ 0.    0.01  0.  ]]\n",
      "[[-0.01 -0.02  0.  ]]\n",
      "[[ 0.   -0.02  0.  ]]\n",
      "[[-0.01  0.02  0.  ]]\n",
      "[[-0.01  0.03  0.  ]]\n",
      "[[ 0.   -0.01  0.  ]]\n",
      "[[ 0.   -0.01  0.  ]]\n",
      "[[ 0.    0.04  0.  ]]\n",
      "[[-0.01  0.03  0.  ]]\n",
      "[[ 0.   -0.02  0.  ]]\n",
      "[[-0.01 -0.01  0.  ]]\n",
      "[[ 0.  0.  0.]]\n",
      "[[-0.01  0.    0.  ]]\n",
      "[[ 0.01 -0.03  0.  ]]\n",
      "[[ 0.   -0.04  0.  ]]\n",
      "[[ 0.01  0.    0.  ]]\n",
      "[[ 0.    0.01  0.  ]]\n",
      "[[ 0.   -0.01  0.  ]]\n",
      "[[-0.01 -0.01  0.  ]]\n",
      "[[ 0.01 -0.01  0.  ]]\n",
      "[[ 0.   -0.02  0.  ]]\n",
      "[[ 0.01  0.01  0.  ]]\n",
      "[[ 0.02  0.01  0.  ]]\n",
      "[[ 0.  0.  0.]]\n",
      "[[-0.01  0.    0.  ]]\n",
      "[[ 0.   -0.04  0.  ]]\n",
      "[[ 0.   -0.04  0.  ]]\n",
      "[[ 0.   -0.02  0.  ]]\n",
      "[[ 0.   -0.02  0.  ]]\n",
      "[[-0.01 -0.03  0.  ]]\n",
      "[[ 0.   -0.03  0.  ]]\n",
      "[[ 0.   -0.03  0.  ]]\n",
      "[[ 0.   -0.02  0.  ]]\n",
      "[[ 0.   -0.03  0.  ]]\n",
      "[[ 0.   -0.03  0.  ]]\n",
      "[[ 0.   -0.04  0.  ]]\n",
      "[[ 0.   -0.05  0.  ]]\n",
      "[[ 0.  0.  0.]]\n",
      "[[ 0.  0.  0.]]\n",
      "[[ 0.   -0.02  0.  ]]\n",
      "[[ 0.01 -0.02  0.  ]]\n",
      "[[ 0.01  0.08  0.  ]]\n",
      "[[ 0.    0.08  0.  ]]\n",
      "[[ 0.   0.2  0. ]]\n",
      "[[ 0.01  0.21  0.  ]]\n",
      "[[ 0.    0.27  0.  ]]\n",
      "[[ 0.    0.28  0.  ]]\n",
      "[[-0.01 -0.06  0.  ]]\n",
      "[[ 0.   -0.07  0.  ]]\n",
      "[[ 0.    0.21  0.  ]]\n",
      "[[ 0.    0.21  0.  ]]\n",
      "[[ 0.    0.37  0.  ]]\n",
      "[[ 0.    0.38  0.  ]]\n",
      "[[ 0.    0.37  0.  ]]\n",
      "[[ 0.02  0.56  0.  ]]\n",
      "[[ 0.02  0.56  0.  ]]\n",
      "[[ 0.    0.43  0.  ]]\n",
      "[[ 0.    0.44  0.  ]]\n",
      "[[ 0.    0.43  0.  ]]\n",
      "[[ 0.    0.43  0.  ]]\n",
      "[[ 0.    0.49  0.  ]]\n",
      "[[ 0.01  0.49  0.  ]]\n",
      "[[ 0.01  0.27  0.  ]]\n",
      "[[ 0.02  0.27  0.  ]]\n",
      "[[ 0.01  0.38  0.  ]]\n",
      "[[ 0.01  0.38  0.  ]]\n",
      "[[ 0.01  0.88  0.  ]]\n",
      "[[ 0.01  0.87  0.  ]]\n",
      "[[ 0.01  0.27  0.  ]]\n",
      "[[ 0.01  0.28  0.  ]]\n",
      "[[ 0.    0.04  0.  ]]\n",
      "[[ 0.01  0.05  0.  ]]\n",
      "[[ 0.    0.63  0.  ]]\n",
      "[[ 0.    0.64  0.  ]]\n",
      "[[ 0.01  0.97  0.  ]]\n",
      "[[ 0.    0.97  0.  ]]\n",
      "[[ 0.    0.18  0.  ]]\n",
      "[[ 0.01  0.18  0.  ]]\n",
      "[[ 0.01  0.5   0.  ]]\n",
      "[[ 0.    0.49  0.  ]]\n",
      "[[ 0.   0.6  0. ]]\n",
      "[[ 0.   0.6  0. ]]\n",
      "[[ 0.    0.29  0.  ]]\n",
      "[[-0.01  0.3   0.  ]]\n",
      "[[-0.01  0.29  0.  ]]\n",
      "[[ 0.    0.29  0.  ]]\n"
     ]
    },
    {
     "name": "stdout",
     "output_type": "stream",
     "text": [
      "[[ 0.    0.49  0.  ]]\n",
      "[[ 0.    0.49  0.  ]]\n",
      "[[ 0.    0.58  0.  ]]\n",
      "[[ 0.01  0.58  0.  ]]\n",
      "[[ 0.01  0.24  0.  ]]\n",
      "[[ 0.    0.23  0.  ]]\n",
      "[[ 0.   -0.19  0.  ]]\n",
      "[[-0.01 -0.19  0.  ]]\n",
      "[[ 0.01  0.39  0.  ]]\n",
      "[[ 0.    0.39  0.  ]]\n",
      "[[ 0.   -0.06  0.  ]]\n",
      "[[ 0.   -0.06  0.  ]]\n",
      "[[ 0.   0.4  0. ]]\n",
      "[[ 0.    0.39  0.  ]]\n",
      "[[ 0.01  0.58  0.  ]]\n",
      "[[ 0.    0.58  0.  ]]\n",
      "[[-0.01  0.02  0.  ]]\n",
      "[[-0.01  0.03  0.  ]]\n",
      "[[ 0.    0.53  0.  ]]\n",
      "[[ 0.    0.52  0.  ]]\n",
      "[[-0.01 -0.13  0.  ]]\n",
      "[[ 0.   -0.13  0.  ]]\n",
      "[[ 0.   -0.36  0.  ]]\n",
      "[[ 0.   -0.37  0.  ]]\n",
      "[[-0.01 -0.37  0.  ]]\n",
      "[[-0.01 -0.37  0.  ]]\n",
      "[[-0.01 -0.38  0.  ]]\n",
      "[[-0.01 -0.37  0.  ]]\n",
      "[[-0.01  0.5   0.  ]]\n",
      "[[ 0.   0.5  0. ]]\n",
      "[[-0.01 -0.53  0.  ]]\n",
      "[[-0.01 -0.61  0.  ]]\n",
      "[[-0.01 -0.62  0.  ]]\n",
      "[[ 0.  -1.8  0. ]]\n",
      "[[ 0.  -1.8  0. ]]\n",
      "[[-0.01 -0.18  0.  ]]\n",
      "[[-0.01 -0.18  0.  ]]\n",
      "[[-0.01 -0.12  0.  ]]\n",
      "[[-0.01 -0.11  0.  ]]\n",
      "[[ 0.    0.46  0.  ]]\n",
      "[[-0.01  0.46  0.  ]]\n",
      "[[-0.01  0.37  0.  ]]\n",
      "[[-0.01  0.38  0.  ]]\n",
      "[[-0.01 -0.36  0.  ]]\n",
      "[[ 0.   -0.35  0.  ]]\n",
      "[[-0.01 -0.54  0.  ]]\n",
      "[[-0.01 -0.55  0.  ]]\n",
      "[[ 0.   -0.19  0.  ]]\n",
      "[[-0.01 -0.19  0.  ]]\n",
      "[[-0.01  0.02  0.  ]]\n",
      "[[-0.01  0.03  0.  ]]\n",
      "[[ 0.   -0.09  0.  ]]\n",
      "[[ 0.   -0.09  0.  ]]\n",
      "[[-0.01 -0.02  0.  ]]\n",
      "[[-0.01 -0.02  0.  ]]\n",
      "[[ 0.   -0.15  0.  ]]\n",
      "[[ 0.   -0.15  0.  ]]\n",
      "[[-0.01 -0.49  0.  ]]\n",
      "[[ 0.   -0.49  0.  ]]\n",
      "[[ 0.   -0.27  0.  ]]\n",
      "[[-0.01 -0.28  0.  ]]\n",
      "[[-0.01 -0.46  0.  ]]\n",
      "[[ 0.   -0.47  0.  ]]\n",
      "[[-0.01 -0.07  0.  ]]\n",
      "[[ 0.   -0.07  0.  ]]\n",
      "[[ 0.   -0.17  0.  ]]\n",
      "[[ 0.   -0.17  0.  ]]\n",
      "[[-0.01  0.03  0.  ]]\n",
      "[[ 0.    0.04  0.  ]]\n",
      "[[ 0.   -0.24  0.  ]]\n",
      "[[ 0.   -0.24  0.  ]]\n",
      "[[ 0.   -0.07  0.  ]]\n",
      "[[ 0.   -0.07  0.  ]]\n",
      "[[ 0.01 -0.07  0.  ]]\n",
      "[[ 0.   -0.07  0.  ]]\n",
      "[[-0.01 -0.18  0.  ]]\n",
      "[[ 0.   -0.17  0.  ]]\n",
      "[[ 0.01 -0.19  0.  ]]\n",
      "[[ 0.01 -0.2   0.  ]]\n",
      "[[ 0.  -0.2  0. ]]\n",
      "[[ 0.   -0.19  0.  ]]\n",
      "[[ 0.   -0.13  0.  ]]\n",
      "[[ 0.   -0.13  0.  ]]\n",
      "[[ 0.   -0.22  0.  ]]\n",
      "[[ 0.01 -0.22  0.  ]]\n",
      "[[ 0.01 -0.25  0.  ]]\n",
      "[[ 0.   -0.25  0.  ]]\n",
      "[[ 0.   -0.25  0.  ]]\n",
      "[[ 0.01 -0.25  0.  ]]\n",
      "[[-0.01 -0.29  0.  ]]\n",
      "[[ 0.  -0.3  0. ]]\n",
      "[[ 0.   -0.34  0.  ]]\n",
      "[[ 0.   -0.34  0.  ]]\n",
      "[[ 0.01 -0.32  0.  ]]\n",
      "[[ 0.01 -0.31  0.  ]]\n",
      "[[ 0.01 -0.29  0.  ]]\n",
      "[[ 0.01 -0.28  0.  ]]\n",
      "[[ 0.   -0.14  0.  ]]\n",
      "[[ 0.   -0.14  0.  ]]\n",
      "[[ 0.01 -0.1   0.  ]]\n",
      "[[ 0.   -0.11  0.  ]]\n",
      "[[ 0.01 -0.27  0.  ]]\n",
      "[[ 0.01 -0.26  0.  ]]\n",
      "[[ 0.01 -0.16  0.  ]]\n",
      "[[ 0.   -0.16  0.  ]]\n",
      "[[ 0.   -0.22  0.  ]]\n",
      "[[-0.01 -0.21  0.  ]]\n",
      "[[ 0.   -0.07  0.  ]]\n",
      "[[ 0.01 -0.08  0.  ]]\n",
      "[[ 0.   -0.07  0.  ]]\n",
      "[[ 0.02 -0.12  0.  ]]\n",
      "[[ 0.02 -0.12  0.  ]]\n",
      "[[ 0.01 -0.15  0.  ]]\n",
      "[[ 0.01 -0.16  0.  ]]\n",
      "[[ 0.   -0.07  0.  ]]\n",
      "[[ 0.   -0.72  0.  ]]\n",
      "[[ 0.   -0.07  0.  ]]\n",
      "[[ 0.   -0.06  0.  ]]\n",
      "[[ 0.   -0.06  0.  ]]\n",
      "[[ 0.    0.01  0.  ]]\n",
      "[[ 0.    0.01  0.  ]]\n",
      "[[ 0.   -0.03  0.  ]]\n",
      "[[ 0.01 -0.03  0.  ]]\n",
      "[[ 0.   -0.02  0.  ]]\n",
      "[[ 0.   -0.02  0.  ]]\n",
      "[[ 0.01  0.    0.  ]]\n",
      "[[ 0.    0.01  0.  ]]\n",
      "[[ 0.    0.01  0.  ]]\n",
      "[[ 0.01  0.01  0.  ]]\n",
      "[[ 0.   -0.03  0.  ]]\n",
      "[[ 0.   -0.03  0.  ]]\n",
      "[[ 0.01  0.    0.  ]]\n",
      "[[ 0.  0.  0.]]\n",
      "[[ 0.   -0.03  0.  ]]\n",
      "[[ 0.01 -0.03  0.  ]]\n",
      "[[ 0.   -0.01  0.  ]]\n",
      "[[ 0.01 -0.02  0.  ]]\n",
      "[[ 0.   -0.03  0.  ]]\n",
      "[[ 0.   -0.03  0.  ]]\n",
      "[[ 0.  0.  0.]]\n",
      "[[ 0.01 -0.01  0.  ]]\n",
      "[[ 0.01 -0.05  0.  ]]\n",
      "[[ 0.01 -0.05  0.  ]]\n",
      "[[ 0.   -0.01  0.  ]]\n",
      "[[ 0.01  0.    0.  ]]\n",
      "[[ 0.   -0.01  0.  ]]\n",
      "[[ 0.    0.04  0.  ]]\n",
      "[[ 0.01  0.04  0.  ]]\n",
      "[[ 0.01  0.    0.  ]]\n",
      "[[ 0.    0.01  0.  ]]\n",
      "[[ 0.   -0.02  0.  ]]\n",
      "[[ 0.   -0.01  0.  ]]\n",
      "[[ 0.01 -0.03  0.  ]]\n",
      "[[ 0.   -0.02  0.  ]]\n",
      "[[ 0.   -0.02  0.  ]]\n",
      "[[ 0.   -0.02  0.  ]]\n",
      "[[ 0.   -0.08  0.  ]]\n",
      "[[ 0.   -0.07  0.  ]]\n",
      "[[ 0.01 -0.02  0.  ]]\n",
      "[[ 0.   -0.02  0.  ]]\n",
      "[[ 0.   -0.01  0.  ]]\n",
      "[[-0.01 -0.01  0.  ]]\n",
      "[[ 0.  0.  0.]]\n",
      "[[-0.01  0.    0.  ]]\n",
      "[[-0.01 -0.03  0.  ]]\n",
      "[[-0.01 -0.03  0.  ]]\n",
      "[[ 0.   -0.07  0.  ]]\n",
      "[[ 0.   -0.08  0.  ]]\n",
      "[[ 0.   -0.02  0.  ]]\n",
      "[[-0.01 -0.01  0.  ]]\n",
      "[[-0.01 -0.01  0.  ]]\n",
      "[[ 0.  0.  0.]]\n",
      "[[ 0.   -0.04  0.  ]]\n",
      "[[-0.01 -0.03  0.  ]]\n",
      "[[-0.01 -0.04  0.  ]]\n",
      "[[ 0.   -0.04  0.  ]]\n",
      "[[ 0.   -0.01  0.  ]]\n",
      "[[ 0.   -0.02  0.  ]]\n",
      "[[-0.01 -0.04  0.  ]]\n",
      "[[ 0.   -0.03  0.  ]]\n",
      "[[-0.01 -0.03  0.  ]]\n",
      "[[ 0.   -0.02  0.  ]]\n",
      "[[ 0.  0.  0.]]\n",
      "[[-0.01  0.    0.  ]]\n",
      "[[ 0.  0.  0.]]\n",
      "[[ 0.   -0.01  0.  ]]\n",
      "[[-0.01 -0.05  0.  ]]\n",
      "[[-0.01 -0.05  0.  ]]\n",
      "[[-0.01 -0.03  0.  ]]\n",
      "[[-0.02 -0.02  0.  ]]\n",
      "[[ 0.  0.  0.]]\n",
      "[[ 0.   -0.01  0.  ]]\n",
      "[[ 0.   -0.04  0.  ]]\n",
      "[[ 0.   -0.05  0.  ]]\n",
      "[[ 0.   -0.02  0.  ]]\n",
      "[[-0.01 -0.01  0.  ]]\n",
      "[[-0.01 -0.05  0.  ]]\n",
      "[[ 0.   -0.06  0.  ]]\n",
      "[[ 0.   -0.02  0.  ]]\n",
      "[[-0.01 -0.02  0.  ]]\n",
      "[[ 0.    0.01  0.  ]]\n",
      "[[ 0.    0.02  0.  ]]\n",
      "[[ 0.    0.01  0.  ]]\n",
      "[[-0.01 -0.02  0.  ]]\n",
      "[[ 0.   -0.02  0.  ]]\n",
      "[[-0.01  0.02  0.  ]]\n",
      "[[-0.01  0.03  0.  ]]\n",
      "[[ 0.   -0.01  0.  ]]\n",
      "[[ 0.   -0.01  0.  ]]\n",
      "[[ 0.    0.04  0.  ]]\n",
      "[[-0.01  0.03  0.  ]]\n",
      "[[ 0.   -0.02  0.  ]]\n",
      "[[-0.01 -0.01  0.  ]]\n",
      "[[ 0.  0.  0.]]\n",
      "[[-0.01  0.    0.  ]]\n",
      "[[ 0.01 -0.03  0.  ]]\n",
      "[[ 0.   -0.04  0.  ]]\n",
      "[[ 0.01  0.    0.  ]]\n",
      "[[ 0.    0.01  0.  ]]\n",
      "[[ 0.   -0.01  0.  ]]\n",
      "[[-0.01 -0.01  0.  ]]\n",
      "[[ 0.01 -0.01  0.  ]]\n",
      "[[ 0.   -0.02  0.  ]]\n",
      "[[ 0.01  0.01  0.  ]]\n",
      "[[ 0.02  0.01  0.  ]]\n",
      "[[ 0.  0.  0.]]\n",
      "[[-0.01  0.    0.  ]]\n",
      "[[ 0.   -0.04  0.  ]]\n",
      "[[ 0.   -0.04  0.  ]]\n",
      "[[ 0.   -0.02  0.  ]]\n",
      "[[ 0.   -0.02  0.  ]]\n",
      "[[-0.01 -0.03  0.  ]]\n",
      "[[ 0.   -0.03  0.  ]]\n",
      "[[ 0.   -0.03  0.  ]]\n",
      "[[ 0.   -0.02  0.  ]]\n",
      "[[ 0.   -0.03  0.  ]]\n",
      "[[ 0.   -0.03  0.  ]]\n",
      "[[ 0.   -0.04  0.  ]]\n",
      "[[ 0.   -0.05  0.  ]]\n",
      "[[ 0.  0.  0.]]\n",
      "[[ 0.  0.  0.]]\n",
      "[[ 0.   -0.02  0.  ]]\n",
      "[[ 0.01 -0.02  0.  ]]\n",
      "[[ 0.01  0.08  0.  ]]\n",
      "[[ 0.    0.08  0.  ]]\n",
      "[[ 0.   0.2  0. ]]\n",
      "[[ 0.01  0.21  0.  ]]\n",
      "[[ 0.    0.27  0.  ]]\n",
      "[[ 0.    0.28  0.  ]]\n",
      "[[-0.01 -0.06  0.  ]]\n",
      "[[ 0.   -0.07  0.  ]]\n",
      "[[ 0.    0.21  0.  ]]\n",
      "[[ 0.    0.21  0.  ]]\n",
      "[[ 0.    0.37  0.  ]]\n",
      "[[ 0.    0.38  0.  ]]\n",
      "[[ 0.    0.37  0.  ]]\n",
      "[[ 0.02  0.56  0.  ]]\n",
      "[[ 0.02  0.56  0.  ]]\n",
      "[[ 0.    0.43  0.  ]]\n",
      "[[ 0.    0.44  0.  ]]\n",
      "[[ 0.    0.43  0.  ]]\n",
      "[[ 0.    0.43  0.  ]]\n",
      "[[ 0.    0.49  0.  ]]\n",
      "[[ 0.01  0.49  0.  ]]\n",
      "[[ 0.01  0.27  0.  ]]\n",
      "[[ 0.02  0.27  0.  ]]\n",
      "[[ 0.01  0.38  0.  ]]\n",
      "[[ 0.01  0.38  0.  ]]\n",
      "[[ 0.01  0.88  0.  ]]\n",
      "[[ 0.01  0.87  0.  ]]\n",
      "[[ 0.01  0.27  0.  ]]\n",
      "[[ 0.01  0.28  0.  ]]\n",
      "[[ 0.    0.04  0.  ]]\n",
      "[[ 0.01  0.05  0.  ]]\n",
      "[[ 0.    0.63  0.  ]]\n",
      "[[ 0.    0.64  0.  ]]\n",
      "[[ 0.01  0.97  0.  ]]\n",
      "[[ 0.    0.97  0.  ]]\n",
      "[[ 0.    0.18  0.  ]]\n",
      "[[ 0.01  0.18  0.  ]]\n",
      "[[ 0.01  0.5   0.  ]]\n",
      "[[ 0.    0.49  0.  ]]\n",
      "[[ 0.   0.6  0. ]]\n",
      "[[ 0.   0.6  0. ]]\n",
      "[[ 0.    0.29  0.  ]]\n",
      "[[-0.01  0.3   0.  ]]\n",
      "[[-0.01  0.29  0.  ]]\n",
      "[[ 0.    0.29  0.  ]]\n",
      "[[ 0.    0.49  0.  ]]\n",
      "[[ 0.    0.49  0.  ]]\n",
      "[[ 0.    0.58  0.  ]]\n",
      "[[ 0.01  0.58  0.  ]]\n",
      "[[ 0.01  0.24  0.  ]]\n",
      "[[ 0.    0.23  0.  ]]\n",
      "[[ 0.   -0.19  0.  ]]\n",
      "[[-0.01 -0.19  0.  ]]\n",
      "[[ 0.01  0.39  0.  ]]\n",
      "[[ 0.    0.39  0.  ]]\n",
      "[[ 0.   -0.06  0.  ]]\n",
      "[[ 0.   -0.06  0.  ]]\n",
      "[[ 0.   0.4  0. ]]\n",
      "[[ 0.    0.39  0.  ]]\n",
      "[[ 0.01  0.58  0.  ]]\n",
      "[[ 0.    0.58  0.  ]]\n",
      "[[-0.01  0.02  0.  ]]\n",
      "[[-0.01  0.03  0.  ]]\n",
      "[[ 0.    0.53  0.  ]]\n",
      "[[ 0.    0.52  0.  ]]\n",
      "[[-0.01 -0.13  0.  ]]\n",
      "[[ 0.   -0.13  0.  ]]\n",
      "[[ 0.   -0.36  0.  ]]\n",
      "[[ 0.   -0.37  0.  ]]\n",
      "[[-0.01 -0.37  0.  ]]\n",
      "[[-0.01 -0.37  0.  ]]\n",
      "[[-0.01 -0.38  0.  ]]\n",
      "[[-0.01 -0.37  0.  ]]\n",
      "[[-0.01  0.5   0.  ]]\n",
      "[[ 0.   0.5  0. ]]\n",
      "[[-0.01 -0.53  0.  ]]\n",
      "[[-0.01 -0.61  0.  ]]\n",
      "[[-0.01 -0.62  0.  ]]\n",
      "[[ 0.  -1.8  0. ]]\n",
      "[[ 0.  -1.8  0. ]]\n",
      "[[-0.01 -0.18  0.  ]]\n",
      "[[-0.01 -0.18  0.  ]]\n",
      "[[-0.01 -0.12  0.  ]]\n",
      "[[-0.01 -0.11  0.  ]]\n",
      "[[ 0.    0.46  0.  ]]\n",
      "[[-0.01  0.46  0.  ]]\n",
      "[[-0.01  0.37  0.  ]]\n",
      "[[-0.01  0.38  0.  ]]\n",
      "[[-0.01 -0.36  0.  ]]\n",
      "[[ 0.   -0.35  0.  ]]\n",
      "[[-0.01 -0.54  0.  ]]\n",
      "[[-0.01 -0.55  0.  ]]\n",
      "[[ 0.   -0.19  0.  ]]\n",
      "[[-0.01 -0.19  0.  ]]\n",
      "[[-0.01  0.02  0.  ]]\n",
      "[[-0.01  0.03  0.  ]]\n",
      "[[ 0.   -0.09  0.  ]]\n",
      "[[ 0.   -0.09  0.  ]]\n",
      "[[-0.01 -0.02  0.  ]]\n",
      "[[-0.01 -0.02  0.  ]]\n",
      "[[ 0.   -0.15  0.  ]]\n",
      "[[ 0.   -0.15  0.  ]]\n",
      "[[-0.01 -0.49  0.  ]]\n",
      "[[ 0.   -0.49  0.  ]]\n",
      "[[ 0.   -0.27  0.  ]]\n",
      "[[-0.01 -0.28  0.  ]]\n",
      "[[-0.01 -0.46  0.  ]]\n",
      "[[ 0.   -0.47  0.  ]]\n",
      "[[-0.01 -0.07  0.  ]]\n",
      "[[ 0.   -0.07  0.  ]]\n",
      "[[ 0.   -0.17  0.  ]]\n",
      "[[ 0.   -0.17  0.  ]]\n",
      "[[-0.01  0.03  0.  ]]\n",
      "[[ 0.    0.04  0.  ]]\n",
      "[[ 0.   -0.24  0.  ]]\n",
      "[[ 0.   -0.24  0.  ]]\n",
      "[[ 0.   -0.07  0.  ]]\n",
      "[[ 0.   -0.07  0.  ]]\n",
      "[[ 0.01 -0.07  0.  ]]\n",
      "[[ 0.   -0.07  0.  ]]\n",
      "[[-0.01 -0.18  0.  ]]\n",
      "[[ 0.   -0.17  0.  ]]\n",
      "[[ 0.01 -0.19  0.  ]]\n",
      "[[ 0.01 -0.2   0.  ]]\n",
      "[[ 0.  -0.2  0. ]]\n",
      "[[ 0.   -0.19  0.  ]]\n",
      "[[ 0.   -0.13  0.  ]]\n",
      "[[ 0.   -0.13  0.  ]]\n",
      "[[ 0.   -0.22  0.  ]]\n",
      "[[ 0.01 -0.22  0.  ]]\n",
      "[[ 0.01 -0.25  0.  ]]\n",
      "[[ 0.   -0.25  0.  ]]\n",
      "[[ 0.   -0.25  0.  ]]\n",
      "[[ 0.01 -0.25  0.  ]]\n",
      "[[-0.01 -0.29  0.  ]]\n",
      "[[ 0.  -0.3  0. ]]\n",
      "[[ 0.   -0.34  0.  ]]\n",
      "[[ 0.   -0.34  0.  ]]\n",
      "[[ 0.01 -0.32  0.  ]]\n",
      "[[ 0.01 -0.31  0.  ]]\n",
      "[[ 0.01 -0.29  0.  ]]\n",
      "[[ 0.01 -0.28  0.  ]]\n",
      "[[ 0.   -0.14  0.  ]]\n",
      "[[ 0.   -0.14  0.  ]]\n",
      "[[ 0.01 -0.1   0.  ]]\n",
      "[[ 0.   -0.11  0.  ]]\n",
      "[[ 0.01 -0.27  0.  ]]\n",
      "[[ 0.01 -0.26  0.  ]]\n",
      "[[ 0.01 -0.16  0.  ]]\n",
      "[[ 0.   -0.16  0.  ]]\n",
      "[[ 0.   -0.22  0.  ]]\n",
      "[[-0.01 -0.21  0.  ]]\n",
      "[[ 0.   -0.07  0.  ]]\n",
      "[[ 0.01 -0.08  0.  ]]\n",
      "[[ 0.   -0.07  0.  ]]\n",
      "[[ 0.02 -0.12  0.  ]]\n",
      "[[ 0.02 -0.12  0.  ]]\n",
      "[[ 0.01 -0.15  0.  ]]\n",
      "[[ 0.01 -0.16  0.  ]]\n",
      "[[ 0.   -0.07  0.  ]]\n",
      "[[ 0.   -0.72  0.  ]]\n",
      "[[ 0.   -0.07  0.  ]]\n",
      "[[ 0.   -0.06  0.  ]]\n",
      "[[ 0.   -0.06  0.  ]]\n",
      "[[ 0.    0.01  0.  ]]\n",
      "[[ 0.    0.01  0.  ]]\n",
      "[[ 0.   -0.03  0.  ]]\n",
      "[[ 0.01 -0.03  0.  ]]\n",
      "[[ 0.   -0.02  0.  ]]\n",
      "[[ 0.   -0.02  0.  ]]\n",
      "[[ 0.01  0.    0.  ]]\n",
      "[[ 0.    0.01  0.  ]]\n",
      "[[ 0.    0.01  0.  ]]\n",
      "[[ 0.01  0.01  0.  ]]\n",
      "[[ 0.   -0.03  0.  ]]\n",
      "[[ 0.   -0.03  0.  ]]\n",
      "[[ 0.01  0.    0.  ]]\n",
      "[[ 0.  0.  0.]]\n",
      "[[ 0.   -0.03  0.  ]]\n",
      "[[ 0.01 -0.03  0.  ]]\n",
      "[[ 0.   -0.01  0.  ]]\n",
      "[[ 0.01 -0.02  0.  ]]\n",
      "[[ 0.   -0.03  0.  ]]\n",
      "[[ 0.   -0.03  0.  ]]\n",
      "[[ 0.  0.  0.]]\n",
      "[[ 0.01 -0.01  0.  ]]\n",
      "[[ 0.01 -0.05  0.  ]]\n",
      "[[ 0.01 -0.05  0.  ]]\n",
      "[[ 0.   -0.01  0.  ]]\n",
      "[[ 0.01  0.    0.  ]]\n",
      "[[ 0.   -0.01  0.  ]]\n",
      "[[ 0.    0.04  0.  ]]\n",
      "[[ 0.01  0.04  0.  ]]\n",
      "[[ 0.01  0.    0.  ]]\n",
      "[[ 0.    0.01  0.  ]]\n",
      "[[ 0.   -0.02  0.  ]]\n",
      "[[ 0.   -0.01  0.  ]]\n",
      "[[ 0.01 -0.03  0.  ]]\n",
      "[[ 0.   -0.02  0.  ]]\n"
     ]
    },
    {
     "name": "stdout",
     "output_type": "stream",
     "text": [
      "[[ 0.   -0.02  0.  ]]\n",
      "[[ 0.   -0.02  0.  ]]\n",
      "[[ 0.   -0.08  0.  ]]\n",
      "[[ 0.   -0.07  0.  ]]\n",
      "[[ 0.01 -0.02  0.  ]]\n",
      "[[ 0.   -0.02  0.  ]]\n",
      "[[ 0.   -0.01  0.  ]]\n",
      "[[-0.01 -0.01  0.  ]]\n",
      "[[ 0.  0.  0.]]\n",
      "[[-0.01  0.    0.  ]]\n",
      "[[-0.01 -0.03  0.  ]]\n",
      "[[-0.01 -0.03  0.  ]]\n",
      "[[ 0.   -0.07  0.  ]]\n",
      "[[ 0.   -0.08  0.  ]]\n",
      "[[ 0.   -0.02  0.  ]]\n",
      "[[-0.01 -0.01  0.  ]]\n",
      "[[-0.01 -0.01  0.  ]]\n",
      "[[ 0.  0.  0.]]\n",
      "[[ 0.   -0.04  0.  ]]\n",
      "[[-0.01 -0.03  0.  ]]\n",
      "[[-0.01 -0.04  0.  ]]\n",
      "[[ 0.   -0.04  0.  ]]\n",
      "[[ 0.   -0.01  0.  ]]\n",
      "[[ 0.   -0.02  0.  ]]\n",
      "[[-0.01 -0.04  0.  ]]\n",
      "[[ 0.   -0.03  0.  ]]\n",
      "[[-0.01 -0.03  0.  ]]\n",
      "[[ 0.   -0.02  0.  ]]\n",
      "[[ 0.  0.  0.]]\n",
      "[[-0.01  0.    0.  ]]\n",
      "[[ 0.  0.  0.]]\n",
      "[[ 0.   -0.01  0.  ]]\n",
      "[[-0.01 -0.05  0.  ]]\n",
      "[[-0.01 -0.05  0.  ]]\n",
      "[[-0.01 -0.03  0.  ]]\n",
      "[[-0.02 -0.02  0.  ]]\n",
      "[[ 0.  0.  0.]]\n",
      "[[ 0.   -0.01  0.  ]]\n",
      "[[ 0.   -0.04  0.  ]]\n",
      "[[ 0.   -0.05  0.  ]]\n",
      "[[ 0.   -0.02  0.  ]]\n",
      "[[-0.01 -0.01  0.  ]]\n",
      "[[-0.01 -0.05  0.  ]]\n",
      "[[ 0.   -0.06  0.  ]]\n",
      "[[ 0.   -0.02  0.  ]]\n",
      "[[-0.01 -0.02  0.  ]]\n",
      "[[ 0.    0.01  0.  ]]\n",
      "[[ 0.    0.02  0.  ]]\n",
      "[[ 0.    0.01  0.  ]]\n",
      "[[-0.01 -0.02  0.  ]]\n",
      "[[ 0.   -0.02  0.  ]]\n",
      "[[-0.01  0.02  0.  ]]\n",
      "[[-0.01  0.03  0.  ]]\n",
      "[[ 0.   -0.01  0.  ]]\n",
      "[[ 0.   -0.01  0.  ]]\n",
      "[[ 0.    0.04  0.  ]]\n",
      "[[-0.01  0.03  0.  ]]\n",
      "[[ 0.   -0.02  0.  ]]\n",
      "[[-0.01 -0.01  0.  ]]\n",
      "[[ 0.  0.  0.]]\n",
      "[[-0.01  0.    0.  ]]\n",
      "[[ 0.01 -0.03  0.  ]]\n",
      "[[ 0.   -0.04  0.  ]]\n",
      "[[ 0.01  0.    0.  ]]\n",
      "[[ 0.    0.01  0.  ]]\n",
      "[[ 0.   -0.01  0.  ]]\n",
      "[[-0.01 -0.01  0.  ]]\n",
      "[[ 0.01 -0.01  0.  ]]\n",
      "[[ 0.   -0.02  0.  ]]\n",
      "[[ 0.01  0.01  0.  ]]\n",
      "[[ 0.02  0.01  0.  ]]\n",
      "[[ 0.  0.  0.]]\n",
      "[[-0.01  0.    0.  ]]\n",
      "[[ 0.   -0.04  0.  ]]\n",
      "[[ 0.   -0.04  0.  ]]\n",
      "[[ 0.   -0.02  0.  ]]\n",
      "[[ 0.   -0.02  0.  ]]\n",
      "[[-0.01 -0.03  0.  ]]\n",
      "[[ 0.   -0.03  0.  ]]\n",
      "[[ 0.   -0.03  0.  ]]\n",
      "[[ 0.   -0.02  0.  ]]\n",
      "[[ 0.   -0.03  0.  ]]\n",
      "[[ 0.   -0.03  0.  ]]\n",
      "[[ 0.   -0.04  0.  ]]\n",
      "[[ 0.   -0.05  0.  ]]\n",
      "[[ 0.  0.  0.]]\n",
      "[[ 0.  0.  0.]]\n",
      "[[ 0.   -0.02  0.  ]]\n",
      "[[ 0.01 -0.02  0.  ]]\n",
      "[[ 0.01  0.08  0.  ]]\n",
      "[[ 0.    0.08  0.  ]]\n",
      "[[ 0.   0.2  0. ]]\n",
      "[[ 0.01  0.21  0.  ]]\n",
      "[[ 0.    0.27  0.  ]]\n",
      "[[ 0.    0.28  0.  ]]\n",
      "[[-0.01 -0.06  0.  ]]\n",
      "[[ 0.   -0.07  0.  ]]\n",
      "[[ 0.    0.21  0.  ]]\n",
      "[[ 0.    0.21  0.  ]]\n",
      "[[ 0.    0.37  0.  ]]\n",
      "[[ 0.    0.38  0.  ]]\n",
      "[[ 0.    0.37  0.  ]]\n",
      "[[ 0.02  0.56  0.  ]]\n",
      "[[ 0.02  0.56  0.  ]]\n",
      "[[ 0.    0.43  0.  ]]\n",
      "[[ 0.    0.44  0.  ]]\n",
      "[[ 0.    0.43  0.  ]]\n",
      "[[ 0.    0.43  0.  ]]\n",
      "[[ 0.    0.49  0.  ]]\n",
      "[[ 0.01  0.49  0.  ]]\n",
      "[[ 0.01  0.27  0.  ]]\n",
      "[[ 0.02  0.27  0.  ]]\n",
      "[[ 0.01  0.38  0.  ]]\n",
      "[[ 0.01  0.38  0.  ]]\n",
      "[[ 0.01  0.88  0.  ]]\n",
      "[[ 0.01  0.87  0.  ]]\n",
      "[[ 0.01  0.27  0.  ]]\n",
      "[[ 0.01  0.28  0.  ]]\n",
      "[[ 0.    0.04  0.  ]]\n",
      "[[ 0.01  0.05  0.  ]]\n",
      "[[ 0.    0.63  0.  ]]\n",
      "[[ 0.    0.64  0.  ]]\n",
      "[[ 0.01  0.97  0.  ]]\n",
      "[[ 0.    0.97  0.  ]]\n",
      "[[ 0.    0.18  0.  ]]\n",
      "[[ 0.01  0.18  0.  ]]\n",
      "[[ 0.01  0.5   0.  ]]\n",
      "[[ 0.    0.49  0.  ]]\n",
      "[[ 0.   0.6  0. ]]\n",
      "[[ 0.   0.6  0. ]]\n",
      "[[ 0.    0.29  0.  ]]\n",
      "[[-0.01  0.3   0.  ]]\n",
      "[[-0.01  0.29  0.  ]]\n",
      "[[ 0.    0.29  0.  ]]\n",
      "[[ 0.    0.49  0.  ]]\n",
      "[[ 0.    0.49  0.  ]]\n",
      "[[ 0.    0.58  0.  ]]\n",
      "[[ 0.01  0.58  0.  ]]\n",
      "[[ 0.01  0.24  0.  ]]\n",
      "[[ 0.    0.23  0.  ]]\n",
      "[[-0.01  0.38  0.  ]]\n",
      "[[-0.01 -0.36  0.  ]]\n",
      "[[ 0.   -0.35  0.  ]]\n",
      "[[-0.01 -0.54  0.  ]]\n",
      "[[-0.01 -0.55  0.  ]]\n",
      "[[ 0.   -0.19  0.  ]]\n",
      "[[-0.01 -0.19  0.  ]]\n",
      "[[-0.01  0.02  0.  ]]\n",
      "[[-0.01  0.03  0.  ]]\n",
      "[[ 0.   -0.09  0.  ]]\n",
      "[[ 0.   -0.09  0.  ]]\n",
      "[[-0.01 -0.02  0.  ]]\n",
      "[[-0.01 -0.02  0.  ]]\n",
      "[[ 0.   -0.15  0.  ]]\n",
      "[[ 0.   -0.15  0.  ]]\n",
      "[[-0.01 -0.49  0.  ]]\n",
      "[[ 0.   -0.49  0.  ]]\n",
      "[[ 0.   -0.27  0.  ]]\n",
      "[[-0.01 -0.28  0.  ]]\n",
      "[[-0.01 -0.46  0.  ]]\n",
      "[[ 0.   -0.47  0.  ]]\n",
      "[[-0.01 -0.07  0.  ]]\n",
      "[[ 0.   -0.07  0.  ]]\n",
      "[[ 0.   -0.17  0.  ]]\n",
      "[[ 0.   -0.17  0.  ]]\n",
      "[[-0.01  0.03  0.  ]]\n",
      "[[ 0.    0.04  0.  ]]\n",
      "[[ 0.   -0.24  0.  ]]\n",
      "[[ 0.   -0.24  0.  ]]\n",
      "[[ 0.   -0.07  0.  ]]\n",
      "[[ 0.   -0.07  0.  ]]\n",
      "[[ 0.01 -0.07  0.  ]]\n",
      "[[ 0.   -0.07  0.  ]]\n",
      "[[-0.01 -0.18  0.  ]]\n",
      "[[ 0.   -0.17  0.  ]]\n",
      "[[ 0.01 -0.19  0.  ]]\n",
      "[[-0.01 -0.1   0.  ]]\n",
      "[[-0.01 -0.1   0.  ]]\n",
      "[[-0.01 -0.11  0.  ]]\n",
      "[[ 0.    0.15  0.  ]]\n",
      "[[-0.01  0.16  0.  ]]\n",
      "[[-0.01 -0.25  0.  ]]\n",
      "[[ 0.   -0.26  0.  ]]\n",
      "[[ 0.    0.15  0.  ]]\n",
      "[[ 0.    0.14  0.  ]]\n",
      "[[ 0.   -0.45  0.  ]]\n",
      "[[-0.01 -0.45  0.  ]]\n",
      "[[-0.01 -0.22  0.  ]]\n",
      "[[-0.02 -0.23  0.  ]]\n",
      "[[ 0.   -0.46  0.  ]]\n",
      "[[ 0.   -0.46  0.  ]]\n",
      "[[-0.01 -0.3   0.  ]]\n",
      "[[-0.01 -0.29  0.  ]]\n",
      "[[ 0.01 -0.28  0.  ]]\n",
      "[[ 0.   -0.29  0.  ]]\n",
      "[[ 0.   -0.13  0.  ]]\n",
      "[[ 0.   -0.12  0.  ]]\n",
      "[[ 0.   -0.46  0.  ]]\n",
      "[[-0.01 -0.47  0.  ]]\n",
      "[[ 0.   -0.21  0.  ]]\n",
      "[[ 0.   -0.22  0.  ]]\n",
      "[[-0.01 -0.08  0.  ]]\n",
      "[[-0.01 -0.07  0.  ]]\n",
      "[[ 0.   -0.21  0.  ]]\n",
      "[[-0.01 -0.2   0.  ]]\n",
      "[[ 0.   -0.21  0.  ]]\n",
      "[[ 0.   -0.21  0.  ]]\n",
      "[[-0.01 -0.22  0.  ]]\n",
      "[[ 0.   -0.21  0.  ]]\n",
      "[[-0.01  0.11  0.  ]]\n",
      "[[-0.01  0.11  0.  ]]\n",
      "[[ 0.   -0.18  0.  ]]\n",
      "[[ 0.   -0.18  0.  ]]\n",
      "[[ 0.    0.03  0.  ]]\n",
      "[[ 0.    0.04  0.  ]]\n",
      "[[-0.01 -0.18  0.  ]]\n",
      "[[ 0.   -0.17  0.  ]]\n",
      "[[-0.01 -0.21  0.  ]]\n",
      "[[ 0.  -0.2  0. ]]\n",
      "[[ 0.  -0.2  0. ]]\n",
      "[[-0.01 -0.21  0.  ]]\n",
      "[[-0.01 -0.03  0.  ]]\n",
      "[[ 0.   -0.02  0.  ]]\n",
      "[[ 0.   -0.14  0.  ]]\n",
      "[[-0.01 -0.14  0.  ]]\n",
      "[[-0.01 -0.14  0.  ]]\n",
      "[[ 0.   -0.15  0.  ]]\n",
      "[[ 0.   -0.17  0.  ]]\n",
      "[[-0.01 -0.17  0.  ]]\n",
      "[[-0.01 -0.14  0.  ]]\n",
      "[[ 0.   -0.14  0.  ]]\n",
      "[[ 0.  -0.1  0. ]]\n",
      "[[ 0.01 -0.1   0.  ]]\n",
      "[[ 0.   -0.39  0.  ]]\n",
      "[[ 0.   -0.39  0.  ]]\n",
      "[[ 0.01 -0.23  0.  ]]\n",
      "[[ 0.   -0.22  0.  ]]\n",
      "[[ 0.01 -0.2   0.  ]]\n",
      "[[ 0.01 -0.2   0.  ]]\n",
      "[[ 0.   -0.19  0.  ]]\n",
      "[[ 0.01 -0.2   0.  ]]\n",
      "[[ 0.   -0.16  0.  ]]\n",
      "[[ 0.   -0.16  0.  ]]\n",
      "[[ 0.01 -0.23  0.  ]]\n",
      "[[ 0.   -0.24  0.  ]]\n",
      "[[ 0.01 -0.24  0.  ]]\n",
      "[[ 0.01 -0.23  0.  ]]\n",
      "[[ 0.   -0.14  0.  ]]\n",
      "[[ 0.01 -0.15  0.  ]]\n",
      "[[ 0.   -0.14  0.  ]]\n",
      "[[ 0.01 -0.2   0.  ]]\n",
      "[[ 0.01 -0.19  0.  ]]\n",
      "[[ 0.01 -0.16  0.  ]]\n",
      "[[ 0.01 -0.16  0.  ]]\n",
      "[[ 0.01 -0.12  0.  ]]\n",
      "[[ 0.01 -0.12  0.  ]]\n",
      "[[ 0.01 -0.05  0.  ]]\n",
      "[[ 0.01 -0.06  0.  ]]\n",
      "[[ 0.01 -0.08  0.  ]]\n",
      "[[ 0.   -0.07  0.  ]]\n",
      "[[ 0.   -0.03  0.  ]]\n",
      "[[ 0.   -0.02  0.  ]]\n",
      "[[ 0.01 -0.05  0.  ]]\n",
      "[[ 0.01 -0.05  0.  ]]\n",
      "[[ 0.   -0.04  0.  ]]\n",
      "[[ 0.   -0.03  0.  ]]\n",
      "[[ 0.   -0.05  0.  ]]\n",
      "[[ 0.   -0.04  0.  ]]\n",
      "[[ 0.   -0.02  0.  ]]\n",
      "[[ 0.   -0.01  0.  ]]\n",
      "[[ 0.   -0.01  0.  ]]\n",
      "[[ 0.   -0.02  0.  ]]\n",
      "[[ 0.01 -0.02  0.  ]]\n",
      "[[ 0.01 -0.02  0.  ]]\n",
      "[[ 0.01 -0.06  0.  ]]\n",
      "[[ 0.01 -0.06  0.  ]]\n",
      "[[ 0.01 -0.04  0.  ]]\n",
      "[[ 0.01 -0.04  0.  ]]\n",
      "[[ 0.  0.  0.]]\n",
      "[[ 0.  0.  0.]]\n",
      "[[ 0.01 -0.01  0.  ]]\n",
      "[[ 0.01 -0.01  0.  ]]\n",
      "[[-0.02  0.01  0.  ]]\n",
      "[[-0.01  0.01  0.  ]]\n",
      "[[ 0.01  0.    0.  ]]\n",
      "[[ 0.   -0.01  0.  ]]\n",
      "[[ 0.02 -0.05  0.  ]]\n",
      "[[ 0.02 -0.06  0.  ]]\n",
      "[[-0.01  0.    0.  ]]\n",
      "[[ 0.    0.01  0.  ]]\n",
      "[[ 0.01 -0.01  0.  ]]\n",
      "[[ 0.01 -0.01  0.  ]]\n",
      "[[ 0.01 -0.03  0.  ]]\n",
      "[[ 0.   -0.04  0.  ]]\n",
      "[[ 0.   -0.03  0.  ]]\n",
      "[[ 0.01 -0.03  0.  ]]\n",
      "[[ 0.01 -0.04  0.  ]]\n",
      "[[ 0.   -0.03  0.  ]]\n",
      "[[ 0.   -0.05  0.  ]]\n",
      "[[ 0.   -0.05  0.  ]]\n",
      "[[ 0.    0.01  0.  ]]\n",
      "[[-0.01  0.02  0.  ]]\n",
      "[[-0.01  0.    0.  ]]\n",
      "[[ 0.  0.  0.]]\n",
      "[[ 0.  0.  0.]]\n",
      "[[-0.01  0.    0.  ]]\n",
      "[[ 0.  0.  0.]]\n",
      "[[ 0.  0.  0.]]\n",
      "[[ 0.  0.  0.]]\n",
      "[[-0.01 -0.02  0.  ]]\n",
      "[[ 0.   -0.01  0.  ]]\n",
      "[[-0.02  0.01  0.  ]]\n",
      "[[-0.02  0.02  0.  ]]\n",
      "[[-0.02  0.    0.  ]]\n",
      "[[-0.01  0.01  0.  ]]\n",
      "[[ 0.01  0.    0.  ]]\n",
      "[[ 0.   -0.01  0.  ]]\n",
      "[[ 0.   -0.01  0.  ]]\n",
      "[[ 0.01 -0.01  0.  ]]\n",
      "[[ 0.01  0.    0.  ]]\n",
      "[[ 0.   -0.01  0.  ]]\n",
      "[[ 0.   -0.02  0.  ]]\n",
      "[[-0.01 -0.01  0.  ]]\n",
      "[[-0.01  0.    0.  ]]\n",
      "[[ 0.   -0.01  0.  ]]\n",
      "[[ 0.   -0.02  0.  ]]\n",
      "[[-0.01 -0.02  0.  ]]\n",
      "[[-0.01  0.01  0.  ]]\n",
      "[[-0.01  0.01  0.  ]]\n",
      "[[-0.01  0.02  0.  ]]\n",
      "[[ 0.    0.02  0.  ]]\n",
      "[[ 0.   -0.04  0.  ]]\n",
      "[[ 0.01 -0.04  0.  ]]\n",
      "[[-0.01 -0.03  0.  ]]\n",
      "[[-0.01 -0.04  0.  ]]\n",
      "[[-0.01  0.    0.  ]]\n",
      "[[ 0.  0.  0.]]\n",
      "[[ 0.   -0.06  0.  ]]\n",
      "[[ 0.   -0.05  0.  ]]\n",
      "[[ 0.   -0.03  0.  ]]\n",
      "[[ 0.   -0.03  0.  ]]\n",
      "[[ 0.    0.03  0.  ]]\n",
      "[[-0.01  0.04  0.  ]]\n",
      "[[-0.01  0.    0.  ]]\n",
      "[[ 0.  0.  0.]]\n",
      "[[ 0.   -0.06  0.  ]]\n",
      "[[-0.01 -0.06  0.  ]]\n",
      "[[ 0.   -0.03  0.  ]]\n",
      "[[ 0.   -0.04  0.  ]]\n",
      "[[ 0.   -0.01  0.  ]]\n",
      "[[ 0.   -0.02  0.  ]]\n",
      "[[ 0.    0.01  0.  ]]\n",
      "[[-0.01  0.01  0.  ]]\n",
      "[[ 0.   -0.02  0.  ]]\n",
      "[[ 0.   -0.02  0.  ]]\n",
      "[[ 0.   -0.03  0.  ]]\n",
      "[[-0.01 -0.03  0.  ]]\n",
      "[[ 0.    0.01  0.  ]]\n",
      "[[ 0.    0.01  0.  ]]\n",
      "[[ 0.  0.  0.]]\n",
      "[[ 0.  0.  0.]]\n",
      "[[ 0.  0.  0.]]\n",
      "[[ 0.    0.01  0.  ]]\n",
      "[[ 0.01  0.    0.  ]]\n",
      "[[ 0.    0.01  0.  ]]\n",
      "[[ 0.01  0.    0.  ]]\n",
      "[[ 0.01  0.01  0.  ]]\n",
      "[[ 0.    0.01  0.  ]]\n",
      "[[ 0.    0.06  0.  ]]\n",
      "[[ 0.01  0.06  0.  ]]\n",
      "[[ 0.01 -0.04  0.  ]]\n",
      "[[ 0.   -0.04  0.  ]]\n",
      "[[ 0.   -0.03  0.  ]]\n",
      "[[ 0.   -0.03  0.  ]]\n",
      "[[ 0.   -0.03  0.  ]]\n",
      "[[ 0.   -0.03  0.  ]]\n",
      "[[ 0.   -0.01  0.  ]]\n",
      "[[ 0.01 -0.02  0.  ]]\n",
      "[[ 0.01 -0.01  0.  ]]\n",
      "[[ 0.   -0.02  0.  ]]\n",
      "[[ 0.01 -0.01  0.  ]]\n",
      "[[ 0.01 -0.01  0.  ]]\n",
      "[[ 0.   -0.02  0.  ]]\n",
      "[[ 0.   -0.01  0.  ]]\n",
      "[[ 0.    0.03  0.  ]]\n",
      "[[ 0.    0.03  0.  ]]\n",
      "[[ 0.    0.06  0.  ]]\n",
      "[[ 0.01  0.06  0.  ]]\n",
      "[[ 0.01  0.11  0.  ]]\n",
      "[[ 0.   0.1  0. ]]\n",
      "[[ 0.    0.26  0.  ]]\n",
      "[[ 0.    0.27  0.  ]]\n",
      "[[ 0.01  0.39  0.  ]]\n",
      "[[ 0.01  0.38  0.  ]]\n",
      "[[ 0.    0.44  0.  ]]\n",
      "[[ 0.    0.44  0.  ]]\n",
      "[[ 0.01  0.36  0.  ]]\n",
      "[[ 0.01  0.35  0.  ]]\n",
      "[[-0.08  0.99  0.  ]]\n",
      "[[ 0.    0.44  0.  ]]\n",
      "[[ 0.01  0.45  0.  ]]\n",
      "[[ 0.01  0.65  0.  ]]\n",
      "[[ 0.01  0.64  0.  ]]\n",
      "[[ 0.    0.16  0.  ]]\n",
      "[[ 0.    0.16  0.  ]]\n",
      "[[ 0.01  0.78  0.  ]]\n",
      "[[ 0.    0.78  0.  ]]\n",
      "[[ 0.   -0.04  0.  ]]\n",
      "[[ 0.   -0.05  0.  ]]\n",
      "[[ 0.    0.29  0.  ]]\n",
      "[[ 0.    0.29  0.  ]]\n",
      "[[ 0.    0.11  0.  ]]\n",
      "[[ 0.01  0.11  0.  ]]\n",
      "[[ 0.02  0.27  0.  ]]\n",
      "[[ 0.02  0.27  0.  ]]\n",
      "[[ 0.01  0.41  0.  ]]\n",
      "[[ 0.01  0.41  0.  ]]\n",
      "[[-0.01  0.11  0.  ]]\n",
      "[[ 0.    0.11  0.  ]]\n",
      "[[ 0.01  0.1   0.  ]]\n",
      "[[ 0.01  0.1   0.  ]]\n",
      "[[ 0.    0.28  0.  ]]\n",
      "[[-0.01  0.28  0.  ]]\n",
      "[[ 0.    0.14  0.  ]]\n",
      "[[ 0.    0.14  0.  ]]\n",
      "[[ 0.   -0.03  0.  ]]\n",
      "[[ 0.   -0.03  0.  ]]\n",
      "[[ 0.01  0.19  0.  ]]\n",
      "[[ 0.    0.19  0.  ]]\n",
      "[[ 0.01  0.24  0.  ]]\n",
      "[[ 0.01  0.25  0.  ]]\n",
      "[[ 0.    0.07  0.  ]]\n",
      "[[-0.01  0.07  0.  ]]\n",
      "[[ 0.01  0.22  0.  ]]\n",
      "[[ 0.    0.21  0.  ]]\n",
      "[[ 0.01  0.58  0.  ]]\n",
      "[[ 0.01  0.58  0.  ]]\n",
      "[[ 0.01  0.13  0.  ]]\n",
      "[[ 0.01  0.13  0.  ]]\n",
      "[[-0.01  0.71  0.  ]]\n",
      "[[-0.01  0.72  0.  ]]\n",
      "[[ 0.   -0.14  0.  ]]\n",
      "[[ 0.   -0.13  0.  ]]\n",
      "[[ 0.    0.19  0.  ]]\n",
      "[[-0.01  0.19  0.  ]]\n",
      "[[-0.01 -0.02  0.  ]]\n",
      "[[-0.01 -0.03  0.  ]]\n",
      "[[ 0.   -0.11  0.  ]]\n",
      "[[ 0.  -0.1  0. ]]\n",
      "[[-0.01  0.35  0.  ]]\n",
      "[[ 0.    0.36  0.  ]]\n",
      "[[ 0.    0.13  0.  ]]\n",
      "[[-0.01  0.13  0.  ]]\n",
      "[[ 0.    0.08  0.  ]]\n",
      "[[ 0.    0.08  0.  ]]\n",
      "[[-0.01  0.63  0.  ]]\n",
      "[[-0.02  0.63  0.  ]]\n",
      "[[ 0.   -0.65  0.  ]]\n",
      "[[-0.01 -0.64  0.  ]]\n",
      "[[-0.01 -0.25  0.  ]]\n",
      "[[-0.01 -0.24  0.  ]]\n",
      "[[ 0.01 -0.12  0.  ]]\n",
      "[[ 0.   -0.11  0.  ]]\n",
      "[[-0.01 -0.11  0.  ]]\n",
      "[[-0.01 -0.1   0.  ]]\n",
      "[[-0.01 -0.1   0.  ]]\n",
      "[[-0.01 -0.11  0.  ]]\n",
      "[[ 0.    0.15  0.  ]]\n",
      "[[-0.01  0.16  0.  ]]\n",
      "[[-0.01 -0.25  0.  ]]\n",
      "[[ 0.   -0.26  0.  ]]\n",
      "[[ 0.    0.15  0.  ]]\n",
      "[[ 0.    0.14  0.  ]]\n",
      "[[ 0.   -0.45  0.  ]]\n",
      "[[-0.01 -0.45  0.  ]]\n",
      "[[-0.01 -0.22  0.  ]]\n",
      "[[-0.02 -0.23  0.  ]]\n",
      "[[ 0.   -0.46  0.  ]]\n",
      "[[ 0.   -0.46  0.  ]]\n",
      "[[-0.01 -0.3   0.  ]]\n",
      "[[-0.01 -0.29  0.  ]]\n",
      "[[ 0.01 -0.28  0.  ]]\n",
      "[[ 0.   -0.29  0.  ]]\n",
      "[[ 0.   -0.13  0.  ]]\n",
      "[[ 0.   -0.12  0.  ]]\n",
      "[[ 0.   -0.46  0.  ]]\n",
      "[[-0.01 -0.47  0.  ]]\n",
      "[[ 0.   -0.21  0.  ]]\n",
      "[[ 0.   -0.22  0.  ]]\n",
      "[[-0.01 -0.08  0.  ]]\n",
      "[[-0.01 -0.07  0.  ]]\n",
      "[[ 0.   -0.21  0.  ]]\n",
      "[[-0.01 -0.2   0.  ]]\n",
      "[[ 0.   -0.21  0.  ]]\n",
      "[[ 0.   -0.21  0.  ]]\n",
      "[[-0.01 -0.22  0.  ]]\n",
      "[[ 0.   -0.21  0.  ]]\n",
      "[[-0.01  0.11  0.  ]]\n",
      "[[-0.01  0.11  0.  ]]\n",
      "[[ 0.   -0.18  0.  ]]\n",
      "[[ 0.   -0.18  0.  ]]\n",
      "[[ 0.    0.03  0.  ]]\n",
      "[[ 0.    0.04  0.  ]]\n",
      "[[-0.01 -0.18  0.  ]]\n",
      "[[ 0.   -0.17  0.  ]]\n",
      "[[-0.01 -0.21  0.  ]]\n",
      "[[ 0.  -0.2  0. ]]\n",
      "[[ 0.  -0.2  0. ]]\n",
      "[[-0.01 -0.21  0.  ]]\n",
      "[[-0.01 -0.03  0.  ]]\n",
      "[[ 0.   -0.02  0.  ]]\n",
      "[[ 0.   -0.14  0.  ]]\n",
      "[[-0.01 -0.14  0.  ]]\n",
      "[[-0.01 -0.14  0.  ]]\n",
      "[[ 0.   -0.15  0.  ]]\n",
      "[[ 0.   -0.17  0.  ]]\n",
      "[[-0.01 -0.17  0.  ]]\n",
      "[[-0.01 -0.14  0.  ]]\n",
      "[[ 0.   -0.14  0.  ]]\n",
      "[[ 0.  -0.1  0. ]]\n",
      "[[ 0.01 -0.1   0.  ]]\n",
      "[[ 0.   -0.39  0.  ]]\n",
      "[[ 0.   -0.39  0.  ]]\n",
      "[[ 0.01 -0.23  0.  ]]\n",
      "[[ 0.   -0.22  0.  ]]\n",
      "[[ 0.01 -0.2   0.  ]]\n",
      "[[ 0.01 -0.2   0.  ]]\n",
      "[[ 0.   -0.19  0.  ]]\n",
      "[[ 0.01 -0.2   0.  ]]\n",
      "[[ 0.   -0.16  0.  ]]\n",
      "[[ 0.   -0.16  0.  ]]\n",
      "[[ 0.01 -0.23  0.  ]]\n",
      "[[ 0.   -0.24  0.  ]]\n",
      "[[ 0.01 -0.24  0.  ]]\n",
      "[[ 0.01 -0.23  0.  ]]\n",
      "[[ 0.   -0.14  0.  ]]\n",
      "[[ 0.01 -0.15  0.  ]]\n",
      "[[ 0.   -0.14  0.  ]]\n",
      "[[ 0.01 -0.2   0.  ]]\n",
      "[[ 0.01 -0.19  0.  ]]\n",
      "[[ 0.01 -0.16  0.  ]]\n",
      "[[ 0.01 -0.16  0.  ]]\n",
      "[[ 0.01 -0.12  0.  ]]\n",
      "[[ 0.01 -0.12  0.  ]]\n",
      "[[ 0.01 -0.05  0.  ]]\n",
      "[[ 0.01 -0.06  0.  ]]\n",
      "[[ 0.01 -0.08  0.  ]]\n",
      "[[ 0.   -0.07  0.  ]]\n",
      "[[ 0.   -0.03  0.  ]]\n",
      "[[ 0.   -0.02  0.  ]]\n",
      "[[ 0.01 -0.05  0.  ]]\n",
      "[[ 0.01 -0.05  0.  ]]\n",
      "[[ 0.   -0.04  0.  ]]\n",
      "[[ 0.   -0.03  0.  ]]\n",
      "[[ 0.   -0.05  0.  ]]\n",
      "[[ 0.   -0.04  0.  ]]\n",
      "[[ 0.   -0.02  0.  ]]\n",
      "[[ 0.   -0.01  0.  ]]\n",
      "[[ 0.   -0.01  0.  ]]\n",
      "[[ 0.   -0.02  0.  ]]\n",
      "[[ 0.01 -0.02  0.  ]]\n",
      "[[ 0.01 -0.02  0.  ]]\n",
      "[[ 0.01 -0.06  0.  ]]\n",
      "[[ 0.01 -0.06  0.  ]]\n",
      "[[ 0.01 -0.04  0.  ]]\n",
      "[[ 0.01 -0.04  0.  ]]\n",
      "[[ 0.  0.  0.]]\n",
      "[[ 0.  0.  0.]]\n",
      "[[ 0.01 -0.01  0.  ]]\n",
      "[[ 0.01 -0.01  0.  ]]\n",
      "[[-0.02  0.01  0.  ]]\n",
      "[[-0.01  0.01  0.  ]]\n",
      "[[ 0.01  0.    0.  ]]\n",
      "[[ 0.   -0.01  0.  ]]\n",
      "[[ 0.02 -0.05  0.  ]]\n",
      "[[ 0.02 -0.06  0.  ]]\n",
      "[[-0.01  0.    0.  ]]\n",
      "[[ 0.    0.01  0.  ]]\n",
      "[[ 0.01 -0.01  0.  ]]\n",
      "[[ 0.01 -0.01  0.  ]]\n",
      "[[ 0.01 -0.03  0.  ]]\n",
      "[[ 0.   -0.04  0.  ]]\n",
      "[[ 0.   -0.03  0.  ]]\n",
      "[[ 0.01 -0.03  0.  ]]\n",
      "[[ 0.01 -0.04  0.  ]]\n",
      "[[ 0.   -0.03  0.  ]]\n",
      "[[ 0.   -0.05  0.  ]]\n",
      "[[ 0.   -0.05  0.  ]]\n",
      "[[ 0.    0.01  0.  ]]\n",
      "[[-0.01  0.02  0.  ]]\n",
      "[[-0.01  0.    0.  ]]\n",
      "[[ 0.  0.  0.]]\n",
      "[[ 0.  0.  0.]]\n",
      "[[-0.01  0.    0.  ]]\n",
      "[[ 0.  0.  0.]]\n",
      "[[ 0.  0.  0.]]\n",
      "[[ 0.  0.  0.]]\n",
      "[[-0.01 -0.02  0.  ]]\n",
      "[[ 0.   -0.01  0.  ]]\n",
      "[[-0.02  0.01  0.  ]]\n",
      "[[-0.02  0.02  0.  ]]\n",
      "[[-0.02  0.    0.  ]]\n",
      "[[-0.01  0.01  0.  ]]\n",
      "[[ 0.01  0.    0.  ]]\n",
      "[[ 0.   -0.01  0.  ]]\n",
      "[[ 0.   -0.01  0.  ]]\n",
      "[[ 0.01 -0.01  0.  ]]\n",
      "[[ 0.01  0.    0.  ]]\n",
      "[[ 0.   -0.01  0.  ]]\n",
      "[[ 0.   -0.02  0.  ]]\n",
      "[[-0.01 -0.01  0.  ]]\n",
      "[[-0.01  0.    0.  ]]\n",
      "[[ 0.   -0.01  0.  ]]\n",
      "[[ 0.   -0.02  0.  ]]\n",
      "[[-0.01 -0.02  0.  ]]\n",
      "[[-0.01  0.01  0.  ]]\n",
      "[[-0.01  0.01  0.  ]]\n",
      "[[-0.01  0.02  0.  ]]\n",
      "[[ 0.    0.02  0.  ]]\n",
      "[[ 0.   -0.04  0.  ]]\n",
      "[[ 0.01 -0.04  0.  ]]\n",
      "[[-0.01 -0.03  0.  ]]\n",
      "[[-0.01 -0.04  0.  ]]\n",
      "[[-0.01  0.    0.  ]]\n",
      "[[ 0.  0.  0.]]\n"
     ]
    },
    {
     "name": "stdout",
     "output_type": "stream",
     "text": [
      "[[ 0.   -0.06  0.  ]]\n",
      "[[ 0.   -0.05  0.  ]]\n",
      "[[ 0.   -0.03  0.  ]]\n",
      "[[ 0.   -0.03  0.  ]]\n",
      "[[ 0.    0.03  0.  ]]\n",
      "[[-0.01  0.04  0.  ]]\n",
      "[[-0.01  0.    0.  ]]\n",
      "[[ 0.  0.  0.]]\n",
      "[[ 0.   -0.06  0.  ]]\n",
      "[[-0.01 -0.06  0.  ]]\n",
      "[[ 0.   -0.03  0.  ]]\n",
      "[[ 0.   -0.04  0.  ]]\n",
      "[[ 0.   -0.01  0.  ]]\n",
      "[[ 0.   -0.02  0.  ]]\n",
      "[[ 0.    0.01  0.  ]]\n",
      "[[-0.01  0.01  0.  ]]\n",
      "[[ 0.   -0.02  0.  ]]\n",
      "[[ 0.   -0.02  0.  ]]\n",
      "[[ 0.   -0.03  0.  ]]\n",
      "[[-0.01 -0.03  0.  ]]\n",
      "[[ 0.    0.01  0.  ]]\n",
      "[[ 0.    0.01  0.  ]]\n",
      "[[ 0.  0.  0.]]\n",
      "[[ 0.  0.  0.]]\n",
      "[[ 0.  0.  0.]]\n",
      "[[ 0.    0.01  0.  ]]\n",
      "[[ 0.01  0.    0.  ]]\n",
      "[[ 0.    0.01  0.  ]]\n",
      "[[ 0.01  0.    0.  ]]\n",
      "[[ 0.01  0.01  0.  ]]\n",
      "[[ 0.    0.01  0.  ]]\n",
      "[[ 0.    0.06  0.  ]]\n",
      "[[ 0.01  0.06  0.  ]]\n",
      "[[ 0.01 -0.04  0.  ]]\n",
      "[[ 0.   -0.04  0.  ]]\n",
      "[[ 0.   -0.03  0.  ]]\n",
      "[[ 0.   -0.03  0.  ]]\n",
      "[[ 0.   -0.03  0.  ]]\n",
      "[[ 0.   -0.03  0.  ]]\n",
      "[[ 0.   -0.01  0.  ]]\n",
      "[[ 0.01 -0.02  0.  ]]\n",
      "[[ 0.01 -0.01  0.  ]]\n",
      "[[ 0.   -0.02  0.  ]]\n",
      "[[ 0.01 -0.01  0.  ]]\n",
      "[[ 0.01 -0.01  0.  ]]\n",
      "[[ 0.   -0.02  0.  ]]\n",
      "[[ 0.   -0.01  0.  ]]\n",
      "[[ 0.    0.03  0.  ]]\n",
      "[[ 0.    0.03  0.  ]]\n",
      "[[ 0.    0.06  0.  ]]\n",
      "[[ 0.01  0.06  0.  ]]\n",
      "[[ 0.01  0.11  0.  ]]\n",
      "[[ 0.   0.1  0. ]]\n",
      "[[ 0.    0.26  0.  ]]\n",
      "[[ 0.    0.27  0.  ]]\n",
      "[[ 0.01  0.39  0.  ]]\n",
      "[[ 0.01  0.38  0.  ]]\n",
      "[[ 0.    0.44  0.  ]]\n",
      "[[ 0.    0.44  0.  ]]\n",
      "[[ 0.01  0.36  0.  ]]\n",
      "[[ 0.01  0.35  0.  ]]\n",
      "[[-0.08  0.99  0.  ]]\n",
      "[[ 0.    0.44  0.  ]]\n",
      "[[ 0.01  0.45  0.  ]]\n",
      "[[ 0.01  0.65  0.  ]]\n",
      "[[ 0.   -0.39  0.  ]]\n",
      "[[ 0.   -0.39  0.  ]]\n",
      "[[ 0.01 -0.23  0.  ]]\n",
      "[[ 0.   -0.22  0.  ]]\n",
      "[[ 0.01 -0.2   0.  ]]\n",
      "[[ 0.01 -0.2   0.  ]]\n",
      "[[ 0.   -0.19  0.  ]]\n",
      "[[ 0.01 -0.2   0.  ]]\n",
      "[[ 0.   -0.16  0.  ]]\n",
      "[[ 0.   -0.16  0.  ]]\n",
      "[[ 0.01 -0.23  0.  ]]\n",
      "[[ 0.   -0.24  0.  ]]\n",
      "[[ 0.01 -0.24  0.  ]]\n",
      "[[ 0.01 -0.23  0.  ]]\n",
      "[[ 0.   -0.14  0.  ]]\n",
      "[[ 0.01 -0.15  0.  ]]\n",
      "[[ 0.   -0.14  0.  ]]\n",
      "[[ 0.01 -0.2   0.  ]]\n",
      "[[ 0.01 -0.19  0.  ]]\n",
      "[[ 0.01 -0.16  0.  ]]\n",
      "[[ 0.01 -0.16  0.  ]]\n",
      "[[ 0.01 -0.12  0.  ]]\n",
      "[[ 0.01 -0.12  0.  ]]\n",
      "[[ 0.01 -0.05  0.  ]]\n",
      "[[ 0.01 -0.06  0.  ]]\n",
      "[[ 0.01 -0.08  0.  ]]\n",
      "[[ 0.   -0.07  0.  ]]\n",
      "[[ 0.   -0.03  0.  ]]\n",
      "[[ 0.   -0.02  0.  ]]\n",
      "[[ 0.01 -0.05  0.  ]]\n",
      "[[ 0.01 -0.05  0.  ]]\n",
      "[[ 0.   -0.04  0.  ]]\n",
      "[[ 0.   -0.03  0.  ]]\n",
      "[[ 0.   -0.05  0.  ]]\n",
      "[[ 0.   -0.04  0.  ]]\n",
      "[[ 0.   -0.02  0.  ]]\n",
      "[[ 0.   -0.01  0.  ]]\n",
      "[[ 0.   -0.01  0.  ]]\n",
      "[[ 0.   -0.02  0.  ]]\n",
      "[[ 0.01 -0.02  0.  ]]\n",
      "[[ 0.01 -0.02  0.  ]]\n",
      "[[ 0.01 -0.06  0.  ]]\n",
      "[[ 0.01 -0.06  0.  ]]\n",
      "[[ 0.01 -0.04  0.  ]]\n",
      "[[ 0.01 -0.04  0.  ]]\n",
      "[[ 0.  0.  0.]]\n",
      "[[ 0.  0.  0.]]\n",
      "[[ 0.01 -0.01  0.  ]]\n",
      "[[ 0.01 -0.01  0.  ]]\n",
      "[[-0.02  0.01  0.  ]]\n",
      "[[-0.01  0.01  0.  ]]\n",
      "[[ 0.01  0.    0.  ]]\n",
      "[[ 0.   -0.01  0.  ]]\n",
      "[[ 0.02 -0.05  0.  ]]\n",
      "[[ 0.02 -0.06  0.  ]]\n",
      "[[-0.01  0.    0.  ]]\n",
      "[[ 0.    0.01  0.  ]]\n",
      "[[ 0.01 -0.01  0.  ]]\n",
      "[[ 0.01 -0.01  0.  ]]\n",
      "[[ 0.01 -0.03  0.  ]]\n",
      "[[ 0.   -0.04  0.  ]]\n",
      "[[ 0.   -0.03  0.  ]]\n",
      "[[ 0.01 -0.03  0.  ]]\n",
      "[[ 0.01 -0.04  0.  ]]\n",
      "[[ 0.   -0.03  0.  ]]\n",
      "[[ 0.   -0.05  0.  ]]\n",
      "[[ 0.   -0.05  0.  ]]\n",
      "[[ 0.    0.01  0.  ]]\n",
      "[[-0.01  0.02  0.  ]]\n",
      "[[-0.01  0.    0.  ]]\n",
      "[[ 0.  0.  0.]]\n",
      "[[ 0.  0.  0.]]\n",
      "[[-0.01  0.    0.  ]]\n",
      "[[ 0.  0.  0.]]\n",
      "[[ 0.  0.  0.]]\n",
      "[[ 0.  0.  0.]]\n",
      "[[-0.01 -0.02  0.  ]]\n",
      "[[ 0.   -0.01  0.  ]]\n",
      "[[-0.02  0.01  0.  ]]\n",
      "[[-0.02  0.02  0.  ]]\n",
      "[[-0.02  0.    0.  ]]\n",
      "[[-0.01  0.01  0.  ]]\n",
      "[[ 0.01  0.    0.  ]]\n",
      "[[ 0.   -0.01  0.  ]]\n",
      "[[ 0.   -0.01  0.  ]]\n",
      "[[ 0.01 -0.01  0.  ]]\n",
      "[[ 0.01  0.    0.  ]]\n",
      "[[ 0.   -0.01  0.  ]]\n",
      "[[ 0.   -0.02  0.  ]]\n",
      "[[-0.01 -0.01  0.  ]]\n",
      "[[-0.01  0.    0.  ]]\n",
      "[[ 0.   -0.01  0.  ]]\n",
      "[[ 0.   -0.02  0.  ]]\n",
      "[[-0.01 -0.02  0.  ]]\n",
      "[[-0.01  0.01  0.  ]]\n",
      "[[-0.01  0.01  0.  ]]\n",
      "[[-0.01  0.02  0.  ]]\n",
      "[[ 0.    0.02  0.  ]]\n",
      "[[ 0.   -0.04  0.  ]]\n",
      "[[ 0.01 -0.04  0.  ]]\n",
      "[[-0.01 -0.03  0.  ]]\n",
      "[[-0.01 -0.04  0.  ]]\n",
      "[[-0.01  0.    0.  ]]\n",
      "[[ 0.  0.  0.]]\n",
      "[[ 0.   -0.06  0.  ]]\n",
      "[[ 0.   -0.05  0.  ]]\n",
      "[[ 0.   -0.03  0.  ]]\n",
      "[[ 0.   -0.03  0.  ]]\n",
      "[[ 0.    0.03  0.  ]]\n",
      "[[-0.01  0.04  0.  ]]\n",
      "[[-0.01  0.    0.  ]]\n",
      "[[ 0.  0.  0.]]\n",
      "[[ 0.   -0.06  0.  ]]\n",
      "[[-0.01 -0.06  0.  ]]\n",
      "[[ 0.   -0.03  0.  ]]\n",
      "[[ 0.   -0.04  0.  ]]\n",
      "[[ 0.   -0.01  0.  ]]\n",
      "[[ 0.   -0.02  0.  ]]\n",
      "[[ 0.    0.01  0.  ]]\n",
      "[[-0.01  0.01  0.  ]]\n",
      "[[ 0.   -0.02  0.  ]]\n",
      "[[ 0.   -0.02  0.  ]]\n",
      "[[ 0.   -0.03  0.  ]]\n",
      "[[-0.01 -0.03  0.  ]]\n",
      "[[ 0.    0.01  0.  ]]\n",
      "[[ 0.    0.01  0.  ]]\n",
      "[[ 0.  0.  0.]]\n",
      "[[ 0.  0.  0.]]\n",
      "[[ 0.  0.  0.]]\n",
      "[[ 0.    0.01  0.  ]]\n",
      "[[ 0.01  0.    0.  ]]\n",
      "[[ 0.    0.01  0.  ]]\n",
      "[[ 0.01  0.    0.  ]]\n",
      "[[ 0.01  0.01  0.  ]]\n",
      "[[ 0.    0.01  0.  ]]\n",
      "[[ 0.    0.06  0.  ]]\n",
      "[[ 0.01  0.06  0.  ]]\n",
      "[[ 0.01 -0.04  0.  ]]\n",
      "[[ 0.   -0.04  0.  ]]\n",
      "[[ 0.   -0.03  0.  ]]\n",
      "[[ 0.   -0.03  0.  ]]\n",
      "[[ 0.   -0.03  0.  ]]\n",
      "[[ 0.   -0.03  0.  ]]\n",
      "[[ 0.   -0.01  0.  ]]\n",
      "[[ 0.01 -0.02  0.  ]]\n",
      "[[ 0.01 -0.01  0.  ]]\n",
      "[[ 0.   -0.02  0.  ]]\n",
      "[[ 0.01 -0.01  0.  ]]\n",
      "[[ 0.01 -0.01  0.  ]]\n",
      "[[ 0.   -0.02  0.  ]]\n",
      "[[ 0.   -0.01  0.  ]]\n",
      "[[ 0.    0.03  0.  ]]\n",
      "[[ 0.    0.03  0.  ]]\n",
      "[[ 0.    0.06  0.  ]]\n",
      "[[ 0.01  0.06  0.  ]]\n",
      "[[ 0.01  0.11  0.  ]]\n",
      "[[ 0.   0.1  0. ]]\n",
      "[[ 0.    0.26  0.  ]]\n",
      "[[ 0.    0.27  0.  ]]\n",
      "[[ 0.    0.07  0.  ]]\n",
      "[[-0.01  0.07  0.  ]]\n",
      "[[ 0.01  0.22  0.  ]]\n",
      "[[ 0.    0.21  0.  ]]\n",
      "[[ 0.01  0.58  0.  ]]\n",
      "[[ 0.01  0.58  0.  ]]\n",
      "[[ 0.01  0.13  0.  ]]\n",
      "[[ 0.01  0.13  0.  ]]\n",
      "[[-0.01  0.71  0.  ]]\n",
      "[[-0.01  0.72  0.  ]]\n",
      "[[ 0.   -0.14  0.  ]]\n",
      "[[ 0.   -0.13  0.  ]]\n",
      "[[ 0.    0.19  0.  ]]\n",
      "[[-0.01  0.19  0.  ]]\n",
      "[[-0.01 -0.02  0.  ]]\n",
      "[[-0.01 -0.03  0.  ]]\n",
      "[[ 0.   -0.11  0.  ]]\n",
      "[[ 0.  -0.1  0. ]]\n",
      "[[-0.01  0.35  0.  ]]\n",
      "[[ 0.    0.36  0.  ]]\n",
      "[[ 0.    0.13  0.  ]]\n",
      "[[-0.01  0.13  0.  ]]\n",
      "[[ 0.    0.08  0.  ]]\n",
      "[[ 0.    0.08  0.  ]]\n",
      "[[-0.01  0.63  0.  ]]\n",
      "[[-0.02  0.63  0.  ]]\n",
      "[[ 0.   -0.65  0.  ]]\n",
      "[[-0.01 -0.64  0.  ]]\n",
      "[[-0.01 -0.25  0.  ]]\n",
      "[[-0.01 -0.24  0.  ]]\n",
      "[[ 0.01 -0.12  0.  ]]\n",
      "[[ 0.   -0.11  0.  ]]\n",
      "[[-0.01 -0.11  0.  ]]\n",
      "[[-0.01 -0.1   0.  ]]\n",
      "[[-0.01 -0.1   0.  ]]\n",
      "[[-0.01 -0.11  0.  ]]\n",
      "[[ 0.    0.15  0.  ]]\n",
      "[[-0.01  0.16  0.  ]]\n",
      "[[-0.01 -0.25  0.  ]]\n",
      "[[ 0.   -0.26  0.  ]]\n",
      "[[ 0.    0.15  0.  ]]\n",
      "[[ 0.    0.14  0.  ]]\n",
      "[[ 0.   -0.45  0.  ]]\n",
      "[[-0.01 -0.45  0.  ]]\n",
      "[[-0.01 -0.22  0.  ]]\n",
      "[[-0.02 -0.23  0.  ]]\n",
      "[[ 0.   -0.46  0.  ]]\n",
      "[[ 0.   -0.46  0.  ]]\n",
      "[[-0.01 -0.3   0.  ]]\n",
      "[[-0.01 -0.29  0.  ]]\n",
      "[[ 0.01 -0.28  0.  ]]\n",
      "[[ 0.   -0.29  0.  ]]\n",
      "[[ 0.   -0.13  0.  ]]\n",
      "[[ 0.   -0.12  0.  ]]\n",
      "[[ 0.   -0.46  0.  ]]\n",
      "[[-0.01 -0.47  0.  ]]\n",
      "[[ 0.   -0.21  0.  ]]\n",
      "[[ 0.   -0.22  0.  ]]\n",
      "[[-0.01 -0.08  0.  ]]\n",
      "[[-0.01 -0.07  0.  ]]\n",
      "[[ 0.   -0.21  0.  ]]\n",
      "[[-0.01 -0.2   0.  ]]\n",
      "[[ 0.   -0.21  0.  ]]\n",
      "[[ 0.   -0.21  0.  ]]\n",
      "[[-0.01 -0.22  0.  ]]\n",
      "[[ 0.   -0.21  0.  ]]\n",
      "[[-0.01  0.11  0.  ]]\n",
      "[[-0.01  0.11  0.  ]]\n",
      "[[ 0.   -0.18  0.  ]]\n",
      "[[ 0.   -0.18  0.  ]]\n",
      "[[ 0.    0.03  0.  ]]\n",
      "[[ 0.    0.04  0.  ]]\n",
      "[[-0.01 -0.18  0.  ]]\n",
      "[[ 0.   -0.17  0.  ]]\n",
      "[[-0.01 -0.21  0.  ]]\n",
      "[[ 0.  -0.2  0. ]]\n",
      "[[ 0.  -0.2  0. ]]\n",
      "[[-0.01 -0.21  0.  ]]\n",
      "[[-0.01 -0.03  0.  ]]\n",
      "[[ 0.   -0.02  0.  ]]\n",
      "[[ 0.   -0.14  0.  ]]\n",
      "[[-0.01 -0.14  0.  ]]\n",
      "[[-0.01 -0.14  0.  ]]\n",
      "[[ 0.   -0.15  0.  ]]\n",
      "[[ 0.   -0.17  0.  ]]\n",
      "[[-0.01 -0.17  0.  ]]\n",
      "[[-0.01 -0.14  0.  ]]\n",
      "[[ 0.   -0.14  0.  ]]\n",
      "[[ 0.  -0.1  0. ]]\n",
      "[[ 0.01 -0.1   0.  ]]\n",
      "[[ 0.   -0.39  0.  ]]\n",
      "[[ 0.   -0.39  0.  ]]\n",
      "[[ 0.01 -0.23  0.  ]]\n",
      "[[ 0.   -0.22  0.  ]]\n",
      "[[ 0.01 -0.2   0.  ]]\n",
      "[[ 0.01 -0.2   0.  ]]\n",
      "[[ 0.   -0.19  0.  ]]\n",
      "[[ 0.01 -0.2   0.  ]]\n",
      "[[ 0.   -0.16  0.  ]]\n",
      "[[ 0.   -0.16  0.  ]]\n",
      "[[ 0.01 -0.23  0.  ]]\n",
      "[[ 0.   -0.24  0.  ]]\n",
      "[[ 0.01 -0.24  0.  ]]\n",
      "[[ 0.01 -0.23  0.  ]]\n",
      "[[ 0.   -0.14  0.  ]]\n",
      "[[ 0.01 -0.15  0.  ]]\n",
      "[[ 0.   -0.14  0.  ]]\n",
      "[[ 0.01 -0.2   0.  ]]\n",
      "[[ 0.01 -0.19  0.  ]]\n",
      "[[ 0.01 -0.16  0.  ]]\n",
      "[[ 0.01 -0.16  0.  ]]\n",
      "[[ 0.01 -0.12  0.  ]]\n",
      "[[ 0.01 -0.12  0.  ]]\n",
      "[[ 0.01 -0.05  0.  ]]\n",
      "[[ 0.01 -0.06  0.  ]]\n",
      "[[ 0.01 -0.08  0.  ]]\n",
      "[[ 0.   -0.07  0.  ]]\n",
      "[[ 0.   -0.03  0.  ]]\n",
      "[[ 0.   -0.02  0.  ]]\n",
      "[[ 0.01 -0.05  0.  ]]\n",
      "[[ 0.01 -0.05  0.  ]]\n",
      "[[ 0.   -0.04  0.  ]]\n",
      "[[ 0.   -0.03  0.  ]]\n",
      "[[ 0.   -0.05  0.  ]]\n",
      "[[ 0.   -0.04  0.  ]]\n",
      "[[ 0.   -0.02  0.  ]]\n",
      "[[ 0.   -0.01  0.  ]]\n",
      "[[ 0.   -0.01  0.  ]]\n",
      "[[ 0.   -0.02  0.  ]]\n",
      "[[ 0.01 -0.02  0.  ]]\n",
      "[[ 0.01 -0.02  0.  ]]\n",
      "[[ 0.01 -0.06  0.  ]]\n",
      "[[ 0.01 -0.06  0.  ]]\n",
      "[[ 0.01 -0.04  0.  ]]\n",
      "[[ 0.01 -0.04  0.  ]]\n",
      "[[ 0.  0.  0.]]\n",
      "[[ 0.  0.  0.]]\n",
      "[[ 0.01 -0.01  0.  ]]\n",
      "[[ 0.01 -0.01  0.  ]]\n",
      "[[-0.02  0.01  0.  ]]\n",
      "[[-0.01  0.01  0.  ]]\n",
      "[[ 0.01  0.    0.  ]]\n",
      "[[ 0.   -0.01  0.  ]]\n",
      "[[ 0.02 -0.05  0.  ]]\n",
      "[[ 0.02 -0.06  0.  ]]\n",
      "[[-0.01  0.    0.  ]]\n",
      "[[ 0.    0.01  0.  ]]\n",
      "[[ 0.01 -0.01  0.  ]]\n",
      "[[ 0.01 -0.01  0.  ]]\n",
      "[[ 0.01 -0.03  0.  ]]\n",
      "[[ 0.   -0.04  0.  ]]\n",
      "[[ 0.   -0.03  0.  ]]\n",
      "[[ 0.01 -0.03  0.  ]]\n",
      "[[ 0.01 -0.04  0.  ]]\n",
      "[[ 0.   -0.03  0.  ]]\n",
      "[[ 0.   -0.05  0.  ]]\n",
      "[[ 0.   -0.05  0.  ]]\n",
      "[[ 0.    0.01  0.  ]]\n",
      "[[-0.01  0.02  0.  ]]\n",
      "[[-0.01  0.    0.  ]]\n",
      "[[ 0.  0.  0.]]\n",
      "[[ 0.  0.  0.]]\n",
      "[[-0.01  0.    0.  ]]\n",
      "[[ 0.  0.  0.]]\n",
      "[[ 0.  0.  0.]]\n",
      "[[ 0.  0.  0.]]\n",
      "[[-0.01 -0.02  0.  ]]\n",
      "[[ 0.   -0.01  0.  ]]\n",
      "[[-0.02  0.01  0.  ]]\n",
      "[[-0.02  0.02  0.  ]]\n",
      "[[-0.02  0.    0.  ]]\n",
      "[[-0.01  0.01  0.  ]]\n",
      "[[ 0.01  0.    0.  ]]\n",
      "[[ 0.   -0.01  0.  ]]\n",
      "[[ 0.   -0.01  0.  ]]\n",
      "[[ 0.01 -0.01  0.  ]]\n",
      "[[ 0.01  0.    0.  ]]\n",
      "[[ 0.   -0.01  0.  ]]\n",
      "[[ 0.   -0.02  0.  ]]\n",
      "[[-0.01 -0.01  0.  ]]\n",
      "[[-0.01  0.    0.  ]]\n",
      "[[ 0.   -0.01  0.  ]]\n",
      "[[ 0.   -0.02  0.  ]]\n",
      "[[-0.01 -0.02  0.  ]]\n",
      "[[-0.01  0.01  0.  ]]\n",
      "[[-0.01  0.01  0.  ]]\n",
      "[[-0.01  0.02  0.  ]]\n",
      "[[ 0.    0.02  0.  ]]\n",
      "[[ 0.   -0.04  0.  ]]\n",
      "[[ 0.01 -0.04  0.  ]]\n",
      "[[-0.01 -0.03  0.  ]]\n",
      "[[-0.01 -0.04  0.  ]]\n",
      "[[-0.01  0.    0.  ]]\n",
      "[[ 0.  0.  0.]]\n",
      "[[ 0.   -0.06  0.  ]]\n",
      "[[ 0.   -0.05  0.  ]]\n",
      "[[ 0.   -0.03  0.  ]]\n",
      "[[ 0.   -0.03  0.  ]]\n",
      "[[ 0.    0.03  0.  ]]\n",
      "[[-0.01  0.04  0.  ]]\n",
      "[[-0.01  0.    0.  ]]\n",
      "[[ 0.  0.  0.]]\n",
      "[[ 0.   -0.06  0.  ]]\n"
     ]
    },
    {
     "name": "stdout",
     "output_type": "stream",
     "text": [
      "[[-0.01 -0.06  0.  ]]\n",
      "[[ 0.   -0.03  0.  ]]\n",
      "[[ 0.   -0.04  0.  ]]\n",
      "[[ 0.   -0.01  0.  ]]\n",
      "[[ 0.   -0.02  0.  ]]\n",
      "[[ 0.    0.01  0.  ]]\n",
      "[[-0.01  0.01  0.  ]]\n",
      "[[ 0.   -0.02  0.  ]]\n",
      "[[ 0.   -0.02  0.  ]]\n",
      "[[ 0.   -0.03  0.  ]]\n",
      "[[-0.01 -0.03  0.  ]]\n",
      "[[ 0.    0.01  0.  ]]\n",
      "[[ 0.    0.01  0.  ]]\n",
      "[[ 0.  0.  0.]]\n",
      "[[ 0.  0.  0.]]\n",
      "[[ 0.  0.  0.]]\n",
      "[[ 0.    0.01  0.  ]]\n",
      "[[ 0.01  0.    0.  ]]\n",
      "[[ 0.    0.01  0.  ]]\n",
      "[[ 0.01  0.    0.  ]]\n",
      "[[ 0.01  0.01  0.  ]]\n",
      "[[ 0.    0.01  0.  ]]\n",
      "[[ 0.    0.06  0.  ]]\n",
      "[[ 0.01  0.06  0.  ]]\n",
      "[[ 0.01 -0.04  0.  ]]\n",
      "[[ 0.   -0.04  0.  ]]\n",
      "[[ 0.   -0.03  0.  ]]\n",
      "[[ 0.   -0.03  0.  ]]\n",
      "[[ 0.   -0.03  0.  ]]\n",
      "[[ 0.   -0.03  0.  ]]\n",
      "[[ 0.   -0.01  0.  ]]\n",
      "[[ 0.01 -0.02  0.  ]]\n",
      "[[ 0.01 -0.01  0.  ]]\n",
      "[[ 0.   -0.02  0.  ]]\n",
      "[[ 0.01 -0.01  0.  ]]\n",
      "[[ 0.01 -0.01  0.  ]]\n",
      "[[ 0.   -0.02  0.  ]]\n",
      "[[ 0.   -0.01  0.  ]]\n",
      "[[ 0.    0.03  0.  ]]\n",
      "[[ 0.    0.03  0.  ]]\n",
      "[[ 0.    0.06  0.  ]]\n",
      "[[ 0.01  0.06  0.  ]]\n",
      "[[ 0.01  0.11  0.  ]]\n",
      "[[ 0.   0.1  0. ]]\n",
      "[[ 0.    0.26  0.  ]]\n",
      "[[ 0.    0.27  0.  ]]\n",
      "[[ 0.01  0.39  0.  ]]\n",
      "[[ 0.01  0.38  0.  ]]\n",
      "[[ 0.    0.44  0.  ]]\n",
      "[[ 0.    0.44  0.  ]]\n",
      "[[ 0.01  0.36  0.  ]]\n",
      "[[ 0.01  0.35  0.  ]]\n",
      "[[-0.08  0.99  0.  ]]\n",
      "[[ 0.    0.44  0.  ]]\n",
      "[[ 0.01  0.45  0.  ]]\n",
      "[[ 0.01  0.65  0.  ]]\n",
      "[[ 0.01  0.64  0.  ]]\n",
      "[[ 0.    0.16  0.  ]]\n",
      "[[ 0.    0.16  0.  ]]\n",
      "[[ 0.01  0.78  0.  ]]\n",
      "[[ 0.    0.78  0.  ]]\n",
      "[[ 0.   -0.04  0.  ]]\n",
      "[[ 0.   -0.05  0.  ]]\n",
      "[[ 0.    0.29  0.  ]]\n",
      "[[ 0.    0.29  0.  ]]\n",
      "[[ 0.    0.11  0.  ]]\n",
      "[[ 0.01  0.11  0.  ]]\n",
      "[[ 0.02  0.27  0.  ]]\n",
      "[[ 0.02  0.27  0.  ]]\n",
      "[[ 0.01  0.41  0.  ]]\n",
      "[[ 0.01  0.41  0.  ]]\n",
      "[[-0.01  0.11  0.  ]]\n",
      "[[ 0.    0.11  0.  ]]\n",
      "[[ 0.01  0.1   0.  ]]\n",
      "[[ 0.   -0.18  0.  ]]\n",
      "[[ 0.    0.03  0.  ]]\n",
      "[[ 0.    0.04  0.  ]]\n",
      "[[-0.01 -0.18  0.  ]]\n",
      "[[ 0.   -0.17  0.  ]]\n",
      "[[-0.01 -0.21  0.  ]]\n",
      "[[ 0.  -0.2  0. ]]\n",
      "[[ 0.  -0.2  0. ]]\n",
      "[[-0.01 -0.21  0.  ]]\n",
      "[[-0.01 -0.03  0.  ]]\n",
      "[[ 0.   -0.02  0.  ]]\n",
      "[[ 0.   -0.14  0.  ]]\n",
      "[[-0.01 -0.14  0.  ]]\n",
      "[[-0.01 -0.14  0.  ]]\n",
      "[[ 0.   -0.15  0.  ]]\n",
      "[[ 0.   -0.17  0.  ]]\n",
      "[[-0.01 -0.17  0.  ]]\n",
      "[[-0.01 -0.14  0.  ]]\n",
      "[[ 0.   -0.14  0.  ]]\n",
      "[[ 0.  -0.1  0. ]]\n",
      "[[ 0.01 -0.1   0.  ]]\n",
      "[[ 0.   -0.39  0.  ]]\n",
      "[[ 0.   -0.39  0.  ]]\n",
      "[[ 0.01 -0.23  0.  ]]\n",
      "[[ 0.   -0.22  0.  ]]\n",
      "[[ 0.01 -0.2   0.  ]]\n",
      "[[ 0.01 -0.2   0.  ]]\n",
      "[[ 0.   -0.19  0.  ]]\n",
      "[[ 0.01 -0.2   0.  ]]\n",
      "[[ 0.   -0.16  0.  ]]\n",
      "[[ 0.   -0.16  0.  ]]\n",
      "[[ 0.01 -0.23  0.  ]]\n",
      "[[ 0.   -0.24  0.  ]]\n",
      "[[ 0.01 -0.24  0.  ]]\n",
      "[[ 0.01 -0.23  0.  ]]\n",
      "[[ 0.   -0.14  0.  ]]\n",
      "[[ 0.01 -0.15  0.  ]]\n",
      "[[ 0.   -0.14  0.  ]]\n",
      "[[ 0.01 -0.2   0.  ]]\n",
      "[[ 0.01 -0.19  0.  ]]\n",
      "[[ 0.01 -0.16  0.  ]]\n",
      "[[ 0.01 -0.16  0.  ]]\n",
      "[[ 0.01 -0.12  0.  ]]\n",
      "[[ 0.01 -0.12  0.  ]]\n",
      "[[ 0.01 -0.05  0.  ]]\n",
      "[[ 0.01 -0.06  0.  ]]\n",
      "[[ 0.01 -0.08  0.  ]]\n",
      "[[ 0.   -0.07  0.  ]]\n",
      "[[ 0.   -0.03  0.  ]]\n",
      "[[ 0.   -0.02  0.  ]]\n",
      "[[ 0.01 -0.05  0.  ]]\n",
      "[[ 0.01 -0.05  0.  ]]\n",
      "[[ 0.   -0.04  0.  ]]\n",
      "[[ 0.   -0.03  0.  ]]\n",
      "[[ 0.   -0.05  0.  ]]\n",
      "[[ 0.   -0.04  0.  ]]\n",
      "[[ 0.   -0.02  0.  ]]\n",
      "[[ 0.   -0.01  0.  ]]\n",
      "[[ 0.   -0.01  0.  ]]\n",
      "[[ 0.   -0.02  0.  ]]\n",
      "[[ 0.01 -0.02  0.  ]]\n",
      "[[ 0.01 -0.02  0.  ]]\n",
      "[[ 0.01 -0.06  0.  ]]\n",
      "[[ 0.01 -0.06  0.  ]]\n",
      "[[ 0.01 -0.04  0.  ]]\n",
      "[[ 0.01 -0.04  0.  ]]\n",
      "[[ 0.  0.  0.]]\n",
      "[[ 0.  0.  0.]]\n",
      "[[ 0.01 -0.01  0.  ]]\n",
      "[[ 0.01 -0.01  0.  ]]\n",
      "[[-0.02  0.01  0.  ]]\n",
      "[[-0.01  0.01  0.  ]]\n",
      "[[ 0.01  0.    0.  ]]\n",
      "[[ 0.   -0.01  0.  ]]\n",
      "[[ 0.02 -0.05  0.  ]]\n",
      "[[ 0.02 -0.06  0.  ]]\n",
      "[[-0.01  0.    0.  ]]\n",
      "[[ 0.    0.01  0.  ]]\n",
      "[[ 0.01 -0.01  0.  ]]\n",
      "[[ 0.01 -0.01  0.  ]]\n",
      "[[ 0.01 -0.03  0.  ]]\n",
      "[[ 0.   -0.04  0.  ]]\n",
      "[[ 0.   -0.03  0.  ]]\n",
      "[[ 0.01 -0.03  0.  ]]\n",
      "[[ 0.01 -0.04  0.  ]]\n",
      "[[ 0.   -0.03  0.  ]]\n",
      "[[ 0.   -0.05  0.  ]]\n",
      "[[ 0.   -0.05  0.  ]]\n",
      "[[ 0.    0.01  0.  ]]\n",
      "[[-0.01  0.02  0.  ]]\n",
      "[[-0.01  0.    0.  ]]\n",
      "[[ 0.  0.  0.]]\n",
      "[[ 0.  0.  0.]]\n",
      "[[-0.01  0.    0.  ]]\n",
      "[[ 0.  0.  0.]]\n",
      "[[ 0.  0.  0.]]\n",
      "[[ 0.  0.  0.]]\n",
      "[[-0.01 -0.02  0.  ]]\n",
      "[[ 0.   -0.01  0.  ]]\n",
      "[[-0.02  0.01  0.  ]]\n",
      "[[-0.02  0.02  0.  ]]\n",
      "[[-0.02  0.    0.  ]]\n",
      "[[-0.01  0.01  0.  ]]\n",
      "[[ 0.01  0.    0.  ]]\n",
      "[[ 0.   -0.01  0.  ]]\n",
      "[[ 0.   -0.01  0.  ]]\n",
      "[[ 0.01 -0.01  0.  ]]\n",
      "[[ 0.01  0.    0.  ]]\n",
      "[[ 0.   -0.01  0.  ]]\n",
      "[[ 0.   -0.02  0.  ]]\n",
      "[[-0.01 -0.01  0.  ]]\n",
      "[[-0.01  0.    0.  ]]\n",
      "[[ 0.   -0.01  0.  ]]\n",
      "[[ 0.   -0.02  0.  ]]\n",
      "[[-0.01 -0.02  0.  ]]\n",
      "[[-0.01  0.01  0.  ]]\n",
      "[[-0.01  0.01  0.  ]]\n",
      "[[-0.01  0.02  0.  ]]\n",
      "[[ 0.    0.02  0.  ]]\n",
      "[[ 0.   -0.04  0.  ]]\n",
      "[[ 0.01 -0.04  0.  ]]\n",
      "[[-0.01 -0.03  0.  ]]\n",
      "[[-0.01 -0.04  0.  ]]\n",
      "[[-0.01  0.    0.  ]]\n",
      "[[ 0.  0.  0.]]\n",
      "[[ 0.   -0.06  0.  ]]\n",
      "[[ 0.   -0.05  0.  ]]\n",
      "[[ 0.   -0.03  0.  ]]\n",
      "[[ 0.   -0.03  0.  ]]\n",
      "[[ 0.    0.03  0.  ]]\n",
      "[[-0.01  0.04  0.  ]]\n",
      "[[-0.01  0.    0.  ]]\n",
      "[[ 0.  0.  0.]]\n",
      "[[ 0.   -0.06  0.  ]]\n",
      "[[-0.01 -0.06  0.  ]]\n",
      "[[ 0.   -0.03  0.  ]]\n",
      "[[ 0.   -0.04  0.  ]]\n",
      "[[ 0.   -0.01  0.  ]]\n",
      "[[ 0.   -0.02  0.  ]]\n",
      "[[ 0.    0.01  0.  ]]\n",
      "[[-0.01  0.01  0.  ]]\n",
      "[[ 0.   -0.02  0.  ]]\n",
      "[[ 0.   -0.02  0.  ]]\n",
      "[[ 0.   -0.03  0.  ]]\n",
      "[[-0.01 -0.03  0.  ]]\n",
      "[[ 0.    0.01  0.  ]]\n",
      "[[ 0.    0.01  0.  ]]\n",
      "[[ 0.  0.  0.]]\n",
      "[[ 0.  0.  0.]]\n",
      "[[ 0.  0.  0.]]\n",
      "[[ 0.    0.01  0.  ]]\n",
      "[[ 0.01  0.    0.  ]]\n",
      "[[ 0.    0.01  0.  ]]\n",
      "[[ 0.01  0.    0.  ]]\n",
      "[[ 0.01  0.01  0.  ]]\n",
      "[[ 0.    0.01  0.  ]]\n",
      "[[ 0.    0.06  0.  ]]\n",
      "[[ 0.01  0.06  0.  ]]\n",
      "[[ 0.01 -0.04  0.  ]]\n",
      "[[ 0.   -0.04  0.  ]]\n",
      "[[ 0.   -0.03  0.  ]]\n",
      "[[ 0.   -0.03  0.  ]]\n",
      "[[ 0.   -0.03  0.  ]]\n",
      "[[ 0.   -0.03  0.  ]]\n",
      "[[ 0.   -0.01  0.  ]]\n",
      "[[ 0.01 -0.02  0.  ]]\n",
      "[[ 0.01 -0.01  0.  ]]\n",
      "[[ 0.   -0.02  0.  ]]\n",
      "[[ 0.01 -0.01  0.  ]]\n",
      "[[ 0.01 -0.01  0.  ]]\n",
      "[[ 0.   -0.02  0.  ]]\n",
      "[[ 0.   -0.01  0.  ]]\n",
      "[[ 0.    0.03  0.  ]]\n",
      "[[ 0.    0.03  0.  ]]\n",
      "[[ 0.    0.06  0.  ]]\n",
      "[[ 0.01  0.06  0.  ]]\n",
      "[[ 0.01  0.11  0.  ]]\n",
      "[[ 0.   0.1  0. ]]\n",
      "[[ 0.    0.26  0.  ]]\n",
      "[[ 0.    0.27  0.  ]]\n",
      "[[ 0.01  0.39  0.  ]]\n",
      "[[ 0.01  0.38  0.  ]]\n",
      "[[ 0.    0.44  0.  ]]\n",
      "[[ 0.    0.44  0.  ]]\n",
      "[[ 0.01  0.36  0.  ]]\n",
      "[[ 0.01  0.35  0.  ]]\n",
      "[[-0.08  0.99  0.  ]]\n",
      "[[ 0.    0.44  0.  ]]\n",
      "[[ 0.01  0.45  0.  ]]\n",
      "[[ 0.01  0.65  0.  ]]\n",
      "[[ 0.01  0.64  0.  ]]\n",
      "[[ 0.    0.16  0.  ]]\n",
      "[[ 0.    0.16  0.  ]]\n",
      "[[ 0.01  0.78  0.  ]]\n",
      "[[ 0.    0.78  0.  ]]\n",
      "[[ 0.   -0.04  0.  ]]\n",
      "[[ 0.   -0.05  0.  ]]\n",
      "[[ 0.    0.29  0.  ]]\n",
      "[[-0.01  0.35  0.  ]]\n",
      "[[ 0.    0.36  0.  ]]\n",
      "[[ 0.    0.13  0.  ]]\n",
      "[[-0.01  0.13  0.  ]]\n",
      "[[ 0.    0.08  0.  ]]\n",
      "[[ 0.    0.08  0.  ]]\n",
      "[[-0.01  0.63  0.  ]]\n",
      "[[-0.02  0.63  0.  ]]\n",
      "[[ 0.   -0.65  0.  ]]\n",
      "[[-0.01 -0.64  0.  ]]\n",
      "[[-0.01 -0.25  0.  ]]\n",
      "[[-0.01 -0.24  0.  ]]\n",
      "[[ 0.01 -0.12  0.  ]]\n",
      "[[ 0.   -0.11  0.  ]]\n",
      "[[-0.01 -0.11  0.  ]]\n",
      "[[-0.01 -0.1   0.  ]]\n",
      "[[-0.01 -0.1   0.  ]]\n",
      "[[-0.01 -0.11  0.  ]]\n",
      "[[ 0.    0.15  0.  ]]\n",
      "[[-0.01  0.16  0.  ]]\n",
      "[[-0.01 -0.25  0.  ]]\n",
      "[[ 0.   -0.26  0.  ]]\n",
      "[[ 0.    0.15  0.  ]]\n",
      "[[ 0.    0.14  0.  ]]\n",
      "[[ 0.   -0.45  0.  ]]\n",
      "[[-0.01 -0.45  0.  ]]\n",
      "[[-0.01 -0.22  0.  ]]\n",
      "[[-0.02 -0.23  0.  ]]\n",
      "[[ 0.   -0.46  0.  ]]\n",
      "[[ 0.   -0.46  0.  ]]\n",
      "[[-0.01 -0.3   0.  ]]\n",
      "[[-0.01 -0.29  0.  ]]\n",
      "[[ 0.01 -0.28  0.  ]]\n",
      "[[ 0.   -0.29  0.  ]]\n",
      "[[ 0.   -0.13  0.  ]]\n",
      "[[ 0.   -0.12  0.  ]]\n",
      "[[ 0.   -0.46  0.  ]]\n",
      "[[-0.01 -0.47  0.  ]]\n",
      "[[ 0.   -0.21  0.  ]]\n",
      "[[ 0.   -0.22  0.  ]]\n",
      "[[-0.01 -0.08  0.  ]]\n",
      "[[-0.01 -0.07  0.  ]]\n",
      "[[ 0.   -0.21  0.  ]]\n",
      "[[-0.01 -0.2   0.  ]]\n",
      "[[ 0.   -0.21  0.  ]]\n",
      "[[ 0.   -0.21  0.  ]]\n",
      "[[-0.01 -0.22  0.  ]]\n",
      "[[ 0.   -0.21  0.  ]]\n",
      "[[-0.01  0.11  0.  ]]\n",
      "[[-0.01  0.11  0.  ]]\n",
      "[[ 0.   -0.18  0.  ]]\n",
      "[[ 0.   -0.18  0.  ]]\n",
      "[[ 0.    0.03  0.  ]]\n",
      "[[ 0.    0.04  0.  ]]\n",
      "[[-0.01 -0.18  0.  ]]\n",
      "[[ 0.   -0.17  0.  ]]\n",
      "[[-0.01 -0.21  0.  ]]\n",
      "[[ 0.  -0.2  0. ]]\n",
      "[[ 0.  -0.2  0. ]]\n",
      "[[-0.01 -0.21  0.  ]]\n",
      "[[-0.01 -0.03  0.  ]]\n",
      "[[ 0.   -0.02  0.  ]]\n",
      "[[ 0.   -0.14  0.  ]]\n",
      "[[-0.01 -0.14  0.  ]]\n",
      "[[-0.01 -0.14  0.  ]]\n",
      "[[ 0.   -0.15  0.  ]]\n",
      "[[ 0.   -0.17  0.  ]]\n",
      "[[-0.01 -0.17  0.  ]]\n",
      "[[-0.01 -0.14  0.  ]]\n",
      "[[ 0.   -0.14  0.  ]]\n",
      "[[ 0.  -0.1  0. ]]\n",
      "[[ 0.01 -0.1   0.  ]]\n",
      "[[ 0.   -0.39  0.  ]]\n",
      "[[ 0.   -0.39  0.  ]]\n",
      "[[ 0.01 -0.23  0.  ]]\n",
      "[[ 0.   -0.22  0.  ]]\n",
      "[[ 0.01 -0.2   0.  ]]\n",
      "[[ 0.01 -0.2   0.  ]]\n",
      "[[ 0.   -0.19  0.  ]]\n",
      "[[ 0.01 -0.2   0.  ]]\n",
      "[[ 0.   -0.16  0.  ]]\n",
      "[[ 0.   -0.16  0.  ]]\n",
      "[[ 0.01 -0.23  0.  ]]\n",
      "[[ 0.   -0.24  0.  ]]\n",
      "[[ 0.01 -0.24  0.  ]]\n",
      "[[ 0.01 -0.23  0.  ]]\n",
      "[[ 0.   -0.14  0.  ]]\n",
      "[[ 0.01 -0.15  0.  ]]\n",
      "[[ 0.   -0.14  0.  ]]\n",
      "[[ 0.01 -0.2   0.  ]]\n",
      "[[ 0.01 -0.19  0.  ]]\n",
      "[[ 0.01 -0.16  0.  ]]\n",
      "[[ 0.01 -0.16  0.  ]]\n",
      "[[ 0.01 -0.12  0.  ]]\n",
      "[[ 0.01 -0.12  0.  ]]\n",
      "[[ 0.01 -0.05  0.  ]]\n",
      "[[ 0.01 -0.06  0.  ]]\n",
      "[[ 0.01 -0.08  0.  ]]\n",
      "[[ 0.   -0.07  0.  ]]\n",
      "[[ 0.   -0.03  0.  ]]\n",
      "[[ 0.   -0.02  0.  ]]\n",
      "[[ 0.01 -0.05  0.  ]]\n",
      "[[ 0.01 -0.05  0.  ]]\n",
      "[[ 0.   -0.04  0.  ]]\n",
      "[[ 0.   -0.03  0.  ]]\n",
      "[[ 0.   -0.05  0.  ]]\n",
      "[[ 0.   -0.04  0.  ]]\n",
      "[[ 0.   -0.02  0.  ]]\n",
      "[[ 0.   -0.01  0.  ]]\n",
      "[[ 0.   -0.01  0.  ]]\n",
      "[[ 0.   -0.02  0.  ]]\n",
      "[[ 0.01 -0.02  0.  ]]\n",
      "[[ 0.01 -0.02  0.  ]]\n",
      "[[ 0.01 -0.06  0.  ]]\n",
      "[[ 0.01 -0.06  0.  ]]\n",
      "[[ 0.01 -0.04  0.  ]]\n",
      "[[ 0.01 -0.04  0.  ]]\n",
      "[[ 0.  0.  0.]]\n",
      "[[ 0.  0.  0.]]\n",
      "[[ 0.01 -0.01  0.  ]]\n",
      "[[ 0.01 -0.01  0.  ]]\n",
      "[[-0.02  0.01  0.  ]]\n",
      "[[-0.01  0.01  0.  ]]\n",
      "[[ 0.01  0.    0.  ]]\n",
      "[[ 0.   -0.01  0.  ]]\n",
      "[[ 0.02 -0.05  0.  ]]\n",
      "[[ 0.02 -0.06  0.  ]]\n",
      "[[-0.01  0.    0.  ]]\n",
      "[[ 0.    0.01  0.  ]]\n",
      "[[ 0.01 -0.01  0.  ]]\n",
      "[[ 0.01 -0.01  0.  ]]\n",
      "[[ 0.01 -0.03  0.  ]]\n",
      "[[ 0.   -0.04  0.  ]]\n",
      "[[ 0.   -0.03  0.  ]]\n",
      "[[ 0.01 -0.03  0.  ]]\n",
      "[[ 0.01 -0.04  0.  ]]\n",
      "[[ 0.   -0.03  0.  ]]\n",
      "[[ 0.   -0.05  0.  ]]\n",
      "[[ 0.   -0.05  0.  ]]\n",
      "[[ 0.    0.01  0.  ]]\n",
      "[[-0.01  0.02  0.  ]]\n",
      "[[-0.01  0.    0.  ]]\n",
      "[[ 0.  0.  0.]]\n",
      "[[ 0.  0.  0.]]\n",
      "[[-0.01  0.    0.  ]]\n",
      "[[ 0.  0.  0.]]\n",
      "[[ 0.  0.  0.]]\n",
      "[[ 0.  0.  0.]]\n",
      "[[-0.01 -0.02  0.  ]]\n",
      "[[ 0.   -0.01  0.  ]]\n",
      "[[-0.02  0.01  0.  ]]\n",
      "[[-0.02  0.02  0.  ]]\n",
      "[[-0.02  0.    0.  ]]\n",
      "[[-0.01  0.01  0.  ]]\n",
      "[[ 0.01  0.    0.  ]]\n",
      "[[ 0.   -0.01  0.  ]]\n",
      "[[ 0.   -0.01  0.  ]]\n",
      "[[ 0.01 -0.01  0.  ]]\n",
      "[[ 0.01  0.    0.  ]]\n",
      "[[ 0.   -0.01  0.  ]]\n",
      "[[ 0.   -0.02  0.  ]]\n",
      "[[-0.01 -0.01  0.  ]]\n",
      "[[-0.01  0.    0.  ]]\n",
      "[[ 0.   -0.01  0.  ]]\n",
      "[[ 0.   -0.02  0.  ]]\n",
      "[[-0.01 -0.02  0.  ]]\n",
      "[[-0.01  0.01  0.  ]]\n",
      "[[-0.01  0.01  0.  ]]\n"
     ]
    },
    {
     "name": "stdout",
     "output_type": "stream",
     "text": [
      "[[-0.01  0.02  0.  ]]\n",
      "[[ 0.    0.02  0.  ]]\n",
      "[[ 0.   -0.04  0.  ]]\n",
      "[[ 0.01 -0.04  0.  ]]\n",
      "[[-0.01 -0.03  0.  ]]\n",
      "[[-0.01 -0.04  0.  ]]\n",
      "[[-0.01  0.    0.  ]]\n",
      "[[ 0.  0.  0.]]\n",
      "[[ 0.   -0.06  0.  ]]\n",
      "[[ 0.   -0.05  0.  ]]\n",
      "[[ 0.   -0.03  0.  ]]\n",
      "[[ 0.   -0.03  0.  ]]\n",
      "[[ 0.    0.03  0.  ]]\n",
      "[[-0.01  0.04  0.  ]]\n",
      "[[-0.01  0.    0.  ]]\n",
      "[[ 0.  0.  0.]]\n",
      "[[ 0.   -0.06  0.  ]]\n",
      "[[-0.01 -0.06  0.  ]]\n",
      "[[ 0.   -0.03  0.  ]]\n",
      "[[ 0.   -0.04  0.  ]]\n",
      "[[ 0.   -0.01  0.  ]]\n",
      "[[ 0.   -0.02  0.  ]]\n",
      "[[ 0.    0.01  0.  ]]\n",
      "[[-0.01  0.01  0.  ]]\n",
      "[[ 0.   -0.02  0.  ]]\n",
      "[[ 0.   -0.02  0.  ]]\n",
      "[[ 0.   -0.03  0.  ]]\n",
      "[[-0.01 -0.03  0.  ]]\n",
      "[[ 0.    0.01  0.  ]]\n",
      "[[ 0.    0.01  0.  ]]\n",
      "[[ 0.  0.  0.]]\n",
      "[[ 0.  0.  0.]]\n",
      "[[ 0.  0.  0.]]\n",
      "[[ 0.    0.01  0.  ]]\n",
      "[[ 0.01  0.    0.  ]]\n",
      "[[ 0.    0.01  0.  ]]\n",
      "[[ 0.01  0.    0.  ]]\n",
      "[[ 0.01  0.01  0.  ]]\n",
      "[[ 0.    0.01  0.  ]]\n",
      "[[ 0.    0.06  0.  ]]\n",
      "[[ 0.01  0.06  0.  ]]\n",
      "[[ 0.01 -0.04  0.  ]]\n",
      "[[ 0.   -0.04  0.  ]]\n",
      "[[ 0.   -0.03  0.  ]]\n",
      "[[ 0.   -0.03  0.  ]]\n",
      "[[ 0.   -0.03  0.  ]]\n",
      "[[ 0.   -0.03  0.  ]]\n",
      "[[ 0.   -0.01  0.  ]]\n",
      "[[ 0.01 -0.02  0.  ]]\n",
      "[[ 0.01 -0.01  0.  ]]\n",
      "[[ 0.   -0.02  0.  ]]\n",
      "[[ 0.01 -0.01  0.  ]]\n",
      "[[ 0.01 -0.01  0.  ]]\n",
      "[[ 0.   -0.02  0.  ]]\n",
      "[[ 0.   -0.01  0.  ]]\n",
      "[[ 0.    0.03  0.  ]]\n",
      "[[ 0.    0.03  0.  ]]\n",
      "[[ 0.    0.06  0.  ]]\n",
      "[[ 0.01  0.06  0.  ]]\n",
      "[[ 0.01  0.11  0.  ]]\n",
      "[[ 0.   0.1  0. ]]\n",
      "[[ 0.    0.26  0.  ]]\n",
      "[[ 0.    0.27  0.  ]]\n",
      "[[ 0.01  0.39  0.  ]]\n",
      "[[ 0.01  0.38  0.  ]]\n",
      "[[ 0.    0.44  0.  ]]\n",
      "[[ 0.    0.44  0.  ]]\n",
      "[[ 0.01  0.36  0.  ]]\n",
      "[[ 0.01  0.35  0.  ]]\n",
      "[[-0.08  0.99  0.  ]]\n"
     ]
    }
   ],
   "source": [
    "seed = 90973\n",
    "\n",
    "# prepare the data\n",
    "# data_X: differential of air pressure, differential of air temperature, irrigation now\n",
    "# data_Y: differential of soil humidity\n",
    "data_X, data_Y = prepare_data(train,1, field1_without_Nan, 1153)\n",
    "print(\"data_X:\")\n",
    "display(data_X.head())\n",
    "print(\"data_Y:\")\n",
    "display(data_Y.head())\n",
    "\n",
    "# train the model\n",
    "model1 = train_xgboost(data_X, data_Y, seed)\n",
    "\n",
    "# Use the model to get predictions\n",
    "preds1 = get_Predictions(model1,1, field1_without_Nan,field1, 8914, 1153)\n",
    "display(*preds1)\n",
    "\n",
    "data_X, data_Y = prepare_data(train,2, field2_without_Nan, 1747)\n",
    "\n",
    "model2 = train_xgboost(data_X, data_Y, seed)\n",
    "preds2 = get_Predictions(model2,2, field2_without_Nan,field2, 26301, 1747)\n",
    "\n",
    "data_X, data_Y = prepare_data(train,3, field3_without_Nan, 1153)\n",
    "model3 = train_xgboost(data_X, data_Y, seed)\n",
    "preds3 = get_Predictions(model3,3, field3_without_Nan,field3, 16083, 1153)\n",
    "\n",
    "data_X, data_Y = prepare_data(train,4, field4_without_Nan, 1729)\n",
    "model4 = train_xgboost(data_X, data_Y, seed)\n",
    "preds4 = get_Predictions(model4,4, field4_without_Nan,field4, 26301, 1729)\n",
    "\n"
   ]
  },
  {
   "cell_type": "code",
   "execution_count": 10,
   "metadata": {},
   "outputs": [],
   "source": [
    "#Accumulate the results and write the submission file\n",
    "\n",
    "total =[]\n",
    "total.extend(preds1)\n",
    "total.extend(preds2)\n",
    "total.extend(preds3)\n",
    "total.extend(preds4)\n",
    "\n",
    "submission =pd.read_csv('SampleSubmission.csv')\n",
    "submission['Values']= total\n",
    "submission.to_csv('submission.csv', index=False)"
   ]
  }
 ],
 "metadata": {
  "kernelspec": {
   "display_name": "Python 2",
   "language": "python",
   "name": "python2"
  },
  "language_info": {
   "codemirror_mode": {
    "name": "ipython",
    "version": 2
   },
   "file_extension": ".py",
   "mimetype": "text/x-python",
   "name": "python",
   "nbconvert_exporter": "python",
   "pygments_lexer": "ipython2",
   "version": "2.7.15+"
  }
 },
 "nbformat": 4,
 "nbformat_minor": 2
}
