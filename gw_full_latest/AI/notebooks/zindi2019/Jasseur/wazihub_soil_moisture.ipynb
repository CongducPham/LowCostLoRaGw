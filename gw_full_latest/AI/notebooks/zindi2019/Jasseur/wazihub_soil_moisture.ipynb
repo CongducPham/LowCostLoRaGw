{
 "cells": [
  {
   "cell_type": "code",
   "execution_count": 65,
   "metadata": {
    "colab": {},
    "colab_type": "code",
    "id": "UueoL5L1qw2n"
   },
   "outputs": [],
   "source": [
    "import pandas as pd\n",
    "import numpy as np\n",
    "\n",
    "from sklearn.utils import shuffle\n",
    "from sklearn.model_selection import KFold\n",
    "\n",
    "import lightgbm as lgb\n",
    "from lightgbm import LGBMRegressor\n",
    "import lightgbm\n",
    "\n",
    "from contextlib import contextmanager\n",
    "import time\n",
    "import gc\n",
    "\n",
    "import random\n",
    "seed = 10\n",
    "random.seed(seed)\n",
    "np.random.seed(seed)"
   ]
  },
  {
   "cell_type": "code",
   "execution_count": 66,
   "metadata": {
    "colab": {
     "base_uri": "https://localhost:8080/",
     "height": 290
    },
    "colab_type": "code",
    "id": "S6ux6DWjrETi",
    "outputId": "3b8c776e-92ca-4a15-99f9-fc8f47a72a0e"
   },
   "outputs": [
    {
     "name": "stdout",
     "output_type": "stream",
     "text": [
      "Train shape: (28049, 15)\n"
     ]
    }
   ],
   "source": [
    "def read_df():\n",
    "  df_train = pd.read_csv('../input/Train.csv')\n",
    "  print(\"Train shape: {}\".format(df_train.shape))\n",
    "  return df_train\n",
    "  \n",
    "df_train = read_df()"
   ]
  },
  {
   "cell_type": "code",
   "execution_count": 67,
   "metadata": {
    "colab": {},
    "colab_type": "code",
    "id": "6L1qdRLlb-ng"
   },
   "outputs": [],
   "source": [
    "def train_data_cleaning(df):\n",
    "  outlayers = [(4384, 4770), (19469, 19739)]\n",
    "  columns = ['Air temperature (C)', 'Air humidity (%)', 'Pressure (KPa)', \n",
    "             'Wind speed (Km/h)', 'Wind gust (Km/h)', 'Wind direction (Deg)'] \n",
    "  for c in columns:\n",
    "    for start, end in outlayers:\n",
    "      df[c][start: end] = np.nan\n",
    "      for i in range(start, end):\n",
    "        if np.isnan(df.iloc[i + 288][c]):\n",
    "          df[c][i] = (11 * df.iloc[i + 2 * 288][c] + 8 * df.iloc[i - 288][c] + 7 * df.iloc[i - 2 * 288][c]) / 26\n",
    "        else:\n",
    "          df[c][i] =  (df.iloc[i + 288][c] + df.iloc[i + 2 * 288][c] + df.iloc[i - 288][c] + df.iloc[i - 2 * 288][c]) / 4 \n",
    "\n",
    "  return df"
   ]
  },
  {
   "cell_type": "code",
   "execution_count": 68,
   "metadata": {},
   "outputs": [],
   "source": [
    "def test_data_forecasting(df):\n",
    "  columns = ['Air temperature (C)', 'Air humidity (%)', 'Pressure (KPa)',\n",
    "             'Wind speed (Km/h)', 'Wind gust (Km/h)', 'Wind direction (Deg)',             \n",
    "            ]\n",
    "  for (start_v, end_v, end_n) in [(0, 8914, 10067), (10067, 16083, 17236), (17236, 26301, len(df))]:\n",
    "    for c in columns:\n",
    "      for p in range(end_v, end_n, 2 * 288):\n",
    "        pred = df[c].iloc[p - 2 *288: p]\n",
    "        df[c][p: min(p + 2 * 288, end_n)] = pred[0: min(2 * 288, end_n - p)]\n",
    "  \n",
    "  return df"
   ]
  },
  {
   "cell_type": "code",
   "execution_count": 69,
   "metadata": {
    "colab": {
     "base_uri": "https://localhost:8080/",
     "height": 104
    },
    "colab_type": "code",
    "id": "6cV7_lFlvHtb",
    "outputId": "2835e018-6b07-4bc2-8cb5-2eba07ae84a5"
   },
   "outputs": [],
   "source": [
    "def feature_engineering(df):       \n",
    "  # environment features\n",
    "  df['D Air temperature (C)'] = df['Air temperature (C)'] - df['Air temperature (C)'].shift(1)\n",
    "  df['D Pressure (KPa)'] = df['Pressure (KPa)'] - df['Pressure (KPa)'].shift(1)\n",
    "    \n",
    "  # control features\n",
    "  df['M Irrigation field'] = df['Irrigation field'] * df['Irrigation field'].rolling(window=24).sum()    \n",
    "  df['D Air temperature (C)'] = df['Irrigation field'] * df['D Air temperature (C)']  \n",
    "  df['D Pressure (KPa)'] = df['Irrigation field'] * df['D Pressure (KPa)'] \n",
    "\n",
    "  # state features \n",
    "\n",
    "  # target\n",
    "  df['Velocity'] = df['Soil humidity'] - df['Soil humidity'].shift(1)\n",
    "\n",
    "  return df\n"
   ]
  },
  {
   "cell_type": "code",
   "execution_count": 70,
   "metadata": {
    "colab": {},
    "colab_type": "code",
    "id": "ktDKPQER522D"
   },
   "outputs": [],
   "source": [
    "input_columns = ['Irrigation field', 'M Irrigation field',\n",
    "                'D Pressure (KPa)',  'D Air temperature (C)',\n",
    "               ]"
   ]
  },
  {
   "cell_type": "code",
   "execution_count": 71,
   "metadata": {
    "colab": {
     "base_uri": "https://localhost:8080/",
     "height": 1000
    },
    "colab_type": "code",
    "id": "aGRNnv0AzB2O",
    "outputId": "9dbecb42-39f4-4dfb-9e5a-0b79e6a66175"
   },
   "outputs": [],
   "source": [
    "def train(train_df, input_columns, target_column):\n",
    "  train_df = train_df[train_df[target_column].notnull()].copy()\n",
    "\n",
    "  folds = KFold(n_splits=5, shuffle=True, random_state=123)\n",
    "\n",
    "  regs = []\n",
    "  train_x = train_df[input_columns]\n",
    "  train_y = train_df[target_column]\n",
    "  for n_fold, (trn_idx, val_idx) in enumerate(folds.split(train_x, train_y)):\n",
    "\n",
    "    trn_x, trn_y = train_x.iloc[trn_idx], train_y.iloc[trn_idx]\n",
    "    val_x, val_y = train_x.iloc[val_idx], train_y.iloc[val_idx]\n",
    "    reg = LGBMRegressor(\n",
    "        n_estimators=2000,\n",
    "        learning_rate=0.5,\n",
    "        num_leaves=123,\n",
    "        colsample_bytree=.8,\n",
    "        subsample=.9,\n",
    "        max_depth=15,\n",
    "        reg_alpha=.1,\n",
    "        reg_lambda=.1,\n",
    "        min_split_gain=.01,\n",
    "        min_child_weight=2\n",
    "    )\n",
    "    reg.fit(trn_x, trn_y, \n",
    "            eval_set= [(trn_x, trn_y), (val_x, val_y)], verbose=250, early_stopping_rounds=150,\n",
    "           )\n",
    "    #lightgbm.plot_importance(reg, height=1.0, max_num_features=10)\n",
    "    regs.append(reg)\n",
    "    del reg, trn_x, trn_y, val_x, val_y \n",
    "    gc.collect() \n",
    "  return regs\n",
    "  "
   ]
  },
  {
   "cell_type": "code",
   "execution_count": 72,
   "metadata": {},
   "outputs": [],
   "source": [
    "def predict(regs, test_df, first_state, field_id):\n",
    "  test_df = test_df.rename(columns={'Soil humidity': 'Values'})\n",
    "  indices = [-1] + list(test_df[test_df['Values'].notnull()]['Values'].index)\n",
    "  test_df['Velocity'] = np.mean([reg.predict(test_df[input_columns]) for reg in regs ], axis=0)\n",
    "\n",
    "  def forward_process(start, end):\n",
    "    preds = []\n",
    "    pred = first_state if start == -1 else test_df['Values'].iloc[start]\n",
    "    for j in range(start + 1, end):\n",
    "      pred += test_df['Velocity'].iloc[j]\n",
    "      preds.append(pred.copy())\n",
    "    return preds\n",
    "\n",
    "  def backward_process(start, end):\n",
    "    preds = []\n",
    "    pred = test_df['Values'].iloc[end]    \n",
    "    for j in range(end, start + 1, -1):\n",
    "      pred -= test_df['Velocity'].iloc[j]\n",
    "      preds.append(pred.copy())\n",
    "    return preds[::-1]\n",
    "   \n",
    "  for start, end in zip(indices[:-1], indices[1:]):\n",
    "    f_preds = forward_process(start, end)\n",
    "    b_preds = backward_process(start, end)\n",
    "    j = start + 1\n",
    "    for i in range(start + 1, end):\n",
    "      if test_df['Irrigation field'].iloc[i] == 0:\n",
    "        test_df['Values'].iloc[i] = f_preds[i - start - 1]\n",
    "        j = i\n",
    "      else:      \n",
    "        test_df['Values'].iloc[i] = (1 - (i - j)/(end - j - 1)) * f_preds[i - start - 1] +\\\n",
    "            ((i - j) /(end - j - 1)) * b_preds[i - start - 1]\n",
    "\n",
    "  \n",
    "  f_preds = forward_process(indices[-1], len(test_df))\n",
    "  if len(f_preds) > 0:\n",
    "    test_df['Values'][indices[-1] + 1: len(test_df)] = f_preds\n",
    "\n",
    "  test_df['ID'] = test_df['timestamp'] + ' x Soil humidity ' + str(field_id + 1)\n",
    "  return test_df[['ID', 'Values']]\n"
   ]
  },
  {
   "cell_type": "code",
   "execution_count": 73,
   "metadata": {
    "colab": {
     "base_uri": "https://localhost:8080/",
     "height": 1000
    },
    "colab_type": "code",
    "id": "s-9Xhut8yvvG",
    "outputId": "952a0b50-7ebe-4cd4-cefa-eff3f06b9cb4"
   },
   "outputs": [
    {
     "name": "stdout",
     "output_type": "stream",
     "text": [
      "Train shape: (28049, 15)\n",
      "Importing Datasets:  - done in 0s\n",
      "Time Series Imputation:  - done in 7s\n",
      "Feature Engineering:  - done in 0s\n",
      "Training until validation scores don't improve for 150 rounds.\n",
      "Early stopping, best iteration is:\n",
      "[6]\ttraining's l2: 0.00261316\tvalid_1's l2: 0.00360497\n",
      "Training until validation scores don't improve for 150 rounds.\n",
      "Early stopping, best iteration is:\n",
      "[4]\ttraining's l2: 0.0028067\tvalid_1's l2: 0.0029202\n",
      "Training until validation scores don't improve for 150 rounds.\n",
      "Early stopping, best iteration is:\n",
      "[6]\ttraining's l2: 0.00261658\tvalid_1's l2: 0.00357532\n",
      "Training until validation scores don't improve for 150 rounds.\n",
      "Early stopping, best iteration is:\n",
      "[3]\ttraining's l2: 0.00292515\tvalid_1's l2: 0.00297632\n",
      "Training until validation scores don't improve for 150 rounds.\n",
      "Early stopping, best iteration is:\n",
      "[5]\ttraining's l2: 0.00282247\tvalid_1's l2: 0.00261363\n",
      "Training - done in 1s\n",
      "Testing - done in 1s\n",
      "Feature Engineering:  - done in 0s\n",
      "Training until validation scores don't improve for 150 rounds.\n",
      "Early stopping, best iteration is:\n",
      "[6]\ttraining's l2: 0.0278408\tvalid_1's l2: 0.0348364\n",
      "Training until validation scores don't improve for 150 rounds.\n",
      "Early stopping, best iteration is:\n",
      "[10]\ttraining's l2: 0.0260048\tvalid_1's l2: 0.0370062\n",
      "Training until validation scores don't improve for 150 rounds.\n",
      "Early stopping, best iteration is:\n",
      "[3]\ttraining's l2: 0.0321663\tvalid_1's l2: 0.0306518\n",
      "Training until validation scores don't improve for 150 rounds.\n",
      "Early stopping, best iteration is:\n",
      "[6]\ttraining's l2: 0.028188\tvalid_1's l2: 0.0372275\n",
      "Training until validation scores don't improve for 150 rounds.\n",
      "Early stopping, best iteration is:\n",
      "[11]\ttraining's l2: 0.0273438\tvalid_1's l2: 0.0330942\n",
      "Training - done in 2s\n",
      "Testing - done in 1s\n",
      "Feature Engineering:  - done in 0s\n",
      "Training until validation scores don't improve for 150 rounds.\n",
      "Early stopping, best iteration is:\n",
      "[7]\ttraining's l2: 0.0250721\tvalid_1's l2: 0.0322515\n",
      "Training until validation scores don't improve for 150 rounds.\n",
      "Early stopping, best iteration is:\n",
      "[5]\ttraining's l2: 0.0247782\tvalid_1's l2: 0.0378645\n",
      "Training until validation scores don't improve for 150 rounds.\n",
      "Early stopping, best iteration is:\n",
      "[4]\ttraining's l2: 0.0272987\tvalid_1's l2: 0.0305248\n",
      "Training until validation scores don't improve for 150 rounds.\n",
      "Early stopping, best iteration is:\n",
      "[3]\ttraining's l2: 0.0289388\tvalid_1's l2: 0.0267781\n",
      "Training until validation scores don't improve for 150 rounds.\n",
      "Early stopping, best iteration is:\n",
      "[4]\ttraining's l2: 0.0264173\tvalid_1's l2: 0.0306337\n",
      "Training - done in 2s\n",
      "Testing - done in 1s\n",
      "Feature Engineering:  - done in 0s\n",
      "Training until validation scores don't improve for 150 rounds.\n",
      "Early stopping, best iteration is:\n",
      "[6]\ttraining's l2: 0.0249052\tvalid_1's l2: 0.0322654\n",
      "Training until validation scores don't improve for 150 rounds.\n",
      "Early stopping, best iteration is:\n",
      "[7]\ttraining's l2: 0.0252684\tvalid_1's l2: 0.029539\n",
      "Training until validation scores don't improve for 150 rounds.\n",
      "Early stopping, best iteration is:\n",
      "[4]\ttraining's l2: 0.0264925\tvalid_1's l2: 0.0293011\n",
      "Training until validation scores don't improve for 150 rounds.\n",
      "Early stopping, best iteration is:\n",
      "[5]\ttraining's l2: 0.0257197\tvalid_1's l2: 0.0298488\n",
      "Training until validation scores don't improve for 150 rounds.\n",
      "Early stopping, best iteration is:\n",
      "[3]\ttraining's l2: 0.0274074\tvalid_1's l2: 0.029833\n",
      "Training - done in 2s\n",
      "Testing - done in 1s\n"
     ]
    }
   ],
   "source": [
    "@contextmanager\n",
    "def timer(title):\n",
    "    t0 = time.time()\n",
    "    yield\n",
    "    print(\"{} - done in {:.0f}s\".format(title, time.time() - t0)) \n",
    "\n",
    "with timer(\"Importing Datasets: \"):    \n",
    "    df_train = read_df()\n",
    "    gc.collect();\n",
    "\n",
    "with timer(\"Time Series Imputation: \"):\n",
    "    df_train = train_data_cleaning(df_train)\n",
    "    df_train = test_data_forecasting(df_train) \n",
    "    gc.collect();\n",
    "    \n",
    "env_columns = ['Air temperature (C)', 'Air humidity (%)', 'Pressure (KPa)', \n",
    "             'Wind speed (Km/h)', 'Wind gust (Km/h)', 'Wind direction (Deg)',]\n",
    "df_train_1 = df_train[['timestamp', 'Soil humidity 1', 'Irrigation field 1', *env_columns]]\n",
    "df_train_1 = df_train_1.rename(columns={\n",
    "    'Soil humidity 1': 'Soil humidity', 'Irrigation field 1': 'Irrigation field'})\n",
    "df_train_2 = df_train[['timestamp', 'Soil humidity 2', 'Irrigation field 2', *env_columns]]\n",
    "df_train_2 = df_train_2.rename(columns={\n",
    "    'Soil humidity 2': 'Soil humidity', 'Irrigation field 2': 'Irrigation field'})\n",
    "df_train_3 = df_train[['timestamp', 'Soil humidity 3', 'Irrigation field 3', *env_columns]]\n",
    "df_train_3 = df_train_3.rename(columns={\n",
    "    'Soil humidity 3': 'Soil humidity', 'Irrigation field 3': 'Irrigation field'})\n",
    "df_train_4 = df_train[['timestamp', 'Soil humidity 4', 'Irrigation field 4', *env_columns]]\n",
    "df_train_4 = df_train_4.rename(columns={\n",
    "    'Soil humidity 4': 'Soil humidity', 'Irrigation field 4': 'Irrigation field'})\n",
    "limits = [(8914, 10067), (26301,28048), (16083, 17236), (26301,28030)]\n",
    "\n",
    "preds = []    \n",
    "for i, (df_train_i, (start, end)) in enumerate(zip([df_train_1, df_train_2, df_train_3, df_train_4], limits)): \n",
    "    with timer(\"Feature Engineering: \"):\n",
    "        df_train_i = feature_engineering(df_train_i)\n",
    "        df_train_i = df_train_i.set_index('timestamp')\n",
    "        df_train_i, df_test_i = df_train_i.iloc[:start], df_train_i.iloc[start: end]\n",
    "        df_test_i = df_test_i.reset_index()\n",
    "        df_test_i['Irrigation field'] = df_test_i['Irrigation field'].fillna(value=0)       \n",
    "        gc.collect();\n",
    "    with timer(\"Training\"):\n",
    "        regs = train(df_train_i, input_columns, 'Velocity')\n",
    "        gc.collect()\n",
    "    with timer(\"Testing\"):\n",
    "        first_state = df_train_i['Soil humidity'].iloc[start - 1]\n",
    "        prediction = predict(regs, df_test_i, first_state, i)\n",
    "        preds.append(prediction)\n",
    "        gc.collect()\n",
    "\n",
    "preds = pd.concat(preds, ignore_index=True)\n",
    "preds.to_csv(\"submission.csv\", index= False)"
   ]
  }
 ],
 "metadata": {
  "colab": {
   "collapsed_sections": [],
   "machine_shape": "hm",
   "name": "wazihub_soil_moisture_lightgbm.ipynb",
   "provenance": []
  },
  "kernelspec": {
   "display_name": "Python 2",
   "language": "python",
   "name": "python2"
  },
  "language_info": {
   "codemirror_mode": {
    "name": "ipython",
    "version": 2
   },
   "file_extension": ".py",
   "mimetype": "text/x-python",
   "name": "python",
   "nbconvert_exporter": "python",
   "pygments_lexer": "ipython2",
   "version": "2.7.15+"
  }
 },
 "nbformat": 4,
 "nbformat_minor": 1
}
